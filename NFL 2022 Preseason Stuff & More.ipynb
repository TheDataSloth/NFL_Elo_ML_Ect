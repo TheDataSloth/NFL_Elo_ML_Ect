{
 "cells": [
  {
   "cell_type": "markdown",
   "id": "aa7ff54f",
   "metadata": {},
   "source": [
    "### Imports"
   ]
  },
  {
   "cell_type": "code",
   "execution_count": 26,
   "id": "4f4f3679",
   "metadata": {},
   "outputs": [],
   "source": [
    "import pandas as pd\n",
    "import mysql.connector\n",
    "import os\n",
    "import matplotlib.pyplot as plt\n",
    "import plotly.express as px"
   ]
  },
  {
   "cell_type": "markdown",
   "id": "f7134aa5",
   "metadata": {},
   "source": [
    "### DB Connection"
   ]
  },
  {
   "cell_type": "code",
   "execution_count": 27,
   "id": "f63361e6",
   "metadata": {},
   "outputs": [],
   "source": [
    "user = os.environ.get(\"DB_USER\")\n",
    "password = os.environ.get(\"DB_PASS\")"
   ]
  },
  {
   "cell_type": "code",
   "execution_count": 28,
   "id": "67c280c8",
   "metadata": {},
   "outputs": [],
   "source": [
    "connection = mysql.connector.connect(host = 'localhost',\n",
    "                                    user = user,\n",
    "                                    passwd = password,\n",
    "                                    db = '2021_nfl')"
   ]
  },
  {
   "cell_type": "markdown",
   "id": "dbca8358",
   "metadata": {},
   "source": [
    "### The Dataset"
   ]
  },
  {
   "cell_type": "code",
   "execution_count": 29,
   "id": "1c9d7fd1",
   "metadata": {},
   "outputs": [
    {
     "data": {
      "text/html": [
       "<div>\n",
       "<style scoped>\n",
       "    .dataframe tbody tr th:only-of-type {\n",
       "        vertical-align: middle;\n",
       "    }\n",
       "\n",
       "    .dataframe tbody tr th {\n",
       "        vertical-align: top;\n",
       "    }\n",
       "\n",
       "    .dataframe thead th {\n",
       "        text-align: right;\n",
       "    }\n",
       "</style>\n",
       "<table border=\"1\" class=\"dataframe\">\n",
       "  <thead>\n",
       "    <tr style=\"text-align: right;\">\n",
       "      <th></th>\n",
       "      <th>player</th>\n",
       "      <th>player_id</th>\n",
       "      <th>position</th>\n",
       "      <th>team_name</th>\n",
       "      <th>player_game_count</th>\n",
       "      <th>avg_depth_of_target</th>\n",
       "      <th>avoided_tackles</th>\n",
       "      <th>caught_percent</th>\n",
       "      <th>contested_catch_rate</th>\n",
       "      <th>contested_receptions</th>\n",
       "      <th>...</th>\n",
       "      <th>yards_after_catch</th>\n",
       "      <th>yards_after_catch_per_reception</th>\n",
       "      <th>yards_per_reception</th>\n",
       "      <th>yprr</th>\n",
       "      <th>week</th>\n",
       "      <th>dk_yards</th>\n",
       "      <th>dk_td</th>\n",
       "      <th>dj_bonus</th>\n",
       "      <th>dk_total</th>\n",
       "      <th>year</th>\n",
       "    </tr>\n",
       "  </thead>\n",
       "  <tbody>\n",
       "    <tr>\n",
       "      <th>0</th>\n",
       "      <td>Davante Adams</td>\n",
       "      <td>8688</td>\n",
       "      <td>WR</td>\n",
       "      <td>GB</td>\n",
       "      <td>1</td>\n",
       "      <td>9.9</td>\n",
       "      <td>1</td>\n",
       "      <td>82.4</td>\n",
       "      <td>66.7</td>\n",
       "      <td>2</td>\n",
       "      <td>...</td>\n",
       "      <td>40</td>\n",
       "      <td>2.9</td>\n",
       "      <td>11.1</td>\n",
       "      <td>3.63</td>\n",
       "      <td>1</td>\n",
       "      <td>15.6</td>\n",
       "      <td>12</td>\n",
       "      <td>3</td>\n",
       "      <td>30.6</td>\n",
       "      <td>2020</td>\n",
       "    </tr>\n",
       "    <tr>\n",
       "      <th>1</th>\n",
       "      <td>DeAndre Hopkins</td>\n",
       "      <td>7808</td>\n",
       "      <td>WR</td>\n",
       "      <td>ARZ</td>\n",
       "      <td>1</td>\n",
       "      <td>6.3</td>\n",
       "      <td>3</td>\n",
       "      <td>87.5</td>\n",
       "      <td>100.0</td>\n",
       "      <td>1</td>\n",
       "      <td>...</td>\n",
       "      <td>68</td>\n",
       "      <td>4.9</td>\n",
       "      <td>10.8</td>\n",
       "      <td>3.08</td>\n",
       "      <td>1</td>\n",
       "      <td>15.1</td>\n",
       "      <td>0</td>\n",
       "      <td>3</td>\n",
       "      <td>18.1</td>\n",
       "      <td>2020</td>\n",
       "    </tr>\n",
       "    <tr>\n",
       "      <th>2</th>\n",
       "      <td>Amari Cooper</td>\n",
       "      <td>9437</td>\n",
       "      <td>WR</td>\n",
       "      <td>DAL</td>\n",
       "      <td>1</td>\n",
       "      <td>8.6</td>\n",
       "      <td>0</td>\n",
       "      <td>76.9</td>\n",
       "      <td>50.0</td>\n",
       "      <td>1</td>\n",
       "      <td>...</td>\n",
       "      <td>14</td>\n",
       "      <td>1.4</td>\n",
       "      <td>8.1</td>\n",
       "      <td>1.88</td>\n",
       "      <td>1</td>\n",
       "      <td>8.1</td>\n",
       "      <td>0</td>\n",
       "      <td>0</td>\n",
       "      <td>8.1</td>\n",
       "      <td>2020</td>\n",
       "    </tr>\n",
       "    <tr>\n",
       "      <th>3</th>\n",
       "      <td>Russell Gage</td>\n",
       "      <td>44771</td>\n",
       "      <td>WR</td>\n",
       "      <td>ATL</td>\n",
       "      <td>1</td>\n",
       "      <td>7.6</td>\n",
       "      <td>4</td>\n",
       "      <td>75.0</td>\n",
       "      <td>50.0</td>\n",
       "      <td>1</td>\n",
       "      <td>...</td>\n",
       "      <td>48</td>\n",
       "      <td>5.3</td>\n",
       "      <td>12.7</td>\n",
       "      <td>2.48</td>\n",
       "      <td>1</td>\n",
       "      <td>11.4</td>\n",
       "      <td>0</td>\n",
       "      <td>3</td>\n",
       "      <td>14.4</td>\n",
       "      <td>2020</td>\n",
       "    </tr>\n",
       "    <tr>\n",
       "      <th>4</th>\n",
       "      <td>Julio Jones</td>\n",
       "      <td>6158</td>\n",
       "      <td>WR</td>\n",
       "      <td>ATL</td>\n",
       "      <td>1</td>\n",
       "      <td>15.8</td>\n",
       "      <td>1</td>\n",
       "      <td>75.0</td>\n",
       "      <td>75.0</td>\n",
       "      <td>3</td>\n",
       "      <td>...</td>\n",
       "      <td>26</td>\n",
       "      <td>2.9</td>\n",
       "      <td>17.4</td>\n",
       "      <td>3.34</td>\n",
       "      <td>1</td>\n",
       "      <td>15.7</td>\n",
       "      <td>0</td>\n",
       "      <td>3</td>\n",
       "      <td>18.7</td>\n",
       "      <td>2020</td>\n",
       "    </tr>\n",
       "  </tbody>\n",
       "</table>\n",
       "<p>5 rows × 51 columns</p>\n",
       "</div>"
      ],
      "text/plain": [
       "            player  player_id position team_name  player_game_count  \\\n",
       "0    Davante Adams       8688       WR        GB                  1   \n",
       "1  DeAndre Hopkins       7808       WR       ARZ                  1   \n",
       "2     Amari Cooper       9437       WR       DAL                  1   \n",
       "3     Russell Gage      44771       WR       ATL                  1   \n",
       "4      Julio Jones       6158       WR       ATL                  1   \n",
       "\n",
       "   avg_depth_of_target  avoided_tackles  caught_percent  contested_catch_rate  \\\n",
       "0                  9.9                1            82.4                  66.7   \n",
       "1                  6.3                3            87.5                 100.0   \n",
       "2                  8.6                0            76.9                  50.0   \n",
       "3                  7.6                4            75.0                  50.0   \n",
       "4                 15.8                1            75.0                  75.0   \n",
       "\n",
       "   contested_receptions  ...  yards_after_catch  \\\n",
       "0                     2  ...                 40   \n",
       "1                     1  ...                 68   \n",
       "2                     1  ...                 14   \n",
       "3                     1  ...                 48   \n",
       "4                     3  ...                 26   \n",
       "\n",
       "   yards_after_catch_per_reception  yards_per_reception  yprr  week  dk_yards  \\\n",
       "0                              2.9                 11.1  3.63     1      15.6   \n",
       "1                              4.9                 10.8  3.08     1      15.1   \n",
       "2                              1.4                  8.1  1.88     1       8.1   \n",
       "3                              5.3                 12.7  2.48     1      11.4   \n",
       "4                              2.9                 17.4  3.34     1      15.7   \n",
       "\n",
       "   dk_td  dj_bonus  dk_total  year  \n",
       "0     12         3      30.6  2020  \n",
       "1      0         3      18.1  2020  \n",
       "2      0         0       8.1  2020  \n",
       "3      0         3      14.4  2020  \n",
       "4      0         3      18.7  2020  \n",
       "\n",
       "[5 rows x 51 columns]"
      ]
     },
     "execution_count": 29,
     "metadata": {},
     "output_type": "execute_result"
    }
   ],
   "source": [
    "# the entire 2021 dataset  \n",
    "rec2021 = pd.read_sql_query('''\n",
    "\n",
    "SELECT \n",
    "    *\n",
    "FROM\n",
    "    `2021_wr_stats`\n",
    "''', connection)\n",
    "\n",
    "# the entire 2020 dataset  \n",
    "rec2020 = pd.read_sql_query('''\n",
    "\n",
    "SELECT \n",
    "    *\n",
    "FROM\n",
    "    `2020_wr_stats`\n",
    "''', connection)\n",
    "rec2020.head()"
   ]
  },
  {
   "cell_type": "code",
   "execution_count": 30,
   "id": "d5882a7e",
   "metadata": {},
   "outputs": [
    {
     "data": {
      "text/html": [
       "<div>\n",
       "<style scoped>\n",
       "    .dataframe tbody tr th:only-of-type {\n",
       "        vertical-align: middle;\n",
       "    }\n",
       "\n",
       "    .dataframe tbody tr th {\n",
       "        vertical-align: top;\n",
       "    }\n",
       "\n",
       "    .dataframe thead th {\n",
       "        text-align: right;\n",
       "    }\n",
       "</style>\n",
       "<table border=\"1\" class=\"dataframe\">\n",
       "  <thead>\n",
       "    <tr style=\"text-align: right;\">\n",
       "      <th></th>\n",
       "      <th>player</th>\n",
       "      <th>player_id</th>\n",
       "      <th>position</th>\n",
       "      <th>team_name</th>\n",
       "      <th>player_game_count</th>\n",
       "      <th>avg_depth_of_target</th>\n",
       "      <th>avoided_tackles</th>\n",
       "      <th>caught_percent</th>\n",
       "      <th>contested_catch_rate</th>\n",
       "      <th>contested_receptions</th>\n",
       "      <th>...</th>\n",
       "      <th>yards_after_catch_per_reception</th>\n",
       "      <th>yards_per_reception</th>\n",
       "      <th>yprr</th>\n",
       "      <th>week</th>\n",
       "      <th>dk_yards</th>\n",
       "      <th>dk_td</th>\n",
       "      <th>dk_reception</th>\n",
       "      <th>dk_bonus</th>\n",
       "      <th>dk_total</th>\n",
       "      <th>year</th>\n",
       "    </tr>\n",
       "  </thead>\n",
       "  <tbody>\n",
       "    <tr>\n",
       "      <th>0</th>\n",
       "      <td>Amari Cooper</td>\n",
       "      <td>9437</td>\n",
       "      <td>WR</td>\n",
       "      <td>DAL</td>\n",
       "      <td>1</td>\n",
       "      <td>8.8</td>\n",
       "      <td>2</td>\n",
       "      <td>76.5</td>\n",
       "      <td>75.0</td>\n",
       "      <td>3</td>\n",
       "      <td>...</td>\n",
       "      <td>2.3</td>\n",
       "      <td>10.7</td>\n",
       "      <td>2.40</td>\n",
       "      <td>1</td>\n",
       "      <td>13.9</td>\n",
       "      <td>12</td>\n",
       "      <td>13</td>\n",
       "      <td>3</td>\n",
       "      <td>41.9</td>\n",
       "      <td>2021</td>\n",
       "    </tr>\n",
       "    <tr>\n",
       "      <th>1</th>\n",
       "      <td>Tyreek Hill</td>\n",
       "      <td>10799</td>\n",
       "      <td>WR</td>\n",
       "      <td>KC</td>\n",
       "      <td>1</td>\n",
       "      <td>15.8</td>\n",
       "      <td>0</td>\n",
       "      <td>73.3</td>\n",
       "      <td>0.0</td>\n",
       "      <td>0</td>\n",
       "      <td>...</td>\n",
       "      <td>4.5</td>\n",
       "      <td>17.9</td>\n",
       "      <td>5.18</td>\n",
       "      <td>1</td>\n",
       "      <td>19.7</td>\n",
       "      <td>6</td>\n",
       "      <td>11</td>\n",
       "      <td>3</td>\n",
       "      <td>39.7</td>\n",
       "      <td>2021</td>\n",
       "    </tr>\n",
       "    <tr>\n",
       "      <th>2</th>\n",
       "      <td>CeeDee Lamb</td>\n",
       "      <td>61570</td>\n",
       "      <td>WR</td>\n",
       "      <td>DAL</td>\n",
       "      <td>1</td>\n",
       "      <td>11.7</td>\n",
       "      <td>1</td>\n",
       "      <td>46.7</td>\n",
       "      <td>0.0</td>\n",
       "      <td>0</td>\n",
       "      <td>...</td>\n",
       "      <td>8.6</td>\n",
       "      <td>14.9</td>\n",
       "      <td>2.21</td>\n",
       "      <td>1</td>\n",
       "      <td>10.4</td>\n",
       "      <td>6</td>\n",
       "      <td>7</td>\n",
       "      <td>3</td>\n",
       "      <td>26.4</td>\n",
       "      <td>2021</td>\n",
       "    </tr>\n",
       "    <tr>\n",
       "      <th>3</th>\n",
       "      <td>Chris Godwin</td>\n",
       "      <td>11839</td>\n",
       "      <td>WR</td>\n",
       "      <td>TB</td>\n",
       "      <td>1</td>\n",
       "      <td>9.3</td>\n",
       "      <td>4</td>\n",
       "      <td>69.2</td>\n",
       "      <td>0.0</td>\n",
       "      <td>0</td>\n",
       "      <td>...</td>\n",
       "      <td>6.1</td>\n",
       "      <td>11.7</td>\n",
       "      <td>2.10</td>\n",
       "      <td>1</td>\n",
       "      <td>10.5</td>\n",
       "      <td>6</td>\n",
       "      <td>9</td>\n",
       "      <td>3</td>\n",
       "      <td>28.5</td>\n",
       "      <td>2021</td>\n",
       "    </tr>\n",
       "    <tr>\n",
       "      <th>4</th>\n",
       "      <td>Cole Beasley</td>\n",
       "      <td>7330</td>\n",
       "      <td>WR</td>\n",
       "      <td>BUF</td>\n",
       "      <td>1</td>\n",
       "      <td>5.9</td>\n",
       "      <td>1</td>\n",
       "      <td>66.7</td>\n",
       "      <td>0.0</td>\n",
       "      <td>0</td>\n",
       "      <td>...</td>\n",
       "      <td>3.3</td>\n",
       "      <td>7.5</td>\n",
       "      <td>1.09</td>\n",
       "      <td>1</td>\n",
       "      <td>6.0</td>\n",
       "      <td>0</td>\n",
       "      <td>8</td>\n",
       "      <td>0</td>\n",
       "      <td>14.0</td>\n",
       "      <td>2021</td>\n",
       "    </tr>\n",
       "  </tbody>\n",
       "</table>\n",
       "<p>5 rows × 52 columns</p>\n",
       "</div>"
      ],
      "text/plain": [
       "         player  player_id position team_name  player_game_count  \\\n",
       "0  Amari Cooper       9437       WR       DAL                  1   \n",
       "1   Tyreek Hill      10799       WR        KC                  1   \n",
       "2   CeeDee Lamb      61570       WR       DAL                  1   \n",
       "3  Chris Godwin      11839       WR        TB                  1   \n",
       "4  Cole Beasley       7330       WR       BUF                  1   \n",
       "\n",
       "   avg_depth_of_target  avoided_tackles  caught_percent  contested_catch_rate  \\\n",
       "0                  8.8                2            76.5                  75.0   \n",
       "1                 15.8                0            73.3                   0.0   \n",
       "2                 11.7                1            46.7                   0.0   \n",
       "3                  9.3                4            69.2                   0.0   \n",
       "4                  5.9                1            66.7                   0.0   \n",
       "\n",
       "   contested_receptions  ...  yards_after_catch_per_reception  \\\n",
       "0                     3  ...                              2.3   \n",
       "1                     0  ...                              4.5   \n",
       "2                     0  ...                              8.6   \n",
       "3                     0  ...                              6.1   \n",
       "4                     0  ...                              3.3   \n",
       "\n",
       "   yards_per_reception  yprr  week  dk_yards  dk_td  dk_reception  dk_bonus  \\\n",
       "0                 10.7  2.40     1      13.9     12            13         3   \n",
       "1                 17.9  5.18     1      19.7      6            11         3   \n",
       "2                 14.9  2.21     1      10.4      6             7         3   \n",
       "3                 11.7  2.10     1      10.5      6             9         3   \n",
       "4                  7.5  1.09     1       6.0      0             8         0   \n",
       "\n",
       "   dk_total  year  \n",
       "0      41.9  2021  \n",
       "1      39.7  2021  \n",
       "2      26.4  2021  \n",
       "3      28.5  2021  \n",
       "4      14.0  2021  \n",
       "\n",
       "[5 rows x 52 columns]"
      ]
     },
     "execution_count": 30,
     "metadata": {},
     "output_type": "execute_result"
    }
   ],
   "source": [
    "# I am only interested in WRs right now so i will grab those\n",
    "wr2021 = pd.read_sql_query('''\n",
    "\n",
    "SELECT\n",
    "    *\n",
    "FROM\n",
    "    `2021_wr_stats`\n",
    "WHERE \n",
    "    position = 'WR'\n",
    "\n",
    "''', connection)\n",
    "wr2021.head()"
   ]
  },
  {
   "cell_type": "markdown",
   "id": "6ceb9cb9",
   "metadata": {},
   "source": [
    "### Some EDA"
   ]
  },
  {
   "cell_type": "code",
   "execution_count": 31,
   "id": "d9a7dcf6",
   "metadata": {},
   "outputs": [],
   "source": [
    "# color codes for each team\n",
    "team_colors = {\n",
    "                \"LA\": '#003594',\n",
    "                \"MIN\": '#4F2683',\n",
    "                \"GB\": \"#203731\",\n",
    "                \"CIN\": \"#FB4F14\",\n",
    "                \"SF\": \"#AA0000\",\n",
    "              \"KC\": \"#E31837\",\n",
    "              \"BUF\": \"#00338D\",\n",
    "              \"SEA\": \"#69BE28\",\n",
    "              \"PIT\": \"#FFB612\",\n",
    "              \"CAR\": \"#0085CA\",\n",
    "              \"LAC\": \"#0080C6\",\n",
    "              \"TB\": \"#D50A0A\",\n",
    "              \"DAL\": \"#041E42\",\n",
    "              \"IND\": \"#002C5F\",\n",
    "              \"CHI\": \"#C83803\",\n",
    "              \"WAS\": \"#5A1414\",\n",
    "              \"LV\": \"#000000\",\n",
    "              \"HST\": \"#A71930\",\n",
    "              \"MIA\": \"#008E97\",\n",
    "              \"BLT\": \"#241773\",\n",
    "              \"ARZ\": \"#97233F\",\n",
    "              \"PHI\": \"#004C54\",\n",
    "              \"DET\": \"#B0B7BC\",\n",
    "              \"TEN\": \"#4B92DB\",\n",
    "              \"NE\": \"#002244\",\n",
    "              \"JAX\": \"#D7A22A\",\n",
    "              \"DEN\": \"#FB4F14\",\n",
    "              \"ATL\": \"#A71930\",\n",
    "              \"NO\": \"#D3BC8D\",\n",
    "              \"CLV\": \"#311D00\",\n",
    "              \"NYJ\": \"#125740\"}"
   ]
  },
  {
   "cell_type": "code",
   "execution_count": 32,
   "id": "5f2e0712",
   "metadata": {},
   "outputs": [
    {
     "data": {
      "application/vnd.plotly.v1+json": {
       "config": {
        "plotlyServerURL": "https://plot.ly"
       },
       "data": [
        {
         "alignmentgroup": "True",
         "hovertemplate": "team_name=LA<br>player=%{x}<br>total_yards=%{y}<extra></extra>",
         "legendgroup": "LA",
         "marker": {
          "color": "#003594",
          "pattern": {
           "shape": ""
          }
         },
         "name": "LA",
         "offsetgroup": "LA",
         "orientation": "v",
         "showlegend": true,
         "textposition": "auto",
         "type": "bar",
         "x": [
          "Cooper Kupp",
          "Van Jefferson"
         ],
         "xaxis": "x",
         "y": [
          1947,
          802
         ],
         "yaxis": "y"
        },
        {
         "alignmentgroup": "True",
         "hovertemplate": "team_name=MIN<br>player=%{x}<br>total_yards=%{y}<extra></extra>",
         "legendgroup": "MIN",
         "marker": {
          "color": "#4F2683",
          "pattern": {
           "shape": ""
          }
         },
         "name": "MIN",
         "offsetgroup": "MIN",
         "orientation": "v",
         "showlegend": true,
         "textposition": "auto",
         "type": "bar",
         "x": [
          "Justin Jefferson",
          "Adam Thielen",
          "K.J. Osborn"
         ],
         "xaxis": "x",
         "y": [
          1616,
          726,
          655
         ],
         "yaxis": "y"
        },
        {
         "alignmentgroup": "True",
         "hovertemplate": "team_name=GB<br>player=%{x}<br>total_yards=%{y}<extra></extra>",
         "legendgroup": "GB",
         "marker": {
          "color": "#203731",
          "pattern": {
           "shape": ""
          }
         },
         "name": "GB",
         "offsetgroup": "GB",
         "orientation": "v",
         "showlegend": true,
         "textposition": "auto",
         "type": "bar",
         "x": [
          "Davante Adams"
         ],
         "xaxis": "x",
         "y": [
          1553
         ],
         "yaxis": "y"
        },
        {
         "alignmentgroup": "True",
         "hovertemplate": "team_name=CIN<br>player=%{x}<br>total_yards=%{y}<extra></extra>",
         "legendgroup": "CIN",
         "marker": {
          "color": "#FB4F14",
          "pattern": {
           "shape": ""
          }
         },
         "name": "CIN",
         "offsetgroup": "CIN",
         "orientation": "v",
         "showlegend": true,
         "textposition": "auto",
         "type": "bar",
         "x": [
          "Ja'Marr Chase",
          "Tee Higgins",
          "Tyler Boyd"
         ],
         "xaxis": "x",
         "y": [
          1455,
          1091,
          828
         ],
         "yaxis": "y"
        },
        {
         "alignmentgroup": "True",
         "hovertemplate": "team_name=SF<br>player=%{x}<br>total_yards=%{y}<extra></extra>",
         "legendgroup": "SF",
         "marker": {
          "color": "#AA0000",
          "pattern": {
           "shape": ""
          }
         },
         "name": "SF",
         "offsetgroup": "SF",
         "orientation": "v",
         "showlegend": true,
         "textposition": "auto",
         "type": "bar",
         "x": [
          "Deebo Samuel",
          "Brandon Aiyuk"
         ],
         "xaxis": "x",
         "y": [
          1405,
          816
         ],
         "yaxis": "y"
        },
        {
         "alignmentgroup": "True",
         "hovertemplate": "team_name=KC<br>player=%{x}<br>total_yards=%{y}<extra></extra>",
         "legendgroup": "KC",
         "marker": {
          "color": "#E31837",
          "pattern": {
           "shape": ""
          }
         },
         "name": "KC",
         "offsetgroup": "KC",
         "orientation": "v",
         "showlegend": true,
         "textposition": "auto",
         "type": "bar",
         "x": [
          "Tyreek Hill",
          "Mecole Hardman"
         ],
         "xaxis": "x",
         "y": [
          1239,
          693
         ],
         "yaxis": "y"
        },
        {
         "alignmentgroup": "True",
         "hovertemplate": "team_name=BUF<br>player=%{x}<br>total_yards=%{y}<extra></extra>",
         "legendgroup": "BUF",
         "marker": {
          "color": "#00338D",
          "pattern": {
           "shape": ""
          }
         },
         "name": "BUF",
         "offsetgroup": "BUF",
         "orientation": "v",
         "showlegend": true,
         "textposition": "auto",
         "type": "bar",
         "x": [
          "Stefon Diggs",
          "Cole Beasley",
          "Emmanuel Sanders"
         ],
         "xaxis": "x",
         "y": [
          1225,
          693,
          626
         ],
         "yaxis": "y"
        },
        {
         "alignmentgroup": "True",
         "hovertemplate": "team_name=SEA<br>player=%{x}<br>total_yards=%{y}<extra></extra>",
         "legendgroup": "SEA",
         "marker": {
          "color": "#69BE28",
          "pattern": {
           "shape": ""
          }
         },
         "name": "SEA",
         "offsetgroup": "SEA",
         "orientation": "v",
         "showlegend": true,
         "textposition": "auto",
         "type": "bar",
         "x": [
          "Tyler Lockett",
          "D.K. Metcalf"
         ],
         "xaxis": "x",
         "y": [
          1175,
          967
         ],
         "yaxis": "y"
        },
        {
         "alignmentgroup": "True",
         "hovertemplate": "team_name=PIT<br>player=%{x}<br>total_yards=%{y}<extra></extra>",
         "legendgroup": "PIT",
         "marker": {
          "color": "#FFB612",
          "pattern": {
           "shape": ""
          }
         },
         "name": "PIT",
         "offsetgroup": "PIT",
         "orientation": "v",
         "showlegend": true,
         "textposition": "auto",
         "type": "bar",
         "x": [
          "Diontae Johnson",
          "Chase Claypool"
         ],
         "xaxis": "x",
         "y": [
          1161,
          860
         ],
         "yaxis": "y"
        },
        {
         "alignmentgroup": "True",
         "hovertemplate": "team_name=CAR<br>player=%{x}<br>total_yards=%{y}<extra></extra>",
         "legendgroup": "CAR",
         "marker": {
          "color": "#0085CA",
          "pattern": {
           "shape": ""
          }
         },
         "name": "CAR",
         "offsetgroup": "CAR",
         "orientation": "v",
         "showlegend": true,
         "textposition": "auto",
         "type": "bar",
         "x": [
          "D.J. Moore"
         ],
         "xaxis": "x",
         "y": [
          1157
         ],
         "yaxis": "y"
        },
        {
         "alignmentgroup": "True",
         "hovertemplate": "team_name=LAC<br>player=%{x}<br>total_yards=%{y}<extra></extra>",
         "legendgroup": "LAC",
         "marker": {
          "color": "#0080C6",
          "pattern": {
           "shape": ""
          }
         },
         "name": "LAC",
         "offsetgroup": "LAC",
         "orientation": "v",
         "showlegend": true,
         "textposition": "auto",
         "type": "bar",
         "x": [
          "Mike Williams",
          "Keenan Allen"
         ],
         "xaxis": "x",
         "y": [
          1146,
          1138
         ],
         "yaxis": "y"
        },
        {
         "alignmentgroup": "True",
         "hovertemplate": "team_name=TB<br>player=%{x}<br>total_yards=%{y}<extra></extra>",
         "legendgroup": "TB",
         "marker": {
          "color": "#D50A0A",
          "pattern": {
           "shape": ""
          }
         },
         "name": "TB",
         "offsetgroup": "TB",
         "orientation": "v",
         "showlegend": true,
         "textposition": "auto",
         "type": "bar",
         "x": [
          "Chris Godwin",
          "Mike Evans"
         ],
         "xaxis": "x",
         "y": [
          1103,
          1035
         ],
         "yaxis": "y"
        },
        {
         "alignmentgroup": "True",
         "hovertemplate": "team_name=DAL<br>player=%{x}<br>total_yards=%{y}<extra></extra>",
         "legendgroup": "DAL",
         "marker": {
          "color": "#041E42",
          "pattern": {
           "shape": ""
          }
         },
         "name": "DAL",
         "offsetgroup": "DAL",
         "orientation": "v",
         "showlegend": true,
         "textposition": "auto",
         "type": "bar",
         "x": [
          "CeeDee Lamb",
          "Amari Cooper",
          "Cedrick Wilson"
         ],
         "xaxis": "x",
         "y": [
          1102,
          865,
          602
         ],
         "yaxis": "y"
        },
        {
         "alignmentgroup": "True",
         "hovertemplate": "team_name=IND<br>player=%{x}<br>total_yards=%{y}<extra></extra>",
         "legendgroup": "IND",
         "marker": {
          "color": "#002C5F",
          "pattern": {
           "shape": ""
          }
         },
         "name": "IND",
         "offsetgroup": "IND",
         "orientation": "v",
         "showlegend": true,
         "textposition": "auto",
         "type": "bar",
         "x": [
          "Michael Pittman Jr."
         ],
         "xaxis": "x",
         "y": [
          1082
         ],
         "yaxis": "y"
        },
        {
         "alignmentgroup": "True",
         "hovertemplate": "team_name=CHI<br>player=%{x}<br>total_yards=%{y}<extra></extra>",
         "legendgroup": "CHI",
         "marker": {
          "color": "#C83803",
          "pattern": {
           "shape": ""
          }
         },
         "name": "CHI",
         "offsetgroup": "CHI",
         "orientation": "v",
         "showlegend": true,
         "textposition": "auto",
         "type": "bar",
         "x": [
          "Darnell Mooney"
         ],
         "xaxis": "x",
         "y": [
          1055
         ],
         "yaxis": "y"
        },
        {
         "alignmentgroup": "True",
         "hovertemplate": "team_name=WAS<br>player=%{x}<br>total_yards=%{y}<extra></extra>",
         "legendgroup": "WAS",
         "marker": {
          "color": "#5A1414",
          "pattern": {
           "shape": ""
          }
         },
         "name": "WAS",
         "offsetgroup": "WAS",
         "orientation": "v",
         "showlegend": true,
         "textposition": "auto",
         "type": "bar",
         "x": [
          "Terry McLaurin"
         ],
         "xaxis": "x",
         "y": [
          1053
         ],
         "yaxis": "y"
        },
        {
         "alignmentgroup": "True",
         "hovertemplate": "team_name=LV<br>player=%{x}<br>total_yards=%{y}<extra></extra>",
         "legendgroup": "LV",
         "marker": {
          "color": "#000000",
          "pattern": {
           "shape": ""
          }
         },
         "name": "LV",
         "offsetgroup": "LV",
         "orientation": "v",
         "showlegend": true,
         "textposition": "auto",
         "type": "bar",
         "x": [
          "Hunter Renfrow"
         ],
         "xaxis": "x",
         "y": [
          1038
         ],
         "yaxis": "y"
        },
        {
         "alignmentgroup": "True",
         "hovertemplate": "team_name=HST<br>player=%{x}<br>total_yards=%{y}<extra></extra>",
         "legendgroup": "HST",
         "marker": {
          "color": "#A71930",
          "pattern": {
           "shape": ""
          }
         },
         "name": "HST",
         "offsetgroup": "HST",
         "orientation": "v",
         "showlegend": true,
         "textposition": "auto",
         "type": "bar",
         "x": [
          "Brandin Cooks"
         ],
         "xaxis": "x",
         "y": [
          1037
         ],
         "yaxis": "y"
        },
        {
         "alignmentgroup": "True",
         "hovertemplate": "team_name=MIA<br>player=%{x}<br>total_yards=%{y}<extra></extra>",
         "legendgroup": "MIA",
         "marker": {
          "color": "#008E97",
          "pattern": {
           "shape": ""
          }
         },
         "name": "MIA",
         "offsetgroup": "MIA",
         "orientation": "v",
         "showlegend": true,
         "textposition": "auto",
         "type": "bar",
         "x": [
          "Jaylen Waddle"
         ],
         "xaxis": "x",
         "y": [
          1015
         ],
         "yaxis": "y"
        },
        {
         "alignmentgroup": "True",
         "hovertemplate": "team_name=BLT<br>player=%{x}<br>total_yards=%{y}<extra></extra>",
         "legendgroup": "BLT",
         "marker": {
          "color": "#241773",
          "pattern": {
           "shape": ""
          }
         },
         "name": "BLT",
         "offsetgroup": "BLT",
         "orientation": "v",
         "showlegend": true,
         "textposition": "auto",
         "type": "bar",
         "x": [
          "Marquise Brown"
         ],
         "xaxis": "x",
         "y": [
          1008
         ],
         "yaxis": "y"
        },
        {
         "alignmentgroup": "True",
         "hovertemplate": "team_name=ARZ<br>player=%{x}<br>total_yards=%{y}<extra></extra>",
         "legendgroup": "ARZ",
         "marker": {
          "color": "#97233F",
          "pattern": {
           "shape": ""
          }
         },
         "name": "ARZ",
         "offsetgroup": "ARZ",
         "orientation": "v",
         "showlegend": true,
         "textposition": "auto",
         "type": "bar",
         "x": [
          "Christian Kirk",
          "A.J. Green"
         ],
         "xaxis": "x",
         "y": [
          984,
          848
         ],
         "yaxis": "y"
        },
        {
         "alignmentgroup": "True",
         "hovertemplate": "team_name=PHI<br>player=%{x}<br>total_yards=%{y}<extra></extra>",
         "legendgroup": "PHI",
         "marker": {
          "color": "#004C54",
          "pattern": {
           "shape": ""
          }
         },
         "name": "PHI",
         "offsetgroup": "PHI",
         "orientation": "v",
         "showlegend": true,
         "textposition": "auto",
         "type": "bar",
         "x": [
          "DeVonta Smith",
          "Quez Watkins"
         ],
         "xaxis": "x",
         "y": [
          916,
          647
         ],
         "yaxis": "y"
        },
        {
         "alignmentgroup": "True",
         "hovertemplate": "team_name=DET<br>player=%{x}<br>total_yards=%{y}<extra></extra>",
         "legendgroup": "DET",
         "marker": {
          "color": "#B0B7BC",
          "pattern": {
           "shape": ""
          }
         },
         "name": "DET",
         "offsetgroup": "DET",
         "orientation": "v",
         "showlegend": true,
         "textposition": "auto",
         "type": "bar",
         "x": [
          "Amon-Ra St. Brown"
         ],
         "xaxis": "x",
         "y": [
          912
         ],
         "yaxis": "y"
        },
        {
         "alignmentgroup": "True",
         "hovertemplate": "team_name=TEN<br>player=%{x}<br>total_yards=%{y}<extra></extra>",
         "legendgroup": "TEN",
         "marker": {
          "color": "#4B92DB",
          "pattern": {
           "shape": ""
          }
         },
         "name": "TEN",
         "offsetgroup": "TEN",
         "orientation": "v",
         "showlegend": true,
         "textposition": "auto",
         "type": "bar",
         "x": [
          "A.J. Brown"
         ],
         "xaxis": "x",
         "y": [
          869
         ],
         "yaxis": "y"
        },
        {
         "alignmentgroup": "True",
         "hovertemplate": "team_name=NE<br>player=%{x}<br>total_yards=%{y}<extra></extra>",
         "legendgroup": "NE",
         "marker": {
          "color": "#002244",
          "pattern": {
           "shape": ""
          }
         },
         "name": "NE",
         "offsetgroup": "NE",
         "orientation": "v",
         "showlegend": true,
         "textposition": "auto",
         "type": "bar",
         "x": [
          "Jakobi Meyers",
          "Kendrick Bourne"
         ],
         "xaxis": "x",
         "y": [
          866,
          800
         ],
         "yaxis": "y"
        },
        {
         "alignmentgroup": "True",
         "hovertemplate": "team_name=JAX<br>player=%{x}<br>total_yards=%{y}<extra></extra>",
         "legendgroup": "JAX",
         "marker": {
          "color": "#D7A22A",
          "pattern": {
           "shape": ""
          }
         },
         "name": "JAX",
         "offsetgroup": "JAX",
         "orientation": "v",
         "showlegend": true,
         "textposition": "auto",
         "type": "bar",
         "x": [
          "Marvin Jones Jr.",
          "Laviska Shenault Jr."
         ],
         "xaxis": "x",
         "y": [
          832,
          619
         ],
         "yaxis": "y"
        },
        {
         "alignmentgroup": "True",
         "hovertemplate": "team_name=DEN<br>player=%{x}<br>total_yards=%{y}<extra></extra>",
         "legendgroup": "DEN",
         "marker": {
          "color": "#FB4F14",
          "pattern": {
           "shape": ""
          }
         },
         "name": "DEN",
         "offsetgroup": "DEN",
         "orientation": "v",
         "showlegend": true,
         "textposition": "auto",
         "type": "bar",
         "x": [
          "Courtland Sutton",
          "Tim Patrick"
         ],
         "xaxis": "x",
         "y": [
          776,
          734
         ],
         "yaxis": "y"
        },
        {
         "alignmentgroup": "True",
         "hovertemplate": "team_name=ATL<br>player=%{x}<br>total_yards=%{y}<extra></extra>",
         "legendgroup": "ATL",
         "marker": {
          "color": "#A71930",
          "pattern": {
           "shape": ""
          }
         },
         "name": "ATL",
         "offsetgroup": "ATL",
         "orientation": "v",
         "showlegend": true,
         "textposition": "auto",
         "type": "bar",
         "x": [
          "Russell Gage"
         ],
         "xaxis": "x",
         "y": [
          770
         ],
         "yaxis": "y"
        },
        {
         "alignmentgroup": "True",
         "hovertemplate": "team_name=NO<br>player=%{x}<br>total_yards=%{y}<extra></extra>",
         "legendgroup": "NO",
         "marker": {
          "color": "#D3BC8D",
          "pattern": {
           "shape": ""
          }
         },
         "name": "NO",
         "offsetgroup": "NO",
         "orientation": "v",
         "showlegend": true,
         "textposition": "auto",
         "type": "bar",
         "x": [
          "Marquez Callaway"
         ],
         "xaxis": "x",
         "y": [
          698
         ],
         "yaxis": "y"
        },
        {
         "alignmentgroup": "True",
         "hovertemplate": "team_name=CLV<br>player=%{x}<br>total_yards=%{y}<extra></extra>",
         "legendgroup": "CLV",
         "marker": {
          "color": "#311D00",
          "pattern": {
           "shape": ""
          }
         },
         "name": "CLV",
         "offsetgroup": "CLV",
         "orientation": "v",
         "showlegend": true,
         "textposition": "auto",
         "type": "bar",
         "x": [
          "Donovan Peoples-Jones"
         ],
         "xaxis": "x",
         "y": [
          597
         ],
         "yaxis": "y"
        }
       ],
       "layout": {
        "barmode": "stack",
        "legend": {
         "title": {
          "text": "team_name"
         },
         "tracegroupgap": 0
        },
        "template": {
         "data": {
          "bar": [
           {
            "error_x": {
             "color": "#2a3f5f"
            },
            "error_y": {
             "color": "#2a3f5f"
            },
            "marker": {
             "line": {
              "color": "#E5ECF6",
              "width": 0.5
             },
             "pattern": {
              "fillmode": "overlay",
              "size": 10,
              "solidity": 0.2
             }
            },
            "type": "bar"
           }
          ],
          "barpolar": [
           {
            "marker": {
             "line": {
              "color": "#E5ECF6",
              "width": 0.5
             },
             "pattern": {
              "fillmode": "overlay",
              "size": 10,
              "solidity": 0.2
             }
            },
            "type": "barpolar"
           }
          ],
          "carpet": [
           {
            "aaxis": {
             "endlinecolor": "#2a3f5f",
             "gridcolor": "white",
             "linecolor": "white",
             "minorgridcolor": "white",
             "startlinecolor": "#2a3f5f"
            },
            "baxis": {
             "endlinecolor": "#2a3f5f",
             "gridcolor": "white",
             "linecolor": "white",
             "minorgridcolor": "white",
             "startlinecolor": "#2a3f5f"
            },
            "type": "carpet"
           }
          ],
          "choropleth": [
           {
            "colorbar": {
             "outlinewidth": 0,
             "ticks": ""
            },
            "type": "choropleth"
           }
          ],
          "contour": [
           {
            "colorbar": {
             "outlinewidth": 0,
             "ticks": ""
            },
            "colorscale": [
             [
              0,
              "#0d0887"
             ],
             [
              0.1111111111111111,
              "#46039f"
             ],
             [
              0.2222222222222222,
              "#7201a8"
             ],
             [
              0.3333333333333333,
              "#9c179e"
             ],
             [
              0.4444444444444444,
              "#bd3786"
             ],
             [
              0.5555555555555556,
              "#d8576b"
             ],
             [
              0.6666666666666666,
              "#ed7953"
             ],
             [
              0.7777777777777778,
              "#fb9f3a"
             ],
             [
              0.8888888888888888,
              "#fdca26"
             ],
             [
              1,
              "#f0f921"
             ]
            ],
            "type": "contour"
           }
          ],
          "contourcarpet": [
           {
            "colorbar": {
             "outlinewidth": 0,
             "ticks": ""
            },
            "type": "contourcarpet"
           }
          ],
          "heatmap": [
           {
            "colorbar": {
             "outlinewidth": 0,
             "ticks": ""
            },
            "colorscale": [
             [
              0,
              "#0d0887"
             ],
             [
              0.1111111111111111,
              "#46039f"
             ],
             [
              0.2222222222222222,
              "#7201a8"
             ],
             [
              0.3333333333333333,
              "#9c179e"
             ],
             [
              0.4444444444444444,
              "#bd3786"
             ],
             [
              0.5555555555555556,
              "#d8576b"
             ],
             [
              0.6666666666666666,
              "#ed7953"
             ],
             [
              0.7777777777777778,
              "#fb9f3a"
             ],
             [
              0.8888888888888888,
              "#fdca26"
             ],
             [
              1,
              "#f0f921"
             ]
            ],
            "type": "heatmap"
           }
          ],
          "heatmapgl": [
           {
            "colorbar": {
             "outlinewidth": 0,
             "ticks": ""
            },
            "colorscale": [
             [
              0,
              "#0d0887"
             ],
             [
              0.1111111111111111,
              "#46039f"
             ],
             [
              0.2222222222222222,
              "#7201a8"
             ],
             [
              0.3333333333333333,
              "#9c179e"
             ],
             [
              0.4444444444444444,
              "#bd3786"
             ],
             [
              0.5555555555555556,
              "#d8576b"
             ],
             [
              0.6666666666666666,
              "#ed7953"
             ],
             [
              0.7777777777777778,
              "#fb9f3a"
             ],
             [
              0.8888888888888888,
              "#fdca26"
             ],
             [
              1,
              "#f0f921"
             ]
            ],
            "type": "heatmapgl"
           }
          ],
          "histogram": [
           {
            "marker": {
             "pattern": {
              "fillmode": "overlay",
              "size": 10,
              "solidity": 0.2
             }
            },
            "type": "histogram"
           }
          ],
          "histogram2d": [
           {
            "colorbar": {
             "outlinewidth": 0,
             "ticks": ""
            },
            "colorscale": [
             [
              0,
              "#0d0887"
             ],
             [
              0.1111111111111111,
              "#46039f"
             ],
             [
              0.2222222222222222,
              "#7201a8"
             ],
             [
              0.3333333333333333,
              "#9c179e"
             ],
             [
              0.4444444444444444,
              "#bd3786"
             ],
             [
              0.5555555555555556,
              "#d8576b"
             ],
             [
              0.6666666666666666,
              "#ed7953"
             ],
             [
              0.7777777777777778,
              "#fb9f3a"
             ],
             [
              0.8888888888888888,
              "#fdca26"
             ],
             [
              1,
              "#f0f921"
             ]
            ],
            "type": "histogram2d"
           }
          ],
          "histogram2dcontour": [
           {
            "colorbar": {
             "outlinewidth": 0,
             "ticks": ""
            },
            "colorscale": [
             [
              0,
              "#0d0887"
             ],
             [
              0.1111111111111111,
              "#46039f"
             ],
             [
              0.2222222222222222,
              "#7201a8"
             ],
             [
              0.3333333333333333,
              "#9c179e"
             ],
             [
              0.4444444444444444,
              "#bd3786"
             ],
             [
              0.5555555555555556,
              "#d8576b"
             ],
             [
              0.6666666666666666,
              "#ed7953"
             ],
             [
              0.7777777777777778,
              "#fb9f3a"
             ],
             [
              0.8888888888888888,
              "#fdca26"
             ],
             [
              1,
              "#f0f921"
             ]
            ],
            "type": "histogram2dcontour"
           }
          ],
          "mesh3d": [
           {
            "colorbar": {
             "outlinewidth": 0,
             "ticks": ""
            },
            "type": "mesh3d"
           }
          ],
          "parcoords": [
           {
            "line": {
             "colorbar": {
              "outlinewidth": 0,
              "ticks": ""
             }
            },
            "type": "parcoords"
           }
          ],
          "pie": [
           {
            "automargin": true,
            "type": "pie"
           }
          ],
          "scatter": [
           {
            "marker": {
             "colorbar": {
              "outlinewidth": 0,
              "ticks": ""
             }
            },
            "type": "scatter"
           }
          ],
          "scatter3d": [
           {
            "line": {
             "colorbar": {
              "outlinewidth": 0,
              "ticks": ""
             }
            },
            "marker": {
             "colorbar": {
              "outlinewidth": 0,
              "ticks": ""
             }
            },
            "type": "scatter3d"
           }
          ],
          "scattercarpet": [
           {
            "marker": {
             "colorbar": {
              "outlinewidth": 0,
              "ticks": ""
             }
            },
            "type": "scattercarpet"
           }
          ],
          "scattergeo": [
           {
            "marker": {
             "colorbar": {
              "outlinewidth": 0,
              "ticks": ""
             }
            },
            "type": "scattergeo"
           }
          ],
          "scattergl": [
           {
            "marker": {
             "colorbar": {
              "outlinewidth": 0,
              "ticks": ""
             }
            },
            "type": "scattergl"
           }
          ],
          "scattermapbox": [
           {
            "marker": {
             "colorbar": {
              "outlinewidth": 0,
              "ticks": ""
             }
            },
            "type": "scattermapbox"
           }
          ],
          "scatterpolar": [
           {
            "marker": {
             "colorbar": {
              "outlinewidth": 0,
              "ticks": ""
             }
            },
            "type": "scatterpolar"
           }
          ],
          "scatterpolargl": [
           {
            "marker": {
             "colorbar": {
              "outlinewidth": 0,
              "ticks": ""
             }
            },
            "type": "scatterpolargl"
           }
          ],
          "scatterternary": [
           {
            "marker": {
             "colorbar": {
              "outlinewidth": 0,
              "ticks": ""
             }
            },
            "type": "scatterternary"
           }
          ],
          "surface": [
           {
            "colorbar": {
             "outlinewidth": 0,
             "ticks": ""
            },
            "colorscale": [
             [
              0,
              "#0d0887"
             ],
             [
              0.1111111111111111,
              "#46039f"
             ],
             [
              0.2222222222222222,
              "#7201a8"
             ],
             [
              0.3333333333333333,
              "#9c179e"
             ],
             [
              0.4444444444444444,
              "#bd3786"
             ],
             [
              0.5555555555555556,
              "#d8576b"
             ],
             [
              0.6666666666666666,
              "#ed7953"
             ],
             [
              0.7777777777777778,
              "#fb9f3a"
             ],
             [
              0.8888888888888888,
              "#fdca26"
             ],
             [
              1,
              "#f0f921"
             ]
            ],
            "type": "surface"
           }
          ],
          "table": [
           {
            "cells": {
             "fill": {
              "color": "#EBF0F8"
             },
             "line": {
              "color": "white"
             }
            },
            "header": {
             "fill": {
              "color": "#C8D4E3"
             },
             "line": {
              "color": "white"
             }
            },
            "type": "table"
           }
          ]
         },
         "layout": {
          "annotationdefaults": {
           "arrowcolor": "#2a3f5f",
           "arrowhead": 0,
           "arrowwidth": 1
          },
          "autotypenumbers": "strict",
          "coloraxis": {
           "colorbar": {
            "outlinewidth": 0,
            "ticks": ""
           }
          },
          "colorscale": {
           "diverging": [
            [
             0,
             "#8e0152"
            ],
            [
             0.1,
             "#c51b7d"
            ],
            [
             0.2,
             "#de77ae"
            ],
            [
             0.3,
             "#f1b6da"
            ],
            [
             0.4,
             "#fde0ef"
            ],
            [
             0.5,
             "#f7f7f7"
            ],
            [
             0.6,
             "#e6f5d0"
            ],
            [
             0.7,
             "#b8e186"
            ],
            [
             0.8,
             "#7fbc41"
            ],
            [
             0.9,
             "#4d9221"
            ],
            [
             1,
             "#276419"
            ]
           ],
           "sequential": [
            [
             0,
             "#0d0887"
            ],
            [
             0.1111111111111111,
             "#46039f"
            ],
            [
             0.2222222222222222,
             "#7201a8"
            ],
            [
             0.3333333333333333,
             "#9c179e"
            ],
            [
             0.4444444444444444,
             "#bd3786"
            ],
            [
             0.5555555555555556,
             "#d8576b"
            ],
            [
             0.6666666666666666,
             "#ed7953"
            ],
            [
             0.7777777777777778,
             "#fb9f3a"
            ],
            [
             0.8888888888888888,
             "#fdca26"
            ],
            [
             1,
             "#f0f921"
            ]
           ],
           "sequentialminus": [
            [
             0,
             "#0d0887"
            ],
            [
             0.1111111111111111,
             "#46039f"
            ],
            [
             0.2222222222222222,
             "#7201a8"
            ],
            [
             0.3333333333333333,
             "#9c179e"
            ],
            [
             0.4444444444444444,
             "#bd3786"
            ],
            [
             0.5555555555555556,
             "#d8576b"
            ],
            [
             0.6666666666666666,
             "#ed7953"
            ],
            [
             0.7777777777777778,
             "#fb9f3a"
            ],
            [
             0.8888888888888888,
             "#fdca26"
            ],
            [
             1,
             "#f0f921"
            ]
           ]
          },
          "colorway": [
           "#636efa",
           "#EF553B",
           "#00cc96",
           "#ab63fa",
           "#FFA15A",
           "#19d3f3",
           "#FF6692",
           "#B6E880",
           "#FF97FF",
           "#FECB52"
          ],
          "font": {
           "color": "#2a3f5f"
          },
          "geo": {
           "bgcolor": "white",
           "lakecolor": "white",
           "landcolor": "#E5ECF6",
           "showlakes": true,
           "showland": true,
           "subunitcolor": "white"
          },
          "hoverlabel": {
           "align": "left"
          },
          "hovermode": "closest",
          "mapbox": {
           "style": "light"
          },
          "paper_bgcolor": "white",
          "plot_bgcolor": "#E5ECF6",
          "polar": {
           "angularaxis": {
            "gridcolor": "white",
            "linecolor": "white",
            "ticks": ""
           },
           "bgcolor": "#E5ECF6",
           "radialaxis": {
            "gridcolor": "white",
            "linecolor": "white",
            "ticks": ""
           }
          },
          "scene": {
           "xaxis": {
            "backgroundcolor": "#E5ECF6",
            "gridcolor": "white",
            "gridwidth": 2,
            "linecolor": "white",
            "showbackground": true,
            "ticks": "",
            "zerolinecolor": "white"
           },
           "yaxis": {
            "backgroundcolor": "#E5ECF6",
            "gridcolor": "white",
            "gridwidth": 2,
            "linecolor": "white",
            "showbackground": true,
            "ticks": "",
            "zerolinecolor": "white"
           },
           "zaxis": {
            "backgroundcolor": "#E5ECF6",
            "gridcolor": "white",
            "gridwidth": 2,
            "linecolor": "white",
            "showbackground": true,
            "ticks": "",
            "zerolinecolor": "white"
           }
          },
          "shapedefaults": {
           "line": {
            "color": "#2a3f5f"
           }
          },
          "ternary": {
           "aaxis": {
            "gridcolor": "white",
            "linecolor": "white",
            "ticks": ""
           },
           "baxis": {
            "gridcolor": "white",
            "linecolor": "white",
            "ticks": ""
           },
           "bgcolor": "#E5ECF6",
           "caxis": {
            "gridcolor": "white",
            "linecolor": "white",
            "ticks": ""
           }
          },
          "title": {
           "x": 0.05
          },
          "xaxis": {
           "automargin": true,
           "gridcolor": "white",
           "linecolor": "white",
           "ticks": "",
           "title": {
            "standoff": 15
           },
           "zerolinecolor": "white",
           "zerolinewidth": 2
          },
          "yaxis": {
           "automargin": true,
           "gridcolor": "white",
           "linecolor": "white",
           "ticks": "",
           "title": {
            "standoff": 15
           },
           "zerolinecolor": "white",
           "zerolinewidth": 2
          }
         }
        },
        "title": {
         "text": "Top 50 WR Yards 2021"
        },
        "xaxis": {
         "anchor": "y",
         "categoryorder": "total descending",
         "domain": [
          0,
          1
         ],
         "title": {
          "text": "player"
         }
        },
        "yaxis": {
         "anchor": "x",
         "domain": [
          0,
          1
         ],
         "title": {
          "text": "total_yards"
         }
        }
       }
      },
      "text/html": [
       "<div>                            <div id=\"19111798-2e2d-464c-859f-7fc65ae3067e\" class=\"plotly-graph-div\" style=\"height:525px; width:100%;\"></div>            <script type=\"text/javascript\">                require([\"plotly\"], function(Plotly) {                    window.PLOTLYENV=window.PLOTLYENV || {};                                    if (document.getElementById(\"19111798-2e2d-464c-859f-7fc65ae3067e\")) {                    Plotly.newPlot(                        \"19111798-2e2d-464c-859f-7fc65ae3067e\",                        [{\"alignmentgroup\":\"True\",\"hovertemplate\":\"team_name=LA<br>player=%{x}<br>total_yards=%{y}<extra></extra>\",\"legendgroup\":\"LA\",\"marker\":{\"color\":\"#003594\",\"pattern\":{\"shape\":\"\"}},\"name\":\"LA\",\"offsetgroup\":\"LA\",\"orientation\":\"v\",\"showlegend\":true,\"textposition\":\"auto\",\"x\":[\"Cooper Kupp\",\"Van Jefferson\"],\"xaxis\":\"x\",\"y\":[1947.0,802.0],\"yaxis\":\"y\",\"type\":\"bar\"},{\"alignmentgroup\":\"True\",\"hovertemplate\":\"team_name=MIN<br>player=%{x}<br>total_yards=%{y}<extra></extra>\",\"legendgroup\":\"MIN\",\"marker\":{\"color\":\"#4F2683\",\"pattern\":{\"shape\":\"\"}},\"name\":\"MIN\",\"offsetgroup\":\"MIN\",\"orientation\":\"v\",\"showlegend\":true,\"textposition\":\"auto\",\"x\":[\"Justin Jefferson\",\"Adam Thielen\",\"K.J. Osborn\"],\"xaxis\":\"x\",\"y\":[1616.0,726.0,655.0],\"yaxis\":\"y\",\"type\":\"bar\"},{\"alignmentgroup\":\"True\",\"hovertemplate\":\"team_name=GB<br>player=%{x}<br>total_yards=%{y}<extra></extra>\",\"legendgroup\":\"GB\",\"marker\":{\"color\":\"#203731\",\"pattern\":{\"shape\":\"\"}},\"name\":\"GB\",\"offsetgroup\":\"GB\",\"orientation\":\"v\",\"showlegend\":true,\"textposition\":\"auto\",\"x\":[\"Davante Adams\"],\"xaxis\":\"x\",\"y\":[1553.0],\"yaxis\":\"y\",\"type\":\"bar\"},{\"alignmentgroup\":\"True\",\"hovertemplate\":\"team_name=CIN<br>player=%{x}<br>total_yards=%{y}<extra></extra>\",\"legendgroup\":\"CIN\",\"marker\":{\"color\":\"#FB4F14\",\"pattern\":{\"shape\":\"\"}},\"name\":\"CIN\",\"offsetgroup\":\"CIN\",\"orientation\":\"v\",\"showlegend\":true,\"textposition\":\"auto\",\"x\":[\"Ja'Marr Chase\",\"Tee Higgins\",\"Tyler Boyd\"],\"xaxis\":\"x\",\"y\":[1455.0,1091.0,828.0],\"yaxis\":\"y\",\"type\":\"bar\"},{\"alignmentgroup\":\"True\",\"hovertemplate\":\"team_name=SF<br>player=%{x}<br>total_yards=%{y}<extra></extra>\",\"legendgroup\":\"SF\",\"marker\":{\"color\":\"#AA0000\",\"pattern\":{\"shape\":\"\"}},\"name\":\"SF\",\"offsetgroup\":\"SF\",\"orientation\":\"v\",\"showlegend\":true,\"textposition\":\"auto\",\"x\":[\"Deebo Samuel\",\"Brandon Aiyuk\"],\"xaxis\":\"x\",\"y\":[1405.0,816.0],\"yaxis\":\"y\",\"type\":\"bar\"},{\"alignmentgroup\":\"True\",\"hovertemplate\":\"team_name=KC<br>player=%{x}<br>total_yards=%{y}<extra></extra>\",\"legendgroup\":\"KC\",\"marker\":{\"color\":\"#E31837\",\"pattern\":{\"shape\":\"\"}},\"name\":\"KC\",\"offsetgroup\":\"KC\",\"orientation\":\"v\",\"showlegend\":true,\"textposition\":\"auto\",\"x\":[\"Tyreek Hill\",\"Mecole Hardman\"],\"xaxis\":\"x\",\"y\":[1239.0,693.0],\"yaxis\":\"y\",\"type\":\"bar\"},{\"alignmentgroup\":\"True\",\"hovertemplate\":\"team_name=BUF<br>player=%{x}<br>total_yards=%{y}<extra></extra>\",\"legendgroup\":\"BUF\",\"marker\":{\"color\":\"#00338D\",\"pattern\":{\"shape\":\"\"}},\"name\":\"BUF\",\"offsetgroup\":\"BUF\",\"orientation\":\"v\",\"showlegend\":true,\"textposition\":\"auto\",\"x\":[\"Stefon Diggs\",\"Cole Beasley\",\"Emmanuel Sanders\"],\"xaxis\":\"x\",\"y\":[1225.0,693.0,626.0],\"yaxis\":\"y\",\"type\":\"bar\"},{\"alignmentgroup\":\"True\",\"hovertemplate\":\"team_name=SEA<br>player=%{x}<br>total_yards=%{y}<extra></extra>\",\"legendgroup\":\"SEA\",\"marker\":{\"color\":\"#69BE28\",\"pattern\":{\"shape\":\"\"}},\"name\":\"SEA\",\"offsetgroup\":\"SEA\",\"orientation\":\"v\",\"showlegend\":true,\"textposition\":\"auto\",\"x\":[\"Tyler Lockett\",\"D.K. Metcalf\"],\"xaxis\":\"x\",\"y\":[1175.0,967.0],\"yaxis\":\"y\",\"type\":\"bar\"},{\"alignmentgroup\":\"True\",\"hovertemplate\":\"team_name=PIT<br>player=%{x}<br>total_yards=%{y}<extra></extra>\",\"legendgroup\":\"PIT\",\"marker\":{\"color\":\"#FFB612\",\"pattern\":{\"shape\":\"\"}},\"name\":\"PIT\",\"offsetgroup\":\"PIT\",\"orientation\":\"v\",\"showlegend\":true,\"textposition\":\"auto\",\"x\":[\"Diontae Johnson\",\"Chase Claypool\"],\"xaxis\":\"x\",\"y\":[1161.0,860.0],\"yaxis\":\"y\",\"type\":\"bar\"},{\"alignmentgroup\":\"True\",\"hovertemplate\":\"team_name=CAR<br>player=%{x}<br>total_yards=%{y}<extra></extra>\",\"legendgroup\":\"CAR\",\"marker\":{\"color\":\"#0085CA\",\"pattern\":{\"shape\":\"\"}},\"name\":\"CAR\",\"offsetgroup\":\"CAR\",\"orientation\":\"v\",\"showlegend\":true,\"textposition\":\"auto\",\"x\":[\"D.J. Moore\"],\"xaxis\":\"x\",\"y\":[1157.0],\"yaxis\":\"y\",\"type\":\"bar\"},{\"alignmentgroup\":\"True\",\"hovertemplate\":\"team_name=LAC<br>player=%{x}<br>total_yards=%{y}<extra></extra>\",\"legendgroup\":\"LAC\",\"marker\":{\"color\":\"#0080C6\",\"pattern\":{\"shape\":\"\"}},\"name\":\"LAC\",\"offsetgroup\":\"LAC\",\"orientation\":\"v\",\"showlegend\":true,\"textposition\":\"auto\",\"x\":[\"Mike Williams\",\"Keenan Allen\"],\"xaxis\":\"x\",\"y\":[1146.0,1138.0],\"yaxis\":\"y\",\"type\":\"bar\"},{\"alignmentgroup\":\"True\",\"hovertemplate\":\"team_name=TB<br>player=%{x}<br>total_yards=%{y}<extra></extra>\",\"legendgroup\":\"TB\",\"marker\":{\"color\":\"#D50A0A\",\"pattern\":{\"shape\":\"\"}},\"name\":\"TB\",\"offsetgroup\":\"TB\",\"orientation\":\"v\",\"showlegend\":true,\"textposition\":\"auto\",\"x\":[\"Chris Godwin\",\"Mike Evans\"],\"xaxis\":\"x\",\"y\":[1103.0,1035.0],\"yaxis\":\"y\",\"type\":\"bar\"},{\"alignmentgroup\":\"True\",\"hovertemplate\":\"team_name=DAL<br>player=%{x}<br>total_yards=%{y}<extra></extra>\",\"legendgroup\":\"DAL\",\"marker\":{\"color\":\"#041E42\",\"pattern\":{\"shape\":\"\"}},\"name\":\"DAL\",\"offsetgroup\":\"DAL\",\"orientation\":\"v\",\"showlegend\":true,\"textposition\":\"auto\",\"x\":[\"CeeDee Lamb\",\"Amari Cooper\",\"Cedrick Wilson\"],\"xaxis\":\"x\",\"y\":[1102.0,865.0,602.0],\"yaxis\":\"y\",\"type\":\"bar\"},{\"alignmentgroup\":\"True\",\"hovertemplate\":\"team_name=IND<br>player=%{x}<br>total_yards=%{y}<extra></extra>\",\"legendgroup\":\"IND\",\"marker\":{\"color\":\"#002C5F\",\"pattern\":{\"shape\":\"\"}},\"name\":\"IND\",\"offsetgroup\":\"IND\",\"orientation\":\"v\",\"showlegend\":true,\"textposition\":\"auto\",\"x\":[\"Michael Pittman Jr.\"],\"xaxis\":\"x\",\"y\":[1082.0],\"yaxis\":\"y\",\"type\":\"bar\"},{\"alignmentgroup\":\"True\",\"hovertemplate\":\"team_name=CHI<br>player=%{x}<br>total_yards=%{y}<extra></extra>\",\"legendgroup\":\"CHI\",\"marker\":{\"color\":\"#C83803\",\"pattern\":{\"shape\":\"\"}},\"name\":\"CHI\",\"offsetgroup\":\"CHI\",\"orientation\":\"v\",\"showlegend\":true,\"textposition\":\"auto\",\"x\":[\"Darnell Mooney\"],\"xaxis\":\"x\",\"y\":[1055.0],\"yaxis\":\"y\",\"type\":\"bar\"},{\"alignmentgroup\":\"True\",\"hovertemplate\":\"team_name=WAS<br>player=%{x}<br>total_yards=%{y}<extra></extra>\",\"legendgroup\":\"WAS\",\"marker\":{\"color\":\"#5A1414\",\"pattern\":{\"shape\":\"\"}},\"name\":\"WAS\",\"offsetgroup\":\"WAS\",\"orientation\":\"v\",\"showlegend\":true,\"textposition\":\"auto\",\"x\":[\"Terry McLaurin\"],\"xaxis\":\"x\",\"y\":[1053.0],\"yaxis\":\"y\",\"type\":\"bar\"},{\"alignmentgroup\":\"True\",\"hovertemplate\":\"team_name=LV<br>player=%{x}<br>total_yards=%{y}<extra></extra>\",\"legendgroup\":\"LV\",\"marker\":{\"color\":\"#000000\",\"pattern\":{\"shape\":\"\"}},\"name\":\"LV\",\"offsetgroup\":\"LV\",\"orientation\":\"v\",\"showlegend\":true,\"textposition\":\"auto\",\"x\":[\"Hunter Renfrow\"],\"xaxis\":\"x\",\"y\":[1038.0],\"yaxis\":\"y\",\"type\":\"bar\"},{\"alignmentgroup\":\"True\",\"hovertemplate\":\"team_name=HST<br>player=%{x}<br>total_yards=%{y}<extra></extra>\",\"legendgroup\":\"HST\",\"marker\":{\"color\":\"#A71930\",\"pattern\":{\"shape\":\"\"}},\"name\":\"HST\",\"offsetgroup\":\"HST\",\"orientation\":\"v\",\"showlegend\":true,\"textposition\":\"auto\",\"x\":[\"Brandin Cooks\"],\"xaxis\":\"x\",\"y\":[1037.0],\"yaxis\":\"y\",\"type\":\"bar\"},{\"alignmentgroup\":\"True\",\"hovertemplate\":\"team_name=MIA<br>player=%{x}<br>total_yards=%{y}<extra></extra>\",\"legendgroup\":\"MIA\",\"marker\":{\"color\":\"#008E97\",\"pattern\":{\"shape\":\"\"}},\"name\":\"MIA\",\"offsetgroup\":\"MIA\",\"orientation\":\"v\",\"showlegend\":true,\"textposition\":\"auto\",\"x\":[\"Jaylen Waddle\"],\"xaxis\":\"x\",\"y\":[1015.0],\"yaxis\":\"y\",\"type\":\"bar\"},{\"alignmentgroup\":\"True\",\"hovertemplate\":\"team_name=BLT<br>player=%{x}<br>total_yards=%{y}<extra></extra>\",\"legendgroup\":\"BLT\",\"marker\":{\"color\":\"#241773\",\"pattern\":{\"shape\":\"\"}},\"name\":\"BLT\",\"offsetgroup\":\"BLT\",\"orientation\":\"v\",\"showlegend\":true,\"textposition\":\"auto\",\"x\":[\"Marquise Brown\"],\"xaxis\":\"x\",\"y\":[1008.0],\"yaxis\":\"y\",\"type\":\"bar\"},{\"alignmentgroup\":\"True\",\"hovertemplate\":\"team_name=ARZ<br>player=%{x}<br>total_yards=%{y}<extra></extra>\",\"legendgroup\":\"ARZ\",\"marker\":{\"color\":\"#97233F\",\"pattern\":{\"shape\":\"\"}},\"name\":\"ARZ\",\"offsetgroup\":\"ARZ\",\"orientation\":\"v\",\"showlegend\":true,\"textposition\":\"auto\",\"x\":[\"Christian Kirk\",\"A.J. Green\"],\"xaxis\":\"x\",\"y\":[984.0,848.0],\"yaxis\":\"y\",\"type\":\"bar\"},{\"alignmentgroup\":\"True\",\"hovertemplate\":\"team_name=PHI<br>player=%{x}<br>total_yards=%{y}<extra></extra>\",\"legendgroup\":\"PHI\",\"marker\":{\"color\":\"#004C54\",\"pattern\":{\"shape\":\"\"}},\"name\":\"PHI\",\"offsetgroup\":\"PHI\",\"orientation\":\"v\",\"showlegend\":true,\"textposition\":\"auto\",\"x\":[\"DeVonta Smith\",\"Quez Watkins\"],\"xaxis\":\"x\",\"y\":[916.0,647.0],\"yaxis\":\"y\",\"type\":\"bar\"},{\"alignmentgroup\":\"True\",\"hovertemplate\":\"team_name=DET<br>player=%{x}<br>total_yards=%{y}<extra></extra>\",\"legendgroup\":\"DET\",\"marker\":{\"color\":\"#B0B7BC\",\"pattern\":{\"shape\":\"\"}},\"name\":\"DET\",\"offsetgroup\":\"DET\",\"orientation\":\"v\",\"showlegend\":true,\"textposition\":\"auto\",\"x\":[\"Amon-Ra St. Brown\"],\"xaxis\":\"x\",\"y\":[912.0],\"yaxis\":\"y\",\"type\":\"bar\"},{\"alignmentgroup\":\"True\",\"hovertemplate\":\"team_name=TEN<br>player=%{x}<br>total_yards=%{y}<extra></extra>\",\"legendgroup\":\"TEN\",\"marker\":{\"color\":\"#4B92DB\",\"pattern\":{\"shape\":\"\"}},\"name\":\"TEN\",\"offsetgroup\":\"TEN\",\"orientation\":\"v\",\"showlegend\":true,\"textposition\":\"auto\",\"x\":[\"A.J. Brown\"],\"xaxis\":\"x\",\"y\":[869.0],\"yaxis\":\"y\",\"type\":\"bar\"},{\"alignmentgroup\":\"True\",\"hovertemplate\":\"team_name=NE<br>player=%{x}<br>total_yards=%{y}<extra></extra>\",\"legendgroup\":\"NE\",\"marker\":{\"color\":\"#002244\",\"pattern\":{\"shape\":\"\"}},\"name\":\"NE\",\"offsetgroup\":\"NE\",\"orientation\":\"v\",\"showlegend\":true,\"textposition\":\"auto\",\"x\":[\"Jakobi Meyers\",\"Kendrick Bourne\"],\"xaxis\":\"x\",\"y\":[866.0,800.0],\"yaxis\":\"y\",\"type\":\"bar\"},{\"alignmentgroup\":\"True\",\"hovertemplate\":\"team_name=JAX<br>player=%{x}<br>total_yards=%{y}<extra></extra>\",\"legendgroup\":\"JAX\",\"marker\":{\"color\":\"#D7A22A\",\"pattern\":{\"shape\":\"\"}},\"name\":\"JAX\",\"offsetgroup\":\"JAX\",\"orientation\":\"v\",\"showlegend\":true,\"textposition\":\"auto\",\"x\":[\"Marvin Jones Jr.\",\"Laviska Shenault Jr.\"],\"xaxis\":\"x\",\"y\":[832.0,619.0],\"yaxis\":\"y\",\"type\":\"bar\"},{\"alignmentgroup\":\"True\",\"hovertemplate\":\"team_name=DEN<br>player=%{x}<br>total_yards=%{y}<extra></extra>\",\"legendgroup\":\"DEN\",\"marker\":{\"color\":\"#FB4F14\",\"pattern\":{\"shape\":\"\"}},\"name\":\"DEN\",\"offsetgroup\":\"DEN\",\"orientation\":\"v\",\"showlegend\":true,\"textposition\":\"auto\",\"x\":[\"Courtland Sutton\",\"Tim Patrick\"],\"xaxis\":\"x\",\"y\":[776.0,734.0],\"yaxis\":\"y\",\"type\":\"bar\"},{\"alignmentgroup\":\"True\",\"hovertemplate\":\"team_name=ATL<br>player=%{x}<br>total_yards=%{y}<extra></extra>\",\"legendgroup\":\"ATL\",\"marker\":{\"color\":\"#A71930\",\"pattern\":{\"shape\":\"\"}},\"name\":\"ATL\",\"offsetgroup\":\"ATL\",\"orientation\":\"v\",\"showlegend\":true,\"textposition\":\"auto\",\"x\":[\"Russell Gage\"],\"xaxis\":\"x\",\"y\":[770.0],\"yaxis\":\"y\",\"type\":\"bar\"},{\"alignmentgroup\":\"True\",\"hovertemplate\":\"team_name=NO<br>player=%{x}<br>total_yards=%{y}<extra></extra>\",\"legendgroup\":\"NO\",\"marker\":{\"color\":\"#D3BC8D\",\"pattern\":{\"shape\":\"\"}},\"name\":\"NO\",\"offsetgroup\":\"NO\",\"orientation\":\"v\",\"showlegend\":true,\"textposition\":\"auto\",\"x\":[\"Marquez Callaway\"],\"xaxis\":\"x\",\"y\":[698.0],\"yaxis\":\"y\",\"type\":\"bar\"},{\"alignmentgroup\":\"True\",\"hovertemplate\":\"team_name=CLV<br>player=%{x}<br>total_yards=%{y}<extra></extra>\",\"legendgroup\":\"CLV\",\"marker\":{\"color\":\"#311D00\",\"pattern\":{\"shape\":\"\"}},\"name\":\"CLV\",\"offsetgroup\":\"CLV\",\"orientation\":\"v\",\"showlegend\":true,\"textposition\":\"auto\",\"x\":[\"Donovan Peoples-Jones\"],\"xaxis\":\"x\",\"y\":[597.0],\"yaxis\":\"y\",\"type\":\"bar\"}],                        {\"template\":{\"data\":{\"bar\":[{\"error_x\":{\"color\":\"#2a3f5f\"},\"error_y\":{\"color\":\"#2a3f5f\"},\"marker\":{\"line\":{\"color\":\"#E5ECF6\",\"width\":0.5},\"pattern\":{\"fillmode\":\"overlay\",\"size\":10,\"solidity\":0.2}},\"type\":\"bar\"}],\"barpolar\":[{\"marker\":{\"line\":{\"color\":\"#E5ECF6\",\"width\":0.5},\"pattern\":{\"fillmode\":\"overlay\",\"size\":10,\"solidity\":0.2}},\"type\":\"barpolar\"}],\"carpet\":[{\"aaxis\":{\"endlinecolor\":\"#2a3f5f\",\"gridcolor\":\"white\",\"linecolor\":\"white\",\"minorgridcolor\":\"white\",\"startlinecolor\":\"#2a3f5f\"},\"baxis\":{\"endlinecolor\":\"#2a3f5f\",\"gridcolor\":\"white\",\"linecolor\":\"white\",\"minorgridcolor\":\"white\",\"startlinecolor\":\"#2a3f5f\"},\"type\":\"carpet\"}],\"choropleth\":[{\"colorbar\":{\"outlinewidth\":0,\"ticks\":\"\"},\"type\":\"choropleth\"}],\"contour\":[{\"colorbar\":{\"outlinewidth\":0,\"ticks\":\"\"},\"colorscale\":[[0.0,\"#0d0887\"],[0.1111111111111111,\"#46039f\"],[0.2222222222222222,\"#7201a8\"],[0.3333333333333333,\"#9c179e\"],[0.4444444444444444,\"#bd3786\"],[0.5555555555555556,\"#d8576b\"],[0.6666666666666666,\"#ed7953\"],[0.7777777777777778,\"#fb9f3a\"],[0.8888888888888888,\"#fdca26\"],[1.0,\"#f0f921\"]],\"type\":\"contour\"}],\"contourcarpet\":[{\"colorbar\":{\"outlinewidth\":0,\"ticks\":\"\"},\"type\":\"contourcarpet\"}],\"heatmap\":[{\"colorbar\":{\"outlinewidth\":0,\"ticks\":\"\"},\"colorscale\":[[0.0,\"#0d0887\"],[0.1111111111111111,\"#46039f\"],[0.2222222222222222,\"#7201a8\"],[0.3333333333333333,\"#9c179e\"],[0.4444444444444444,\"#bd3786\"],[0.5555555555555556,\"#d8576b\"],[0.6666666666666666,\"#ed7953\"],[0.7777777777777778,\"#fb9f3a\"],[0.8888888888888888,\"#fdca26\"],[1.0,\"#f0f921\"]],\"type\":\"heatmap\"}],\"heatmapgl\":[{\"colorbar\":{\"outlinewidth\":0,\"ticks\":\"\"},\"colorscale\":[[0.0,\"#0d0887\"],[0.1111111111111111,\"#46039f\"],[0.2222222222222222,\"#7201a8\"],[0.3333333333333333,\"#9c179e\"],[0.4444444444444444,\"#bd3786\"],[0.5555555555555556,\"#d8576b\"],[0.6666666666666666,\"#ed7953\"],[0.7777777777777778,\"#fb9f3a\"],[0.8888888888888888,\"#fdca26\"],[1.0,\"#f0f921\"]],\"type\":\"heatmapgl\"}],\"histogram\":[{\"marker\":{\"pattern\":{\"fillmode\":\"overlay\",\"size\":10,\"solidity\":0.2}},\"type\":\"histogram\"}],\"histogram2d\":[{\"colorbar\":{\"outlinewidth\":0,\"ticks\":\"\"},\"colorscale\":[[0.0,\"#0d0887\"],[0.1111111111111111,\"#46039f\"],[0.2222222222222222,\"#7201a8\"],[0.3333333333333333,\"#9c179e\"],[0.4444444444444444,\"#bd3786\"],[0.5555555555555556,\"#d8576b\"],[0.6666666666666666,\"#ed7953\"],[0.7777777777777778,\"#fb9f3a\"],[0.8888888888888888,\"#fdca26\"],[1.0,\"#f0f921\"]],\"type\":\"histogram2d\"}],\"histogram2dcontour\":[{\"colorbar\":{\"outlinewidth\":0,\"ticks\":\"\"},\"colorscale\":[[0.0,\"#0d0887\"],[0.1111111111111111,\"#46039f\"],[0.2222222222222222,\"#7201a8\"],[0.3333333333333333,\"#9c179e\"],[0.4444444444444444,\"#bd3786\"],[0.5555555555555556,\"#d8576b\"],[0.6666666666666666,\"#ed7953\"],[0.7777777777777778,\"#fb9f3a\"],[0.8888888888888888,\"#fdca26\"],[1.0,\"#f0f921\"]],\"type\":\"histogram2dcontour\"}],\"mesh3d\":[{\"colorbar\":{\"outlinewidth\":0,\"ticks\":\"\"},\"type\":\"mesh3d\"}],\"parcoords\":[{\"line\":{\"colorbar\":{\"outlinewidth\":0,\"ticks\":\"\"}},\"type\":\"parcoords\"}],\"pie\":[{\"automargin\":true,\"type\":\"pie\"}],\"scatter\":[{\"marker\":{\"colorbar\":{\"outlinewidth\":0,\"ticks\":\"\"}},\"type\":\"scatter\"}],\"scatter3d\":[{\"line\":{\"colorbar\":{\"outlinewidth\":0,\"ticks\":\"\"}},\"marker\":{\"colorbar\":{\"outlinewidth\":0,\"ticks\":\"\"}},\"type\":\"scatter3d\"}],\"scattercarpet\":[{\"marker\":{\"colorbar\":{\"outlinewidth\":0,\"ticks\":\"\"}},\"type\":\"scattercarpet\"}],\"scattergeo\":[{\"marker\":{\"colorbar\":{\"outlinewidth\":0,\"ticks\":\"\"}},\"type\":\"scattergeo\"}],\"scattergl\":[{\"marker\":{\"colorbar\":{\"outlinewidth\":0,\"ticks\":\"\"}},\"type\":\"scattergl\"}],\"scattermapbox\":[{\"marker\":{\"colorbar\":{\"outlinewidth\":0,\"ticks\":\"\"}},\"type\":\"scattermapbox\"}],\"scatterpolar\":[{\"marker\":{\"colorbar\":{\"outlinewidth\":0,\"ticks\":\"\"}},\"type\":\"scatterpolar\"}],\"scatterpolargl\":[{\"marker\":{\"colorbar\":{\"outlinewidth\":0,\"ticks\":\"\"}},\"type\":\"scatterpolargl\"}],\"scatterternary\":[{\"marker\":{\"colorbar\":{\"outlinewidth\":0,\"ticks\":\"\"}},\"type\":\"scatterternary\"}],\"surface\":[{\"colorbar\":{\"outlinewidth\":0,\"ticks\":\"\"},\"colorscale\":[[0.0,\"#0d0887\"],[0.1111111111111111,\"#46039f\"],[0.2222222222222222,\"#7201a8\"],[0.3333333333333333,\"#9c179e\"],[0.4444444444444444,\"#bd3786\"],[0.5555555555555556,\"#d8576b\"],[0.6666666666666666,\"#ed7953\"],[0.7777777777777778,\"#fb9f3a\"],[0.8888888888888888,\"#fdca26\"],[1.0,\"#f0f921\"]],\"type\":\"surface\"}],\"table\":[{\"cells\":{\"fill\":{\"color\":\"#EBF0F8\"},\"line\":{\"color\":\"white\"}},\"header\":{\"fill\":{\"color\":\"#C8D4E3\"},\"line\":{\"color\":\"white\"}},\"type\":\"table\"}]},\"layout\":{\"annotationdefaults\":{\"arrowcolor\":\"#2a3f5f\",\"arrowhead\":0,\"arrowwidth\":1},\"autotypenumbers\":\"strict\",\"coloraxis\":{\"colorbar\":{\"outlinewidth\":0,\"ticks\":\"\"}},\"colorscale\":{\"diverging\":[[0,\"#8e0152\"],[0.1,\"#c51b7d\"],[0.2,\"#de77ae\"],[0.3,\"#f1b6da\"],[0.4,\"#fde0ef\"],[0.5,\"#f7f7f7\"],[0.6,\"#e6f5d0\"],[0.7,\"#b8e186\"],[0.8,\"#7fbc41\"],[0.9,\"#4d9221\"],[1,\"#276419\"]],\"sequential\":[[0.0,\"#0d0887\"],[0.1111111111111111,\"#46039f\"],[0.2222222222222222,\"#7201a8\"],[0.3333333333333333,\"#9c179e\"],[0.4444444444444444,\"#bd3786\"],[0.5555555555555556,\"#d8576b\"],[0.6666666666666666,\"#ed7953\"],[0.7777777777777778,\"#fb9f3a\"],[0.8888888888888888,\"#fdca26\"],[1.0,\"#f0f921\"]],\"sequentialminus\":[[0.0,\"#0d0887\"],[0.1111111111111111,\"#46039f\"],[0.2222222222222222,\"#7201a8\"],[0.3333333333333333,\"#9c179e\"],[0.4444444444444444,\"#bd3786\"],[0.5555555555555556,\"#d8576b\"],[0.6666666666666666,\"#ed7953\"],[0.7777777777777778,\"#fb9f3a\"],[0.8888888888888888,\"#fdca26\"],[1.0,\"#f0f921\"]]},\"colorway\":[\"#636efa\",\"#EF553B\",\"#00cc96\",\"#ab63fa\",\"#FFA15A\",\"#19d3f3\",\"#FF6692\",\"#B6E880\",\"#FF97FF\",\"#FECB52\"],\"font\":{\"color\":\"#2a3f5f\"},\"geo\":{\"bgcolor\":\"white\",\"lakecolor\":\"white\",\"landcolor\":\"#E5ECF6\",\"showlakes\":true,\"showland\":true,\"subunitcolor\":\"white\"},\"hoverlabel\":{\"align\":\"left\"},\"hovermode\":\"closest\",\"mapbox\":{\"style\":\"light\"},\"paper_bgcolor\":\"white\",\"plot_bgcolor\":\"#E5ECF6\",\"polar\":{\"angularaxis\":{\"gridcolor\":\"white\",\"linecolor\":\"white\",\"ticks\":\"\"},\"bgcolor\":\"#E5ECF6\",\"radialaxis\":{\"gridcolor\":\"white\",\"linecolor\":\"white\",\"ticks\":\"\"}},\"scene\":{\"xaxis\":{\"backgroundcolor\":\"#E5ECF6\",\"gridcolor\":\"white\",\"gridwidth\":2,\"linecolor\":\"white\",\"showbackground\":true,\"ticks\":\"\",\"zerolinecolor\":\"white\"},\"yaxis\":{\"backgroundcolor\":\"#E5ECF6\",\"gridcolor\":\"white\",\"gridwidth\":2,\"linecolor\":\"white\",\"showbackground\":true,\"ticks\":\"\",\"zerolinecolor\":\"white\"},\"zaxis\":{\"backgroundcolor\":\"#E5ECF6\",\"gridcolor\":\"white\",\"gridwidth\":2,\"linecolor\":\"white\",\"showbackground\":true,\"ticks\":\"\",\"zerolinecolor\":\"white\"}},\"shapedefaults\":{\"line\":{\"color\":\"#2a3f5f\"}},\"ternary\":{\"aaxis\":{\"gridcolor\":\"white\",\"linecolor\":\"white\",\"ticks\":\"\"},\"baxis\":{\"gridcolor\":\"white\",\"linecolor\":\"white\",\"ticks\":\"\"},\"bgcolor\":\"#E5ECF6\",\"caxis\":{\"gridcolor\":\"white\",\"linecolor\":\"white\",\"ticks\":\"\"}},\"title\":{\"x\":0.05},\"xaxis\":{\"automargin\":true,\"gridcolor\":\"white\",\"linecolor\":\"white\",\"ticks\":\"\",\"title\":{\"standoff\":15},\"zerolinecolor\":\"white\",\"zerolinewidth\":2},\"yaxis\":{\"automargin\":true,\"gridcolor\":\"white\",\"linecolor\":\"white\",\"ticks\":\"\",\"title\":{\"standoff\":15},\"zerolinecolor\":\"white\",\"zerolinewidth\":2}}},\"xaxis\":{\"anchor\":\"y\",\"domain\":[0.0,1.0],\"title\":{\"text\":\"player\"},\"categoryorder\":\"total descending\"},\"yaxis\":{\"anchor\":\"x\",\"domain\":[0.0,1.0],\"title\":{\"text\":\"total_yards\"}},\"legend\":{\"title\":{\"text\":\"team_name\"},\"tracegroupgap\":0},\"title\":{\"text\":\"Top 50 WR Yards 2021\"},\"barmode\":\"stack\"},                        {\"responsive\": true}                    ).then(function(){\n",
       "                            \n",
       "var gd = document.getElementById('19111798-2e2d-464c-859f-7fc65ae3067e');\n",
       "var x = new MutationObserver(function (mutations, observer) {{\n",
       "        var display = window.getComputedStyle(gd).display;\n",
       "        if (!display || display === 'none') {{\n",
       "            console.log([gd, 'removed!']);\n",
       "            Plotly.purge(gd);\n",
       "            observer.disconnect();\n",
       "        }}\n",
       "}});\n",
       "\n",
       "// Listen for the removal of the full notebook cells\n",
       "var notebookContainer = gd.closest('#notebook-container');\n",
       "if (notebookContainer) {{\n",
       "    x.observe(notebookContainer, {childList: true});\n",
       "}}\n",
       "\n",
       "// Listen for the clearing of the current output cell\n",
       "var outputEl = gd.closest('.output');\n",
       "if (outputEl) {{\n",
       "    x.observe(outputEl, {childList: true});\n",
       "}}\n",
       "\n",
       "                        })                };                });            </script>        </div>"
      ]
     },
     "metadata": {},
     "output_type": "display_data"
    }
   ],
   "source": [
    "# Lets take a look at the top 50 wr by yards\n",
    "top50yards = pd.read_sql_query('''\n",
    "\n",
    "SELECT\n",
    "    player,\n",
    "    team_name,\n",
    "    SUM(yards) as 'total_yards',\n",
    "    AVG(avg_depth_of_target) as adt,\n",
    "    SUM(player_game_count),\n",
    "    SUM(avoided_tackles) as broken_tackles\n",
    "    \n",
    "FROM\n",
    "    `2021_wr_stats`\n",
    "WHERE \n",
    "    position = 'WR'\n",
    "GROUP BY player\n",
    "ORDER BY total_yards DESC\n",
    "LIMIT 50\n",
    "\n",
    "''', connection)\n",
    "\n",
    "px.bar(top50yards,\n",
    "      x='player',\n",
    "      y='total_yards',\n",
    "      title='Top 50 WR Yards 2021',\n",
    "       color='team_name',\n",
    "      color_discrete_map=team_colors\n",
    "       ,).update_layout(barmode='stack', xaxis={'categoryorder':'total descending'})"
   ]
  },
  {
   "cell_type": "code",
   "execution_count": 33,
   "id": "36f1af66",
   "metadata": {
    "scrolled": false
   },
   "outputs": [
    {
     "data": {
      "application/vnd.plotly.v1+json": {
       "config": {
        "plotlyServerURL": "https://plot.ly"
       },
       "data": [
        {
         "hovertemplate": "team_name=LA<br>adt=%{x}<br>total_yards=%{y}<br>player=%{text}<extra></extra>",
         "legendgroup": "LA",
         "marker": {
          "color": "#003594",
          "symbol": "circle"
         },
         "mode": "markers+text",
         "name": "LA",
         "orientation": "v",
         "showlegend": true,
         "text": [
          "Cooper Kupp",
          "Van Jefferson"
         ],
         "textposition": "top center",
         "type": "scatter",
         "x": [
          8.735294117647058,
          14.241176470588236
         ],
         "xaxis": "x",
         "y": [
          1947,
          802
         ],
         "yaxis": "y"
        },
        {
         "hovertemplate": "team_name=MIN<br>adt=%{x}<br>total_yards=%{y}<br>player=%{text}<extra></extra>",
         "legendgroup": "MIN",
         "marker": {
          "color": "#4F2683",
          "symbol": "circle"
         },
         "mode": "markers+text",
         "name": "MIN",
         "orientation": "v",
         "showlegend": true,
         "text": [
          "Justin Jefferson",
          "Adam Thielen",
          "K.J. Osborn"
         ],
         "textposition": "top center",
         "type": "scatter",
         "x": [
          13.694117647058823,
          10.361538461538462,
          10.599999999999998
         ],
         "xaxis": "x",
         "y": [
          1616,
          726,
          655
         ],
         "yaxis": "y"
        },
        {
         "hovertemplate": "team_name=GB<br>adt=%{x}<br>total_yards=%{y}<br>player=%{text}<extra></extra>",
         "legendgroup": "GB",
         "marker": {
          "color": "#203731",
          "symbol": "circle"
         },
         "mode": "markers+text",
         "name": "GB",
         "orientation": "v",
         "showlegend": true,
         "text": [
          "Davante Adams"
         ],
         "textposition": "top center",
         "type": "scatter",
         "x": [
          9.1
         ],
         "xaxis": "x",
         "y": [
          1553
         ],
         "yaxis": "y"
        },
        {
         "hovertemplate": "team_name=CIN<br>adt=%{x}<br>total_yards=%{y}<br>player=%{text}<extra></extra>",
         "legendgroup": "CIN",
         "marker": {
          "color": "#FB4F14",
          "symbol": "circle"
         },
         "mode": "markers+text",
         "name": "CIN",
         "orientation": "v",
         "showlegend": true,
         "text": [
          "Ja'Marr Chase",
          "Tee Higgins",
          "Tyler Boyd"
         ],
         "textposition": "top center",
         "type": "scatter",
         "x": [
          13.400000000000002,
          11.62142857142857,
          8.393749999999999
         ],
         "xaxis": "x",
         "y": [
          1455,
          1091,
          828
         ],
         "yaxis": "y"
        },
        {
         "hovertemplate": "team_name=SF<br>adt=%{x}<br>total_yards=%{y}<br>player=%{text}<extra></extra>",
         "legendgroup": "SF",
         "marker": {
          "color": "#AA0000",
          "symbol": "circle"
         },
         "mode": "markers+text",
         "name": "SF",
         "orientation": "v",
         "showlegend": true,
         "text": [
          "Deebo Samuel",
          "Brandon Aiyuk"
         ],
         "textposition": "top center",
         "type": "scatter",
         "x": [
          9.59375,
          10.406249999999998
         ],
         "xaxis": "x",
         "y": [
          1405,
          816
         ],
         "yaxis": "y"
        },
        {
         "hovertemplate": "team_name=KC<br>adt=%{x}<br>total_yards=%{y}<br>player=%{text}<extra></extra>",
         "legendgroup": "KC",
         "marker": {
          "color": "#E31837",
          "symbol": "circle"
         },
         "mode": "markers+text",
         "name": "KC",
         "orientation": "v",
         "showlegend": true,
         "text": [
          "Tyreek Hill",
          "Mecole Hardman"
         ],
         "textposition": "top center",
         "type": "scatter",
         "x": [
          10.811764705882352,
          8.182352941176468
         ],
         "xaxis": "x",
         "y": [
          1239,
          693
         ],
         "yaxis": "y"
        },
        {
         "hovertemplate": "team_name=BUF<br>adt=%{x}<br>total_yards=%{y}<br>player=%{text}<extra></extra>",
         "legendgroup": "BUF",
         "marker": {
          "color": "#00338D",
          "symbol": "circle"
         },
         "mode": "markers+text",
         "name": "BUF",
         "orientation": "v",
         "showlegend": true,
         "text": [
          "Stefon Diggs",
          "Cole Beasley",
          "Emmanuel Sanders"
         ],
         "textposition": "top center",
         "type": "scatter",
         "x": [
          11.958823529411763,
          5.3812500000000005,
          15.371428571428572
         ],
         "xaxis": "x",
         "y": [
          1225,
          693,
          626
         ],
         "yaxis": "y"
        },
        {
         "hovertemplate": "team_name=SEA<br>adt=%{x}<br>total_yards=%{y}<br>player=%{text}<extra></extra>",
         "legendgroup": "SEA",
         "marker": {
          "color": "#69BE28",
          "symbol": "circle"
         },
         "mode": "markers+text",
         "name": "SEA",
         "orientation": "v",
         "showlegend": true,
         "text": [
          "Tyler Lockett",
          "D.K. Metcalf"
         ],
         "textposition": "top center",
         "type": "scatter",
         "x": [
          14.837499999999999,
          13.511764705882353
         ],
         "xaxis": "x",
         "y": [
          1175,
          967
         ],
         "yaxis": "y"
        },
        {
         "hovertemplate": "team_name=PIT<br>adt=%{x}<br>total_yards=%{y}<br>player=%{text}<extra></extra>",
         "legendgroup": "PIT",
         "marker": {
          "color": "#FFB612",
          "symbol": "circle"
         },
         "mode": "markers+text",
         "name": "PIT",
         "orientation": "v",
         "showlegend": true,
         "text": [
          "Diontae Johnson",
          "Chase Claypool"
         ],
         "textposition": "top center",
         "type": "scatter",
         "x": [
          8.950000000000001,
          11.933333333333332
         ],
         "xaxis": "x",
         "y": [
          1161,
          860
         ],
         "yaxis": "y"
        },
        {
         "hovertemplate": "team_name=CAR<br>adt=%{x}<br>total_yards=%{y}<br>player=%{text}<extra></extra>",
         "legendgroup": "CAR",
         "marker": {
          "color": "#0085CA",
          "symbol": "circle"
         },
         "mode": "markers+text",
         "name": "CAR",
         "orientation": "v",
         "showlegend": true,
         "text": [
          "D.J. Moore"
         ],
         "textposition": "top center",
         "type": "scatter",
         "x": [
          10.670588235294117
         ],
         "xaxis": "x",
         "y": [
          1157
         ],
         "yaxis": "y"
        },
        {
         "hovertemplate": "team_name=LAC<br>adt=%{x}<br>total_yards=%{y}<br>player=%{text}<extra></extra>",
         "legendgroup": "LAC",
         "marker": {
          "color": "#0080C6",
          "symbol": "circle"
         },
         "mode": "markers+text",
         "name": "LAC",
         "orientation": "v",
         "showlegend": true,
         "text": [
          "Mike Williams",
          "Keenan Allen"
         ],
         "textposition": "top center",
         "type": "scatter",
         "x": [
          11.725000000000001,
          9.0625
         ],
         "xaxis": "x",
         "y": [
          1146,
          1138
         ],
         "yaxis": "y"
        },
        {
         "hovertemplate": "team_name=TB<br>adt=%{x}<br>total_yards=%{y}<br>player=%{text}<extra></extra>",
         "legendgroup": "TB",
         "marker": {
          "color": "#D50A0A",
          "symbol": "circle"
         },
         "mode": "markers+text",
         "name": "TB",
         "orientation": "v",
         "showlegend": true,
         "text": [
          "Chris Godwin",
          "Mike Evans"
         ],
         "textposition": "top center",
         "type": "scatter",
         "x": [
          7.8,
          13.756250000000001
         ],
         "xaxis": "x",
         "y": [
          1103,
          1035
         ],
         "yaxis": "y"
        },
        {
         "hovertemplate": "team_name=DAL<br>adt=%{x}<br>total_yards=%{y}<br>player=%{text}<extra></extra>",
         "legendgroup": "DAL",
         "marker": {
          "color": "#041E42",
          "symbol": "circle"
         },
         "mode": "markers+text",
         "name": "DAL",
         "orientation": "v",
         "showlegend": true,
         "text": [
          "CeeDee Lamb",
          "Amari Cooper",
          "Cedrick Wilson"
         ],
         "textposition": "top center",
         "type": "scatter",
         "x": [
          11.237499999999999,
          12.026666666666666,
          10.65
         ],
         "xaxis": "x",
         "y": [
          1102,
          865,
          602
         ],
         "yaxis": "y"
        },
        {
         "hovertemplate": "team_name=IND<br>adt=%{x}<br>total_yards=%{y}<br>player=%{text}<extra></extra>",
         "legendgroup": "IND",
         "marker": {
          "color": "#002C5F",
          "symbol": "circle"
         },
         "mode": "markers+text",
         "name": "IND",
         "orientation": "v",
         "showlegend": true,
         "text": [
          "Michael Pittman Jr."
         ],
         "textposition": "top center",
         "type": "scatter",
         "x": [
          10.376470588235298
         ],
         "xaxis": "x",
         "y": [
          1082
         ],
         "yaxis": "y"
        },
        {
         "hovertemplate": "team_name=CHI<br>adt=%{x}<br>total_yards=%{y}<br>player=%{text}<extra></extra>",
         "legendgroup": "CHI",
         "marker": {
          "color": "#C83803",
          "symbol": "circle"
         },
         "mode": "markers+text",
         "name": "CHI",
         "orientation": "v",
         "showlegend": true,
         "text": [
          "Darnell Mooney"
         ],
         "textposition": "top center",
         "type": "scatter",
         "x": [
          11.529411764705882
         ],
         "xaxis": "x",
         "y": [
          1055
         ],
         "yaxis": "y"
        },
        {
         "hovertemplate": "team_name=WAS<br>adt=%{x}<br>total_yards=%{y}<br>player=%{text}<extra></extra>",
         "legendgroup": "WAS",
         "marker": {
          "color": "#5A1414",
          "symbol": "circle"
         },
         "mode": "markers+text",
         "name": "WAS",
         "orientation": "v",
         "showlegend": true,
         "text": [
          "Terry McLaurin"
         ],
         "textposition": "top center",
         "type": "scatter",
         "x": [
          14.370588235294118
         ],
         "xaxis": "x",
         "y": [
          1053
         ],
         "yaxis": "y"
        },
        {
         "hovertemplate": "team_name=LV<br>adt=%{x}<br>total_yards=%{y}<br>player=%{text}<extra></extra>",
         "legendgroup": "LV",
         "marker": {
          "color": "#000000",
          "symbol": "circle"
         },
         "mode": "markers+text",
         "name": "LV",
         "orientation": "v",
         "showlegend": true,
         "text": [
          "Hunter Renfrow"
         ],
         "textposition": "top center",
         "type": "scatter",
         "x": [
          7.011764705882352
         ],
         "xaxis": "x",
         "y": [
          1038
         ],
         "yaxis": "y"
        },
        {
         "hovertemplate": "team_name=HST<br>adt=%{x}<br>total_yards=%{y}<br>player=%{text}<extra></extra>",
         "legendgroup": "HST",
         "marker": {
          "color": "#A71930",
          "symbol": "circle"
         },
         "mode": "markers+text",
         "name": "HST",
         "orientation": "v",
         "showlegend": true,
         "text": [
          "Brandin Cooks"
         ],
         "textposition": "top center",
         "type": "scatter",
         "x": [
          11.0125
         ],
         "xaxis": "x",
         "y": [
          1037
         ],
         "yaxis": "y"
        },
        {
         "hovertemplate": "team_name=MIA<br>adt=%{x}<br>total_yards=%{y}<br>player=%{text}<extra></extra>",
         "legendgroup": "MIA",
         "marker": {
          "color": "#008E97",
          "symbol": "circle"
         },
         "mode": "markers+text",
         "name": "MIA",
         "orientation": "v",
         "showlegend": true,
         "text": [
          "Jaylen Waddle"
         ],
         "textposition": "top center",
         "type": "scatter",
         "x": [
          7.0375
         ],
         "xaxis": "x",
         "y": [
          1015
         ],
         "yaxis": "y"
        },
        {
         "hovertemplate": "team_name=BLT<br>adt=%{x}<br>total_yards=%{y}<br>player=%{text}<extra></extra>",
         "legendgroup": "BLT",
         "marker": {
          "color": "#241773",
          "symbol": "circle"
         },
         "mode": "markers+text",
         "name": "BLT",
         "orientation": "v",
         "showlegend": true,
         "text": [
          "Marquise Brown"
         ],
         "textposition": "top center",
         "type": "scatter",
         "x": [
          12.118750000000002
         ],
         "xaxis": "x",
         "y": [
          1008
         ],
         "yaxis": "y"
        },
        {
         "hovertemplate": "team_name=ARZ<br>adt=%{x}<br>total_yards=%{y}<br>player=%{text}<extra></extra>",
         "legendgroup": "ARZ",
         "marker": {
          "color": "#97233F",
          "symbol": "circle"
         },
         "mode": "markers+text",
         "name": "ARZ",
         "orientation": "v",
         "showlegend": true,
         "text": [
          "Christian Kirk",
          "A.J. Green"
         ],
         "textposition": "top center",
         "type": "scatter",
         "x": [
          12.129411764705884,
          13.362499999999999
         ],
         "xaxis": "x",
         "y": [
          984,
          848
         ],
         "yaxis": "y"
        },
        {
         "hovertemplate": "team_name=PHI<br>adt=%{x}<br>total_yards=%{y}<br>player=%{text}<extra></extra>",
         "legendgroup": "PHI",
         "marker": {
          "color": "#004C54",
          "symbol": "circle"
         },
         "mode": "markers+text",
         "name": "PHI",
         "orientation": "v",
         "showlegend": true,
         "text": [
          "DeVonta Smith",
          "Quez Watkins"
         ],
         "textposition": "top center",
         "type": "scatter",
         "x": [
          15.46470588235294,
          12.706249999999999
         ],
         "xaxis": "x",
         "y": [
          916,
          647
         ],
         "yaxis": "y"
        },
        {
         "hovertemplate": "team_name=DET<br>adt=%{x}<br>total_yards=%{y}<br>player=%{text}<extra></extra>",
         "legendgroup": "DET",
         "marker": {
          "color": "#B0B7BC",
          "symbol": "circle"
         },
         "mode": "markers+text",
         "name": "DET",
         "orientation": "v",
         "showlegend": true,
         "text": [
          "Amon-Ra St. Brown"
         ],
         "textposition": "top center",
         "type": "scatter",
         "x": [
          6.368749999999999
         ],
         "xaxis": "x",
         "y": [
          912
         ],
         "yaxis": "y"
        },
        {
         "hovertemplate": "team_name=TEN<br>adt=%{x}<br>total_yards=%{y}<br>player=%{text}<extra></extra>",
         "legendgroup": "TEN",
         "marker": {
          "color": "#4B92DB",
          "symbol": "circle"
         },
         "mode": "markers+text",
         "name": "TEN",
         "orientation": "v",
         "showlegend": true,
         "text": [
          "A.J. Brown"
         ],
         "textposition": "top center",
         "type": "scatter",
         "x": [
          12.861538461538462
         ],
         "xaxis": "x",
         "y": [
          869
         ],
         "yaxis": "y"
        },
        {
         "hovertemplate": "team_name=NE<br>adt=%{x}<br>total_yards=%{y}<br>player=%{text}<extra></extra>",
         "legendgroup": "NE",
         "marker": {
          "color": "#002244",
          "symbol": "circle"
         },
         "mode": "markers+text",
         "name": "NE",
         "orientation": "v",
         "showlegend": true,
         "text": [
          "Jakobi Meyers",
          "Kendrick Bourne"
         ],
         "textposition": "top center",
         "type": "scatter",
         "x": [
          9.925,
          8.418750000000001
         ],
         "xaxis": "x",
         "y": [
          866,
          800
         ],
         "yaxis": "y"
        },
        {
         "hovertemplate": "team_name=JAX<br>adt=%{x}<br>total_yards=%{y}<br>player=%{text}<extra></extra>",
         "legendgroup": "JAX",
         "marker": {
          "color": "#D7A22A",
          "symbol": "circle"
         },
         "mode": "markers+text",
         "name": "JAX",
         "orientation": "v",
         "showlegend": true,
         "text": [
          "Marvin Jones Jr.",
          "Laviska Shenault Jr."
         ],
         "textposition": "top center",
         "type": "scatter",
         "x": [
          12.352941176470589,
          5.6125
         ],
         "xaxis": "x",
         "y": [
          832,
          619
         ],
         "yaxis": "y"
        },
        {
         "hovertemplate": "team_name=DEN<br>adt=%{x}<br>total_yards=%{y}<br>player=%{text}<extra></extra>",
         "legendgroup": "DEN",
         "marker": {
          "color": "#FB4F14",
          "symbol": "circle"
         },
         "mode": "markers+text",
         "name": "DEN",
         "orientation": "v",
         "showlegend": true,
         "text": [
          "Courtland Sutton",
          "Tim Patrick"
         ],
         "textposition": "top center",
         "type": "scatter",
         "x": [
          14.170588235294119,
          12.362499999999999
         ],
         "xaxis": "x",
         "y": [
          776,
          734
         ],
         "yaxis": "y"
        },
        {
         "hovertemplate": "team_name=ATL<br>adt=%{x}<br>total_yards=%{y}<br>player=%{text}<extra></extra>",
         "legendgroup": "ATL",
         "marker": {
          "color": "#A71930",
          "symbol": "circle"
         },
         "mode": "markers+text",
         "name": "ATL",
         "orientation": "v",
         "showlegend": true,
         "text": [
          "Russell Gage"
         ],
         "textposition": "top center",
         "type": "scatter",
         "x": [
          9.669230769230769
         ],
         "xaxis": "x",
         "y": [
          770
         ],
         "yaxis": "y"
        },
        {
         "hovertemplate": "team_name=NO<br>adt=%{x}<br>total_yards=%{y}<br>player=%{text}<extra></extra>",
         "legendgroup": "NO",
         "marker": {
          "color": "#D3BC8D",
          "symbol": "circle"
         },
         "mode": "markers+text",
         "name": "NO",
         "orientation": "v",
         "showlegend": true,
         "text": [
          "Marquez Callaway"
         ],
         "textposition": "top center",
         "type": "scatter",
         "x": [
          14.8
         ],
         "xaxis": "x",
         "y": [
          698
         ],
         "yaxis": "y"
        },
        {
         "hovertemplate": "team_name=CLV<br>adt=%{x}<br>total_yards=%{y}<br>player=%{text}<extra></extra>",
         "legendgroup": "CLV",
         "marker": {
          "color": "#311D00",
          "symbol": "circle"
         },
         "mode": "markers+text",
         "name": "CLV",
         "orientation": "v",
         "showlegend": true,
         "text": [
          "Donovan Peoples-Jones"
         ],
         "textposition": "top center",
         "type": "scatter",
         "x": [
          15.061538461538465
         ],
         "xaxis": "x",
         "y": [
          597
         ],
         "yaxis": "y"
        }
       ],
       "layout": {
        "legend": {
         "title": {
          "text": "team_name"
         },
         "tracegroupgap": 0
        },
        "template": {
         "data": {
          "bar": [
           {
            "error_x": {
             "color": "#2a3f5f"
            },
            "error_y": {
             "color": "#2a3f5f"
            },
            "marker": {
             "line": {
              "color": "#E5ECF6",
              "width": 0.5
             },
             "pattern": {
              "fillmode": "overlay",
              "size": 10,
              "solidity": 0.2
             }
            },
            "type": "bar"
           }
          ],
          "barpolar": [
           {
            "marker": {
             "line": {
              "color": "#E5ECF6",
              "width": 0.5
             },
             "pattern": {
              "fillmode": "overlay",
              "size": 10,
              "solidity": 0.2
             }
            },
            "type": "barpolar"
           }
          ],
          "carpet": [
           {
            "aaxis": {
             "endlinecolor": "#2a3f5f",
             "gridcolor": "white",
             "linecolor": "white",
             "minorgridcolor": "white",
             "startlinecolor": "#2a3f5f"
            },
            "baxis": {
             "endlinecolor": "#2a3f5f",
             "gridcolor": "white",
             "linecolor": "white",
             "minorgridcolor": "white",
             "startlinecolor": "#2a3f5f"
            },
            "type": "carpet"
           }
          ],
          "choropleth": [
           {
            "colorbar": {
             "outlinewidth": 0,
             "ticks": ""
            },
            "type": "choropleth"
           }
          ],
          "contour": [
           {
            "colorbar": {
             "outlinewidth": 0,
             "ticks": ""
            },
            "colorscale": [
             [
              0,
              "#0d0887"
             ],
             [
              0.1111111111111111,
              "#46039f"
             ],
             [
              0.2222222222222222,
              "#7201a8"
             ],
             [
              0.3333333333333333,
              "#9c179e"
             ],
             [
              0.4444444444444444,
              "#bd3786"
             ],
             [
              0.5555555555555556,
              "#d8576b"
             ],
             [
              0.6666666666666666,
              "#ed7953"
             ],
             [
              0.7777777777777778,
              "#fb9f3a"
             ],
             [
              0.8888888888888888,
              "#fdca26"
             ],
             [
              1,
              "#f0f921"
             ]
            ],
            "type": "contour"
           }
          ],
          "contourcarpet": [
           {
            "colorbar": {
             "outlinewidth": 0,
             "ticks": ""
            },
            "type": "contourcarpet"
           }
          ],
          "heatmap": [
           {
            "colorbar": {
             "outlinewidth": 0,
             "ticks": ""
            },
            "colorscale": [
             [
              0,
              "#0d0887"
             ],
             [
              0.1111111111111111,
              "#46039f"
             ],
             [
              0.2222222222222222,
              "#7201a8"
             ],
             [
              0.3333333333333333,
              "#9c179e"
             ],
             [
              0.4444444444444444,
              "#bd3786"
             ],
             [
              0.5555555555555556,
              "#d8576b"
             ],
             [
              0.6666666666666666,
              "#ed7953"
             ],
             [
              0.7777777777777778,
              "#fb9f3a"
             ],
             [
              0.8888888888888888,
              "#fdca26"
             ],
             [
              1,
              "#f0f921"
             ]
            ],
            "type": "heatmap"
           }
          ],
          "heatmapgl": [
           {
            "colorbar": {
             "outlinewidth": 0,
             "ticks": ""
            },
            "colorscale": [
             [
              0,
              "#0d0887"
             ],
             [
              0.1111111111111111,
              "#46039f"
             ],
             [
              0.2222222222222222,
              "#7201a8"
             ],
             [
              0.3333333333333333,
              "#9c179e"
             ],
             [
              0.4444444444444444,
              "#bd3786"
             ],
             [
              0.5555555555555556,
              "#d8576b"
             ],
             [
              0.6666666666666666,
              "#ed7953"
             ],
             [
              0.7777777777777778,
              "#fb9f3a"
             ],
             [
              0.8888888888888888,
              "#fdca26"
             ],
             [
              1,
              "#f0f921"
             ]
            ],
            "type": "heatmapgl"
           }
          ],
          "histogram": [
           {
            "marker": {
             "pattern": {
              "fillmode": "overlay",
              "size": 10,
              "solidity": 0.2
             }
            },
            "type": "histogram"
           }
          ],
          "histogram2d": [
           {
            "colorbar": {
             "outlinewidth": 0,
             "ticks": ""
            },
            "colorscale": [
             [
              0,
              "#0d0887"
             ],
             [
              0.1111111111111111,
              "#46039f"
             ],
             [
              0.2222222222222222,
              "#7201a8"
             ],
             [
              0.3333333333333333,
              "#9c179e"
             ],
             [
              0.4444444444444444,
              "#bd3786"
             ],
             [
              0.5555555555555556,
              "#d8576b"
             ],
             [
              0.6666666666666666,
              "#ed7953"
             ],
             [
              0.7777777777777778,
              "#fb9f3a"
             ],
             [
              0.8888888888888888,
              "#fdca26"
             ],
             [
              1,
              "#f0f921"
             ]
            ],
            "type": "histogram2d"
           }
          ],
          "histogram2dcontour": [
           {
            "colorbar": {
             "outlinewidth": 0,
             "ticks": ""
            },
            "colorscale": [
             [
              0,
              "#0d0887"
             ],
             [
              0.1111111111111111,
              "#46039f"
             ],
             [
              0.2222222222222222,
              "#7201a8"
             ],
             [
              0.3333333333333333,
              "#9c179e"
             ],
             [
              0.4444444444444444,
              "#bd3786"
             ],
             [
              0.5555555555555556,
              "#d8576b"
             ],
             [
              0.6666666666666666,
              "#ed7953"
             ],
             [
              0.7777777777777778,
              "#fb9f3a"
             ],
             [
              0.8888888888888888,
              "#fdca26"
             ],
             [
              1,
              "#f0f921"
             ]
            ],
            "type": "histogram2dcontour"
           }
          ],
          "mesh3d": [
           {
            "colorbar": {
             "outlinewidth": 0,
             "ticks": ""
            },
            "type": "mesh3d"
           }
          ],
          "parcoords": [
           {
            "line": {
             "colorbar": {
              "outlinewidth": 0,
              "ticks": ""
             }
            },
            "type": "parcoords"
           }
          ],
          "pie": [
           {
            "automargin": true,
            "type": "pie"
           }
          ],
          "scatter": [
           {
            "marker": {
             "colorbar": {
              "outlinewidth": 0,
              "ticks": ""
             }
            },
            "type": "scatter"
           }
          ],
          "scatter3d": [
           {
            "line": {
             "colorbar": {
              "outlinewidth": 0,
              "ticks": ""
             }
            },
            "marker": {
             "colorbar": {
              "outlinewidth": 0,
              "ticks": ""
             }
            },
            "type": "scatter3d"
           }
          ],
          "scattercarpet": [
           {
            "marker": {
             "colorbar": {
              "outlinewidth": 0,
              "ticks": ""
             }
            },
            "type": "scattercarpet"
           }
          ],
          "scattergeo": [
           {
            "marker": {
             "colorbar": {
              "outlinewidth": 0,
              "ticks": ""
             }
            },
            "type": "scattergeo"
           }
          ],
          "scattergl": [
           {
            "marker": {
             "colorbar": {
              "outlinewidth": 0,
              "ticks": ""
             }
            },
            "type": "scattergl"
           }
          ],
          "scattermapbox": [
           {
            "marker": {
             "colorbar": {
              "outlinewidth": 0,
              "ticks": ""
             }
            },
            "type": "scattermapbox"
           }
          ],
          "scatterpolar": [
           {
            "marker": {
             "colorbar": {
              "outlinewidth": 0,
              "ticks": ""
             }
            },
            "type": "scatterpolar"
           }
          ],
          "scatterpolargl": [
           {
            "marker": {
             "colorbar": {
              "outlinewidth": 0,
              "ticks": ""
             }
            },
            "type": "scatterpolargl"
           }
          ],
          "scatterternary": [
           {
            "marker": {
             "colorbar": {
              "outlinewidth": 0,
              "ticks": ""
             }
            },
            "type": "scatterternary"
           }
          ],
          "surface": [
           {
            "colorbar": {
             "outlinewidth": 0,
             "ticks": ""
            },
            "colorscale": [
             [
              0,
              "#0d0887"
             ],
             [
              0.1111111111111111,
              "#46039f"
             ],
             [
              0.2222222222222222,
              "#7201a8"
             ],
             [
              0.3333333333333333,
              "#9c179e"
             ],
             [
              0.4444444444444444,
              "#bd3786"
             ],
             [
              0.5555555555555556,
              "#d8576b"
             ],
             [
              0.6666666666666666,
              "#ed7953"
             ],
             [
              0.7777777777777778,
              "#fb9f3a"
             ],
             [
              0.8888888888888888,
              "#fdca26"
             ],
             [
              1,
              "#f0f921"
             ]
            ],
            "type": "surface"
           }
          ],
          "table": [
           {
            "cells": {
             "fill": {
              "color": "#EBF0F8"
             },
             "line": {
              "color": "white"
             }
            },
            "header": {
             "fill": {
              "color": "#C8D4E3"
             },
             "line": {
              "color": "white"
             }
            },
            "type": "table"
           }
          ]
         },
         "layout": {
          "annotationdefaults": {
           "arrowcolor": "#2a3f5f",
           "arrowhead": 0,
           "arrowwidth": 1
          },
          "autotypenumbers": "strict",
          "coloraxis": {
           "colorbar": {
            "outlinewidth": 0,
            "ticks": ""
           }
          },
          "colorscale": {
           "diverging": [
            [
             0,
             "#8e0152"
            ],
            [
             0.1,
             "#c51b7d"
            ],
            [
             0.2,
             "#de77ae"
            ],
            [
             0.3,
             "#f1b6da"
            ],
            [
             0.4,
             "#fde0ef"
            ],
            [
             0.5,
             "#f7f7f7"
            ],
            [
             0.6,
             "#e6f5d0"
            ],
            [
             0.7,
             "#b8e186"
            ],
            [
             0.8,
             "#7fbc41"
            ],
            [
             0.9,
             "#4d9221"
            ],
            [
             1,
             "#276419"
            ]
           ],
           "sequential": [
            [
             0,
             "#0d0887"
            ],
            [
             0.1111111111111111,
             "#46039f"
            ],
            [
             0.2222222222222222,
             "#7201a8"
            ],
            [
             0.3333333333333333,
             "#9c179e"
            ],
            [
             0.4444444444444444,
             "#bd3786"
            ],
            [
             0.5555555555555556,
             "#d8576b"
            ],
            [
             0.6666666666666666,
             "#ed7953"
            ],
            [
             0.7777777777777778,
             "#fb9f3a"
            ],
            [
             0.8888888888888888,
             "#fdca26"
            ],
            [
             1,
             "#f0f921"
            ]
           ],
           "sequentialminus": [
            [
             0,
             "#0d0887"
            ],
            [
             0.1111111111111111,
             "#46039f"
            ],
            [
             0.2222222222222222,
             "#7201a8"
            ],
            [
             0.3333333333333333,
             "#9c179e"
            ],
            [
             0.4444444444444444,
             "#bd3786"
            ],
            [
             0.5555555555555556,
             "#d8576b"
            ],
            [
             0.6666666666666666,
             "#ed7953"
            ],
            [
             0.7777777777777778,
             "#fb9f3a"
            ],
            [
             0.8888888888888888,
             "#fdca26"
            ],
            [
             1,
             "#f0f921"
            ]
           ]
          },
          "colorway": [
           "#636efa",
           "#EF553B",
           "#00cc96",
           "#ab63fa",
           "#FFA15A",
           "#19d3f3",
           "#FF6692",
           "#B6E880",
           "#FF97FF",
           "#FECB52"
          ],
          "font": {
           "color": "#2a3f5f"
          },
          "geo": {
           "bgcolor": "white",
           "lakecolor": "white",
           "landcolor": "#E5ECF6",
           "showlakes": true,
           "showland": true,
           "subunitcolor": "white"
          },
          "hoverlabel": {
           "align": "left"
          },
          "hovermode": "closest",
          "mapbox": {
           "style": "light"
          },
          "paper_bgcolor": "white",
          "plot_bgcolor": "#E5ECF6",
          "polar": {
           "angularaxis": {
            "gridcolor": "white",
            "linecolor": "white",
            "ticks": ""
           },
           "bgcolor": "#E5ECF6",
           "radialaxis": {
            "gridcolor": "white",
            "linecolor": "white",
            "ticks": ""
           }
          },
          "scene": {
           "xaxis": {
            "backgroundcolor": "#E5ECF6",
            "gridcolor": "white",
            "gridwidth": 2,
            "linecolor": "white",
            "showbackground": true,
            "ticks": "",
            "zerolinecolor": "white"
           },
           "yaxis": {
            "backgroundcolor": "#E5ECF6",
            "gridcolor": "white",
            "gridwidth": 2,
            "linecolor": "white",
            "showbackground": true,
            "ticks": "",
            "zerolinecolor": "white"
           },
           "zaxis": {
            "backgroundcolor": "#E5ECF6",
            "gridcolor": "white",
            "gridwidth": 2,
            "linecolor": "white",
            "showbackground": true,
            "ticks": "",
            "zerolinecolor": "white"
           }
          },
          "shapedefaults": {
           "line": {
            "color": "#2a3f5f"
           }
          },
          "ternary": {
           "aaxis": {
            "gridcolor": "white",
            "linecolor": "white",
            "ticks": ""
           },
           "baxis": {
            "gridcolor": "white",
            "linecolor": "white",
            "ticks": ""
           },
           "bgcolor": "#E5ECF6",
           "caxis": {
            "gridcolor": "white",
            "linecolor": "white",
            "ticks": ""
           }
          },
          "title": {
           "x": 0.05
          },
          "xaxis": {
           "automargin": true,
           "gridcolor": "white",
           "linecolor": "white",
           "ticks": "",
           "title": {
            "standoff": 15
           },
           "zerolinecolor": "white",
           "zerolinewidth": 2
          },
          "yaxis": {
           "automargin": true,
           "gridcolor": "white",
           "linecolor": "white",
           "ticks": "",
           "title": {
            "standoff": 15
           },
           "zerolinecolor": "white",
           "zerolinewidth": 2
          }
         }
        },
        "title": {
         "text": "ADT by yards"
        },
        "xaxis": {
         "anchor": "y",
         "domain": [
          0,
          1
         ],
         "title": {
          "text": "adt"
         }
        },
        "yaxis": {
         "anchor": "x",
         "domain": [
          0,
          1
         ],
         "title": {
          "text": "total_yards"
         }
        }
       }
      },
      "text/html": [
       "<div>                            <div id=\"4caf3a2a-3836-4268-87ec-4366020173a8\" class=\"plotly-graph-div\" style=\"height:525px; width:100%;\"></div>            <script type=\"text/javascript\">                require([\"plotly\"], function(Plotly) {                    window.PLOTLYENV=window.PLOTLYENV || {};                                    if (document.getElementById(\"4caf3a2a-3836-4268-87ec-4366020173a8\")) {                    Plotly.newPlot(                        \"4caf3a2a-3836-4268-87ec-4366020173a8\",                        [{\"hovertemplate\":\"team_name=LA<br>adt=%{x}<br>total_yards=%{y}<br>player=%{text}<extra></extra>\",\"legendgroup\":\"LA\",\"marker\":{\"color\":\"#003594\",\"symbol\":\"circle\"},\"mode\":\"markers+text\",\"name\":\"LA\",\"orientation\":\"v\",\"showlegend\":true,\"text\":[\"Cooper Kupp\",\"Van Jefferson\"],\"x\":[8.735294117647058,14.241176470588236],\"xaxis\":\"x\",\"y\":[1947.0,802.0],\"yaxis\":\"y\",\"type\":\"scatter\",\"textposition\":\"top center\"},{\"hovertemplate\":\"team_name=MIN<br>adt=%{x}<br>total_yards=%{y}<br>player=%{text}<extra></extra>\",\"legendgroup\":\"MIN\",\"marker\":{\"color\":\"#4F2683\",\"symbol\":\"circle\"},\"mode\":\"markers+text\",\"name\":\"MIN\",\"orientation\":\"v\",\"showlegend\":true,\"text\":[\"Justin Jefferson\",\"Adam Thielen\",\"K.J. Osborn\"],\"x\":[13.694117647058823,10.361538461538462,10.599999999999998],\"xaxis\":\"x\",\"y\":[1616.0,726.0,655.0],\"yaxis\":\"y\",\"type\":\"scatter\",\"textposition\":\"top center\"},{\"hovertemplate\":\"team_name=GB<br>adt=%{x}<br>total_yards=%{y}<br>player=%{text}<extra></extra>\",\"legendgroup\":\"GB\",\"marker\":{\"color\":\"#203731\",\"symbol\":\"circle\"},\"mode\":\"markers+text\",\"name\":\"GB\",\"orientation\":\"v\",\"showlegend\":true,\"text\":[\"Davante Adams\"],\"x\":[9.1],\"xaxis\":\"x\",\"y\":[1553.0],\"yaxis\":\"y\",\"type\":\"scatter\",\"textposition\":\"top center\"},{\"hovertemplate\":\"team_name=CIN<br>adt=%{x}<br>total_yards=%{y}<br>player=%{text}<extra></extra>\",\"legendgroup\":\"CIN\",\"marker\":{\"color\":\"#FB4F14\",\"symbol\":\"circle\"},\"mode\":\"markers+text\",\"name\":\"CIN\",\"orientation\":\"v\",\"showlegend\":true,\"text\":[\"Ja'Marr Chase\",\"Tee Higgins\",\"Tyler Boyd\"],\"x\":[13.400000000000002,11.62142857142857,8.393749999999999],\"xaxis\":\"x\",\"y\":[1455.0,1091.0,828.0],\"yaxis\":\"y\",\"type\":\"scatter\",\"textposition\":\"top center\"},{\"hovertemplate\":\"team_name=SF<br>adt=%{x}<br>total_yards=%{y}<br>player=%{text}<extra></extra>\",\"legendgroup\":\"SF\",\"marker\":{\"color\":\"#AA0000\",\"symbol\":\"circle\"},\"mode\":\"markers+text\",\"name\":\"SF\",\"orientation\":\"v\",\"showlegend\":true,\"text\":[\"Deebo Samuel\",\"Brandon Aiyuk\"],\"x\":[9.59375,10.406249999999998],\"xaxis\":\"x\",\"y\":[1405.0,816.0],\"yaxis\":\"y\",\"type\":\"scatter\",\"textposition\":\"top center\"},{\"hovertemplate\":\"team_name=KC<br>adt=%{x}<br>total_yards=%{y}<br>player=%{text}<extra></extra>\",\"legendgroup\":\"KC\",\"marker\":{\"color\":\"#E31837\",\"symbol\":\"circle\"},\"mode\":\"markers+text\",\"name\":\"KC\",\"orientation\":\"v\",\"showlegend\":true,\"text\":[\"Tyreek Hill\",\"Mecole Hardman\"],\"x\":[10.811764705882352,8.182352941176468],\"xaxis\":\"x\",\"y\":[1239.0,693.0],\"yaxis\":\"y\",\"type\":\"scatter\",\"textposition\":\"top center\"},{\"hovertemplate\":\"team_name=BUF<br>adt=%{x}<br>total_yards=%{y}<br>player=%{text}<extra></extra>\",\"legendgroup\":\"BUF\",\"marker\":{\"color\":\"#00338D\",\"symbol\":\"circle\"},\"mode\":\"markers+text\",\"name\":\"BUF\",\"orientation\":\"v\",\"showlegend\":true,\"text\":[\"Stefon Diggs\",\"Cole Beasley\",\"Emmanuel Sanders\"],\"x\":[11.958823529411763,5.3812500000000005,15.371428571428572],\"xaxis\":\"x\",\"y\":[1225.0,693.0,626.0],\"yaxis\":\"y\",\"type\":\"scatter\",\"textposition\":\"top center\"},{\"hovertemplate\":\"team_name=SEA<br>adt=%{x}<br>total_yards=%{y}<br>player=%{text}<extra></extra>\",\"legendgroup\":\"SEA\",\"marker\":{\"color\":\"#69BE28\",\"symbol\":\"circle\"},\"mode\":\"markers+text\",\"name\":\"SEA\",\"orientation\":\"v\",\"showlegend\":true,\"text\":[\"Tyler Lockett\",\"D.K. Metcalf\"],\"x\":[14.837499999999999,13.511764705882353],\"xaxis\":\"x\",\"y\":[1175.0,967.0],\"yaxis\":\"y\",\"type\":\"scatter\",\"textposition\":\"top center\"},{\"hovertemplate\":\"team_name=PIT<br>adt=%{x}<br>total_yards=%{y}<br>player=%{text}<extra></extra>\",\"legendgroup\":\"PIT\",\"marker\":{\"color\":\"#FFB612\",\"symbol\":\"circle\"},\"mode\":\"markers+text\",\"name\":\"PIT\",\"orientation\":\"v\",\"showlegend\":true,\"text\":[\"Diontae Johnson\",\"Chase Claypool\"],\"x\":[8.950000000000001,11.933333333333332],\"xaxis\":\"x\",\"y\":[1161.0,860.0],\"yaxis\":\"y\",\"type\":\"scatter\",\"textposition\":\"top center\"},{\"hovertemplate\":\"team_name=CAR<br>adt=%{x}<br>total_yards=%{y}<br>player=%{text}<extra></extra>\",\"legendgroup\":\"CAR\",\"marker\":{\"color\":\"#0085CA\",\"symbol\":\"circle\"},\"mode\":\"markers+text\",\"name\":\"CAR\",\"orientation\":\"v\",\"showlegend\":true,\"text\":[\"D.J. Moore\"],\"x\":[10.670588235294117],\"xaxis\":\"x\",\"y\":[1157.0],\"yaxis\":\"y\",\"type\":\"scatter\",\"textposition\":\"top center\"},{\"hovertemplate\":\"team_name=LAC<br>adt=%{x}<br>total_yards=%{y}<br>player=%{text}<extra></extra>\",\"legendgroup\":\"LAC\",\"marker\":{\"color\":\"#0080C6\",\"symbol\":\"circle\"},\"mode\":\"markers+text\",\"name\":\"LAC\",\"orientation\":\"v\",\"showlegend\":true,\"text\":[\"Mike Williams\",\"Keenan Allen\"],\"x\":[11.725000000000001,9.0625],\"xaxis\":\"x\",\"y\":[1146.0,1138.0],\"yaxis\":\"y\",\"type\":\"scatter\",\"textposition\":\"top center\"},{\"hovertemplate\":\"team_name=TB<br>adt=%{x}<br>total_yards=%{y}<br>player=%{text}<extra></extra>\",\"legendgroup\":\"TB\",\"marker\":{\"color\":\"#D50A0A\",\"symbol\":\"circle\"},\"mode\":\"markers+text\",\"name\":\"TB\",\"orientation\":\"v\",\"showlegend\":true,\"text\":[\"Chris Godwin\",\"Mike Evans\"],\"x\":[7.8,13.756250000000001],\"xaxis\":\"x\",\"y\":[1103.0,1035.0],\"yaxis\":\"y\",\"type\":\"scatter\",\"textposition\":\"top center\"},{\"hovertemplate\":\"team_name=DAL<br>adt=%{x}<br>total_yards=%{y}<br>player=%{text}<extra></extra>\",\"legendgroup\":\"DAL\",\"marker\":{\"color\":\"#041E42\",\"symbol\":\"circle\"},\"mode\":\"markers+text\",\"name\":\"DAL\",\"orientation\":\"v\",\"showlegend\":true,\"text\":[\"CeeDee Lamb\",\"Amari Cooper\",\"Cedrick Wilson\"],\"x\":[11.237499999999999,12.026666666666666,10.65],\"xaxis\":\"x\",\"y\":[1102.0,865.0,602.0],\"yaxis\":\"y\",\"type\":\"scatter\",\"textposition\":\"top center\"},{\"hovertemplate\":\"team_name=IND<br>adt=%{x}<br>total_yards=%{y}<br>player=%{text}<extra></extra>\",\"legendgroup\":\"IND\",\"marker\":{\"color\":\"#002C5F\",\"symbol\":\"circle\"},\"mode\":\"markers+text\",\"name\":\"IND\",\"orientation\":\"v\",\"showlegend\":true,\"text\":[\"Michael Pittman Jr.\"],\"x\":[10.376470588235298],\"xaxis\":\"x\",\"y\":[1082.0],\"yaxis\":\"y\",\"type\":\"scatter\",\"textposition\":\"top center\"},{\"hovertemplate\":\"team_name=CHI<br>adt=%{x}<br>total_yards=%{y}<br>player=%{text}<extra></extra>\",\"legendgroup\":\"CHI\",\"marker\":{\"color\":\"#C83803\",\"symbol\":\"circle\"},\"mode\":\"markers+text\",\"name\":\"CHI\",\"orientation\":\"v\",\"showlegend\":true,\"text\":[\"Darnell Mooney\"],\"x\":[11.529411764705882],\"xaxis\":\"x\",\"y\":[1055.0],\"yaxis\":\"y\",\"type\":\"scatter\",\"textposition\":\"top center\"},{\"hovertemplate\":\"team_name=WAS<br>adt=%{x}<br>total_yards=%{y}<br>player=%{text}<extra></extra>\",\"legendgroup\":\"WAS\",\"marker\":{\"color\":\"#5A1414\",\"symbol\":\"circle\"},\"mode\":\"markers+text\",\"name\":\"WAS\",\"orientation\":\"v\",\"showlegend\":true,\"text\":[\"Terry McLaurin\"],\"x\":[14.370588235294118],\"xaxis\":\"x\",\"y\":[1053.0],\"yaxis\":\"y\",\"type\":\"scatter\",\"textposition\":\"top center\"},{\"hovertemplate\":\"team_name=LV<br>adt=%{x}<br>total_yards=%{y}<br>player=%{text}<extra></extra>\",\"legendgroup\":\"LV\",\"marker\":{\"color\":\"#000000\",\"symbol\":\"circle\"},\"mode\":\"markers+text\",\"name\":\"LV\",\"orientation\":\"v\",\"showlegend\":true,\"text\":[\"Hunter Renfrow\"],\"x\":[7.011764705882352],\"xaxis\":\"x\",\"y\":[1038.0],\"yaxis\":\"y\",\"type\":\"scatter\",\"textposition\":\"top center\"},{\"hovertemplate\":\"team_name=HST<br>adt=%{x}<br>total_yards=%{y}<br>player=%{text}<extra></extra>\",\"legendgroup\":\"HST\",\"marker\":{\"color\":\"#A71930\",\"symbol\":\"circle\"},\"mode\":\"markers+text\",\"name\":\"HST\",\"orientation\":\"v\",\"showlegend\":true,\"text\":[\"Brandin Cooks\"],\"x\":[11.0125],\"xaxis\":\"x\",\"y\":[1037.0],\"yaxis\":\"y\",\"type\":\"scatter\",\"textposition\":\"top center\"},{\"hovertemplate\":\"team_name=MIA<br>adt=%{x}<br>total_yards=%{y}<br>player=%{text}<extra></extra>\",\"legendgroup\":\"MIA\",\"marker\":{\"color\":\"#008E97\",\"symbol\":\"circle\"},\"mode\":\"markers+text\",\"name\":\"MIA\",\"orientation\":\"v\",\"showlegend\":true,\"text\":[\"Jaylen Waddle\"],\"x\":[7.0375],\"xaxis\":\"x\",\"y\":[1015.0],\"yaxis\":\"y\",\"type\":\"scatter\",\"textposition\":\"top center\"},{\"hovertemplate\":\"team_name=BLT<br>adt=%{x}<br>total_yards=%{y}<br>player=%{text}<extra></extra>\",\"legendgroup\":\"BLT\",\"marker\":{\"color\":\"#241773\",\"symbol\":\"circle\"},\"mode\":\"markers+text\",\"name\":\"BLT\",\"orientation\":\"v\",\"showlegend\":true,\"text\":[\"Marquise Brown\"],\"x\":[12.118750000000002],\"xaxis\":\"x\",\"y\":[1008.0],\"yaxis\":\"y\",\"type\":\"scatter\",\"textposition\":\"top center\"},{\"hovertemplate\":\"team_name=ARZ<br>adt=%{x}<br>total_yards=%{y}<br>player=%{text}<extra></extra>\",\"legendgroup\":\"ARZ\",\"marker\":{\"color\":\"#97233F\",\"symbol\":\"circle\"},\"mode\":\"markers+text\",\"name\":\"ARZ\",\"orientation\":\"v\",\"showlegend\":true,\"text\":[\"Christian Kirk\",\"A.J. Green\"],\"x\":[12.129411764705884,13.362499999999999],\"xaxis\":\"x\",\"y\":[984.0,848.0],\"yaxis\":\"y\",\"type\":\"scatter\",\"textposition\":\"top center\"},{\"hovertemplate\":\"team_name=PHI<br>adt=%{x}<br>total_yards=%{y}<br>player=%{text}<extra></extra>\",\"legendgroup\":\"PHI\",\"marker\":{\"color\":\"#004C54\",\"symbol\":\"circle\"},\"mode\":\"markers+text\",\"name\":\"PHI\",\"orientation\":\"v\",\"showlegend\":true,\"text\":[\"DeVonta Smith\",\"Quez Watkins\"],\"x\":[15.46470588235294,12.706249999999999],\"xaxis\":\"x\",\"y\":[916.0,647.0],\"yaxis\":\"y\",\"type\":\"scatter\",\"textposition\":\"top center\"},{\"hovertemplate\":\"team_name=DET<br>adt=%{x}<br>total_yards=%{y}<br>player=%{text}<extra></extra>\",\"legendgroup\":\"DET\",\"marker\":{\"color\":\"#B0B7BC\",\"symbol\":\"circle\"},\"mode\":\"markers+text\",\"name\":\"DET\",\"orientation\":\"v\",\"showlegend\":true,\"text\":[\"Amon-Ra St. Brown\"],\"x\":[6.368749999999999],\"xaxis\":\"x\",\"y\":[912.0],\"yaxis\":\"y\",\"type\":\"scatter\",\"textposition\":\"top center\"},{\"hovertemplate\":\"team_name=TEN<br>adt=%{x}<br>total_yards=%{y}<br>player=%{text}<extra></extra>\",\"legendgroup\":\"TEN\",\"marker\":{\"color\":\"#4B92DB\",\"symbol\":\"circle\"},\"mode\":\"markers+text\",\"name\":\"TEN\",\"orientation\":\"v\",\"showlegend\":true,\"text\":[\"A.J. Brown\"],\"x\":[12.861538461538462],\"xaxis\":\"x\",\"y\":[869.0],\"yaxis\":\"y\",\"type\":\"scatter\",\"textposition\":\"top center\"},{\"hovertemplate\":\"team_name=NE<br>adt=%{x}<br>total_yards=%{y}<br>player=%{text}<extra></extra>\",\"legendgroup\":\"NE\",\"marker\":{\"color\":\"#002244\",\"symbol\":\"circle\"},\"mode\":\"markers+text\",\"name\":\"NE\",\"orientation\":\"v\",\"showlegend\":true,\"text\":[\"Jakobi Meyers\",\"Kendrick Bourne\"],\"x\":[9.925,8.418750000000001],\"xaxis\":\"x\",\"y\":[866.0,800.0],\"yaxis\":\"y\",\"type\":\"scatter\",\"textposition\":\"top center\"},{\"hovertemplate\":\"team_name=JAX<br>adt=%{x}<br>total_yards=%{y}<br>player=%{text}<extra></extra>\",\"legendgroup\":\"JAX\",\"marker\":{\"color\":\"#D7A22A\",\"symbol\":\"circle\"},\"mode\":\"markers+text\",\"name\":\"JAX\",\"orientation\":\"v\",\"showlegend\":true,\"text\":[\"Marvin Jones Jr.\",\"Laviska Shenault Jr.\"],\"x\":[12.352941176470589,5.6125],\"xaxis\":\"x\",\"y\":[832.0,619.0],\"yaxis\":\"y\",\"type\":\"scatter\",\"textposition\":\"top center\"},{\"hovertemplate\":\"team_name=DEN<br>adt=%{x}<br>total_yards=%{y}<br>player=%{text}<extra></extra>\",\"legendgroup\":\"DEN\",\"marker\":{\"color\":\"#FB4F14\",\"symbol\":\"circle\"},\"mode\":\"markers+text\",\"name\":\"DEN\",\"orientation\":\"v\",\"showlegend\":true,\"text\":[\"Courtland Sutton\",\"Tim Patrick\"],\"x\":[14.170588235294119,12.362499999999999],\"xaxis\":\"x\",\"y\":[776.0,734.0],\"yaxis\":\"y\",\"type\":\"scatter\",\"textposition\":\"top center\"},{\"hovertemplate\":\"team_name=ATL<br>adt=%{x}<br>total_yards=%{y}<br>player=%{text}<extra></extra>\",\"legendgroup\":\"ATL\",\"marker\":{\"color\":\"#A71930\",\"symbol\":\"circle\"},\"mode\":\"markers+text\",\"name\":\"ATL\",\"orientation\":\"v\",\"showlegend\":true,\"text\":[\"Russell Gage\"],\"x\":[9.669230769230769],\"xaxis\":\"x\",\"y\":[770.0],\"yaxis\":\"y\",\"type\":\"scatter\",\"textposition\":\"top center\"},{\"hovertemplate\":\"team_name=NO<br>adt=%{x}<br>total_yards=%{y}<br>player=%{text}<extra></extra>\",\"legendgroup\":\"NO\",\"marker\":{\"color\":\"#D3BC8D\",\"symbol\":\"circle\"},\"mode\":\"markers+text\",\"name\":\"NO\",\"orientation\":\"v\",\"showlegend\":true,\"text\":[\"Marquez Callaway\"],\"x\":[14.8],\"xaxis\":\"x\",\"y\":[698.0],\"yaxis\":\"y\",\"type\":\"scatter\",\"textposition\":\"top center\"},{\"hovertemplate\":\"team_name=CLV<br>adt=%{x}<br>total_yards=%{y}<br>player=%{text}<extra></extra>\",\"legendgroup\":\"CLV\",\"marker\":{\"color\":\"#311D00\",\"symbol\":\"circle\"},\"mode\":\"markers+text\",\"name\":\"CLV\",\"orientation\":\"v\",\"showlegend\":true,\"text\":[\"Donovan Peoples-Jones\"],\"x\":[15.061538461538465],\"xaxis\":\"x\",\"y\":[597.0],\"yaxis\":\"y\",\"type\":\"scatter\",\"textposition\":\"top center\"}],                        {\"template\":{\"data\":{\"bar\":[{\"error_x\":{\"color\":\"#2a3f5f\"},\"error_y\":{\"color\":\"#2a3f5f\"},\"marker\":{\"line\":{\"color\":\"#E5ECF6\",\"width\":0.5},\"pattern\":{\"fillmode\":\"overlay\",\"size\":10,\"solidity\":0.2}},\"type\":\"bar\"}],\"barpolar\":[{\"marker\":{\"line\":{\"color\":\"#E5ECF6\",\"width\":0.5},\"pattern\":{\"fillmode\":\"overlay\",\"size\":10,\"solidity\":0.2}},\"type\":\"barpolar\"}],\"carpet\":[{\"aaxis\":{\"endlinecolor\":\"#2a3f5f\",\"gridcolor\":\"white\",\"linecolor\":\"white\",\"minorgridcolor\":\"white\",\"startlinecolor\":\"#2a3f5f\"},\"baxis\":{\"endlinecolor\":\"#2a3f5f\",\"gridcolor\":\"white\",\"linecolor\":\"white\",\"minorgridcolor\":\"white\",\"startlinecolor\":\"#2a3f5f\"},\"type\":\"carpet\"}],\"choropleth\":[{\"colorbar\":{\"outlinewidth\":0,\"ticks\":\"\"},\"type\":\"choropleth\"}],\"contour\":[{\"colorbar\":{\"outlinewidth\":0,\"ticks\":\"\"},\"colorscale\":[[0.0,\"#0d0887\"],[0.1111111111111111,\"#46039f\"],[0.2222222222222222,\"#7201a8\"],[0.3333333333333333,\"#9c179e\"],[0.4444444444444444,\"#bd3786\"],[0.5555555555555556,\"#d8576b\"],[0.6666666666666666,\"#ed7953\"],[0.7777777777777778,\"#fb9f3a\"],[0.8888888888888888,\"#fdca26\"],[1.0,\"#f0f921\"]],\"type\":\"contour\"}],\"contourcarpet\":[{\"colorbar\":{\"outlinewidth\":0,\"ticks\":\"\"},\"type\":\"contourcarpet\"}],\"heatmap\":[{\"colorbar\":{\"outlinewidth\":0,\"ticks\":\"\"},\"colorscale\":[[0.0,\"#0d0887\"],[0.1111111111111111,\"#46039f\"],[0.2222222222222222,\"#7201a8\"],[0.3333333333333333,\"#9c179e\"],[0.4444444444444444,\"#bd3786\"],[0.5555555555555556,\"#d8576b\"],[0.6666666666666666,\"#ed7953\"],[0.7777777777777778,\"#fb9f3a\"],[0.8888888888888888,\"#fdca26\"],[1.0,\"#f0f921\"]],\"type\":\"heatmap\"}],\"heatmapgl\":[{\"colorbar\":{\"outlinewidth\":0,\"ticks\":\"\"},\"colorscale\":[[0.0,\"#0d0887\"],[0.1111111111111111,\"#46039f\"],[0.2222222222222222,\"#7201a8\"],[0.3333333333333333,\"#9c179e\"],[0.4444444444444444,\"#bd3786\"],[0.5555555555555556,\"#d8576b\"],[0.6666666666666666,\"#ed7953\"],[0.7777777777777778,\"#fb9f3a\"],[0.8888888888888888,\"#fdca26\"],[1.0,\"#f0f921\"]],\"type\":\"heatmapgl\"}],\"histogram\":[{\"marker\":{\"pattern\":{\"fillmode\":\"overlay\",\"size\":10,\"solidity\":0.2}},\"type\":\"histogram\"}],\"histogram2d\":[{\"colorbar\":{\"outlinewidth\":0,\"ticks\":\"\"},\"colorscale\":[[0.0,\"#0d0887\"],[0.1111111111111111,\"#46039f\"],[0.2222222222222222,\"#7201a8\"],[0.3333333333333333,\"#9c179e\"],[0.4444444444444444,\"#bd3786\"],[0.5555555555555556,\"#d8576b\"],[0.6666666666666666,\"#ed7953\"],[0.7777777777777778,\"#fb9f3a\"],[0.8888888888888888,\"#fdca26\"],[1.0,\"#f0f921\"]],\"type\":\"histogram2d\"}],\"histogram2dcontour\":[{\"colorbar\":{\"outlinewidth\":0,\"ticks\":\"\"},\"colorscale\":[[0.0,\"#0d0887\"],[0.1111111111111111,\"#46039f\"],[0.2222222222222222,\"#7201a8\"],[0.3333333333333333,\"#9c179e\"],[0.4444444444444444,\"#bd3786\"],[0.5555555555555556,\"#d8576b\"],[0.6666666666666666,\"#ed7953\"],[0.7777777777777778,\"#fb9f3a\"],[0.8888888888888888,\"#fdca26\"],[1.0,\"#f0f921\"]],\"type\":\"histogram2dcontour\"}],\"mesh3d\":[{\"colorbar\":{\"outlinewidth\":0,\"ticks\":\"\"},\"type\":\"mesh3d\"}],\"parcoords\":[{\"line\":{\"colorbar\":{\"outlinewidth\":0,\"ticks\":\"\"}},\"type\":\"parcoords\"}],\"pie\":[{\"automargin\":true,\"type\":\"pie\"}],\"scatter\":[{\"marker\":{\"colorbar\":{\"outlinewidth\":0,\"ticks\":\"\"}},\"type\":\"scatter\"}],\"scatter3d\":[{\"line\":{\"colorbar\":{\"outlinewidth\":0,\"ticks\":\"\"}},\"marker\":{\"colorbar\":{\"outlinewidth\":0,\"ticks\":\"\"}},\"type\":\"scatter3d\"}],\"scattercarpet\":[{\"marker\":{\"colorbar\":{\"outlinewidth\":0,\"ticks\":\"\"}},\"type\":\"scattercarpet\"}],\"scattergeo\":[{\"marker\":{\"colorbar\":{\"outlinewidth\":0,\"ticks\":\"\"}},\"type\":\"scattergeo\"}],\"scattergl\":[{\"marker\":{\"colorbar\":{\"outlinewidth\":0,\"ticks\":\"\"}},\"type\":\"scattergl\"}],\"scattermapbox\":[{\"marker\":{\"colorbar\":{\"outlinewidth\":0,\"ticks\":\"\"}},\"type\":\"scattermapbox\"}],\"scatterpolar\":[{\"marker\":{\"colorbar\":{\"outlinewidth\":0,\"ticks\":\"\"}},\"type\":\"scatterpolar\"}],\"scatterpolargl\":[{\"marker\":{\"colorbar\":{\"outlinewidth\":0,\"ticks\":\"\"}},\"type\":\"scatterpolargl\"}],\"scatterternary\":[{\"marker\":{\"colorbar\":{\"outlinewidth\":0,\"ticks\":\"\"}},\"type\":\"scatterternary\"}],\"surface\":[{\"colorbar\":{\"outlinewidth\":0,\"ticks\":\"\"},\"colorscale\":[[0.0,\"#0d0887\"],[0.1111111111111111,\"#46039f\"],[0.2222222222222222,\"#7201a8\"],[0.3333333333333333,\"#9c179e\"],[0.4444444444444444,\"#bd3786\"],[0.5555555555555556,\"#d8576b\"],[0.6666666666666666,\"#ed7953\"],[0.7777777777777778,\"#fb9f3a\"],[0.8888888888888888,\"#fdca26\"],[1.0,\"#f0f921\"]],\"type\":\"surface\"}],\"table\":[{\"cells\":{\"fill\":{\"color\":\"#EBF0F8\"},\"line\":{\"color\":\"white\"}},\"header\":{\"fill\":{\"color\":\"#C8D4E3\"},\"line\":{\"color\":\"white\"}},\"type\":\"table\"}]},\"layout\":{\"annotationdefaults\":{\"arrowcolor\":\"#2a3f5f\",\"arrowhead\":0,\"arrowwidth\":1},\"autotypenumbers\":\"strict\",\"coloraxis\":{\"colorbar\":{\"outlinewidth\":0,\"ticks\":\"\"}},\"colorscale\":{\"diverging\":[[0,\"#8e0152\"],[0.1,\"#c51b7d\"],[0.2,\"#de77ae\"],[0.3,\"#f1b6da\"],[0.4,\"#fde0ef\"],[0.5,\"#f7f7f7\"],[0.6,\"#e6f5d0\"],[0.7,\"#b8e186\"],[0.8,\"#7fbc41\"],[0.9,\"#4d9221\"],[1,\"#276419\"]],\"sequential\":[[0.0,\"#0d0887\"],[0.1111111111111111,\"#46039f\"],[0.2222222222222222,\"#7201a8\"],[0.3333333333333333,\"#9c179e\"],[0.4444444444444444,\"#bd3786\"],[0.5555555555555556,\"#d8576b\"],[0.6666666666666666,\"#ed7953\"],[0.7777777777777778,\"#fb9f3a\"],[0.8888888888888888,\"#fdca26\"],[1.0,\"#f0f921\"]],\"sequentialminus\":[[0.0,\"#0d0887\"],[0.1111111111111111,\"#46039f\"],[0.2222222222222222,\"#7201a8\"],[0.3333333333333333,\"#9c179e\"],[0.4444444444444444,\"#bd3786\"],[0.5555555555555556,\"#d8576b\"],[0.6666666666666666,\"#ed7953\"],[0.7777777777777778,\"#fb9f3a\"],[0.8888888888888888,\"#fdca26\"],[1.0,\"#f0f921\"]]},\"colorway\":[\"#636efa\",\"#EF553B\",\"#00cc96\",\"#ab63fa\",\"#FFA15A\",\"#19d3f3\",\"#FF6692\",\"#B6E880\",\"#FF97FF\",\"#FECB52\"],\"font\":{\"color\":\"#2a3f5f\"},\"geo\":{\"bgcolor\":\"white\",\"lakecolor\":\"white\",\"landcolor\":\"#E5ECF6\",\"showlakes\":true,\"showland\":true,\"subunitcolor\":\"white\"},\"hoverlabel\":{\"align\":\"left\"},\"hovermode\":\"closest\",\"mapbox\":{\"style\":\"light\"},\"paper_bgcolor\":\"white\",\"plot_bgcolor\":\"#E5ECF6\",\"polar\":{\"angularaxis\":{\"gridcolor\":\"white\",\"linecolor\":\"white\",\"ticks\":\"\"},\"bgcolor\":\"#E5ECF6\",\"radialaxis\":{\"gridcolor\":\"white\",\"linecolor\":\"white\",\"ticks\":\"\"}},\"scene\":{\"xaxis\":{\"backgroundcolor\":\"#E5ECF6\",\"gridcolor\":\"white\",\"gridwidth\":2,\"linecolor\":\"white\",\"showbackground\":true,\"ticks\":\"\",\"zerolinecolor\":\"white\"},\"yaxis\":{\"backgroundcolor\":\"#E5ECF6\",\"gridcolor\":\"white\",\"gridwidth\":2,\"linecolor\":\"white\",\"showbackground\":true,\"ticks\":\"\",\"zerolinecolor\":\"white\"},\"zaxis\":{\"backgroundcolor\":\"#E5ECF6\",\"gridcolor\":\"white\",\"gridwidth\":2,\"linecolor\":\"white\",\"showbackground\":true,\"ticks\":\"\",\"zerolinecolor\":\"white\"}},\"shapedefaults\":{\"line\":{\"color\":\"#2a3f5f\"}},\"ternary\":{\"aaxis\":{\"gridcolor\":\"white\",\"linecolor\":\"white\",\"ticks\":\"\"},\"baxis\":{\"gridcolor\":\"white\",\"linecolor\":\"white\",\"ticks\":\"\"},\"bgcolor\":\"#E5ECF6\",\"caxis\":{\"gridcolor\":\"white\",\"linecolor\":\"white\",\"ticks\":\"\"}},\"title\":{\"x\":0.05},\"xaxis\":{\"automargin\":true,\"gridcolor\":\"white\",\"linecolor\":\"white\",\"ticks\":\"\",\"title\":{\"standoff\":15},\"zerolinecolor\":\"white\",\"zerolinewidth\":2},\"yaxis\":{\"automargin\":true,\"gridcolor\":\"white\",\"linecolor\":\"white\",\"ticks\":\"\",\"title\":{\"standoff\":15},\"zerolinecolor\":\"white\",\"zerolinewidth\":2}}},\"xaxis\":{\"anchor\":\"y\",\"domain\":[0.0,1.0],\"title\":{\"text\":\"adt\"}},\"yaxis\":{\"anchor\":\"x\",\"domain\":[0.0,1.0],\"title\":{\"text\":\"total_yards\"}},\"legend\":{\"title\":{\"text\":\"team_name\"},\"tracegroupgap\":0},\"title\":{\"text\":\"ADT by yards\"}},                        {\"responsive\": true}                    ).then(function(){\n",
       "                            \n",
       "var gd = document.getElementById('4caf3a2a-3836-4268-87ec-4366020173a8');\n",
       "var x = new MutationObserver(function (mutations, observer) {{\n",
       "        var display = window.getComputedStyle(gd).display;\n",
       "        if (!display || display === 'none') {{\n",
       "            console.log([gd, 'removed!']);\n",
       "            Plotly.purge(gd);\n",
       "            observer.disconnect();\n",
       "        }}\n",
       "}});\n",
       "\n",
       "// Listen for the removal of the full notebook cells\n",
       "var notebookContainer = gd.closest('#notebook-container');\n",
       "if (notebookContainer) {{\n",
       "    x.observe(notebookContainer, {childList: true});\n",
       "}}\n",
       "\n",
       "// Listen for the clearing of the current output cell\n",
       "var outputEl = gd.closest('.output');\n",
       "if (outputEl) {{\n",
       "    x.observe(outputEl, {childList: true});\n",
       "}}\n",
       "\n",
       "                        })                };                });            </script>        </div>"
      ]
     },
     "metadata": {},
     "output_type": "display_data"
    }
   ],
   "source": [
    "# Now lets see how avg depth of target effected overall yardage\n",
    "px.scatter(top50yards,\n",
    "           x='adt',\n",
    "           y='total_yards',\n",
    "           title='ADT by yards',\n",
    "           color='team_name',\n",
    "           color_discrete_map=team_colors,\n",
    "           text='player').update_traces(textposition='top center')"
   ]
  },
  {
   "cell_type": "code",
   "execution_count": 34,
   "id": "963403bf",
   "metadata": {},
   "outputs": [
    {
     "data": {
      "application/vnd.plotly.v1+json": {
       "config": {
        "plotlyServerURL": "https://plot.ly"
       },
       "data": [
        {
         "hovertemplate": "team_name=LA<br>broken_tackles=%{x}<br>total_yards=%{y}<br>player=%{text}<extra></extra>",
         "legendgroup": "LA",
         "marker": {
          "color": "#003594",
          "symbol": "circle"
         },
         "mode": "markers+text",
         "name": "LA",
         "orientation": "v",
         "showlegend": true,
         "text": [
          "Cooper Kupp",
          "Van Jefferson"
         ],
         "textposition": "top center",
         "type": "scatter",
         "x": [
          24,
          2
         ],
         "xaxis": "x",
         "y": [
          1947,
          802
         ],
         "yaxis": "y"
        },
        {
         "hovertemplate": "team_name=MIN<br>broken_tackles=%{x}<br>total_yards=%{y}<br>player=%{text}<extra></extra>",
         "legendgroup": "MIN",
         "marker": {
          "color": "#4F2683",
          "symbol": "circle"
         },
         "mode": "markers+text",
         "name": "MIN",
         "orientation": "v",
         "showlegend": true,
         "text": [
          "Justin Jefferson",
          "Adam Thielen",
          "K.J. Osborn"
         ],
         "textposition": "top center",
         "type": "scatter",
         "x": [
          9,
          7,
          1
         ],
         "xaxis": "x",
         "y": [
          1616,
          726,
          655
         ],
         "yaxis": "y"
        },
        {
         "hovertemplate": "team_name=GB<br>broken_tackles=%{x}<br>total_yards=%{y}<br>player=%{text}<extra></extra>",
         "legendgroup": "GB",
         "marker": {
          "color": "#203731",
          "symbol": "circle"
         },
         "mode": "markers+text",
         "name": "GB",
         "orientation": "v",
         "showlegend": true,
         "text": [
          "Davante Adams"
         ],
         "textposition": "top center",
         "type": "scatter",
         "x": [
          13
         ],
         "xaxis": "x",
         "y": [
          1553
         ],
         "yaxis": "y"
        },
        {
         "hovertemplate": "team_name=CIN<br>broken_tackles=%{x}<br>total_yards=%{y}<br>player=%{text}<extra></extra>",
         "legendgroup": "CIN",
         "marker": {
          "color": "#FB4F14",
          "symbol": "circle"
         },
         "mode": "markers+text",
         "name": "CIN",
         "orientation": "v",
         "showlegend": true,
         "text": [
          "Ja'Marr Chase",
          "Tee Higgins",
          "Tyler Boyd"
         ],
         "textposition": "top center",
         "type": "scatter",
         "x": [
          19,
          10,
          9
         ],
         "xaxis": "x",
         "y": [
          1455,
          1091,
          828
         ],
         "yaxis": "y"
        },
        {
         "hovertemplate": "team_name=SF<br>broken_tackles=%{x}<br>total_yards=%{y}<br>player=%{text}<extra></extra>",
         "legendgroup": "SF",
         "marker": {
          "color": "#AA0000",
          "symbol": "circle"
         },
         "mode": "markers+text",
         "name": "SF",
         "orientation": "v",
         "showlegend": true,
         "text": [
          "Deebo Samuel",
          "Brandon Aiyuk"
         ],
         "textposition": "top center",
         "type": "scatter",
         "x": [
          20,
          18
         ],
         "xaxis": "x",
         "y": [
          1405,
          816
         ],
         "yaxis": "y"
        },
        {
         "hovertemplate": "team_name=KC<br>broken_tackles=%{x}<br>total_yards=%{y}<br>player=%{text}<extra></extra>",
         "legendgroup": "KC",
         "marker": {
          "color": "#E31837",
          "symbol": "circle"
         },
         "mode": "markers+text",
         "name": "KC",
         "orientation": "v",
         "showlegend": true,
         "text": [
          "Tyreek Hill",
          "Mecole Hardman"
         ],
         "textposition": "top center",
         "type": "scatter",
         "x": [
          12,
          12
         ],
         "xaxis": "x",
         "y": [
          1239,
          693
         ],
         "yaxis": "y"
        },
        {
         "hovertemplate": "team_name=BUF<br>broken_tackles=%{x}<br>total_yards=%{y}<br>player=%{text}<extra></extra>",
         "legendgroup": "BUF",
         "marker": {
          "color": "#00338D",
          "symbol": "circle"
         },
         "mode": "markers+text",
         "name": "BUF",
         "orientation": "v",
         "showlegend": true,
         "text": [
          "Stefon Diggs",
          "Cole Beasley",
          "Emmanuel Sanders"
         ],
         "textposition": "top center",
         "type": "scatter",
         "x": [
          16,
          3,
          0
         ],
         "xaxis": "x",
         "y": [
          1225,
          693,
          626
         ],
         "yaxis": "y"
        },
        {
         "hovertemplate": "team_name=SEA<br>broken_tackles=%{x}<br>total_yards=%{y}<br>player=%{text}<extra></extra>",
         "legendgroup": "SEA",
         "marker": {
          "color": "#69BE28",
          "symbol": "circle"
         },
         "mode": "markers+text",
         "name": "SEA",
         "orientation": "v",
         "showlegend": true,
         "text": [
          "Tyler Lockett",
          "D.K. Metcalf"
         ],
         "textposition": "top center",
         "type": "scatter",
         "x": [
          3,
          9
         ],
         "xaxis": "x",
         "y": [
          1175,
          967
         ],
         "yaxis": "y"
        },
        {
         "hovertemplate": "team_name=PIT<br>broken_tackles=%{x}<br>total_yards=%{y}<br>player=%{text}<extra></extra>",
         "legendgroup": "PIT",
         "marker": {
          "color": "#FFB612",
          "symbol": "circle"
         },
         "mode": "markers+text",
         "name": "PIT",
         "orientation": "v",
         "showlegend": true,
         "text": [
          "Diontae Johnson",
          "Chase Claypool"
         ],
         "textposition": "top center",
         "type": "scatter",
         "x": [
          16,
          7
         ],
         "xaxis": "x",
         "y": [
          1161,
          860
         ],
         "yaxis": "y"
        },
        {
         "hovertemplate": "team_name=CAR<br>broken_tackles=%{x}<br>total_yards=%{y}<br>player=%{text}<extra></extra>",
         "legendgroup": "CAR",
         "marker": {
          "color": "#0085CA",
          "symbol": "circle"
         },
         "mode": "markers+text",
         "name": "CAR",
         "orientation": "v",
         "showlegend": true,
         "text": [
          "D.J. Moore"
         ],
         "textposition": "top center",
         "type": "scatter",
         "x": [
          7
         ],
         "xaxis": "x",
         "y": [
          1157
         ],
         "yaxis": "y"
        },
        {
         "hovertemplate": "team_name=LAC<br>broken_tackles=%{x}<br>total_yards=%{y}<br>player=%{text}<extra></extra>",
         "legendgroup": "LAC",
         "marker": {
          "color": "#0080C6",
          "symbol": "circle"
         },
         "mode": "markers+text",
         "name": "LAC",
         "orientation": "v",
         "showlegend": true,
         "text": [
          "Mike Williams",
          "Keenan Allen"
         ],
         "textposition": "top center",
         "type": "scatter",
         "x": [
          7,
          3
         ],
         "xaxis": "x",
         "y": [
          1146,
          1138
         ],
         "yaxis": "y"
        },
        {
         "hovertemplate": "team_name=TB<br>broken_tackles=%{x}<br>total_yards=%{y}<br>player=%{text}<extra></extra>",
         "legendgroup": "TB",
         "marker": {
          "color": "#D50A0A",
          "symbol": "circle"
         },
         "mode": "markers+text",
         "name": "TB",
         "orientation": "v",
         "showlegend": true,
         "text": [
          "Chris Godwin",
          "Mike Evans"
         ],
         "textposition": "top center",
         "type": "scatter",
         "x": [
          15,
          7
         ],
         "xaxis": "x",
         "y": [
          1103,
          1035
         ],
         "yaxis": "y"
        },
        {
         "hovertemplate": "team_name=DAL<br>broken_tackles=%{x}<br>total_yards=%{y}<br>player=%{text}<extra></extra>",
         "legendgroup": "DAL",
         "marker": {
          "color": "#041E42",
          "symbol": "circle"
         },
         "mode": "markers+text",
         "name": "DAL",
         "orientation": "v",
         "showlegend": true,
         "text": [
          "CeeDee Lamb",
          "Amari Cooper",
          "Cedrick Wilson"
         ],
         "textposition": "top center",
         "type": "scatter",
         "x": [
          19,
          10,
          3
         ],
         "xaxis": "x",
         "y": [
          1102,
          865,
          602
         ],
         "yaxis": "y"
        },
        {
         "hovertemplate": "team_name=IND<br>broken_tackles=%{x}<br>total_yards=%{y}<br>player=%{text}<extra></extra>",
         "legendgroup": "IND",
         "marker": {
          "color": "#002C5F",
          "symbol": "circle"
         },
         "mode": "markers+text",
         "name": "IND",
         "orientation": "v",
         "showlegend": true,
         "text": [
          "Michael Pittman Jr."
         ],
         "textposition": "top center",
         "type": "scatter",
         "x": [
          9
         ],
         "xaxis": "x",
         "y": [
          1082
         ],
         "yaxis": "y"
        },
        {
         "hovertemplate": "team_name=CHI<br>broken_tackles=%{x}<br>total_yards=%{y}<br>player=%{text}<extra></extra>",
         "legendgroup": "CHI",
         "marker": {
          "color": "#C83803",
          "symbol": "circle"
         },
         "mode": "markers+text",
         "name": "CHI",
         "orientation": "v",
         "showlegend": true,
         "text": [
          "Darnell Mooney"
         ],
         "textposition": "top center",
         "type": "scatter",
         "x": [
          10
         ],
         "xaxis": "x",
         "y": [
          1055
         ],
         "yaxis": "y"
        },
        {
         "hovertemplate": "team_name=WAS<br>broken_tackles=%{x}<br>total_yards=%{y}<br>player=%{text}<extra></extra>",
         "legendgroup": "WAS",
         "marker": {
          "color": "#5A1414",
          "symbol": "circle"
         },
         "mode": "markers+text",
         "name": "WAS",
         "orientation": "v",
         "showlegend": true,
         "text": [
          "Terry McLaurin"
         ],
         "textposition": "top center",
         "type": "scatter",
         "x": [
          7
         ],
         "xaxis": "x",
         "y": [
          1053
         ],
         "yaxis": "y"
        },
        {
         "hovertemplate": "team_name=LV<br>broken_tackles=%{x}<br>total_yards=%{y}<br>player=%{text}<extra></extra>",
         "legendgroup": "LV",
         "marker": {
          "color": "#000000",
          "symbol": "circle"
         },
         "mode": "markers+text",
         "name": "LV",
         "orientation": "v",
         "showlegend": true,
         "text": [
          "Hunter Renfrow"
         ],
         "textposition": "top center",
         "type": "scatter",
         "x": [
          14
         ],
         "xaxis": "x",
         "y": [
          1038
         ],
         "yaxis": "y"
        },
        {
         "hovertemplate": "team_name=HST<br>broken_tackles=%{x}<br>total_yards=%{y}<br>player=%{text}<extra></extra>",
         "legendgroup": "HST",
         "marker": {
          "color": "#A71930",
          "symbol": "circle"
         },
         "mode": "markers+text",
         "name": "HST",
         "orientation": "v",
         "showlegend": true,
         "text": [
          "Brandin Cooks"
         ],
         "textposition": "top center",
         "type": "scatter",
         "x": [
          6
         ],
         "xaxis": "x",
         "y": [
          1037
         ],
         "yaxis": "y"
        },
        {
         "hovertemplate": "team_name=MIA<br>broken_tackles=%{x}<br>total_yards=%{y}<br>player=%{text}<extra></extra>",
         "legendgroup": "MIA",
         "marker": {
          "color": "#008E97",
          "symbol": "circle"
         },
         "mode": "markers+text",
         "name": "MIA",
         "orientation": "v",
         "showlegend": true,
         "text": [
          "Jaylen Waddle"
         ],
         "textposition": "top center",
         "type": "scatter",
         "x": [
          11
         ],
         "xaxis": "x",
         "y": [
          1015
         ],
         "yaxis": "y"
        },
        {
         "hovertemplate": "team_name=BLT<br>broken_tackles=%{x}<br>total_yards=%{y}<br>player=%{text}<extra></extra>",
         "legendgroup": "BLT",
         "marker": {
          "color": "#241773",
          "symbol": "circle"
         },
         "mode": "markers+text",
         "name": "BLT",
         "orientation": "v",
         "showlegend": true,
         "text": [
          "Marquise Brown"
         ],
         "textposition": "top center",
         "type": "scatter",
         "x": [
          8
         ],
         "xaxis": "x",
         "y": [
          1008
         ],
         "yaxis": "y"
        },
        {
         "hovertemplate": "team_name=ARZ<br>broken_tackles=%{x}<br>total_yards=%{y}<br>player=%{text}<extra></extra>",
         "legendgroup": "ARZ",
         "marker": {
          "color": "#97233F",
          "symbol": "circle"
         },
         "mode": "markers+text",
         "name": "ARZ",
         "orientation": "v",
         "showlegend": true,
         "text": [
          "Christian Kirk",
          "A.J. Green"
         ],
         "textposition": "top center",
         "type": "scatter",
         "x": [
          3,
          7
         ],
         "xaxis": "x",
         "y": [
          984,
          848
         ],
         "yaxis": "y"
        },
        {
         "hovertemplate": "team_name=PHI<br>broken_tackles=%{x}<br>total_yards=%{y}<br>player=%{text}<extra></extra>",
         "legendgroup": "PHI",
         "marker": {
          "color": "#004C54",
          "symbol": "circle"
         },
         "mode": "markers+text",
         "name": "PHI",
         "orientation": "v",
         "showlegend": true,
         "text": [
          "DeVonta Smith",
          "Quez Watkins"
         ],
         "textposition": "top center",
         "type": "scatter",
         "x": [
          6,
          8
         ],
         "xaxis": "x",
         "y": [
          916,
          647
         ],
         "yaxis": "y"
        },
        {
         "hovertemplate": "team_name=DET<br>broken_tackles=%{x}<br>total_yards=%{y}<br>player=%{text}<extra></extra>",
         "legendgroup": "DET",
         "marker": {
          "color": "#B0B7BC",
          "symbol": "circle"
         },
         "mode": "markers+text",
         "name": "DET",
         "orientation": "v",
         "showlegend": true,
         "text": [
          "Amon-Ra St. Brown"
         ],
         "textposition": "top center",
         "type": "scatter",
         "x": [
          8
         ],
         "xaxis": "x",
         "y": [
          912
         ],
         "yaxis": "y"
        },
        {
         "hovertemplate": "team_name=TEN<br>broken_tackles=%{x}<br>total_yards=%{y}<br>player=%{text}<extra></extra>",
         "legendgroup": "TEN",
         "marker": {
          "color": "#4B92DB",
          "symbol": "circle"
         },
         "mode": "markers+text",
         "name": "TEN",
         "orientation": "v",
         "showlegend": true,
         "text": [
          "A.J. Brown"
         ],
         "textposition": "top center",
         "type": "scatter",
         "x": [
          7
         ],
         "xaxis": "x",
         "y": [
          869
         ],
         "yaxis": "y"
        },
        {
         "hovertemplate": "team_name=NE<br>broken_tackles=%{x}<br>total_yards=%{y}<br>player=%{text}<extra></extra>",
         "legendgroup": "NE",
         "marker": {
          "color": "#002244",
          "symbol": "circle"
         },
         "mode": "markers+text",
         "name": "NE",
         "orientation": "v",
         "showlegend": true,
         "text": [
          "Jakobi Meyers",
          "Kendrick Bourne"
         ],
         "textposition": "top center",
         "type": "scatter",
         "x": [
          4,
          11
         ],
         "xaxis": "x",
         "y": [
          866,
          800
         ],
         "yaxis": "y"
        },
        {
         "hovertemplate": "team_name=JAX<br>broken_tackles=%{x}<br>total_yards=%{y}<br>player=%{text}<extra></extra>",
         "legendgroup": "JAX",
         "marker": {
          "color": "#D7A22A",
          "symbol": "circle"
         },
         "mode": "markers+text",
         "name": "JAX",
         "orientation": "v",
         "showlegend": true,
         "text": [
          "Marvin Jones Jr.",
          "Laviska Shenault Jr."
         ],
         "textposition": "top center",
         "type": "scatter",
         "x": [
          3,
          20
         ],
         "xaxis": "x",
         "y": [
          832,
          619
         ],
         "yaxis": "y"
        },
        {
         "hovertemplate": "team_name=DEN<br>broken_tackles=%{x}<br>total_yards=%{y}<br>player=%{text}<extra></extra>",
         "legendgroup": "DEN",
         "marker": {
          "color": "#FB4F14",
          "symbol": "circle"
         },
         "mode": "markers+text",
         "name": "DEN",
         "orientation": "v",
         "showlegend": true,
         "text": [
          "Courtland Sutton",
          "Tim Patrick"
         ],
         "textposition": "top center",
         "type": "scatter",
         "x": [
          3,
          6
         ],
         "xaxis": "x",
         "y": [
          776,
          734
         ],
         "yaxis": "y"
        },
        {
         "hovertemplate": "team_name=ATL<br>broken_tackles=%{x}<br>total_yards=%{y}<br>player=%{text}<extra></extra>",
         "legendgroup": "ATL",
         "marker": {
          "color": "#A71930",
          "symbol": "circle"
         },
         "mode": "markers+text",
         "name": "ATL",
         "orientation": "v",
         "showlegend": true,
         "text": [
          "Russell Gage"
         ],
         "textposition": "top center",
         "type": "scatter",
         "x": [
          7
         ],
         "xaxis": "x",
         "y": [
          770
         ],
         "yaxis": "y"
        },
        {
         "hovertemplate": "team_name=NO<br>broken_tackles=%{x}<br>total_yards=%{y}<br>player=%{text}<extra></extra>",
         "legendgroup": "NO",
         "marker": {
          "color": "#D3BC8D",
          "symbol": "circle"
         },
         "mode": "markers+text",
         "name": "NO",
         "orientation": "v",
         "showlegend": true,
         "text": [
          "Marquez Callaway"
         ],
         "textposition": "top center",
         "type": "scatter",
         "x": [
          5
         ],
         "xaxis": "x",
         "y": [
          698
         ],
         "yaxis": "y"
        },
        {
         "hovertemplate": "team_name=CLV<br>broken_tackles=%{x}<br>total_yards=%{y}<br>player=%{text}<extra></extra>",
         "legendgroup": "CLV",
         "marker": {
          "color": "#311D00",
          "symbol": "circle"
         },
         "mode": "markers+text",
         "name": "CLV",
         "orientation": "v",
         "showlegend": true,
         "text": [
          "Donovan Peoples-Jones"
         ],
         "textposition": "top center",
         "type": "scatter",
         "x": [
          2
         ],
         "xaxis": "x",
         "y": [
          597
         ],
         "yaxis": "y"
        }
       ],
       "layout": {
        "legend": {
         "title": {
          "text": "team_name"
         },
         "tracegroupgap": 0
        },
        "template": {
         "data": {
          "bar": [
           {
            "error_x": {
             "color": "#2a3f5f"
            },
            "error_y": {
             "color": "#2a3f5f"
            },
            "marker": {
             "line": {
              "color": "#E5ECF6",
              "width": 0.5
             },
             "pattern": {
              "fillmode": "overlay",
              "size": 10,
              "solidity": 0.2
             }
            },
            "type": "bar"
           }
          ],
          "barpolar": [
           {
            "marker": {
             "line": {
              "color": "#E5ECF6",
              "width": 0.5
             },
             "pattern": {
              "fillmode": "overlay",
              "size": 10,
              "solidity": 0.2
             }
            },
            "type": "barpolar"
           }
          ],
          "carpet": [
           {
            "aaxis": {
             "endlinecolor": "#2a3f5f",
             "gridcolor": "white",
             "linecolor": "white",
             "minorgridcolor": "white",
             "startlinecolor": "#2a3f5f"
            },
            "baxis": {
             "endlinecolor": "#2a3f5f",
             "gridcolor": "white",
             "linecolor": "white",
             "minorgridcolor": "white",
             "startlinecolor": "#2a3f5f"
            },
            "type": "carpet"
           }
          ],
          "choropleth": [
           {
            "colorbar": {
             "outlinewidth": 0,
             "ticks": ""
            },
            "type": "choropleth"
           }
          ],
          "contour": [
           {
            "colorbar": {
             "outlinewidth": 0,
             "ticks": ""
            },
            "colorscale": [
             [
              0,
              "#0d0887"
             ],
             [
              0.1111111111111111,
              "#46039f"
             ],
             [
              0.2222222222222222,
              "#7201a8"
             ],
             [
              0.3333333333333333,
              "#9c179e"
             ],
             [
              0.4444444444444444,
              "#bd3786"
             ],
             [
              0.5555555555555556,
              "#d8576b"
             ],
             [
              0.6666666666666666,
              "#ed7953"
             ],
             [
              0.7777777777777778,
              "#fb9f3a"
             ],
             [
              0.8888888888888888,
              "#fdca26"
             ],
             [
              1,
              "#f0f921"
             ]
            ],
            "type": "contour"
           }
          ],
          "contourcarpet": [
           {
            "colorbar": {
             "outlinewidth": 0,
             "ticks": ""
            },
            "type": "contourcarpet"
           }
          ],
          "heatmap": [
           {
            "colorbar": {
             "outlinewidth": 0,
             "ticks": ""
            },
            "colorscale": [
             [
              0,
              "#0d0887"
             ],
             [
              0.1111111111111111,
              "#46039f"
             ],
             [
              0.2222222222222222,
              "#7201a8"
             ],
             [
              0.3333333333333333,
              "#9c179e"
             ],
             [
              0.4444444444444444,
              "#bd3786"
             ],
             [
              0.5555555555555556,
              "#d8576b"
             ],
             [
              0.6666666666666666,
              "#ed7953"
             ],
             [
              0.7777777777777778,
              "#fb9f3a"
             ],
             [
              0.8888888888888888,
              "#fdca26"
             ],
             [
              1,
              "#f0f921"
             ]
            ],
            "type": "heatmap"
           }
          ],
          "heatmapgl": [
           {
            "colorbar": {
             "outlinewidth": 0,
             "ticks": ""
            },
            "colorscale": [
             [
              0,
              "#0d0887"
             ],
             [
              0.1111111111111111,
              "#46039f"
             ],
             [
              0.2222222222222222,
              "#7201a8"
             ],
             [
              0.3333333333333333,
              "#9c179e"
             ],
             [
              0.4444444444444444,
              "#bd3786"
             ],
             [
              0.5555555555555556,
              "#d8576b"
             ],
             [
              0.6666666666666666,
              "#ed7953"
             ],
             [
              0.7777777777777778,
              "#fb9f3a"
             ],
             [
              0.8888888888888888,
              "#fdca26"
             ],
             [
              1,
              "#f0f921"
             ]
            ],
            "type": "heatmapgl"
           }
          ],
          "histogram": [
           {
            "marker": {
             "pattern": {
              "fillmode": "overlay",
              "size": 10,
              "solidity": 0.2
             }
            },
            "type": "histogram"
           }
          ],
          "histogram2d": [
           {
            "colorbar": {
             "outlinewidth": 0,
             "ticks": ""
            },
            "colorscale": [
             [
              0,
              "#0d0887"
             ],
             [
              0.1111111111111111,
              "#46039f"
             ],
             [
              0.2222222222222222,
              "#7201a8"
             ],
             [
              0.3333333333333333,
              "#9c179e"
             ],
             [
              0.4444444444444444,
              "#bd3786"
             ],
             [
              0.5555555555555556,
              "#d8576b"
             ],
             [
              0.6666666666666666,
              "#ed7953"
             ],
             [
              0.7777777777777778,
              "#fb9f3a"
             ],
             [
              0.8888888888888888,
              "#fdca26"
             ],
             [
              1,
              "#f0f921"
             ]
            ],
            "type": "histogram2d"
           }
          ],
          "histogram2dcontour": [
           {
            "colorbar": {
             "outlinewidth": 0,
             "ticks": ""
            },
            "colorscale": [
             [
              0,
              "#0d0887"
             ],
             [
              0.1111111111111111,
              "#46039f"
             ],
             [
              0.2222222222222222,
              "#7201a8"
             ],
             [
              0.3333333333333333,
              "#9c179e"
             ],
             [
              0.4444444444444444,
              "#bd3786"
             ],
             [
              0.5555555555555556,
              "#d8576b"
             ],
             [
              0.6666666666666666,
              "#ed7953"
             ],
             [
              0.7777777777777778,
              "#fb9f3a"
             ],
             [
              0.8888888888888888,
              "#fdca26"
             ],
             [
              1,
              "#f0f921"
             ]
            ],
            "type": "histogram2dcontour"
           }
          ],
          "mesh3d": [
           {
            "colorbar": {
             "outlinewidth": 0,
             "ticks": ""
            },
            "type": "mesh3d"
           }
          ],
          "parcoords": [
           {
            "line": {
             "colorbar": {
              "outlinewidth": 0,
              "ticks": ""
             }
            },
            "type": "parcoords"
           }
          ],
          "pie": [
           {
            "automargin": true,
            "type": "pie"
           }
          ],
          "scatter": [
           {
            "marker": {
             "colorbar": {
              "outlinewidth": 0,
              "ticks": ""
             }
            },
            "type": "scatter"
           }
          ],
          "scatter3d": [
           {
            "line": {
             "colorbar": {
              "outlinewidth": 0,
              "ticks": ""
             }
            },
            "marker": {
             "colorbar": {
              "outlinewidth": 0,
              "ticks": ""
             }
            },
            "type": "scatter3d"
           }
          ],
          "scattercarpet": [
           {
            "marker": {
             "colorbar": {
              "outlinewidth": 0,
              "ticks": ""
             }
            },
            "type": "scattercarpet"
           }
          ],
          "scattergeo": [
           {
            "marker": {
             "colorbar": {
              "outlinewidth": 0,
              "ticks": ""
             }
            },
            "type": "scattergeo"
           }
          ],
          "scattergl": [
           {
            "marker": {
             "colorbar": {
              "outlinewidth": 0,
              "ticks": ""
             }
            },
            "type": "scattergl"
           }
          ],
          "scattermapbox": [
           {
            "marker": {
             "colorbar": {
              "outlinewidth": 0,
              "ticks": ""
             }
            },
            "type": "scattermapbox"
           }
          ],
          "scatterpolar": [
           {
            "marker": {
             "colorbar": {
              "outlinewidth": 0,
              "ticks": ""
             }
            },
            "type": "scatterpolar"
           }
          ],
          "scatterpolargl": [
           {
            "marker": {
             "colorbar": {
              "outlinewidth": 0,
              "ticks": ""
             }
            },
            "type": "scatterpolargl"
           }
          ],
          "scatterternary": [
           {
            "marker": {
             "colorbar": {
              "outlinewidth": 0,
              "ticks": ""
             }
            },
            "type": "scatterternary"
           }
          ],
          "surface": [
           {
            "colorbar": {
             "outlinewidth": 0,
             "ticks": ""
            },
            "colorscale": [
             [
              0,
              "#0d0887"
             ],
             [
              0.1111111111111111,
              "#46039f"
             ],
             [
              0.2222222222222222,
              "#7201a8"
             ],
             [
              0.3333333333333333,
              "#9c179e"
             ],
             [
              0.4444444444444444,
              "#bd3786"
             ],
             [
              0.5555555555555556,
              "#d8576b"
             ],
             [
              0.6666666666666666,
              "#ed7953"
             ],
             [
              0.7777777777777778,
              "#fb9f3a"
             ],
             [
              0.8888888888888888,
              "#fdca26"
             ],
             [
              1,
              "#f0f921"
             ]
            ],
            "type": "surface"
           }
          ],
          "table": [
           {
            "cells": {
             "fill": {
              "color": "#EBF0F8"
             },
             "line": {
              "color": "white"
             }
            },
            "header": {
             "fill": {
              "color": "#C8D4E3"
             },
             "line": {
              "color": "white"
             }
            },
            "type": "table"
           }
          ]
         },
         "layout": {
          "annotationdefaults": {
           "arrowcolor": "#2a3f5f",
           "arrowhead": 0,
           "arrowwidth": 1
          },
          "autotypenumbers": "strict",
          "coloraxis": {
           "colorbar": {
            "outlinewidth": 0,
            "ticks": ""
           }
          },
          "colorscale": {
           "diverging": [
            [
             0,
             "#8e0152"
            ],
            [
             0.1,
             "#c51b7d"
            ],
            [
             0.2,
             "#de77ae"
            ],
            [
             0.3,
             "#f1b6da"
            ],
            [
             0.4,
             "#fde0ef"
            ],
            [
             0.5,
             "#f7f7f7"
            ],
            [
             0.6,
             "#e6f5d0"
            ],
            [
             0.7,
             "#b8e186"
            ],
            [
             0.8,
             "#7fbc41"
            ],
            [
             0.9,
             "#4d9221"
            ],
            [
             1,
             "#276419"
            ]
           ],
           "sequential": [
            [
             0,
             "#0d0887"
            ],
            [
             0.1111111111111111,
             "#46039f"
            ],
            [
             0.2222222222222222,
             "#7201a8"
            ],
            [
             0.3333333333333333,
             "#9c179e"
            ],
            [
             0.4444444444444444,
             "#bd3786"
            ],
            [
             0.5555555555555556,
             "#d8576b"
            ],
            [
             0.6666666666666666,
             "#ed7953"
            ],
            [
             0.7777777777777778,
             "#fb9f3a"
            ],
            [
             0.8888888888888888,
             "#fdca26"
            ],
            [
             1,
             "#f0f921"
            ]
           ],
           "sequentialminus": [
            [
             0,
             "#0d0887"
            ],
            [
             0.1111111111111111,
             "#46039f"
            ],
            [
             0.2222222222222222,
             "#7201a8"
            ],
            [
             0.3333333333333333,
             "#9c179e"
            ],
            [
             0.4444444444444444,
             "#bd3786"
            ],
            [
             0.5555555555555556,
             "#d8576b"
            ],
            [
             0.6666666666666666,
             "#ed7953"
            ],
            [
             0.7777777777777778,
             "#fb9f3a"
            ],
            [
             0.8888888888888888,
             "#fdca26"
            ],
            [
             1,
             "#f0f921"
            ]
           ]
          },
          "colorway": [
           "#636efa",
           "#EF553B",
           "#00cc96",
           "#ab63fa",
           "#FFA15A",
           "#19d3f3",
           "#FF6692",
           "#B6E880",
           "#FF97FF",
           "#FECB52"
          ],
          "font": {
           "color": "#2a3f5f"
          },
          "geo": {
           "bgcolor": "white",
           "lakecolor": "white",
           "landcolor": "#E5ECF6",
           "showlakes": true,
           "showland": true,
           "subunitcolor": "white"
          },
          "hoverlabel": {
           "align": "left"
          },
          "hovermode": "closest",
          "mapbox": {
           "style": "light"
          },
          "paper_bgcolor": "white",
          "plot_bgcolor": "#E5ECF6",
          "polar": {
           "angularaxis": {
            "gridcolor": "white",
            "linecolor": "white",
            "ticks": ""
           },
           "bgcolor": "#E5ECF6",
           "radialaxis": {
            "gridcolor": "white",
            "linecolor": "white",
            "ticks": ""
           }
          },
          "scene": {
           "xaxis": {
            "backgroundcolor": "#E5ECF6",
            "gridcolor": "white",
            "gridwidth": 2,
            "linecolor": "white",
            "showbackground": true,
            "ticks": "",
            "zerolinecolor": "white"
           },
           "yaxis": {
            "backgroundcolor": "#E5ECF6",
            "gridcolor": "white",
            "gridwidth": 2,
            "linecolor": "white",
            "showbackground": true,
            "ticks": "",
            "zerolinecolor": "white"
           },
           "zaxis": {
            "backgroundcolor": "#E5ECF6",
            "gridcolor": "white",
            "gridwidth": 2,
            "linecolor": "white",
            "showbackground": true,
            "ticks": "",
            "zerolinecolor": "white"
           }
          },
          "shapedefaults": {
           "line": {
            "color": "#2a3f5f"
           }
          },
          "ternary": {
           "aaxis": {
            "gridcolor": "white",
            "linecolor": "white",
            "ticks": ""
           },
           "baxis": {
            "gridcolor": "white",
            "linecolor": "white",
            "ticks": ""
           },
           "bgcolor": "#E5ECF6",
           "caxis": {
            "gridcolor": "white",
            "linecolor": "white",
            "ticks": ""
           }
          },
          "title": {
           "x": 0.05
          },
          "xaxis": {
           "automargin": true,
           "gridcolor": "white",
           "linecolor": "white",
           "ticks": "",
           "title": {
            "standoff": 15
           },
           "zerolinecolor": "white",
           "zerolinewidth": 2
          },
          "yaxis": {
           "automargin": true,
           "gridcolor": "white",
           "linecolor": "white",
           "ticks": "",
           "title": {
            "standoff": 15
           },
           "zerolinecolor": "white",
           "zerolinewidth": 2
          }
         }
        },
        "title": {
         "text": "ADT by yards"
        },
        "xaxis": {
         "anchor": "y",
         "domain": [
          0,
          1
         ],
         "title": {
          "text": "broken_tackles"
         }
        },
        "yaxis": {
         "anchor": "x",
         "domain": [
          0,
          1
         ],
         "title": {
          "text": "total_yards"
         }
        }
       }
      },
      "text/html": [
       "<div>                            <div id=\"797c3ae0-9253-455d-b2cc-8aeb63fff203\" class=\"plotly-graph-div\" style=\"height:525px; width:100%;\"></div>            <script type=\"text/javascript\">                require([\"plotly\"], function(Plotly) {                    window.PLOTLYENV=window.PLOTLYENV || {};                                    if (document.getElementById(\"797c3ae0-9253-455d-b2cc-8aeb63fff203\")) {                    Plotly.newPlot(                        \"797c3ae0-9253-455d-b2cc-8aeb63fff203\",                        [{\"hovertemplate\":\"team_name=LA<br>broken_tackles=%{x}<br>total_yards=%{y}<br>player=%{text}<extra></extra>\",\"legendgroup\":\"LA\",\"marker\":{\"color\":\"#003594\",\"symbol\":\"circle\"},\"mode\":\"markers+text\",\"name\":\"LA\",\"orientation\":\"v\",\"showlegend\":true,\"text\":[\"Cooper Kupp\",\"Van Jefferson\"],\"x\":[24.0,2.0],\"xaxis\":\"x\",\"y\":[1947.0,802.0],\"yaxis\":\"y\",\"type\":\"scatter\",\"textposition\":\"top center\"},{\"hovertemplate\":\"team_name=MIN<br>broken_tackles=%{x}<br>total_yards=%{y}<br>player=%{text}<extra></extra>\",\"legendgroup\":\"MIN\",\"marker\":{\"color\":\"#4F2683\",\"symbol\":\"circle\"},\"mode\":\"markers+text\",\"name\":\"MIN\",\"orientation\":\"v\",\"showlegend\":true,\"text\":[\"Justin Jefferson\",\"Adam Thielen\",\"K.J. Osborn\"],\"x\":[9.0,7.0,1.0],\"xaxis\":\"x\",\"y\":[1616.0,726.0,655.0],\"yaxis\":\"y\",\"type\":\"scatter\",\"textposition\":\"top center\"},{\"hovertemplate\":\"team_name=GB<br>broken_tackles=%{x}<br>total_yards=%{y}<br>player=%{text}<extra></extra>\",\"legendgroup\":\"GB\",\"marker\":{\"color\":\"#203731\",\"symbol\":\"circle\"},\"mode\":\"markers+text\",\"name\":\"GB\",\"orientation\":\"v\",\"showlegend\":true,\"text\":[\"Davante Adams\"],\"x\":[13.0],\"xaxis\":\"x\",\"y\":[1553.0],\"yaxis\":\"y\",\"type\":\"scatter\",\"textposition\":\"top center\"},{\"hovertemplate\":\"team_name=CIN<br>broken_tackles=%{x}<br>total_yards=%{y}<br>player=%{text}<extra></extra>\",\"legendgroup\":\"CIN\",\"marker\":{\"color\":\"#FB4F14\",\"symbol\":\"circle\"},\"mode\":\"markers+text\",\"name\":\"CIN\",\"orientation\":\"v\",\"showlegend\":true,\"text\":[\"Ja'Marr Chase\",\"Tee Higgins\",\"Tyler Boyd\"],\"x\":[19.0,10.0,9.0],\"xaxis\":\"x\",\"y\":[1455.0,1091.0,828.0],\"yaxis\":\"y\",\"type\":\"scatter\",\"textposition\":\"top center\"},{\"hovertemplate\":\"team_name=SF<br>broken_tackles=%{x}<br>total_yards=%{y}<br>player=%{text}<extra></extra>\",\"legendgroup\":\"SF\",\"marker\":{\"color\":\"#AA0000\",\"symbol\":\"circle\"},\"mode\":\"markers+text\",\"name\":\"SF\",\"orientation\":\"v\",\"showlegend\":true,\"text\":[\"Deebo Samuel\",\"Brandon Aiyuk\"],\"x\":[20.0,18.0],\"xaxis\":\"x\",\"y\":[1405.0,816.0],\"yaxis\":\"y\",\"type\":\"scatter\",\"textposition\":\"top center\"},{\"hovertemplate\":\"team_name=KC<br>broken_tackles=%{x}<br>total_yards=%{y}<br>player=%{text}<extra></extra>\",\"legendgroup\":\"KC\",\"marker\":{\"color\":\"#E31837\",\"symbol\":\"circle\"},\"mode\":\"markers+text\",\"name\":\"KC\",\"orientation\":\"v\",\"showlegend\":true,\"text\":[\"Tyreek Hill\",\"Mecole Hardman\"],\"x\":[12.0,12.0],\"xaxis\":\"x\",\"y\":[1239.0,693.0],\"yaxis\":\"y\",\"type\":\"scatter\",\"textposition\":\"top center\"},{\"hovertemplate\":\"team_name=BUF<br>broken_tackles=%{x}<br>total_yards=%{y}<br>player=%{text}<extra></extra>\",\"legendgroup\":\"BUF\",\"marker\":{\"color\":\"#00338D\",\"symbol\":\"circle\"},\"mode\":\"markers+text\",\"name\":\"BUF\",\"orientation\":\"v\",\"showlegend\":true,\"text\":[\"Stefon Diggs\",\"Cole Beasley\",\"Emmanuel Sanders\"],\"x\":[16.0,3.0,0.0],\"xaxis\":\"x\",\"y\":[1225.0,693.0,626.0],\"yaxis\":\"y\",\"type\":\"scatter\",\"textposition\":\"top center\"},{\"hovertemplate\":\"team_name=SEA<br>broken_tackles=%{x}<br>total_yards=%{y}<br>player=%{text}<extra></extra>\",\"legendgroup\":\"SEA\",\"marker\":{\"color\":\"#69BE28\",\"symbol\":\"circle\"},\"mode\":\"markers+text\",\"name\":\"SEA\",\"orientation\":\"v\",\"showlegend\":true,\"text\":[\"Tyler Lockett\",\"D.K. Metcalf\"],\"x\":[3.0,9.0],\"xaxis\":\"x\",\"y\":[1175.0,967.0],\"yaxis\":\"y\",\"type\":\"scatter\",\"textposition\":\"top center\"},{\"hovertemplate\":\"team_name=PIT<br>broken_tackles=%{x}<br>total_yards=%{y}<br>player=%{text}<extra></extra>\",\"legendgroup\":\"PIT\",\"marker\":{\"color\":\"#FFB612\",\"symbol\":\"circle\"},\"mode\":\"markers+text\",\"name\":\"PIT\",\"orientation\":\"v\",\"showlegend\":true,\"text\":[\"Diontae Johnson\",\"Chase Claypool\"],\"x\":[16.0,7.0],\"xaxis\":\"x\",\"y\":[1161.0,860.0],\"yaxis\":\"y\",\"type\":\"scatter\",\"textposition\":\"top center\"},{\"hovertemplate\":\"team_name=CAR<br>broken_tackles=%{x}<br>total_yards=%{y}<br>player=%{text}<extra></extra>\",\"legendgroup\":\"CAR\",\"marker\":{\"color\":\"#0085CA\",\"symbol\":\"circle\"},\"mode\":\"markers+text\",\"name\":\"CAR\",\"orientation\":\"v\",\"showlegend\":true,\"text\":[\"D.J. Moore\"],\"x\":[7.0],\"xaxis\":\"x\",\"y\":[1157.0],\"yaxis\":\"y\",\"type\":\"scatter\",\"textposition\":\"top center\"},{\"hovertemplate\":\"team_name=LAC<br>broken_tackles=%{x}<br>total_yards=%{y}<br>player=%{text}<extra></extra>\",\"legendgroup\":\"LAC\",\"marker\":{\"color\":\"#0080C6\",\"symbol\":\"circle\"},\"mode\":\"markers+text\",\"name\":\"LAC\",\"orientation\":\"v\",\"showlegend\":true,\"text\":[\"Mike Williams\",\"Keenan Allen\"],\"x\":[7.0,3.0],\"xaxis\":\"x\",\"y\":[1146.0,1138.0],\"yaxis\":\"y\",\"type\":\"scatter\",\"textposition\":\"top center\"},{\"hovertemplate\":\"team_name=TB<br>broken_tackles=%{x}<br>total_yards=%{y}<br>player=%{text}<extra></extra>\",\"legendgroup\":\"TB\",\"marker\":{\"color\":\"#D50A0A\",\"symbol\":\"circle\"},\"mode\":\"markers+text\",\"name\":\"TB\",\"orientation\":\"v\",\"showlegend\":true,\"text\":[\"Chris Godwin\",\"Mike Evans\"],\"x\":[15.0,7.0],\"xaxis\":\"x\",\"y\":[1103.0,1035.0],\"yaxis\":\"y\",\"type\":\"scatter\",\"textposition\":\"top center\"},{\"hovertemplate\":\"team_name=DAL<br>broken_tackles=%{x}<br>total_yards=%{y}<br>player=%{text}<extra></extra>\",\"legendgroup\":\"DAL\",\"marker\":{\"color\":\"#041E42\",\"symbol\":\"circle\"},\"mode\":\"markers+text\",\"name\":\"DAL\",\"orientation\":\"v\",\"showlegend\":true,\"text\":[\"CeeDee Lamb\",\"Amari Cooper\",\"Cedrick Wilson\"],\"x\":[19.0,10.0,3.0],\"xaxis\":\"x\",\"y\":[1102.0,865.0,602.0],\"yaxis\":\"y\",\"type\":\"scatter\",\"textposition\":\"top center\"},{\"hovertemplate\":\"team_name=IND<br>broken_tackles=%{x}<br>total_yards=%{y}<br>player=%{text}<extra></extra>\",\"legendgroup\":\"IND\",\"marker\":{\"color\":\"#002C5F\",\"symbol\":\"circle\"},\"mode\":\"markers+text\",\"name\":\"IND\",\"orientation\":\"v\",\"showlegend\":true,\"text\":[\"Michael Pittman Jr.\"],\"x\":[9.0],\"xaxis\":\"x\",\"y\":[1082.0],\"yaxis\":\"y\",\"type\":\"scatter\",\"textposition\":\"top center\"},{\"hovertemplate\":\"team_name=CHI<br>broken_tackles=%{x}<br>total_yards=%{y}<br>player=%{text}<extra></extra>\",\"legendgroup\":\"CHI\",\"marker\":{\"color\":\"#C83803\",\"symbol\":\"circle\"},\"mode\":\"markers+text\",\"name\":\"CHI\",\"orientation\":\"v\",\"showlegend\":true,\"text\":[\"Darnell Mooney\"],\"x\":[10.0],\"xaxis\":\"x\",\"y\":[1055.0],\"yaxis\":\"y\",\"type\":\"scatter\",\"textposition\":\"top center\"},{\"hovertemplate\":\"team_name=WAS<br>broken_tackles=%{x}<br>total_yards=%{y}<br>player=%{text}<extra></extra>\",\"legendgroup\":\"WAS\",\"marker\":{\"color\":\"#5A1414\",\"symbol\":\"circle\"},\"mode\":\"markers+text\",\"name\":\"WAS\",\"orientation\":\"v\",\"showlegend\":true,\"text\":[\"Terry McLaurin\"],\"x\":[7.0],\"xaxis\":\"x\",\"y\":[1053.0],\"yaxis\":\"y\",\"type\":\"scatter\",\"textposition\":\"top center\"},{\"hovertemplate\":\"team_name=LV<br>broken_tackles=%{x}<br>total_yards=%{y}<br>player=%{text}<extra></extra>\",\"legendgroup\":\"LV\",\"marker\":{\"color\":\"#000000\",\"symbol\":\"circle\"},\"mode\":\"markers+text\",\"name\":\"LV\",\"orientation\":\"v\",\"showlegend\":true,\"text\":[\"Hunter Renfrow\"],\"x\":[14.0],\"xaxis\":\"x\",\"y\":[1038.0],\"yaxis\":\"y\",\"type\":\"scatter\",\"textposition\":\"top center\"},{\"hovertemplate\":\"team_name=HST<br>broken_tackles=%{x}<br>total_yards=%{y}<br>player=%{text}<extra></extra>\",\"legendgroup\":\"HST\",\"marker\":{\"color\":\"#A71930\",\"symbol\":\"circle\"},\"mode\":\"markers+text\",\"name\":\"HST\",\"orientation\":\"v\",\"showlegend\":true,\"text\":[\"Brandin Cooks\"],\"x\":[6.0],\"xaxis\":\"x\",\"y\":[1037.0],\"yaxis\":\"y\",\"type\":\"scatter\",\"textposition\":\"top center\"},{\"hovertemplate\":\"team_name=MIA<br>broken_tackles=%{x}<br>total_yards=%{y}<br>player=%{text}<extra></extra>\",\"legendgroup\":\"MIA\",\"marker\":{\"color\":\"#008E97\",\"symbol\":\"circle\"},\"mode\":\"markers+text\",\"name\":\"MIA\",\"orientation\":\"v\",\"showlegend\":true,\"text\":[\"Jaylen Waddle\"],\"x\":[11.0],\"xaxis\":\"x\",\"y\":[1015.0],\"yaxis\":\"y\",\"type\":\"scatter\",\"textposition\":\"top center\"},{\"hovertemplate\":\"team_name=BLT<br>broken_tackles=%{x}<br>total_yards=%{y}<br>player=%{text}<extra></extra>\",\"legendgroup\":\"BLT\",\"marker\":{\"color\":\"#241773\",\"symbol\":\"circle\"},\"mode\":\"markers+text\",\"name\":\"BLT\",\"orientation\":\"v\",\"showlegend\":true,\"text\":[\"Marquise Brown\"],\"x\":[8.0],\"xaxis\":\"x\",\"y\":[1008.0],\"yaxis\":\"y\",\"type\":\"scatter\",\"textposition\":\"top center\"},{\"hovertemplate\":\"team_name=ARZ<br>broken_tackles=%{x}<br>total_yards=%{y}<br>player=%{text}<extra></extra>\",\"legendgroup\":\"ARZ\",\"marker\":{\"color\":\"#97233F\",\"symbol\":\"circle\"},\"mode\":\"markers+text\",\"name\":\"ARZ\",\"orientation\":\"v\",\"showlegend\":true,\"text\":[\"Christian Kirk\",\"A.J. Green\"],\"x\":[3.0,7.0],\"xaxis\":\"x\",\"y\":[984.0,848.0],\"yaxis\":\"y\",\"type\":\"scatter\",\"textposition\":\"top center\"},{\"hovertemplate\":\"team_name=PHI<br>broken_tackles=%{x}<br>total_yards=%{y}<br>player=%{text}<extra></extra>\",\"legendgroup\":\"PHI\",\"marker\":{\"color\":\"#004C54\",\"symbol\":\"circle\"},\"mode\":\"markers+text\",\"name\":\"PHI\",\"orientation\":\"v\",\"showlegend\":true,\"text\":[\"DeVonta Smith\",\"Quez Watkins\"],\"x\":[6.0,8.0],\"xaxis\":\"x\",\"y\":[916.0,647.0],\"yaxis\":\"y\",\"type\":\"scatter\",\"textposition\":\"top center\"},{\"hovertemplate\":\"team_name=DET<br>broken_tackles=%{x}<br>total_yards=%{y}<br>player=%{text}<extra></extra>\",\"legendgroup\":\"DET\",\"marker\":{\"color\":\"#B0B7BC\",\"symbol\":\"circle\"},\"mode\":\"markers+text\",\"name\":\"DET\",\"orientation\":\"v\",\"showlegend\":true,\"text\":[\"Amon-Ra St. Brown\"],\"x\":[8.0],\"xaxis\":\"x\",\"y\":[912.0],\"yaxis\":\"y\",\"type\":\"scatter\",\"textposition\":\"top center\"},{\"hovertemplate\":\"team_name=TEN<br>broken_tackles=%{x}<br>total_yards=%{y}<br>player=%{text}<extra></extra>\",\"legendgroup\":\"TEN\",\"marker\":{\"color\":\"#4B92DB\",\"symbol\":\"circle\"},\"mode\":\"markers+text\",\"name\":\"TEN\",\"orientation\":\"v\",\"showlegend\":true,\"text\":[\"A.J. Brown\"],\"x\":[7.0],\"xaxis\":\"x\",\"y\":[869.0],\"yaxis\":\"y\",\"type\":\"scatter\",\"textposition\":\"top center\"},{\"hovertemplate\":\"team_name=NE<br>broken_tackles=%{x}<br>total_yards=%{y}<br>player=%{text}<extra></extra>\",\"legendgroup\":\"NE\",\"marker\":{\"color\":\"#002244\",\"symbol\":\"circle\"},\"mode\":\"markers+text\",\"name\":\"NE\",\"orientation\":\"v\",\"showlegend\":true,\"text\":[\"Jakobi Meyers\",\"Kendrick Bourne\"],\"x\":[4.0,11.0],\"xaxis\":\"x\",\"y\":[866.0,800.0],\"yaxis\":\"y\",\"type\":\"scatter\",\"textposition\":\"top center\"},{\"hovertemplate\":\"team_name=JAX<br>broken_tackles=%{x}<br>total_yards=%{y}<br>player=%{text}<extra></extra>\",\"legendgroup\":\"JAX\",\"marker\":{\"color\":\"#D7A22A\",\"symbol\":\"circle\"},\"mode\":\"markers+text\",\"name\":\"JAX\",\"orientation\":\"v\",\"showlegend\":true,\"text\":[\"Marvin Jones Jr.\",\"Laviska Shenault Jr.\"],\"x\":[3.0,20.0],\"xaxis\":\"x\",\"y\":[832.0,619.0],\"yaxis\":\"y\",\"type\":\"scatter\",\"textposition\":\"top center\"},{\"hovertemplate\":\"team_name=DEN<br>broken_tackles=%{x}<br>total_yards=%{y}<br>player=%{text}<extra></extra>\",\"legendgroup\":\"DEN\",\"marker\":{\"color\":\"#FB4F14\",\"symbol\":\"circle\"},\"mode\":\"markers+text\",\"name\":\"DEN\",\"orientation\":\"v\",\"showlegend\":true,\"text\":[\"Courtland Sutton\",\"Tim Patrick\"],\"x\":[3.0,6.0],\"xaxis\":\"x\",\"y\":[776.0,734.0],\"yaxis\":\"y\",\"type\":\"scatter\",\"textposition\":\"top center\"},{\"hovertemplate\":\"team_name=ATL<br>broken_tackles=%{x}<br>total_yards=%{y}<br>player=%{text}<extra></extra>\",\"legendgroup\":\"ATL\",\"marker\":{\"color\":\"#A71930\",\"symbol\":\"circle\"},\"mode\":\"markers+text\",\"name\":\"ATL\",\"orientation\":\"v\",\"showlegend\":true,\"text\":[\"Russell Gage\"],\"x\":[7.0],\"xaxis\":\"x\",\"y\":[770.0],\"yaxis\":\"y\",\"type\":\"scatter\",\"textposition\":\"top center\"},{\"hovertemplate\":\"team_name=NO<br>broken_tackles=%{x}<br>total_yards=%{y}<br>player=%{text}<extra></extra>\",\"legendgroup\":\"NO\",\"marker\":{\"color\":\"#D3BC8D\",\"symbol\":\"circle\"},\"mode\":\"markers+text\",\"name\":\"NO\",\"orientation\":\"v\",\"showlegend\":true,\"text\":[\"Marquez Callaway\"],\"x\":[5.0],\"xaxis\":\"x\",\"y\":[698.0],\"yaxis\":\"y\",\"type\":\"scatter\",\"textposition\":\"top center\"},{\"hovertemplate\":\"team_name=CLV<br>broken_tackles=%{x}<br>total_yards=%{y}<br>player=%{text}<extra></extra>\",\"legendgroup\":\"CLV\",\"marker\":{\"color\":\"#311D00\",\"symbol\":\"circle\"},\"mode\":\"markers+text\",\"name\":\"CLV\",\"orientation\":\"v\",\"showlegend\":true,\"text\":[\"Donovan Peoples-Jones\"],\"x\":[2.0],\"xaxis\":\"x\",\"y\":[597.0],\"yaxis\":\"y\",\"type\":\"scatter\",\"textposition\":\"top center\"}],                        {\"template\":{\"data\":{\"bar\":[{\"error_x\":{\"color\":\"#2a3f5f\"},\"error_y\":{\"color\":\"#2a3f5f\"},\"marker\":{\"line\":{\"color\":\"#E5ECF6\",\"width\":0.5},\"pattern\":{\"fillmode\":\"overlay\",\"size\":10,\"solidity\":0.2}},\"type\":\"bar\"}],\"barpolar\":[{\"marker\":{\"line\":{\"color\":\"#E5ECF6\",\"width\":0.5},\"pattern\":{\"fillmode\":\"overlay\",\"size\":10,\"solidity\":0.2}},\"type\":\"barpolar\"}],\"carpet\":[{\"aaxis\":{\"endlinecolor\":\"#2a3f5f\",\"gridcolor\":\"white\",\"linecolor\":\"white\",\"minorgridcolor\":\"white\",\"startlinecolor\":\"#2a3f5f\"},\"baxis\":{\"endlinecolor\":\"#2a3f5f\",\"gridcolor\":\"white\",\"linecolor\":\"white\",\"minorgridcolor\":\"white\",\"startlinecolor\":\"#2a3f5f\"},\"type\":\"carpet\"}],\"choropleth\":[{\"colorbar\":{\"outlinewidth\":0,\"ticks\":\"\"},\"type\":\"choropleth\"}],\"contour\":[{\"colorbar\":{\"outlinewidth\":0,\"ticks\":\"\"},\"colorscale\":[[0.0,\"#0d0887\"],[0.1111111111111111,\"#46039f\"],[0.2222222222222222,\"#7201a8\"],[0.3333333333333333,\"#9c179e\"],[0.4444444444444444,\"#bd3786\"],[0.5555555555555556,\"#d8576b\"],[0.6666666666666666,\"#ed7953\"],[0.7777777777777778,\"#fb9f3a\"],[0.8888888888888888,\"#fdca26\"],[1.0,\"#f0f921\"]],\"type\":\"contour\"}],\"contourcarpet\":[{\"colorbar\":{\"outlinewidth\":0,\"ticks\":\"\"},\"type\":\"contourcarpet\"}],\"heatmap\":[{\"colorbar\":{\"outlinewidth\":0,\"ticks\":\"\"},\"colorscale\":[[0.0,\"#0d0887\"],[0.1111111111111111,\"#46039f\"],[0.2222222222222222,\"#7201a8\"],[0.3333333333333333,\"#9c179e\"],[0.4444444444444444,\"#bd3786\"],[0.5555555555555556,\"#d8576b\"],[0.6666666666666666,\"#ed7953\"],[0.7777777777777778,\"#fb9f3a\"],[0.8888888888888888,\"#fdca26\"],[1.0,\"#f0f921\"]],\"type\":\"heatmap\"}],\"heatmapgl\":[{\"colorbar\":{\"outlinewidth\":0,\"ticks\":\"\"},\"colorscale\":[[0.0,\"#0d0887\"],[0.1111111111111111,\"#46039f\"],[0.2222222222222222,\"#7201a8\"],[0.3333333333333333,\"#9c179e\"],[0.4444444444444444,\"#bd3786\"],[0.5555555555555556,\"#d8576b\"],[0.6666666666666666,\"#ed7953\"],[0.7777777777777778,\"#fb9f3a\"],[0.8888888888888888,\"#fdca26\"],[1.0,\"#f0f921\"]],\"type\":\"heatmapgl\"}],\"histogram\":[{\"marker\":{\"pattern\":{\"fillmode\":\"overlay\",\"size\":10,\"solidity\":0.2}},\"type\":\"histogram\"}],\"histogram2d\":[{\"colorbar\":{\"outlinewidth\":0,\"ticks\":\"\"},\"colorscale\":[[0.0,\"#0d0887\"],[0.1111111111111111,\"#46039f\"],[0.2222222222222222,\"#7201a8\"],[0.3333333333333333,\"#9c179e\"],[0.4444444444444444,\"#bd3786\"],[0.5555555555555556,\"#d8576b\"],[0.6666666666666666,\"#ed7953\"],[0.7777777777777778,\"#fb9f3a\"],[0.8888888888888888,\"#fdca26\"],[1.0,\"#f0f921\"]],\"type\":\"histogram2d\"}],\"histogram2dcontour\":[{\"colorbar\":{\"outlinewidth\":0,\"ticks\":\"\"},\"colorscale\":[[0.0,\"#0d0887\"],[0.1111111111111111,\"#46039f\"],[0.2222222222222222,\"#7201a8\"],[0.3333333333333333,\"#9c179e\"],[0.4444444444444444,\"#bd3786\"],[0.5555555555555556,\"#d8576b\"],[0.6666666666666666,\"#ed7953\"],[0.7777777777777778,\"#fb9f3a\"],[0.8888888888888888,\"#fdca26\"],[1.0,\"#f0f921\"]],\"type\":\"histogram2dcontour\"}],\"mesh3d\":[{\"colorbar\":{\"outlinewidth\":0,\"ticks\":\"\"},\"type\":\"mesh3d\"}],\"parcoords\":[{\"line\":{\"colorbar\":{\"outlinewidth\":0,\"ticks\":\"\"}},\"type\":\"parcoords\"}],\"pie\":[{\"automargin\":true,\"type\":\"pie\"}],\"scatter\":[{\"marker\":{\"colorbar\":{\"outlinewidth\":0,\"ticks\":\"\"}},\"type\":\"scatter\"}],\"scatter3d\":[{\"line\":{\"colorbar\":{\"outlinewidth\":0,\"ticks\":\"\"}},\"marker\":{\"colorbar\":{\"outlinewidth\":0,\"ticks\":\"\"}},\"type\":\"scatter3d\"}],\"scattercarpet\":[{\"marker\":{\"colorbar\":{\"outlinewidth\":0,\"ticks\":\"\"}},\"type\":\"scattercarpet\"}],\"scattergeo\":[{\"marker\":{\"colorbar\":{\"outlinewidth\":0,\"ticks\":\"\"}},\"type\":\"scattergeo\"}],\"scattergl\":[{\"marker\":{\"colorbar\":{\"outlinewidth\":0,\"ticks\":\"\"}},\"type\":\"scattergl\"}],\"scattermapbox\":[{\"marker\":{\"colorbar\":{\"outlinewidth\":0,\"ticks\":\"\"}},\"type\":\"scattermapbox\"}],\"scatterpolar\":[{\"marker\":{\"colorbar\":{\"outlinewidth\":0,\"ticks\":\"\"}},\"type\":\"scatterpolar\"}],\"scatterpolargl\":[{\"marker\":{\"colorbar\":{\"outlinewidth\":0,\"ticks\":\"\"}},\"type\":\"scatterpolargl\"}],\"scatterternary\":[{\"marker\":{\"colorbar\":{\"outlinewidth\":0,\"ticks\":\"\"}},\"type\":\"scatterternary\"}],\"surface\":[{\"colorbar\":{\"outlinewidth\":0,\"ticks\":\"\"},\"colorscale\":[[0.0,\"#0d0887\"],[0.1111111111111111,\"#46039f\"],[0.2222222222222222,\"#7201a8\"],[0.3333333333333333,\"#9c179e\"],[0.4444444444444444,\"#bd3786\"],[0.5555555555555556,\"#d8576b\"],[0.6666666666666666,\"#ed7953\"],[0.7777777777777778,\"#fb9f3a\"],[0.8888888888888888,\"#fdca26\"],[1.0,\"#f0f921\"]],\"type\":\"surface\"}],\"table\":[{\"cells\":{\"fill\":{\"color\":\"#EBF0F8\"},\"line\":{\"color\":\"white\"}},\"header\":{\"fill\":{\"color\":\"#C8D4E3\"},\"line\":{\"color\":\"white\"}},\"type\":\"table\"}]},\"layout\":{\"annotationdefaults\":{\"arrowcolor\":\"#2a3f5f\",\"arrowhead\":0,\"arrowwidth\":1},\"autotypenumbers\":\"strict\",\"coloraxis\":{\"colorbar\":{\"outlinewidth\":0,\"ticks\":\"\"}},\"colorscale\":{\"diverging\":[[0,\"#8e0152\"],[0.1,\"#c51b7d\"],[0.2,\"#de77ae\"],[0.3,\"#f1b6da\"],[0.4,\"#fde0ef\"],[0.5,\"#f7f7f7\"],[0.6,\"#e6f5d0\"],[0.7,\"#b8e186\"],[0.8,\"#7fbc41\"],[0.9,\"#4d9221\"],[1,\"#276419\"]],\"sequential\":[[0.0,\"#0d0887\"],[0.1111111111111111,\"#46039f\"],[0.2222222222222222,\"#7201a8\"],[0.3333333333333333,\"#9c179e\"],[0.4444444444444444,\"#bd3786\"],[0.5555555555555556,\"#d8576b\"],[0.6666666666666666,\"#ed7953\"],[0.7777777777777778,\"#fb9f3a\"],[0.8888888888888888,\"#fdca26\"],[1.0,\"#f0f921\"]],\"sequentialminus\":[[0.0,\"#0d0887\"],[0.1111111111111111,\"#46039f\"],[0.2222222222222222,\"#7201a8\"],[0.3333333333333333,\"#9c179e\"],[0.4444444444444444,\"#bd3786\"],[0.5555555555555556,\"#d8576b\"],[0.6666666666666666,\"#ed7953\"],[0.7777777777777778,\"#fb9f3a\"],[0.8888888888888888,\"#fdca26\"],[1.0,\"#f0f921\"]]},\"colorway\":[\"#636efa\",\"#EF553B\",\"#00cc96\",\"#ab63fa\",\"#FFA15A\",\"#19d3f3\",\"#FF6692\",\"#B6E880\",\"#FF97FF\",\"#FECB52\"],\"font\":{\"color\":\"#2a3f5f\"},\"geo\":{\"bgcolor\":\"white\",\"lakecolor\":\"white\",\"landcolor\":\"#E5ECF6\",\"showlakes\":true,\"showland\":true,\"subunitcolor\":\"white\"},\"hoverlabel\":{\"align\":\"left\"},\"hovermode\":\"closest\",\"mapbox\":{\"style\":\"light\"},\"paper_bgcolor\":\"white\",\"plot_bgcolor\":\"#E5ECF6\",\"polar\":{\"angularaxis\":{\"gridcolor\":\"white\",\"linecolor\":\"white\",\"ticks\":\"\"},\"bgcolor\":\"#E5ECF6\",\"radialaxis\":{\"gridcolor\":\"white\",\"linecolor\":\"white\",\"ticks\":\"\"}},\"scene\":{\"xaxis\":{\"backgroundcolor\":\"#E5ECF6\",\"gridcolor\":\"white\",\"gridwidth\":2,\"linecolor\":\"white\",\"showbackground\":true,\"ticks\":\"\",\"zerolinecolor\":\"white\"},\"yaxis\":{\"backgroundcolor\":\"#E5ECF6\",\"gridcolor\":\"white\",\"gridwidth\":2,\"linecolor\":\"white\",\"showbackground\":true,\"ticks\":\"\",\"zerolinecolor\":\"white\"},\"zaxis\":{\"backgroundcolor\":\"#E5ECF6\",\"gridcolor\":\"white\",\"gridwidth\":2,\"linecolor\":\"white\",\"showbackground\":true,\"ticks\":\"\",\"zerolinecolor\":\"white\"}},\"shapedefaults\":{\"line\":{\"color\":\"#2a3f5f\"}},\"ternary\":{\"aaxis\":{\"gridcolor\":\"white\",\"linecolor\":\"white\",\"ticks\":\"\"},\"baxis\":{\"gridcolor\":\"white\",\"linecolor\":\"white\",\"ticks\":\"\"},\"bgcolor\":\"#E5ECF6\",\"caxis\":{\"gridcolor\":\"white\",\"linecolor\":\"white\",\"ticks\":\"\"}},\"title\":{\"x\":0.05},\"xaxis\":{\"automargin\":true,\"gridcolor\":\"white\",\"linecolor\":\"white\",\"ticks\":\"\",\"title\":{\"standoff\":15},\"zerolinecolor\":\"white\",\"zerolinewidth\":2},\"yaxis\":{\"automargin\":true,\"gridcolor\":\"white\",\"linecolor\":\"white\",\"ticks\":\"\",\"title\":{\"standoff\":15},\"zerolinecolor\":\"white\",\"zerolinewidth\":2}}},\"xaxis\":{\"anchor\":\"y\",\"domain\":[0.0,1.0],\"title\":{\"text\":\"broken_tackles\"}},\"yaxis\":{\"anchor\":\"x\",\"domain\":[0.0,1.0],\"title\":{\"text\":\"total_yards\"}},\"legend\":{\"title\":{\"text\":\"team_name\"},\"tracegroupgap\":0},\"title\":{\"text\":\"ADT by yards\"}},                        {\"responsive\": true}                    ).then(function(){\n",
       "                            \n",
       "var gd = document.getElementById('797c3ae0-9253-455d-b2cc-8aeb63fff203');\n",
       "var x = new MutationObserver(function (mutations, observer) {{\n",
       "        var display = window.getComputedStyle(gd).display;\n",
       "        if (!display || display === 'none') {{\n",
       "            console.log([gd, 'removed!']);\n",
       "            Plotly.purge(gd);\n",
       "            observer.disconnect();\n",
       "        }}\n",
       "}});\n",
       "\n",
       "// Listen for the removal of the full notebook cells\n",
       "var notebookContainer = gd.closest('#notebook-container');\n",
       "if (notebookContainer) {{\n",
       "    x.observe(notebookContainer, {childList: true});\n",
       "}}\n",
       "\n",
       "// Listen for the clearing of the current output cell\n",
       "var outputEl = gd.closest('.output');\n",
       "if (outputEl) {{\n",
       "    x.observe(outputEl, {childList: true});\n",
       "}}\n",
       "\n",
       "                        })                };                });            </script>        </div>"
      ]
     },
     "metadata": {},
     "output_type": "display_data"
    }
   ],
   "source": [
    "# Now lets see how broken tackles effect total yards\n",
    "px.scatter(top50yards,\n",
    "           x='broken_tackles',\n",
    "           y='total_yards',\n",
    "           title='ADT by yards',\n",
    "           color='team_name',\n",
    "           color_discrete_map=team_colors,\n",
    "           text='player').update_traces(textposition='top center')"
   ]
  },
  {
   "cell_type": "code",
   "execution_count": 35,
   "id": "270793b1",
   "metadata": {},
   "outputs": [
    {
     "data": {
      "text/html": [
       "<div>\n",
       "<style scoped>\n",
       "    .dataframe tbody tr th:only-of-type {\n",
       "        vertical-align: middle;\n",
       "    }\n",
       "\n",
       "    .dataframe tbody tr th {\n",
       "        vertical-align: top;\n",
       "    }\n",
       "\n",
       "    .dataframe thead th {\n",
       "        text-align: right;\n",
       "    }\n",
       "</style>\n",
       "<table border=\"1\" class=\"dataframe\">\n",
       "  <thead>\n",
       "    <tr style=\"text-align: right;\">\n",
       "      <th></th>\n",
       "      <th>player</th>\n",
       "      <th>player_id</th>\n",
       "      <th>team_name</th>\n",
       "      <th>yards</th>\n",
       "      <th>week</th>\n",
       "      <th>year</th>\n",
       "    </tr>\n",
       "  </thead>\n",
       "  <tbody>\n",
       "    <tr>\n",
       "      <th>0</th>\n",
       "      <td>Justin Jefferson</td>\n",
       "      <td>61398</td>\n",
       "      <td>MIN</td>\n",
       "      <td>71</td>\n",
       "      <td>1</td>\n",
       "      <td>2021</td>\n",
       "    </tr>\n",
       "    <tr>\n",
       "      <th>1</th>\n",
       "      <td>Justin Jefferson</td>\n",
       "      <td>61398</td>\n",
       "      <td>MIN</td>\n",
       "      <td>65</td>\n",
       "      <td>2</td>\n",
       "      <td>2021</td>\n",
       "    </tr>\n",
       "    <tr>\n",
       "      <th>2</th>\n",
       "      <td>Justin Jefferson</td>\n",
       "      <td>61398</td>\n",
       "      <td>MIN</td>\n",
       "      <td>118</td>\n",
       "      <td>3</td>\n",
       "      <td>2021</td>\n",
       "    </tr>\n",
       "    <tr>\n",
       "      <th>3</th>\n",
       "      <td>Justin Jefferson</td>\n",
       "      <td>61398</td>\n",
       "      <td>MIN</td>\n",
       "      <td>84</td>\n",
       "      <td>4</td>\n",
       "      <td>2021</td>\n",
       "    </tr>\n",
       "    <tr>\n",
       "      <th>4</th>\n",
       "      <td>Justin Jefferson</td>\n",
       "      <td>61398</td>\n",
       "      <td>MIN</td>\n",
       "      <td>124</td>\n",
       "      <td>5</td>\n",
       "      <td>2021</td>\n",
       "    </tr>\n",
       "  </tbody>\n",
       "</table>\n",
       "</div>"
      ],
      "text/plain": [
       "             player  player_id team_name  yards  week  year\n",
       "0  Justin Jefferson      61398       MIN     71     1  2021\n",
       "1  Justin Jefferson      61398       MIN     65     2  2021\n",
       "2  Justin Jefferson      61398       MIN    118     3  2021\n",
       "3  Justin Jefferson      61398       MIN     84     4  2021\n",
       "4  Justin Jefferson      61398       MIN    124     5  2021"
      ]
     },
     "execution_count": 35,
     "metadata": {},
     "output_type": "execute_result"
    }
   ],
   "source": [
    "# grabbing Justin Jefferson's career stats\n",
    "jjStats = pd.read_sql_query('''\n",
    "\n",
    "SELECT * from (SELECT \n",
    "\tplayer,\n",
    "    player_id,\n",
    "    team_name,\n",
    "    yards,\n",
    "    week,\n",
    "    year\n",
    "FROM\n",
    "\t`2021_wr_stats` \n",
    "UNION\n",
    "\tSELECT \n",
    "\tplayer,\n",
    "    player_id,\n",
    "    team_name,\n",
    "    yards,\n",
    "    week,\n",
    "    year\n",
    "FROM\n",
    "\t`2020_wr_stats` ) as jj\n",
    "WHERE player = \"Justin Jefferson\"\n",
    "\n",
    "''', connection)\n",
    "\n",
    "# grabbing Justin Jefferson's 2021 stats\n",
    "jj2021Stats = pd.read_sql_query('''\n",
    "\n",
    "SELECT\n",
    "    *\n",
    "FROM \n",
    "    `2021_wr_stats`\n",
    "WHERE\n",
    "    player = 'Justin Jefferson'\n",
    "''', connection)\n",
    "\n",
    "jjStats.head()\n"
   ]
  },
  {
   "cell_type": "code",
   "execution_count": 36,
   "id": "3ffe5a12",
   "metadata": {},
   "outputs": [
    {
     "data": {
      "application/vnd.plotly.v1+json": {
       "config": {
        "plotlyServerURL": "https://plot.ly"
       },
       "data": [
        {
         "hovertemplate": "year=2021<br>week=%{x}<br>yards=%{y}<extra></extra>",
         "legendgroup": "2021",
         "line": {
          "color": "#636efa",
          "dash": "solid"
         },
         "marker": {
          "symbol": "circle"
         },
         "mode": "markers+lines",
         "name": "2021",
         "orientation": "v",
         "showlegend": true,
         "type": "scatter",
         "x": [
          1,
          2,
          3,
          4,
          5,
          6,
          8,
          9,
          10,
          11,
          12,
          13,
          14,
          15,
          16,
          17,
          18
         ],
         "xaxis": "x",
         "y": [
          71,
          65,
          118,
          84,
          124,
          80,
          21,
          69,
          143,
          169,
          83,
          182,
          79,
          47,
          116,
          58,
          107
         ],
         "yaxis": "y"
        },
        {
         "hovertemplate": "year=2020<br>week=%{x}<br>yards=%{y}<extra></extra>",
         "legendgroup": "2020",
         "line": {
          "color": "#EF553B",
          "dash": "solid"
         },
         "marker": {
          "symbol": "circle"
         },
         "mode": "markers+lines",
         "name": "2020",
         "orientation": "v",
         "showlegend": true,
         "type": "scatter",
         "x": [
          1,
          2,
          3,
          4,
          5,
          6,
          8,
          9,
          10,
          11,
          12,
          13,
          14,
          15,
          16,
          17
         ],
         "xaxis": "x",
         "y": [
          26,
          44,
          175,
          103,
          23,
          166,
          26,
          64,
          135,
          86,
          70,
          121,
          39,
          104,
          85,
          133
         ],
         "yaxis": "y"
        }
       ],
       "layout": {
        "legend": {
         "title": {
          "text": "year"
         },
         "tracegroupgap": 0
        },
        "margin": {
         "t": 60
        },
        "template": {
         "data": {
          "bar": [
           {
            "error_x": {
             "color": "#2a3f5f"
            },
            "error_y": {
             "color": "#2a3f5f"
            },
            "marker": {
             "line": {
              "color": "#E5ECF6",
              "width": 0.5
             },
             "pattern": {
              "fillmode": "overlay",
              "size": 10,
              "solidity": 0.2
             }
            },
            "type": "bar"
           }
          ],
          "barpolar": [
           {
            "marker": {
             "line": {
              "color": "#E5ECF6",
              "width": 0.5
             },
             "pattern": {
              "fillmode": "overlay",
              "size": 10,
              "solidity": 0.2
             }
            },
            "type": "barpolar"
           }
          ],
          "carpet": [
           {
            "aaxis": {
             "endlinecolor": "#2a3f5f",
             "gridcolor": "white",
             "linecolor": "white",
             "minorgridcolor": "white",
             "startlinecolor": "#2a3f5f"
            },
            "baxis": {
             "endlinecolor": "#2a3f5f",
             "gridcolor": "white",
             "linecolor": "white",
             "minorgridcolor": "white",
             "startlinecolor": "#2a3f5f"
            },
            "type": "carpet"
           }
          ],
          "choropleth": [
           {
            "colorbar": {
             "outlinewidth": 0,
             "ticks": ""
            },
            "type": "choropleth"
           }
          ],
          "contour": [
           {
            "colorbar": {
             "outlinewidth": 0,
             "ticks": ""
            },
            "colorscale": [
             [
              0,
              "#0d0887"
             ],
             [
              0.1111111111111111,
              "#46039f"
             ],
             [
              0.2222222222222222,
              "#7201a8"
             ],
             [
              0.3333333333333333,
              "#9c179e"
             ],
             [
              0.4444444444444444,
              "#bd3786"
             ],
             [
              0.5555555555555556,
              "#d8576b"
             ],
             [
              0.6666666666666666,
              "#ed7953"
             ],
             [
              0.7777777777777778,
              "#fb9f3a"
             ],
             [
              0.8888888888888888,
              "#fdca26"
             ],
             [
              1,
              "#f0f921"
             ]
            ],
            "type": "contour"
           }
          ],
          "contourcarpet": [
           {
            "colorbar": {
             "outlinewidth": 0,
             "ticks": ""
            },
            "type": "contourcarpet"
           }
          ],
          "heatmap": [
           {
            "colorbar": {
             "outlinewidth": 0,
             "ticks": ""
            },
            "colorscale": [
             [
              0,
              "#0d0887"
             ],
             [
              0.1111111111111111,
              "#46039f"
             ],
             [
              0.2222222222222222,
              "#7201a8"
             ],
             [
              0.3333333333333333,
              "#9c179e"
             ],
             [
              0.4444444444444444,
              "#bd3786"
             ],
             [
              0.5555555555555556,
              "#d8576b"
             ],
             [
              0.6666666666666666,
              "#ed7953"
             ],
             [
              0.7777777777777778,
              "#fb9f3a"
             ],
             [
              0.8888888888888888,
              "#fdca26"
             ],
             [
              1,
              "#f0f921"
             ]
            ],
            "type": "heatmap"
           }
          ],
          "heatmapgl": [
           {
            "colorbar": {
             "outlinewidth": 0,
             "ticks": ""
            },
            "colorscale": [
             [
              0,
              "#0d0887"
             ],
             [
              0.1111111111111111,
              "#46039f"
             ],
             [
              0.2222222222222222,
              "#7201a8"
             ],
             [
              0.3333333333333333,
              "#9c179e"
             ],
             [
              0.4444444444444444,
              "#bd3786"
             ],
             [
              0.5555555555555556,
              "#d8576b"
             ],
             [
              0.6666666666666666,
              "#ed7953"
             ],
             [
              0.7777777777777778,
              "#fb9f3a"
             ],
             [
              0.8888888888888888,
              "#fdca26"
             ],
             [
              1,
              "#f0f921"
             ]
            ],
            "type": "heatmapgl"
           }
          ],
          "histogram": [
           {
            "marker": {
             "pattern": {
              "fillmode": "overlay",
              "size": 10,
              "solidity": 0.2
             }
            },
            "type": "histogram"
           }
          ],
          "histogram2d": [
           {
            "colorbar": {
             "outlinewidth": 0,
             "ticks": ""
            },
            "colorscale": [
             [
              0,
              "#0d0887"
             ],
             [
              0.1111111111111111,
              "#46039f"
             ],
             [
              0.2222222222222222,
              "#7201a8"
             ],
             [
              0.3333333333333333,
              "#9c179e"
             ],
             [
              0.4444444444444444,
              "#bd3786"
             ],
             [
              0.5555555555555556,
              "#d8576b"
             ],
             [
              0.6666666666666666,
              "#ed7953"
             ],
             [
              0.7777777777777778,
              "#fb9f3a"
             ],
             [
              0.8888888888888888,
              "#fdca26"
             ],
             [
              1,
              "#f0f921"
             ]
            ],
            "type": "histogram2d"
           }
          ],
          "histogram2dcontour": [
           {
            "colorbar": {
             "outlinewidth": 0,
             "ticks": ""
            },
            "colorscale": [
             [
              0,
              "#0d0887"
             ],
             [
              0.1111111111111111,
              "#46039f"
             ],
             [
              0.2222222222222222,
              "#7201a8"
             ],
             [
              0.3333333333333333,
              "#9c179e"
             ],
             [
              0.4444444444444444,
              "#bd3786"
             ],
             [
              0.5555555555555556,
              "#d8576b"
             ],
             [
              0.6666666666666666,
              "#ed7953"
             ],
             [
              0.7777777777777778,
              "#fb9f3a"
             ],
             [
              0.8888888888888888,
              "#fdca26"
             ],
             [
              1,
              "#f0f921"
             ]
            ],
            "type": "histogram2dcontour"
           }
          ],
          "mesh3d": [
           {
            "colorbar": {
             "outlinewidth": 0,
             "ticks": ""
            },
            "type": "mesh3d"
           }
          ],
          "parcoords": [
           {
            "line": {
             "colorbar": {
              "outlinewidth": 0,
              "ticks": ""
             }
            },
            "type": "parcoords"
           }
          ],
          "pie": [
           {
            "automargin": true,
            "type": "pie"
           }
          ],
          "scatter": [
           {
            "marker": {
             "colorbar": {
              "outlinewidth": 0,
              "ticks": ""
             }
            },
            "type": "scatter"
           }
          ],
          "scatter3d": [
           {
            "line": {
             "colorbar": {
              "outlinewidth": 0,
              "ticks": ""
             }
            },
            "marker": {
             "colorbar": {
              "outlinewidth": 0,
              "ticks": ""
             }
            },
            "type": "scatter3d"
           }
          ],
          "scattercarpet": [
           {
            "marker": {
             "colorbar": {
              "outlinewidth": 0,
              "ticks": ""
             }
            },
            "type": "scattercarpet"
           }
          ],
          "scattergeo": [
           {
            "marker": {
             "colorbar": {
              "outlinewidth": 0,
              "ticks": ""
             }
            },
            "type": "scattergeo"
           }
          ],
          "scattergl": [
           {
            "marker": {
             "colorbar": {
              "outlinewidth": 0,
              "ticks": ""
             }
            },
            "type": "scattergl"
           }
          ],
          "scattermapbox": [
           {
            "marker": {
             "colorbar": {
              "outlinewidth": 0,
              "ticks": ""
             }
            },
            "type": "scattermapbox"
           }
          ],
          "scatterpolar": [
           {
            "marker": {
             "colorbar": {
              "outlinewidth": 0,
              "ticks": ""
             }
            },
            "type": "scatterpolar"
           }
          ],
          "scatterpolargl": [
           {
            "marker": {
             "colorbar": {
              "outlinewidth": 0,
              "ticks": ""
             }
            },
            "type": "scatterpolargl"
           }
          ],
          "scatterternary": [
           {
            "marker": {
             "colorbar": {
              "outlinewidth": 0,
              "ticks": ""
             }
            },
            "type": "scatterternary"
           }
          ],
          "surface": [
           {
            "colorbar": {
             "outlinewidth": 0,
             "ticks": ""
            },
            "colorscale": [
             [
              0,
              "#0d0887"
             ],
             [
              0.1111111111111111,
              "#46039f"
             ],
             [
              0.2222222222222222,
              "#7201a8"
             ],
             [
              0.3333333333333333,
              "#9c179e"
             ],
             [
              0.4444444444444444,
              "#bd3786"
             ],
             [
              0.5555555555555556,
              "#d8576b"
             ],
             [
              0.6666666666666666,
              "#ed7953"
             ],
             [
              0.7777777777777778,
              "#fb9f3a"
             ],
             [
              0.8888888888888888,
              "#fdca26"
             ],
             [
              1,
              "#f0f921"
             ]
            ],
            "type": "surface"
           }
          ],
          "table": [
           {
            "cells": {
             "fill": {
              "color": "#EBF0F8"
             },
             "line": {
              "color": "white"
             }
            },
            "header": {
             "fill": {
              "color": "#C8D4E3"
             },
             "line": {
              "color": "white"
             }
            },
            "type": "table"
           }
          ]
         },
         "layout": {
          "annotationdefaults": {
           "arrowcolor": "#2a3f5f",
           "arrowhead": 0,
           "arrowwidth": 1
          },
          "autotypenumbers": "strict",
          "coloraxis": {
           "colorbar": {
            "outlinewidth": 0,
            "ticks": ""
           }
          },
          "colorscale": {
           "diverging": [
            [
             0,
             "#8e0152"
            ],
            [
             0.1,
             "#c51b7d"
            ],
            [
             0.2,
             "#de77ae"
            ],
            [
             0.3,
             "#f1b6da"
            ],
            [
             0.4,
             "#fde0ef"
            ],
            [
             0.5,
             "#f7f7f7"
            ],
            [
             0.6,
             "#e6f5d0"
            ],
            [
             0.7,
             "#b8e186"
            ],
            [
             0.8,
             "#7fbc41"
            ],
            [
             0.9,
             "#4d9221"
            ],
            [
             1,
             "#276419"
            ]
           ],
           "sequential": [
            [
             0,
             "#0d0887"
            ],
            [
             0.1111111111111111,
             "#46039f"
            ],
            [
             0.2222222222222222,
             "#7201a8"
            ],
            [
             0.3333333333333333,
             "#9c179e"
            ],
            [
             0.4444444444444444,
             "#bd3786"
            ],
            [
             0.5555555555555556,
             "#d8576b"
            ],
            [
             0.6666666666666666,
             "#ed7953"
            ],
            [
             0.7777777777777778,
             "#fb9f3a"
            ],
            [
             0.8888888888888888,
             "#fdca26"
            ],
            [
             1,
             "#f0f921"
            ]
           ],
           "sequentialminus": [
            [
             0,
             "#0d0887"
            ],
            [
             0.1111111111111111,
             "#46039f"
            ],
            [
             0.2222222222222222,
             "#7201a8"
            ],
            [
             0.3333333333333333,
             "#9c179e"
            ],
            [
             0.4444444444444444,
             "#bd3786"
            ],
            [
             0.5555555555555556,
             "#d8576b"
            ],
            [
             0.6666666666666666,
             "#ed7953"
            ],
            [
             0.7777777777777778,
             "#fb9f3a"
            ],
            [
             0.8888888888888888,
             "#fdca26"
            ],
            [
             1,
             "#f0f921"
            ]
           ]
          },
          "colorway": [
           "#636efa",
           "#EF553B",
           "#00cc96",
           "#ab63fa",
           "#FFA15A",
           "#19d3f3",
           "#FF6692",
           "#B6E880",
           "#FF97FF",
           "#FECB52"
          ],
          "font": {
           "color": "#2a3f5f"
          },
          "geo": {
           "bgcolor": "white",
           "lakecolor": "white",
           "landcolor": "#E5ECF6",
           "showlakes": true,
           "showland": true,
           "subunitcolor": "white"
          },
          "hoverlabel": {
           "align": "left"
          },
          "hovermode": "closest",
          "mapbox": {
           "style": "light"
          },
          "paper_bgcolor": "white",
          "plot_bgcolor": "#E5ECF6",
          "polar": {
           "angularaxis": {
            "gridcolor": "white",
            "linecolor": "white",
            "ticks": ""
           },
           "bgcolor": "#E5ECF6",
           "radialaxis": {
            "gridcolor": "white",
            "linecolor": "white",
            "ticks": ""
           }
          },
          "scene": {
           "xaxis": {
            "backgroundcolor": "#E5ECF6",
            "gridcolor": "white",
            "gridwidth": 2,
            "linecolor": "white",
            "showbackground": true,
            "ticks": "",
            "zerolinecolor": "white"
           },
           "yaxis": {
            "backgroundcolor": "#E5ECF6",
            "gridcolor": "white",
            "gridwidth": 2,
            "linecolor": "white",
            "showbackground": true,
            "ticks": "",
            "zerolinecolor": "white"
           },
           "zaxis": {
            "backgroundcolor": "#E5ECF6",
            "gridcolor": "white",
            "gridwidth": 2,
            "linecolor": "white",
            "showbackground": true,
            "ticks": "",
            "zerolinecolor": "white"
           }
          },
          "shapedefaults": {
           "line": {
            "color": "#2a3f5f"
           }
          },
          "ternary": {
           "aaxis": {
            "gridcolor": "white",
            "linecolor": "white",
            "ticks": ""
           },
           "baxis": {
            "gridcolor": "white",
            "linecolor": "white",
            "ticks": ""
           },
           "bgcolor": "#E5ECF6",
           "caxis": {
            "gridcolor": "white",
            "linecolor": "white",
            "ticks": ""
           }
          },
          "title": {
           "x": 0.05
          },
          "xaxis": {
           "automargin": true,
           "gridcolor": "white",
           "linecolor": "white",
           "ticks": "",
           "title": {
            "standoff": 15
           },
           "zerolinecolor": "white",
           "zerolinewidth": 2
          },
          "yaxis": {
           "automargin": true,
           "gridcolor": "white",
           "linecolor": "white",
           "ticks": "",
           "title": {
            "standoff": 15
           },
           "zerolinecolor": "white",
           "zerolinewidth": 2
          }
         }
        },
        "xaxis": {
         "anchor": "y",
         "domain": [
          0,
          1
         ],
         "title": {
          "text": "week"
         }
        },
        "yaxis": {
         "anchor": "x",
         "domain": [
          0,
          1
         ],
         "title": {
          "text": "yards"
         }
        }
       }
      },
      "text/html": [
       "<div>                            <div id=\"31ed285e-156a-49d2-bf49-26d953571c1d\" class=\"plotly-graph-div\" style=\"height:525px; width:100%;\"></div>            <script type=\"text/javascript\">                require([\"plotly\"], function(Plotly) {                    window.PLOTLYENV=window.PLOTLYENV || {};                                    if (document.getElementById(\"31ed285e-156a-49d2-bf49-26d953571c1d\")) {                    Plotly.newPlot(                        \"31ed285e-156a-49d2-bf49-26d953571c1d\",                        [{\"hovertemplate\":\"year=2021<br>week=%{x}<br>yards=%{y}<extra></extra>\",\"legendgroup\":\"2021\",\"line\":{\"color\":\"#636efa\",\"dash\":\"solid\"},\"marker\":{\"symbol\":\"circle\"},\"mode\":\"markers+lines\",\"name\":\"2021\",\"orientation\":\"v\",\"showlegend\":true,\"x\":[1,2,3,4,5,6,8,9,10,11,12,13,14,15,16,17,18],\"xaxis\":\"x\",\"y\":[71,65,118,84,124,80,21,69,143,169,83,182,79,47,116,58,107],\"yaxis\":\"y\",\"type\":\"scatter\"},{\"hovertemplate\":\"year=2020<br>week=%{x}<br>yards=%{y}<extra></extra>\",\"legendgroup\":\"2020\",\"line\":{\"color\":\"#EF553B\",\"dash\":\"solid\"},\"marker\":{\"symbol\":\"circle\"},\"mode\":\"markers+lines\",\"name\":\"2020\",\"orientation\":\"v\",\"showlegend\":true,\"x\":[1,2,3,4,5,6,8,9,10,11,12,13,14,15,16,17],\"xaxis\":\"x\",\"y\":[26,44,175,103,23,166,26,64,135,86,70,121,39,104,85,133],\"yaxis\":\"y\",\"type\":\"scatter\"}],                        {\"template\":{\"data\":{\"bar\":[{\"error_x\":{\"color\":\"#2a3f5f\"},\"error_y\":{\"color\":\"#2a3f5f\"},\"marker\":{\"line\":{\"color\":\"#E5ECF6\",\"width\":0.5},\"pattern\":{\"fillmode\":\"overlay\",\"size\":10,\"solidity\":0.2}},\"type\":\"bar\"}],\"barpolar\":[{\"marker\":{\"line\":{\"color\":\"#E5ECF6\",\"width\":0.5},\"pattern\":{\"fillmode\":\"overlay\",\"size\":10,\"solidity\":0.2}},\"type\":\"barpolar\"}],\"carpet\":[{\"aaxis\":{\"endlinecolor\":\"#2a3f5f\",\"gridcolor\":\"white\",\"linecolor\":\"white\",\"minorgridcolor\":\"white\",\"startlinecolor\":\"#2a3f5f\"},\"baxis\":{\"endlinecolor\":\"#2a3f5f\",\"gridcolor\":\"white\",\"linecolor\":\"white\",\"minorgridcolor\":\"white\",\"startlinecolor\":\"#2a3f5f\"},\"type\":\"carpet\"}],\"choropleth\":[{\"colorbar\":{\"outlinewidth\":0,\"ticks\":\"\"},\"type\":\"choropleth\"}],\"contour\":[{\"colorbar\":{\"outlinewidth\":0,\"ticks\":\"\"},\"colorscale\":[[0.0,\"#0d0887\"],[0.1111111111111111,\"#46039f\"],[0.2222222222222222,\"#7201a8\"],[0.3333333333333333,\"#9c179e\"],[0.4444444444444444,\"#bd3786\"],[0.5555555555555556,\"#d8576b\"],[0.6666666666666666,\"#ed7953\"],[0.7777777777777778,\"#fb9f3a\"],[0.8888888888888888,\"#fdca26\"],[1.0,\"#f0f921\"]],\"type\":\"contour\"}],\"contourcarpet\":[{\"colorbar\":{\"outlinewidth\":0,\"ticks\":\"\"},\"type\":\"contourcarpet\"}],\"heatmap\":[{\"colorbar\":{\"outlinewidth\":0,\"ticks\":\"\"},\"colorscale\":[[0.0,\"#0d0887\"],[0.1111111111111111,\"#46039f\"],[0.2222222222222222,\"#7201a8\"],[0.3333333333333333,\"#9c179e\"],[0.4444444444444444,\"#bd3786\"],[0.5555555555555556,\"#d8576b\"],[0.6666666666666666,\"#ed7953\"],[0.7777777777777778,\"#fb9f3a\"],[0.8888888888888888,\"#fdca26\"],[1.0,\"#f0f921\"]],\"type\":\"heatmap\"}],\"heatmapgl\":[{\"colorbar\":{\"outlinewidth\":0,\"ticks\":\"\"},\"colorscale\":[[0.0,\"#0d0887\"],[0.1111111111111111,\"#46039f\"],[0.2222222222222222,\"#7201a8\"],[0.3333333333333333,\"#9c179e\"],[0.4444444444444444,\"#bd3786\"],[0.5555555555555556,\"#d8576b\"],[0.6666666666666666,\"#ed7953\"],[0.7777777777777778,\"#fb9f3a\"],[0.8888888888888888,\"#fdca26\"],[1.0,\"#f0f921\"]],\"type\":\"heatmapgl\"}],\"histogram\":[{\"marker\":{\"pattern\":{\"fillmode\":\"overlay\",\"size\":10,\"solidity\":0.2}},\"type\":\"histogram\"}],\"histogram2d\":[{\"colorbar\":{\"outlinewidth\":0,\"ticks\":\"\"},\"colorscale\":[[0.0,\"#0d0887\"],[0.1111111111111111,\"#46039f\"],[0.2222222222222222,\"#7201a8\"],[0.3333333333333333,\"#9c179e\"],[0.4444444444444444,\"#bd3786\"],[0.5555555555555556,\"#d8576b\"],[0.6666666666666666,\"#ed7953\"],[0.7777777777777778,\"#fb9f3a\"],[0.8888888888888888,\"#fdca26\"],[1.0,\"#f0f921\"]],\"type\":\"histogram2d\"}],\"histogram2dcontour\":[{\"colorbar\":{\"outlinewidth\":0,\"ticks\":\"\"},\"colorscale\":[[0.0,\"#0d0887\"],[0.1111111111111111,\"#46039f\"],[0.2222222222222222,\"#7201a8\"],[0.3333333333333333,\"#9c179e\"],[0.4444444444444444,\"#bd3786\"],[0.5555555555555556,\"#d8576b\"],[0.6666666666666666,\"#ed7953\"],[0.7777777777777778,\"#fb9f3a\"],[0.8888888888888888,\"#fdca26\"],[1.0,\"#f0f921\"]],\"type\":\"histogram2dcontour\"}],\"mesh3d\":[{\"colorbar\":{\"outlinewidth\":0,\"ticks\":\"\"},\"type\":\"mesh3d\"}],\"parcoords\":[{\"line\":{\"colorbar\":{\"outlinewidth\":0,\"ticks\":\"\"}},\"type\":\"parcoords\"}],\"pie\":[{\"automargin\":true,\"type\":\"pie\"}],\"scatter\":[{\"marker\":{\"colorbar\":{\"outlinewidth\":0,\"ticks\":\"\"}},\"type\":\"scatter\"}],\"scatter3d\":[{\"line\":{\"colorbar\":{\"outlinewidth\":0,\"ticks\":\"\"}},\"marker\":{\"colorbar\":{\"outlinewidth\":0,\"ticks\":\"\"}},\"type\":\"scatter3d\"}],\"scattercarpet\":[{\"marker\":{\"colorbar\":{\"outlinewidth\":0,\"ticks\":\"\"}},\"type\":\"scattercarpet\"}],\"scattergeo\":[{\"marker\":{\"colorbar\":{\"outlinewidth\":0,\"ticks\":\"\"}},\"type\":\"scattergeo\"}],\"scattergl\":[{\"marker\":{\"colorbar\":{\"outlinewidth\":0,\"ticks\":\"\"}},\"type\":\"scattergl\"}],\"scattermapbox\":[{\"marker\":{\"colorbar\":{\"outlinewidth\":0,\"ticks\":\"\"}},\"type\":\"scattermapbox\"}],\"scatterpolar\":[{\"marker\":{\"colorbar\":{\"outlinewidth\":0,\"ticks\":\"\"}},\"type\":\"scatterpolar\"}],\"scatterpolargl\":[{\"marker\":{\"colorbar\":{\"outlinewidth\":0,\"ticks\":\"\"}},\"type\":\"scatterpolargl\"}],\"scatterternary\":[{\"marker\":{\"colorbar\":{\"outlinewidth\":0,\"ticks\":\"\"}},\"type\":\"scatterternary\"}],\"surface\":[{\"colorbar\":{\"outlinewidth\":0,\"ticks\":\"\"},\"colorscale\":[[0.0,\"#0d0887\"],[0.1111111111111111,\"#46039f\"],[0.2222222222222222,\"#7201a8\"],[0.3333333333333333,\"#9c179e\"],[0.4444444444444444,\"#bd3786\"],[0.5555555555555556,\"#d8576b\"],[0.6666666666666666,\"#ed7953\"],[0.7777777777777778,\"#fb9f3a\"],[0.8888888888888888,\"#fdca26\"],[1.0,\"#f0f921\"]],\"type\":\"surface\"}],\"table\":[{\"cells\":{\"fill\":{\"color\":\"#EBF0F8\"},\"line\":{\"color\":\"white\"}},\"header\":{\"fill\":{\"color\":\"#C8D4E3\"},\"line\":{\"color\":\"white\"}},\"type\":\"table\"}]},\"layout\":{\"annotationdefaults\":{\"arrowcolor\":\"#2a3f5f\",\"arrowhead\":0,\"arrowwidth\":1},\"autotypenumbers\":\"strict\",\"coloraxis\":{\"colorbar\":{\"outlinewidth\":0,\"ticks\":\"\"}},\"colorscale\":{\"diverging\":[[0,\"#8e0152\"],[0.1,\"#c51b7d\"],[0.2,\"#de77ae\"],[0.3,\"#f1b6da\"],[0.4,\"#fde0ef\"],[0.5,\"#f7f7f7\"],[0.6,\"#e6f5d0\"],[0.7,\"#b8e186\"],[0.8,\"#7fbc41\"],[0.9,\"#4d9221\"],[1,\"#276419\"]],\"sequential\":[[0.0,\"#0d0887\"],[0.1111111111111111,\"#46039f\"],[0.2222222222222222,\"#7201a8\"],[0.3333333333333333,\"#9c179e\"],[0.4444444444444444,\"#bd3786\"],[0.5555555555555556,\"#d8576b\"],[0.6666666666666666,\"#ed7953\"],[0.7777777777777778,\"#fb9f3a\"],[0.8888888888888888,\"#fdca26\"],[1.0,\"#f0f921\"]],\"sequentialminus\":[[0.0,\"#0d0887\"],[0.1111111111111111,\"#46039f\"],[0.2222222222222222,\"#7201a8\"],[0.3333333333333333,\"#9c179e\"],[0.4444444444444444,\"#bd3786\"],[0.5555555555555556,\"#d8576b\"],[0.6666666666666666,\"#ed7953\"],[0.7777777777777778,\"#fb9f3a\"],[0.8888888888888888,\"#fdca26\"],[1.0,\"#f0f921\"]]},\"colorway\":[\"#636efa\",\"#EF553B\",\"#00cc96\",\"#ab63fa\",\"#FFA15A\",\"#19d3f3\",\"#FF6692\",\"#B6E880\",\"#FF97FF\",\"#FECB52\"],\"font\":{\"color\":\"#2a3f5f\"},\"geo\":{\"bgcolor\":\"white\",\"lakecolor\":\"white\",\"landcolor\":\"#E5ECF6\",\"showlakes\":true,\"showland\":true,\"subunitcolor\":\"white\"},\"hoverlabel\":{\"align\":\"left\"},\"hovermode\":\"closest\",\"mapbox\":{\"style\":\"light\"},\"paper_bgcolor\":\"white\",\"plot_bgcolor\":\"#E5ECF6\",\"polar\":{\"angularaxis\":{\"gridcolor\":\"white\",\"linecolor\":\"white\",\"ticks\":\"\"},\"bgcolor\":\"#E5ECF6\",\"radialaxis\":{\"gridcolor\":\"white\",\"linecolor\":\"white\",\"ticks\":\"\"}},\"scene\":{\"xaxis\":{\"backgroundcolor\":\"#E5ECF6\",\"gridcolor\":\"white\",\"gridwidth\":2,\"linecolor\":\"white\",\"showbackground\":true,\"ticks\":\"\",\"zerolinecolor\":\"white\"},\"yaxis\":{\"backgroundcolor\":\"#E5ECF6\",\"gridcolor\":\"white\",\"gridwidth\":2,\"linecolor\":\"white\",\"showbackground\":true,\"ticks\":\"\",\"zerolinecolor\":\"white\"},\"zaxis\":{\"backgroundcolor\":\"#E5ECF6\",\"gridcolor\":\"white\",\"gridwidth\":2,\"linecolor\":\"white\",\"showbackground\":true,\"ticks\":\"\",\"zerolinecolor\":\"white\"}},\"shapedefaults\":{\"line\":{\"color\":\"#2a3f5f\"}},\"ternary\":{\"aaxis\":{\"gridcolor\":\"white\",\"linecolor\":\"white\",\"ticks\":\"\"},\"baxis\":{\"gridcolor\":\"white\",\"linecolor\":\"white\",\"ticks\":\"\"},\"bgcolor\":\"#E5ECF6\",\"caxis\":{\"gridcolor\":\"white\",\"linecolor\":\"white\",\"ticks\":\"\"}},\"title\":{\"x\":0.05},\"xaxis\":{\"automargin\":true,\"gridcolor\":\"white\",\"linecolor\":\"white\",\"ticks\":\"\",\"title\":{\"standoff\":15},\"zerolinecolor\":\"white\",\"zerolinewidth\":2},\"yaxis\":{\"automargin\":true,\"gridcolor\":\"white\",\"linecolor\":\"white\",\"ticks\":\"\",\"title\":{\"standoff\":15},\"zerolinecolor\":\"white\",\"zerolinewidth\":2}}},\"xaxis\":{\"anchor\":\"y\",\"domain\":[0.0,1.0],\"title\":{\"text\":\"week\"}},\"yaxis\":{\"anchor\":\"x\",\"domain\":[0.0,1.0],\"title\":{\"text\":\"yards\"}},\"legend\":{\"title\":{\"text\":\"year\"},\"tracegroupgap\":0},\"margin\":{\"t\":60}},                        {\"responsive\": true}                    ).then(function(){\n",
       "                            \n",
       "var gd = document.getElementById('31ed285e-156a-49d2-bf49-26d953571c1d');\n",
       "var x = new MutationObserver(function (mutations, observer) {{\n",
       "        var display = window.getComputedStyle(gd).display;\n",
       "        if (!display || display === 'none') {{\n",
       "            console.log([gd, 'removed!']);\n",
       "            Plotly.purge(gd);\n",
       "            observer.disconnect();\n",
       "        }}\n",
       "}});\n",
       "\n",
       "// Listen for the removal of the full notebook cells\n",
       "var notebookContainer = gd.closest('#notebook-container');\n",
       "if (notebookContainer) {{\n",
       "    x.observe(notebookContainer, {childList: true});\n",
       "}}\n",
       "\n",
       "// Listen for the clearing of the current output cell\n",
       "var outputEl = gd.closest('.output');\n",
       "if (outputEl) {{\n",
       "    x.observe(outputEl, {childList: true});\n",
       "}}\n",
       "\n",
       "                        })                };                });            </script>        </div>"
      ]
     },
     "metadata": {},
     "output_type": "display_data"
    }
   ],
   "source": [
    "# graphing JJ's career yards per game\n",
    "px.line(jjStats,\n",
    "        x='week',\n",
    "        y='yards',\n",
    "        color='year',\n",
    "        markers=True)"
   ]
  },
  {
   "cell_type": "markdown",
   "id": "535476f5",
   "metadata": {},
   "source": [
    "### Some Preseason Stuff"
   ]
  },
  {
   "cell_type": "code",
   "execution_count": 37,
   "id": "2e9dcb88",
   "metadata": {},
   "outputs": [
    {
     "data": {
      "text/html": [
       "<div>\n",
       "<style scoped>\n",
       "    .dataframe tbody tr th:only-of-type {\n",
       "        vertical-align: middle;\n",
       "    }\n",
       "\n",
       "    .dataframe tbody tr th {\n",
       "        vertical-align: top;\n",
       "    }\n",
       "\n",
       "    .dataframe thead th {\n",
       "        text-align: right;\n",
       "    }\n",
       "</style>\n",
       "<table border=\"1\" class=\"dataframe\">\n",
       "  <thead>\n",
       "    <tr style=\"text-align: right;\">\n",
       "      <th></th>\n",
       "      <th>player</th>\n",
       "      <th>player_id</th>\n",
       "      <th>position</th>\n",
       "      <th>team_name</th>\n",
       "      <th>player_game_count</th>\n",
       "      <th>accuracy_percent</th>\n",
       "      <th>aimed_passes</th>\n",
       "      <th>attempts</th>\n",
       "      <th>avg_depth_of_target</th>\n",
       "      <th>avg_time_to_throw</th>\n",
       "      <th>...</th>\n",
       "      <th>touchdowns</th>\n",
       "      <th>turnover_worthy_plays</th>\n",
       "      <th>twp_rate</th>\n",
       "      <th>yards</th>\n",
       "      <th>ypa</th>\n",
       "      <th>preseason_week</th>\n",
       "      <th>dk_yards</th>\n",
       "      <th>dk_touchdown</th>\n",
       "      <th>dk_bonus</th>\n",
       "      <th>dk_total</th>\n",
       "    </tr>\n",
       "  </thead>\n",
       "  <tbody>\n",
       "    <tr>\n",
       "      <th>0</th>\n",
       "      <td>Nathan Peterman</td>\n",
       "      <td>11926</td>\n",
       "      <td>QB</td>\n",
       "      <td>LV</td>\n",
       "      <td>1</td>\n",
       "      <td>86.5</td>\n",
       "      <td>37</td>\n",
       "      <td>39</td>\n",
       "      <td>5.1</td>\n",
       "      <td>2.60</td>\n",
       "      <td>...</td>\n",
       "      <td>0</td>\n",
       "      <td>2</td>\n",
       "      <td>4.3</td>\n",
       "      <td>246</td>\n",
       "      <td>6.3</td>\n",
       "      <td>1</td>\n",
       "      <td>9.84</td>\n",
       "      <td>0</td>\n",
       "      <td>0</td>\n",
       "      <td>9.84</td>\n",
       "    </tr>\n",
       "    <tr>\n",
       "      <th>1</th>\n",
       "      <td>Kyle Lauletta</td>\n",
       "      <td>46452</td>\n",
       "      <td>QB</td>\n",
       "      <td>CLV</td>\n",
       "      <td>1</td>\n",
       "      <td>84.6</td>\n",
       "      <td>26</td>\n",
       "      <td>27</td>\n",
       "      <td>8.7</td>\n",
       "      <td>2.38</td>\n",
       "      <td>...</td>\n",
       "      <td>2</td>\n",
       "      <td>0</td>\n",
       "      <td>0.0</td>\n",
       "      <td>212</td>\n",
       "      <td>7.9</td>\n",
       "      <td>1</td>\n",
       "      <td>8.48</td>\n",
       "      <td>12</td>\n",
       "      <td>0</td>\n",
       "      <td>20.48</td>\n",
       "    </tr>\n",
       "    <tr>\n",
       "      <th>2</th>\n",
       "      <td>Chris Streveler</td>\n",
       "      <td>46440</td>\n",
       "      <td>QB</td>\n",
       "      <td>ARZ</td>\n",
       "      <td>1</td>\n",
       "      <td>61.9</td>\n",
       "      <td>21</td>\n",
       "      <td>24</td>\n",
       "      <td>10.0</td>\n",
       "      <td>2.57</td>\n",
       "      <td>...</td>\n",
       "      <td>0</td>\n",
       "      <td>0</td>\n",
       "      <td>0.0</td>\n",
       "      <td>107</td>\n",
       "      <td>4.5</td>\n",
       "      <td>1</td>\n",
       "      <td>4.28</td>\n",
       "      <td>0</td>\n",
       "      <td>0</td>\n",
       "      <td>4.28</td>\n",
       "    </tr>\n",
       "    <tr>\n",
       "      <th>3</th>\n",
       "      <td>Chase Daniel</td>\n",
       "      <td>5214</td>\n",
       "      <td>QB</td>\n",
       "      <td>LAC</td>\n",
       "      <td>1</td>\n",
       "      <td>72.7</td>\n",
       "      <td>22</td>\n",
       "      <td>24</td>\n",
       "      <td>7.9</td>\n",
       "      <td>2.32</td>\n",
       "      <td>...</td>\n",
       "      <td>0</td>\n",
       "      <td>0</td>\n",
       "      <td>0.0</td>\n",
       "      <td>104</td>\n",
       "      <td>4.3</td>\n",
       "      <td>1</td>\n",
       "      <td>4.16</td>\n",
       "      <td>0</td>\n",
       "      <td>0</td>\n",
       "      <td>4.16</td>\n",
       "    </tr>\n",
       "    <tr>\n",
       "      <th>4</th>\n",
       "      <td>Steven Montez</td>\n",
       "      <td>46465</td>\n",
       "      <td>QB</td>\n",
       "      <td>WAS</td>\n",
       "      <td>1</td>\n",
       "      <td>70.8</td>\n",
       "      <td>24</td>\n",
       "      <td>24</td>\n",
       "      <td>2.8</td>\n",
       "      <td>2.93</td>\n",
       "      <td>...</td>\n",
       "      <td>1</td>\n",
       "      <td>0</td>\n",
       "      <td>0.0</td>\n",
       "      <td>108</td>\n",
       "      <td>4.5</td>\n",
       "      <td>1</td>\n",
       "      <td>4.32</td>\n",
       "      <td>6</td>\n",
       "      <td>0</td>\n",
       "      <td>10.32</td>\n",
       "    </tr>\n",
       "  </tbody>\n",
       "</table>\n",
       "<p>5 rows × 47 columns</p>\n",
       "</div>"
      ],
      "text/plain": [
       "            player  player_id position team_name  player_game_count  \\\n",
       "0  Nathan Peterman      11926       QB        LV                  1   \n",
       "1    Kyle Lauletta      46452       QB       CLV                  1   \n",
       "2  Chris Streveler      46440       QB       ARZ                  1   \n",
       "3     Chase Daniel       5214       QB       LAC                  1   \n",
       "4    Steven Montez      46465       QB       WAS                  1   \n",
       "\n",
       "   accuracy_percent  aimed_passes  attempts  avg_depth_of_target  \\\n",
       "0              86.5            37        39                  5.1   \n",
       "1              84.6            26        27                  8.7   \n",
       "2              61.9            21        24                 10.0   \n",
       "3              72.7            22        24                  7.9   \n",
       "4              70.8            24        24                  2.8   \n",
       "\n",
       "   avg_time_to_throw  ...  touchdowns  turnover_worthy_plays  twp_rate  yards  \\\n",
       "0               2.60  ...           0                      2       4.3    246   \n",
       "1               2.38  ...           2                      0       0.0    212   \n",
       "2               2.57  ...           0                      0       0.0    107   \n",
       "3               2.32  ...           0                      0       0.0    104   \n",
       "4               2.93  ...           1                      0       0.0    108   \n",
       "\n",
       "   ypa  preseason_week  dk_yards  dk_touchdown  dk_bonus  dk_total  \n",
       "0  6.3               1      9.84             0         0      9.84  \n",
       "1  7.9               1      8.48            12         0     20.48  \n",
       "2  4.5               1      4.28             0         0      4.28  \n",
       "3  4.3               1      4.16             0         0      4.16  \n",
       "4  4.5               1      4.32             6         0     10.32  \n",
       "\n",
       "[5 rows x 47 columns]"
      ]
     },
     "execution_count": 37,
     "metadata": {},
     "output_type": "execute_result"
    }
   ],
   "source": [
    "# gathering 2021 preseason data\n",
    "preseasonQB = pd.read_sql_query('''\n",
    "\n",
    "SELECT\n",
    "    *\n",
    "FROM\n",
    "    preseasonw1\n",
    "\n",
    "''', connection)\n",
    "preseasonQB.head()"
   ]
  },
  {
   "cell_type": "code",
   "execution_count": 38,
   "id": "fc4594d1",
   "metadata": {},
   "outputs": [
    {
     "data": {
      "text/html": [
       "<div>\n",
       "<style scoped>\n",
       "    .dataframe tbody tr th:only-of-type {\n",
       "        vertical-align: middle;\n",
       "    }\n",
       "\n",
       "    .dataframe tbody tr th {\n",
       "        vertical-align: top;\n",
       "    }\n",
       "\n",
       "    .dataframe thead th {\n",
       "        text-align: right;\n",
       "    }\n",
       "</style>\n",
       "<table border=\"1\" class=\"dataframe\">\n",
       "  <thead>\n",
       "    <tr style=\"text-align: right;\">\n",
       "      <th></th>\n",
       "      <th>player</th>\n",
       "      <th>team_name</th>\n",
       "      <th>preseason_attempts</th>\n",
       "      <th>preseason_yards</th>\n",
       "      <th>preseason_touchdowns</th>\n",
       "      <th>preseason_turnover_worthy_plays</th>\n",
       "      <th>preseason_ypa</th>\n",
       "      <th>three_attempts</th>\n",
       "      <th>week_one_yards</th>\n",
       "      <th>week_one_toucdowns</th>\n",
       "      <th>passing_grade</th>\n",
       "    </tr>\n",
       "  </thead>\n",
       "  <tbody>\n",
       "    <tr>\n",
       "      <th>0</th>\n",
       "      <td>Andy Dalton</td>\n",
       "      <td>CHI</td>\n",
       "      <td>21.0</td>\n",
       "      <td>164.0</td>\n",
       "      <td>1.0</td>\n",
       "      <td>0.0</td>\n",
       "      <td>7.8095</td>\n",
       "      <td>49.0</td>\n",
       "      <td>262.0</td>\n",
       "      <td>1.0</td>\n",
       "      <td>72.800000</td>\n",
       "    </tr>\n",
       "    <tr>\n",
       "      <th>1</th>\n",
       "      <td>Baker Mayfield</td>\n",
       "      <td>CLV</td>\n",
       "      <td>10.0</td>\n",
       "      <td>113.0</td>\n",
       "      <td>1.0</td>\n",
       "      <td>0.0</td>\n",
       "      <td>11.3000</td>\n",
       "      <td>80.0</td>\n",
       "      <td>780.0</td>\n",
       "      <td>1.0</td>\n",
       "      <td>74.033333</td>\n",
       "    </tr>\n",
       "    <tr>\n",
       "      <th>2</th>\n",
       "      <td>Ben Roethlisberger</td>\n",
       "      <td>PIT</td>\n",
       "      <td>10.0</td>\n",
       "      <td>137.0</td>\n",
       "      <td>2.0</td>\n",
       "      <td>0.0</td>\n",
       "      <td>13.7000</td>\n",
       "      <td>130.0</td>\n",
       "      <td>801.0</td>\n",
       "      <td>1.0</td>\n",
       "      <td>55.633333</td>\n",
       "    </tr>\n",
       "    <tr>\n",
       "      <th>3</th>\n",
       "      <td>Daniel Jones</td>\n",
       "      <td>NYG</td>\n",
       "      <td>22.0</td>\n",
       "      <td>135.0</td>\n",
       "      <td>1.0</td>\n",
       "      <td>2.0</td>\n",
       "      <td>6.1364</td>\n",
       "      <td>104.0</td>\n",
       "      <td>782.0</td>\n",
       "      <td>1.0</td>\n",
       "      <td>76.566667</td>\n",
       "    </tr>\n",
       "    <tr>\n",
       "      <th>4</th>\n",
       "      <td>Davis Mills</td>\n",
       "      <td>HST</td>\n",
       "      <td>65.0</td>\n",
       "      <td>333.0</td>\n",
       "      <td>2.0</td>\n",
       "      <td>5.0</td>\n",
       "      <td>5.1231</td>\n",
       "      <td>46.0</td>\n",
       "      <td>270.0</td>\n",
       "      <td>1.0</td>\n",
       "      <td>48.000000</td>\n",
       "    </tr>\n",
       "  </tbody>\n",
       "</table>\n",
       "</div>"
      ],
      "text/plain": [
       "               player team_name  preseason_attempts  preseason_yards  \\\n",
       "0         Andy Dalton       CHI                21.0            164.0   \n",
       "1      Baker Mayfield       CLV                10.0            113.0   \n",
       "2  Ben Roethlisberger       PIT                10.0            137.0   \n",
       "3        Daniel Jones       NYG                22.0            135.0   \n",
       "4         Davis Mills       HST                65.0            333.0   \n",
       "\n",
       "   preseason_touchdowns  preseason_turnover_worthy_plays  preseason_ypa  \\\n",
       "0                   1.0                              0.0         7.8095   \n",
       "1                   1.0                              0.0        11.3000   \n",
       "2                   2.0                              0.0        13.7000   \n",
       "3                   1.0                              2.0         6.1364   \n",
       "4                   2.0                              5.0         5.1231   \n",
       "\n",
       "   three_attempts  week_one_yards  week_one_toucdowns  passing_grade  \n",
       "0            49.0           262.0                 1.0      72.800000  \n",
       "1            80.0           780.0                 1.0      74.033333  \n",
       "2           130.0           801.0                 1.0      55.633333  \n",
       "3           104.0           782.0                 1.0      76.566667  \n",
       "4            46.0           270.0                 1.0      48.000000  "
      ]
     },
     "execution_count": 38,
     "metadata": {},
     "output_type": "execute_result"
    }
   ],
   "source": [
    "# join 2021 preseason with 2021 reg season stats through w3\n",
    "qb_pre_to_one = pd.read_sql_query('''\n",
    "\n",
    "SELECT\n",
    "    wo.player,\n",
    "    wo.team_name,\n",
    "    sum(DISTINCT(ps.attempts)) as preseason_attempts,\n",
    "    sum(DISTINCT(ps.yards)) as preseason_yards,\n",
    "    sum(DISTINCT(ps.touchdowns)) as preseason_touchdowns,\n",
    "    sum(DISTINCT(ps.turnover_worthy_plays)) as preseason_turnover_worthy_plays,\n",
    "    (SUM(DISTINCT(ps.yards)) / SUM(DISTINCT(ps.attempts))) as preseason_ypa,\n",
    "    sum(DISTINCT(wo.attempts)) as three_attempts,\n",
    "    SUM(DISTINCT(wo.yards)) as week_one_yards,\n",
    "    SUM(DISTINCT(wo.touchdowns)) as week_one_toucdowns,\n",
    "    AVG(DISTINCT(wo.grades_pass)) as passing_grade\n",
    "FROM\n",
    "    preseasonw1 ps\n",
    "INNER JOIN\n",
    "    `qb_reg_season` wo\n",
    "ON\n",
    "    wo.player = ps.player\n",
    "GROUP BY \n",
    "    ps.player\n",
    "    HAVING SUM(wo.attempts) >= 30\n",
    "\n",
    "\n",
    "''', connection)\n",
    "qb_pre_to_one.head()"
   ]
  },
  {
   "cell_type": "code",
   "execution_count": 39,
   "id": "d753a54b",
   "metadata": {},
   "outputs": [
    {
     "data": {
      "text/html": [
       "<div>\n",
       "<style scoped>\n",
       "    .dataframe tbody tr th:only-of-type {\n",
       "        vertical-align: middle;\n",
       "    }\n",
       "\n",
       "    .dataframe tbody tr th {\n",
       "        vertical-align: top;\n",
       "    }\n",
       "\n",
       "    .dataframe thead th {\n",
       "        text-align: right;\n",
       "    }\n",
       "</style>\n",
       "<table border=\"1\" class=\"dataframe\">\n",
       "  <thead>\n",
       "    <tr style=\"text-align: right;\">\n",
       "      <th></th>\n",
       "      <th>player</th>\n",
       "      <th>team_name</th>\n",
       "      <th>preseason_attempts</th>\n",
       "      <th>preseason_yards</th>\n",
       "      <th>preseason_touchdowns</th>\n",
       "      <th>preseason_turnover_worthy_plays</th>\n",
       "      <th>preseason_ypa</th>\n",
       "    </tr>\n",
       "  </thead>\n",
       "  <tbody>\n",
       "    <tr>\n",
       "      <th>0</th>\n",
       "      <td>Nathan Peterman</td>\n",
       "      <td>LV</td>\n",
       "      <td>92.0</td>\n",
       "      <td>593.0</td>\n",
       "      <td>2.0</td>\n",
       "      <td>4.0</td>\n",
       "      <td>6.3077</td>\n",
       "    </tr>\n",
       "    <tr>\n",
       "      <th>1</th>\n",
       "      <td>Kyle Lauletta</td>\n",
       "      <td>CLV</td>\n",
       "      <td>72.0</td>\n",
       "      <td>514.0</td>\n",
       "      <td>3.0</td>\n",
       "      <td>3.0</td>\n",
       "      <td>7.8519</td>\n",
       "    </tr>\n",
       "    <tr>\n",
       "      <th>2</th>\n",
       "      <td>Chris Streveler</td>\n",
       "      <td>ARZ</td>\n",
       "      <td>30.0</td>\n",
       "      <td>181.0</td>\n",
       "      <td>1.0</td>\n",
       "      <td>0.0</td>\n",
       "      <td>4.4583</td>\n",
       "    </tr>\n",
       "    <tr>\n",
       "      <th>3</th>\n",
       "      <td>Chase Daniel</td>\n",
       "      <td>LAC</td>\n",
       "      <td>57.0</td>\n",
       "      <td>234.0</td>\n",
       "      <td>0.0</td>\n",
       "      <td>3.0</td>\n",
       "      <td>4.3333</td>\n",
       "    </tr>\n",
       "    <tr>\n",
       "      <th>4</th>\n",
       "      <td>Steven Montez</td>\n",
       "      <td>WAS</td>\n",
       "      <td>34.0</td>\n",
       "      <td>136.0</td>\n",
       "      <td>1.0</td>\n",
       "      <td>0.0</td>\n",
       "      <td>4.5000</td>\n",
       "    </tr>\n",
       "  </tbody>\n",
       "</table>\n",
       "</div>"
      ],
      "text/plain": [
       "            player team_name  preseason_attempts  preseason_yards  \\\n",
       "0  Nathan Peterman        LV                92.0            593.0   \n",
       "1    Kyle Lauletta       CLV                72.0            514.0   \n",
       "2  Chris Streveler       ARZ                30.0            181.0   \n",
       "3     Chase Daniel       LAC                57.0            234.0   \n",
       "4    Steven Montez       WAS                34.0            136.0   \n",
       "\n",
       "   preseason_touchdowns  preseason_turnover_worthy_plays  preseason_ypa  \n",
       "0                   2.0                              4.0         6.3077  \n",
       "1                   3.0                              3.0         7.8519  \n",
       "2                   1.0                              0.0         4.4583  \n",
       "3                   0.0                              3.0         4.3333  \n",
       "4                   1.0                              0.0         4.5000  "
      ]
     },
     "execution_count": 39,
     "metadata": {},
     "output_type": "execute_result"
    }
   ],
   "source": [
    "# snap counts for each qb\n",
    "qb_snaps = pd.read_sql_query('''\n",
    "\n",
    "SELECT\n",
    "    player,\n",
    "    team_name,\n",
    "    SUM(attempts) as preseason_attempts,\n",
    "    sum(yards) as preseason_yards,\n",
    "    sum(touchdowns) as preseason_touchdowns,\n",
    "    sum(turnover_worthy_plays) as preseason_turnover_worthy_plays,\n",
    "    (yards / attempts) as preseason_ypa\n",
    "FROM\n",
    "    preseasonw1 ps\n",
    "GROUP BY \n",
    "    ps.player\n",
    "''', connection)\n",
    "qb_snaps.head()"
   ]
  },
  {
   "cell_type": "code",
   "execution_count": 40,
   "id": "fdd5df1a",
   "metadata": {},
   "outputs": [
    {
     "data": {
      "application/vnd.plotly.v1+json": {
       "config": {
        "plotlyServerURL": "https://plot.ly"
       },
       "data": [
        {
         "hovertemplate": "team_name=CHI<br>Average passing grade=%{x}<br>Total preseason passing attempts=%{y}<br>player=%{text}<extra></extra>",
         "legendgroup": "CHI",
         "marker": {
          "color": "#C83803",
          "symbol": "circle"
         },
         "mode": "markers+text",
         "name": "CHI",
         "orientation": "v",
         "showlegend": true,
         "text": [
          "Andy Dalton",
          "Justin Fields"
         ],
         "textposition": "top center",
         "type": "scatter",
         "x": [
          72.8,
          52.93333333333334
         ],
         "xaxis": "x",
         "y": [
          21,
          49
         ],
         "yaxis": "y"
        },
        {
         "hovertemplate": "team_name=CLV<br>Average passing grade=%{x}<br>Total preseason passing attempts=%{y}<br>player=%{text}<extra></extra>",
         "legendgroup": "CLV",
         "marker": {
          "color": "#311D00",
          "symbol": "circle"
         },
         "mode": "markers+text",
         "name": "CLV",
         "orientation": "v",
         "showlegend": true,
         "text": [
          "Baker Mayfield"
         ],
         "textposition": "top center",
         "type": "scatter",
         "x": [
          74.03333333333335
         ],
         "xaxis": "x",
         "y": [
          10
         ],
         "yaxis": "y"
        },
        {
         "hovertemplate": "team_name=PIT<br>Average passing grade=%{x}<br>Total preseason passing attempts=%{y}<br>player=%{text}<extra></extra>",
         "legendgroup": "PIT",
         "marker": {
          "color": "#FFB612",
          "symbol": "circle"
         },
         "mode": "markers+text",
         "name": "PIT",
         "orientation": "v",
         "showlegend": true,
         "text": [
          "Ben Roethlisberger"
         ],
         "textposition": "top center",
         "type": "scatter",
         "x": [
          55.63333333333333
         ],
         "xaxis": "x",
         "y": [
          10
         ],
         "yaxis": "y"
        },
        {
         "hovertemplate": "team_name=NYG<br>Average passing grade=%{x}<br>Total preseason passing attempts=%{y}<br>player=%{text}<extra></extra>",
         "legendgroup": "NYG",
         "marker": {
          "color": "#EF553B",
          "symbol": "circle"
         },
         "mode": "markers+text",
         "name": "NYG",
         "orientation": "v",
         "showlegend": true,
         "text": [
          "Daniel Jones"
         ],
         "textposition": "top center",
         "type": "scatter",
         "x": [
          76.56666666666666
         ],
         "xaxis": "x",
         "y": [
          22
         ],
         "yaxis": "y"
        },
        {
         "hovertemplate": "team_name=HST<br>Average passing grade=%{x}<br>Total preseason passing attempts=%{y}<br>player=%{text}<extra></extra>",
         "legendgroup": "HST",
         "marker": {
          "color": "#A71930",
          "symbol": "circle"
         },
         "mode": "markers+text",
         "name": "HST",
         "orientation": "v",
         "showlegend": true,
         "text": [
          "Davis Mills",
          "Tyrod Taylor"
         ],
         "textposition": "top center",
         "type": "scatter",
         "x": [
          48,
          71.7
         ],
         "xaxis": "x",
         "y": [
          65,
          18
         ],
         "yaxis": "y"
        },
        {
         "hovertemplate": "team_name=MIA<br>Average passing grade=%{x}<br>Total preseason passing attempts=%{y}<br>player=%{text}<extra></extra>",
         "legendgroup": "MIA",
         "marker": {
          "color": "#008E97",
          "symbol": "circle"
         },
         "mode": "markers+text",
         "name": "MIA",
         "orientation": "v",
         "showlegend": true,
         "text": [
          "Jacoby Brissett",
          "Tua Tagovailoa"
         ],
         "textposition": "top center",
         "type": "scatter",
         "x": [
          73.3,
          53.35
         ],
         "xaxis": "x",
         "y": [
          18,
          34
         ],
         "yaxis": "y"
        },
        {
         "hovertemplate": "team_name=PHI<br>Average passing grade=%{x}<br>Total preseason passing attempts=%{y}<br>player=%{text}<extra></extra>",
         "legendgroup": "PHI",
         "marker": {
          "color": "#004C54",
          "symbol": "circle"
         },
         "mode": "markers+text",
         "name": "PHI",
         "orientation": "v",
         "showlegend": true,
         "text": [
          "Jalen Hurts"
         ],
         "textposition": "top center",
         "type": "scatter",
         "x": [
          73.19999999999999
         ],
         "xaxis": "x",
         "y": [
          7
         ],
         "yaxis": "y"
        },
        {
         "hovertemplate": "team_name=NO<br>Average passing grade=%{x}<br>Total preseason passing attempts=%{y}<br>player=%{text}<extra></extra>",
         "legendgroup": "NO",
         "marker": {
          "color": "#D3BC8D",
          "symbol": "circle"
         },
         "mode": "markers+text",
         "name": "NO",
         "orientation": "v",
         "showlegend": true,
         "text": [
          "Jameis Winston"
         ],
         "textposition": "top center",
         "type": "scatter",
         "x": [
          55.199999999999996
         ],
         "xaxis": "x",
         "y": [
          22
         ],
         "yaxis": "y"
        },
        {
         "hovertemplate": "team_name=DET<br>Average passing grade=%{x}<br>Total preseason passing attempts=%{y}<br>player=%{text}<extra></extra>",
         "legendgroup": "DET",
         "marker": {
          "color": "#B0B7BC",
          "symbol": "circle"
         },
         "mode": "markers+text",
         "name": "DET",
         "orientation": "v",
         "showlegend": true,
         "text": [
          "Jared Goff"
         ],
         "textposition": "top center",
         "type": "scatter",
         "x": [
          65.10000000000001
         ],
         "xaxis": "x",
         "y": [
          9
         ],
         "yaxis": "y"
        },
        {
         "hovertemplate": "team_name=SF<br>Average passing grade=%{x}<br>Total preseason passing attempts=%{y}<br>player=%{text}<extra></extra>",
         "legendgroup": "SF",
         "marker": {
          "color": "#AA0000",
          "symbol": "circle"
         },
         "mode": "markers+text",
         "name": "SF",
         "orientation": "v",
         "showlegend": true,
         "text": [
          "Jimmy Garoppolo"
         ],
         "textposition": "top center",
         "type": "scatter",
         "x": [
          60.96666666666667
         ],
         "xaxis": "x",
         "y": [
          16
         ],
         "yaxis": "y"
        },
        {
         "hovertemplate": "team_name=CIN<br>Average passing grade=%{x}<br>Total preseason passing attempts=%{y}<br>player=%{text}<extra></extra>",
         "legendgroup": "CIN",
         "marker": {
          "color": "#FB4F14",
          "symbol": "circle"
         },
         "mode": "markers+text",
         "name": "CIN",
         "orientation": "v",
         "showlegend": true,
         "text": [
          "Joe Burrow"
         ],
         "textposition": "top center",
         "type": "scatter",
         "x": [
          74.06666666666666
         ],
         "xaxis": "x",
         "y": [
          1
         ],
         "yaxis": "y"
        },
        {
         "hovertemplate": "team_name=BUF<br>Average passing grade=%{x}<br>Total preseason passing attempts=%{y}<br>player=%{text}<extra></extra>",
         "legendgroup": "BUF",
         "marker": {
          "color": "#00338D",
          "symbol": "circle"
         },
         "mode": "markers+text",
         "name": "BUF",
         "orientation": "v",
         "showlegend": true,
         "text": [
          "Josh Allen"
         ],
         "textposition": "top center",
         "type": "scatter",
         "x": [
          65.8
         ],
         "xaxis": "x",
         "y": [
          26
         ],
         "yaxis": "y"
        },
        {
         "hovertemplate": "team_name=MIN<br>Average passing grade=%{x}<br>Total preseason passing attempts=%{y}<br>player=%{text}<extra></extra>",
         "legendgroup": "MIN",
         "marker": {
          "color": "#4F2683",
          "symbol": "circle"
         },
         "mode": "markers+text",
         "name": "MIN",
         "orientation": "v",
         "showlegend": true,
         "text": [
          "Kirk Cousins"
         ],
         "textposition": "top center",
         "type": "scatter",
         "x": [
          80.96666666666665
         ],
         "xaxis": "x",
         "y": [
          7
         ],
         "yaxis": "y"
        },
        {
         "hovertemplate": "team_name=ARZ<br>Average passing grade=%{x}<br>Total preseason passing attempts=%{y}<br>player=%{text}<extra></extra>",
         "legendgroup": "ARZ",
         "marker": {
          "color": "#97233F",
          "symbol": "circle"
         },
         "mode": "markers+text",
         "name": "ARZ",
         "orientation": "v",
         "showlegend": true,
         "text": [
          "Kyler Murray"
         ],
         "textposition": "top center",
         "type": "scatter",
         "x": [
          76.5
         ],
         "xaxis": "x",
         "y": [
          4
         ],
         "yaxis": "y"
        },
        {
         "hovertemplate": "team_name=BLT<br>Average passing grade=%{x}<br>Total preseason passing attempts=%{y}<br>player=%{text}<extra></extra>",
         "legendgroup": "BLT",
         "marker": {
          "color": "#241773",
          "symbol": "circle"
         },
         "mode": "markers+text",
         "name": "BLT",
         "orientation": "v",
         "showlegend": true,
         "text": [
          "Lamar Jackson"
         ],
         "textposition": "top center",
         "type": "scatter",
         "x": [
          70
         ],
         "xaxis": "x",
         "y": [
          4
         ],
         "yaxis": "y"
        },
        {
         "hovertemplate": "team_name=NE<br>Average passing grade=%{x}<br>Total preseason passing attempts=%{y}<br>player=%{text}<extra></extra>",
         "legendgroup": "NE",
         "marker": {
          "color": "#002244",
          "symbol": "circle"
         },
         "mode": "markers+text",
         "name": "NE",
         "orientation": "v",
         "showlegend": true,
         "text": [
          "Mac Jones"
         ],
         "textposition": "top center",
         "type": "scatter",
         "x": [
          66.53333333333333
         ],
         "xaxis": "x",
         "y": [
          33
         ],
         "yaxis": "y"
        },
        {
         "hovertemplate": "team_name=KC<br>Average passing grade=%{x}<br>Total preseason passing attempts=%{y}<br>player=%{text}<extra></extra>",
         "legendgroup": "KC",
         "marker": {
          "color": "#E31837",
          "symbol": "circle"
         },
         "mode": "markers+text",
         "name": "KC",
         "orientation": "v",
         "showlegend": true,
         "text": [
          "Patrick Mahomes"
         ],
         "textposition": "top center",
         "type": "scatter",
         "x": [
          67.73333333333333
         ],
         "xaxis": "x",
         "y": [
          29
         ],
         "yaxis": "y"
        },
        {
         "hovertemplate": "team_name=CAR<br>Average passing grade=%{x}<br>Total preseason passing attempts=%{y}<br>player=%{text}<extra></extra>",
         "legendgroup": "CAR",
         "marker": {
          "color": "#0085CA",
          "symbol": "circle"
         },
         "mode": "markers+text",
         "name": "CAR",
         "orientation": "v",
         "showlegend": true,
         "text": [
          "Sam Darnold"
         ],
         "textposition": "top center",
         "type": "scatter",
         "x": [
          74.13333333333333
         ],
         "xaxis": "x",
         "y": [
          27
         ],
         "yaxis": "y"
        },
        {
         "hovertemplate": "team_name=WAS<br>Average passing grade=%{x}<br>Total preseason passing attempts=%{y}<br>player=%{text}<extra></extra>",
         "legendgroup": "WAS",
         "marker": {
          "color": "#5A1414",
          "symbol": "circle"
         },
         "mode": "markers+text",
         "name": "WAS",
         "orientation": "v",
         "showlegend": true,
         "text": [
          "Taylor Heinicke"
         ],
         "textposition": "top center",
         "type": "scatter",
         "x": [
          55.5
         ],
         "xaxis": "x",
         "y": [
          28
         ],
         "yaxis": "y"
        },
        {
         "hovertemplate": "team_name=DEN<br>Average passing grade=%{x}<br>Total preseason passing attempts=%{y}<br>player=%{text}<extra></extra>",
         "legendgroup": "DEN",
         "marker": {
          "color": "#FB4F14",
          "symbol": "circle"
         },
         "mode": "markers+text",
         "name": "DEN",
         "orientation": "v",
         "showlegend": true,
         "text": [
          "Teddy Bridgewater"
         ],
         "textposition": "top center",
         "type": "scatter",
         "x": [
          76.43333333333334
         ],
         "xaxis": "x",
         "y": [
          19
         ],
         "yaxis": "y"
        },
        {
         "hovertemplate": "team_name=TB<br>Average passing grade=%{x}<br>Total preseason passing attempts=%{y}<br>player=%{text}<extra></extra>",
         "legendgroup": "TB",
         "marker": {
          "color": "#D50A0A",
          "symbol": "circle"
         },
         "mode": "markers+text",
         "name": "TB",
         "orientation": "v",
         "showlegend": true,
         "text": [
          "Tom Brady"
         ],
         "textposition": "top center",
         "type": "scatter",
         "x": [
          84.23333333333333
         ],
         "xaxis": "x",
         "y": [
          16
         ],
         "yaxis": "y"
        },
        {
         "hovertemplate": "team_name=JAX<br>Average passing grade=%{x}<br>Total preseason passing attempts=%{y}<br>player=%{text}<extra></extra>",
         "legendgroup": "JAX",
         "marker": {
          "color": "#D7A22A",
          "symbol": "circle"
         },
         "mode": "markers+text",
         "name": "JAX",
         "orientation": "v",
         "showlegend": true,
         "text": [
          "Trevor Lawrence"
         ],
         "textposition": "top center",
         "type": "scatter",
         "x": [
          48.36666666666667
         ],
         "xaxis": "x",
         "y": [
          44
         ],
         "yaxis": "y"
        },
        {
         "hovertemplate": "team_name=NYJ<br>Average passing grade=%{x}<br>Total preseason passing attempts=%{y}<br>player=%{text}<extra></extra>",
         "legendgroup": "NYJ",
         "marker": {
          "color": "#125740",
          "symbol": "circle"
         },
         "mode": "markers+text",
         "name": "NYJ",
         "orientation": "v",
         "showlegend": true,
         "text": [
          "Zach Wilson"
         ],
         "textposition": "top center",
         "type": "scatter",
         "x": [
          55
         ],
         "xaxis": "x",
         "y": [
          20
         ],
         "yaxis": "y"
        }
       ],
       "layout": {
        "legend": {
         "title": {
          "text": "team_name"
         },
         "tracegroupgap": 0
        },
        "margin": {
         "t": 60
        },
        "showlegend": false,
        "template": {
         "data": {
          "bar": [
           {
            "error_x": {
             "color": "#2a3f5f"
            },
            "error_y": {
             "color": "#2a3f5f"
            },
            "marker": {
             "line": {
              "color": "#E5ECF6",
              "width": 0.5
             },
             "pattern": {
              "fillmode": "overlay",
              "size": 10,
              "solidity": 0.2
             }
            },
            "type": "bar"
           }
          ],
          "barpolar": [
           {
            "marker": {
             "line": {
              "color": "#E5ECF6",
              "width": 0.5
             },
             "pattern": {
              "fillmode": "overlay",
              "size": 10,
              "solidity": 0.2
             }
            },
            "type": "barpolar"
           }
          ],
          "carpet": [
           {
            "aaxis": {
             "endlinecolor": "#2a3f5f",
             "gridcolor": "white",
             "linecolor": "white",
             "minorgridcolor": "white",
             "startlinecolor": "#2a3f5f"
            },
            "baxis": {
             "endlinecolor": "#2a3f5f",
             "gridcolor": "white",
             "linecolor": "white",
             "minorgridcolor": "white",
             "startlinecolor": "#2a3f5f"
            },
            "type": "carpet"
           }
          ],
          "choropleth": [
           {
            "colorbar": {
             "outlinewidth": 0,
             "ticks": ""
            },
            "type": "choropleth"
           }
          ],
          "contour": [
           {
            "colorbar": {
             "outlinewidth": 0,
             "ticks": ""
            },
            "colorscale": [
             [
              0,
              "#0d0887"
             ],
             [
              0.1111111111111111,
              "#46039f"
             ],
             [
              0.2222222222222222,
              "#7201a8"
             ],
             [
              0.3333333333333333,
              "#9c179e"
             ],
             [
              0.4444444444444444,
              "#bd3786"
             ],
             [
              0.5555555555555556,
              "#d8576b"
             ],
             [
              0.6666666666666666,
              "#ed7953"
             ],
             [
              0.7777777777777778,
              "#fb9f3a"
             ],
             [
              0.8888888888888888,
              "#fdca26"
             ],
             [
              1,
              "#f0f921"
             ]
            ],
            "type": "contour"
           }
          ],
          "contourcarpet": [
           {
            "colorbar": {
             "outlinewidth": 0,
             "ticks": ""
            },
            "type": "contourcarpet"
           }
          ],
          "heatmap": [
           {
            "colorbar": {
             "outlinewidth": 0,
             "ticks": ""
            },
            "colorscale": [
             [
              0,
              "#0d0887"
             ],
             [
              0.1111111111111111,
              "#46039f"
             ],
             [
              0.2222222222222222,
              "#7201a8"
             ],
             [
              0.3333333333333333,
              "#9c179e"
             ],
             [
              0.4444444444444444,
              "#bd3786"
             ],
             [
              0.5555555555555556,
              "#d8576b"
             ],
             [
              0.6666666666666666,
              "#ed7953"
             ],
             [
              0.7777777777777778,
              "#fb9f3a"
             ],
             [
              0.8888888888888888,
              "#fdca26"
             ],
             [
              1,
              "#f0f921"
             ]
            ],
            "type": "heatmap"
           }
          ],
          "heatmapgl": [
           {
            "colorbar": {
             "outlinewidth": 0,
             "ticks": ""
            },
            "colorscale": [
             [
              0,
              "#0d0887"
             ],
             [
              0.1111111111111111,
              "#46039f"
             ],
             [
              0.2222222222222222,
              "#7201a8"
             ],
             [
              0.3333333333333333,
              "#9c179e"
             ],
             [
              0.4444444444444444,
              "#bd3786"
             ],
             [
              0.5555555555555556,
              "#d8576b"
             ],
             [
              0.6666666666666666,
              "#ed7953"
             ],
             [
              0.7777777777777778,
              "#fb9f3a"
             ],
             [
              0.8888888888888888,
              "#fdca26"
             ],
             [
              1,
              "#f0f921"
             ]
            ],
            "type": "heatmapgl"
           }
          ],
          "histogram": [
           {
            "marker": {
             "pattern": {
              "fillmode": "overlay",
              "size": 10,
              "solidity": 0.2
             }
            },
            "type": "histogram"
           }
          ],
          "histogram2d": [
           {
            "colorbar": {
             "outlinewidth": 0,
             "ticks": ""
            },
            "colorscale": [
             [
              0,
              "#0d0887"
             ],
             [
              0.1111111111111111,
              "#46039f"
             ],
             [
              0.2222222222222222,
              "#7201a8"
             ],
             [
              0.3333333333333333,
              "#9c179e"
             ],
             [
              0.4444444444444444,
              "#bd3786"
             ],
             [
              0.5555555555555556,
              "#d8576b"
             ],
             [
              0.6666666666666666,
              "#ed7953"
             ],
             [
              0.7777777777777778,
              "#fb9f3a"
             ],
             [
              0.8888888888888888,
              "#fdca26"
             ],
             [
              1,
              "#f0f921"
             ]
            ],
            "type": "histogram2d"
           }
          ],
          "histogram2dcontour": [
           {
            "colorbar": {
             "outlinewidth": 0,
             "ticks": ""
            },
            "colorscale": [
             [
              0,
              "#0d0887"
             ],
             [
              0.1111111111111111,
              "#46039f"
             ],
             [
              0.2222222222222222,
              "#7201a8"
             ],
             [
              0.3333333333333333,
              "#9c179e"
             ],
             [
              0.4444444444444444,
              "#bd3786"
             ],
             [
              0.5555555555555556,
              "#d8576b"
             ],
             [
              0.6666666666666666,
              "#ed7953"
             ],
             [
              0.7777777777777778,
              "#fb9f3a"
             ],
             [
              0.8888888888888888,
              "#fdca26"
             ],
             [
              1,
              "#f0f921"
             ]
            ],
            "type": "histogram2dcontour"
           }
          ],
          "mesh3d": [
           {
            "colorbar": {
             "outlinewidth": 0,
             "ticks": ""
            },
            "type": "mesh3d"
           }
          ],
          "parcoords": [
           {
            "line": {
             "colorbar": {
              "outlinewidth": 0,
              "ticks": ""
             }
            },
            "type": "parcoords"
           }
          ],
          "pie": [
           {
            "automargin": true,
            "type": "pie"
           }
          ],
          "scatter": [
           {
            "marker": {
             "colorbar": {
              "outlinewidth": 0,
              "ticks": ""
             }
            },
            "type": "scatter"
           }
          ],
          "scatter3d": [
           {
            "line": {
             "colorbar": {
              "outlinewidth": 0,
              "ticks": ""
             }
            },
            "marker": {
             "colorbar": {
              "outlinewidth": 0,
              "ticks": ""
             }
            },
            "type": "scatter3d"
           }
          ],
          "scattercarpet": [
           {
            "marker": {
             "colorbar": {
              "outlinewidth": 0,
              "ticks": ""
             }
            },
            "type": "scattercarpet"
           }
          ],
          "scattergeo": [
           {
            "marker": {
             "colorbar": {
              "outlinewidth": 0,
              "ticks": ""
             }
            },
            "type": "scattergeo"
           }
          ],
          "scattergl": [
           {
            "marker": {
             "colorbar": {
              "outlinewidth": 0,
              "ticks": ""
             }
            },
            "type": "scattergl"
           }
          ],
          "scattermapbox": [
           {
            "marker": {
             "colorbar": {
              "outlinewidth": 0,
              "ticks": ""
             }
            },
            "type": "scattermapbox"
           }
          ],
          "scatterpolar": [
           {
            "marker": {
             "colorbar": {
              "outlinewidth": 0,
              "ticks": ""
             }
            },
            "type": "scatterpolar"
           }
          ],
          "scatterpolargl": [
           {
            "marker": {
             "colorbar": {
              "outlinewidth": 0,
              "ticks": ""
             }
            },
            "type": "scatterpolargl"
           }
          ],
          "scatterternary": [
           {
            "marker": {
             "colorbar": {
              "outlinewidth": 0,
              "ticks": ""
             }
            },
            "type": "scatterternary"
           }
          ],
          "surface": [
           {
            "colorbar": {
             "outlinewidth": 0,
             "ticks": ""
            },
            "colorscale": [
             [
              0,
              "#0d0887"
             ],
             [
              0.1111111111111111,
              "#46039f"
             ],
             [
              0.2222222222222222,
              "#7201a8"
             ],
             [
              0.3333333333333333,
              "#9c179e"
             ],
             [
              0.4444444444444444,
              "#bd3786"
             ],
             [
              0.5555555555555556,
              "#d8576b"
             ],
             [
              0.6666666666666666,
              "#ed7953"
             ],
             [
              0.7777777777777778,
              "#fb9f3a"
             ],
             [
              0.8888888888888888,
              "#fdca26"
             ],
             [
              1,
              "#f0f921"
             ]
            ],
            "type": "surface"
           }
          ],
          "table": [
           {
            "cells": {
             "fill": {
              "color": "#EBF0F8"
             },
             "line": {
              "color": "white"
             }
            },
            "header": {
             "fill": {
              "color": "#C8D4E3"
             },
             "line": {
              "color": "white"
             }
            },
            "type": "table"
           }
          ]
         },
         "layout": {
          "annotationdefaults": {
           "arrowcolor": "#2a3f5f",
           "arrowhead": 0,
           "arrowwidth": 1
          },
          "autotypenumbers": "strict",
          "coloraxis": {
           "colorbar": {
            "outlinewidth": 0,
            "ticks": ""
           }
          },
          "colorscale": {
           "diverging": [
            [
             0,
             "#8e0152"
            ],
            [
             0.1,
             "#c51b7d"
            ],
            [
             0.2,
             "#de77ae"
            ],
            [
             0.3,
             "#f1b6da"
            ],
            [
             0.4,
             "#fde0ef"
            ],
            [
             0.5,
             "#f7f7f7"
            ],
            [
             0.6,
             "#e6f5d0"
            ],
            [
             0.7,
             "#b8e186"
            ],
            [
             0.8,
             "#7fbc41"
            ],
            [
             0.9,
             "#4d9221"
            ],
            [
             1,
             "#276419"
            ]
           ],
           "sequential": [
            [
             0,
             "#0d0887"
            ],
            [
             0.1111111111111111,
             "#46039f"
            ],
            [
             0.2222222222222222,
             "#7201a8"
            ],
            [
             0.3333333333333333,
             "#9c179e"
            ],
            [
             0.4444444444444444,
             "#bd3786"
            ],
            [
             0.5555555555555556,
             "#d8576b"
            ],
            [
             0.6666666666666666,
             "#ed7953"
            ],
            [
             0.7777777777777778,
             "#fb9f3a"
            ],
            [
             0.8888888888888888,
             "#fdca26"
            ],
            [
             1,
             "#f0f921"
            ]
           ],
           "sequentialminus": [
            [
             0,
             "#0d0887"
            ],
            [
             0.1111111111111111,
             "#46039f"
            ],
            [
             0.2222222222222222,
             "#7201a8"
            ],
            [
             0.3333333333333333,
             "#9c179e"
            ],
            [
             0.4444444444444444,
             "#bd3786"
            ],
            [
             0.5555555555555556,
             "#d8576b"
            ],
            [
             0.6666666666666666,
             "#ed7953"
            ],
            [
             0.7777777777777778,
             "#fb9f3a"
            ],
            [
             0.8888888888888888,
             "#fdca26"
            ],
            [
             1,
             "#f0f921"
            ]
           ]
          },
          "colorway": [
           "#636efa",
           "#EF553B",
           "#00cc96",
           "#ab63fa",
           "#FFA15A",
           "#19d3f3",
           "#FF6692",
           "#B6E880",
           "#FF97FF",
           "#FECB52"
          ],
          "font": {
           "color": "#2a3f5f"
          },
          "geo": {
           "bgcolor": "white",
           "lakecolor": "white",
           "landcolor": "#E5ECF6",
           "showlakes": true,
           "showland": true,
           "subunitcolor": "white"
          },
          "hoverlabel": {
           "align": "left"
          },
          "hovermode": "closest",
          "mapbox": {
           "style": "light"
          },
          "paper_bgcolor": "white",
          "plot_bgcolor": "#E5ECF6",
          "polar": {
           "angularaxis": {
            "gridcolor": "white",
            "linecolor": "white",
            "ticks": ""
           },
           "bgcolor": "#E5ECF6",
           "radialaxis": {
            "gridcolor": "white",
            "linecolor": "white",
            "ticks": ""
           }
          },
          "scene": {
           "xaxis": {
            "backgroundcolor": "#E5ECF6",
            "gridcolor": "white",
            "gridwidth": 2,
            "linecolor": "white",
            "showbackground": true,
            "ticks": "",
            "zerolinecolor": "white"
           },
           "yaxis": {
            "backgroundcolor": "#E5ECF6",
            "gridcolor": "white",
            "gridwidth": 2,
            "linecolor": "white",
            "showbackground": true,
            "ticks": "",
            "zerolinecolor": "white"
           },
           "zaxis": {
            "backgroundcolor": "#E5ECF6",
            "gridcolor": "white",
            "gridwidth": 2,
            "linecolor": "white",
            "showbackground": true,
            "ticks": "",
            "zerolinecolor": "white"
           }
          },
          "shapedefaults": {
           "line": {
            "color": "#2a3f5f"
           }
          },
          "ternary": {
           "aaxis": {
            "gridcolor": "white",
            "linecolor": "white",
            "ticks": ""
           },
           "baxis": {
            "gridcolor": "white",
            "linecolor": "white",
            "ticks": ""
           },
           "bgcolor": "#E5ECF6",
           "caxis": {
            "gridcolor": "white",
            "linecolor": "white",
            "ticks": ""
           }
          },
          "title": {
           "x": 0.05
          },
          "xaxis": {
           "automargin": true,
           "gridcolor": "white",
           "linecolor": "white",
           "ticks": "",
           "title": {
            "standoff": 15
           },
           "zerolinecolor": "white",
           "zerolinewidth": 2
          },
          "yaxis": {
           "automargin": true,
           "gridcolor": "white",
           "linecolor": "white",
           "ticks": "",
           "title": {
            "standoff": 15
           },
           "zerolinecolor": "white",
           "zerolinewidth": 2
          }
         }
        },
        "title": {
         "text": "AVG PFF passing grade through 3 weeks vs preseason attempts (2021) <br><sup>Minimum 30 attempts through week 3</sup>",
         "x": 0.5,
         "xanchor": "center",
         "y": 0.95,
         "yanchor": "top"
        },
        "xaxis": {
         "anchor": "y",
         "domain": [
          0,
          1
         ],
         "title": {
          "text": "Average passing grade"
         }
        },
        "yaxis": {
         "anchor": "x",
         "domain": [
          0,
          1
         ],
         "title": {
          "text": "Total preseason passing attempts"
         }
        }
       }
      },
      "text/html": [
       "<div>                            <div id=\"3b309eb1-d0ae-4735-905f-faa0b4d94194\" class=\"plotly-graph-div\" style=\"height:525px; width:100%;\"></div>            <script type=\"text/javascript\">                require([\"plotly\"], function(Plotly) {                    window.PLOTLYENV=window.PLOTLYENV || {};                                    if (document.getElementById(\"3b309eb1-d0ae-4735-905f-faa0b4d94194\")) {                    Plotly.newPlot(                        \"3b309eb1-d0ae-4735-905f-faa0b4d94194\",                        [{\"hovertemplate\":\"team_name=CHI<br>Average passing grade=%{x}<br>Total preseason passing attempts=%{y}<br>player=%{text}<extra></extra>\",\"legendgroup\":\"CHI\",\"marker\":{\"color\":\"#C83803\",\"symbol\":\"circle\"},\"mode\":\"markers+text\",\"name\":\"CHI\",\"orientation\":\"v\",\"showlegend\":true,\"text\":[\"Andy Dalton\",\"Justin Fields\"],\"x\":[72.8,52.93333333333334],\"xaxis\":\"x\",\"y\":[21.0,49.0],\"yaxis\":\"y\",\"type\":\"scatter\",\"textposition\":\"top center\"},{\"hovertemplate\":\"team_name=CLV<br>Average passing grade=%{x}<br>Total preseason passing attempts=%{y}<br>player=%{text}<extra></extra>\",\"legendgroup\":\"CLV\",\"marker\":{\"color\":\"#311D00\",\"symbol\":\"circle\"},\"mode\":\"markers+text\",\"name\":\"CLV\",\"orientation\":\"v\",\"showlegend\":true,\"text\":[\"Baker Mayfield\"],\"x\":[74.03333333333335],\"xaxis\":\"x\",\"y\":[10.0],\"yaxis\":\"y\",\"type\":\"scatter\",\"textposition\":\"top center\"},{\"hovertemplate\":\"team_name=PIT<br>Average passing grade=%{x}<br>Total preseason passing attempts=%{y}<br>player=%{text}<extra></extra>\",\"legendgroup\":\"PIT\",\"marker\":{\"color\":\"#FFB612\",\"symbol\":\"circle\"},\"mode\":\"markers+text\",\"name\":\"PIT\",\"orientation\":\"v\",\"showlegend\":true,\"text\":[\"Ben Roethlisberger\"],\"x\":[55.63333333333333],\"xaxis\":\"x\",\"y\":[10.0],\"yaxis\":\"y\",\"type\":\"scatter\",\"textposition\":\"top center\"},{\"hovertemplate\":\"team_name=NYG<br>Average passing grade=%{x}<br>Total preseason passing attempts=%{y}<br>player=%{text}<extra></extra>\",\"legendgroup\":\"NYG\",\"marker\":{\"color\":\"#EF553B\",\"symbol\":\"circle\"},\"mode\":\"markers+text\",\"name\":\"NYG\",\"orientation\":\"v\",\"showlegend\":true,\"text\":[\"Daniel Jones\"],\"x\":[76.56666666666666],\"xaxis\":\"x\",\"y\":[22.0],\"yaxis\":\"y\",\"type\":\"scatter\",\"textposition\":\"top center\"},{\"hovertemplate\":\"team_name=HST<br>Average passing grade=%{x}<br>Total preseason passing attempts=%{y}<br>player=%{text}<extra></extra>\",\"legendgroup\":\"HST\",\"marker\":{\"color\":\"#A71930\",\"symbol\":\"circle\"},\"mode\":\"markers+text\",\"name\":\"HST\",\"orientation\":\"v\",\"showlegend\":true,\"text\":[\"Davis Mills\",\"Tyrod Taylor\"],\"x\":[48.0,71.7],\"xaxis\":\"x\",\"y\":[65.0,18.0],\"yaxis\":\"y\",\"type\":\"scatter\",\"textposition\":\"top center\"},{\"hovertemplate\":\"team_name=MIA<br>Average passing grade=%{x}<br>Total preseason passing attempts=%{y}<br>player=%{text}<extra></extra>\",\"legendgroup\":\"MIA\",\"marker\":{\"color\":\"#008E97\",\"symbol\":\"circle\"},\"mode\":\"markers+text\",\"name\":\"MIA\",\"orientation\":\"v\",\"showlegend\":true,\"text\":[\"Jacoby Brissett\",\"Tua Tagovailoa\"],\"x\":[73.3,53.35],\"xaxis\":\"x\",\"y\":[18.0,34.0],\"yaxis\":\"y\",\"type\":\"scatter\",\"textposition\":\"top center\"},{\"hovertemplate\":\"team_name=PHI<br>Average passing grade=%{x}<br>Total preseason passing attempts=%{y}<br>player=%{text}<extra></extra>\",\"legendgroup\":\"PHI\",\"marker\":{\"color\":\"#004C54\",\"symbol\":\"circle\"},\"mode\":\"markers+text\",\"name\":\"PHI\",\"orientation\":\"v\",\"showlegend\":true,\"text\":[\"Jalen Hurts\"],\"x\":[73.19999999999999],\"xaxis\":\"x\",\"y\":[7.0],\"yaxis\":\"y\",\"type\":\"scatter\",\"textposition\":\"top center\"},{\"hovertemplate\":\"team_name=NO<br>Average passing grade=%{x}<br>Total preseason passing attempts=%{y}<br>player=%{text}<extra></extra>\",\"legendgroup\":\"NO\",\"marker\":{\"color\":\"#D3BC8D\",\"symbol\":\"circle\"},\"mode\":\"markers+text\",\"name\":\"NO\",\"orientation\":\"v\",\"showlegend\":true,\"text\":[\"Jameis Winston\"],\"x\":[55.199999999999996],\"xaxis\":\"x\",\"y\":[22.0],\"yaxis\":\"y\",\"type\":\"scatter\",\"textposition\":\"top center\"},{\"hovertemplate\":\"team_name=DET<br>Average passing grade=%{x}<br>Total preseason passing attempts=%{y}<br>player=%{text}<extra></extra>\",\"legendgroup\":\"DET\",\"marker\":{\"color\":\"#B0B7BC\",\"symbol\":\"circle\"},\"mode\":\"markers+text\",\"name\":\"DET\",\"orientation\":\"v\",\"showlegend\":true,\"text\":[\"Jared Goff\"],\"x\":[65.10000000000001],\"xaxis\":\"x\",\"y\":[9.0],\"yaxis\":\"y\",\"type\":\"scatter\",\"textposition\":\"top center\"},{\"hovertemplate\":\"team_name=SF<br>Average passing grade=%{x}<br>Total preseason passing attempts=%{y}<br>player=%{text}<extra></extra>\",\"legendgroup\":\"SF\",\"marker\":{\"color\":\"#AA0000\",\"symbol\":\"circle\"},\"mode\":\"markers+text\",\"name\":\"SF\",\"orientation\":\"v\",\"showlegend\":true,\"text\":[\"Jimmy Garoppolo\"],\"x\":[60.96666666666667],\"xaxis\":\"x\",\"y\":[16.0],\"yaxis\":\"y\",\"type\":\"scatter\",\"textposition\":\"top center\"},{\"hovertemplate\":\"team_name=CIN<br>Average passing grade=%{x}<br>Total preseason passing attempts=%{y}<br>player=%{text}<extra></extra>\",\"legendgroup\":\"CIN\",\"marker\":{\"color\":\"#FB4F14\",\"symbol\":\"circle\"},\"mode\":\"markers+text\",\"name\":\"CIN\",\"orientation\":\"v\",\"showlegend\":true,\"text\":[\"Joe Burrow\"],\"x\":[74.06666666666666],\"xaxis\":\"x\",\"y\":[1.0],\"yaxis\":\"y\",\"type\":\"scatter\",\"textposition\":\"top center\"},{\"hovertemplate\":\"team_name=BUF<br>Average passing grade=%{x}<br>Total preseason passing attempts=%{y}<br>player=%{text}<extra></extra>\",\"legendgroup\":\"BUF\",\"marker\":{\"color\":\"#00338D\",\"symbol\":\"circle\"},\"mode\":\"markers+text\",\"name\":\"BUF\",\"orientation\":\"v\",\"showlegend\":true,\"text\":[\"Josh Allen\"],\"x\":[65.8],\"xaxis\":\"x\",\"y\":[26.0],\"yaxis\":\"y\",\"type\":\"scatter\",\"textposition\":\"top center\"},{\"hovertemplate\":\"team_name=MIN<br>Average passing grade=%{x}<br>Total preseason passing attempts=%{y}<br>player=%{text}<extra></extra>\",\"legendgroup\":\"MIN\",\"marker\":{\"color\":\"#4F2683\",\"symbol\":\"circle\"},\"mode\":\"markers+text\",\"name\":\"MIN\",\"orientation\":\"v\",\"showlegend\":true,\"text\":[\"Kirk Cousins\"],\"x\":[80.96666666666665],\"xaxis\":\"x\",\"y\":[7.0],\"yaxis\":\"y\",\"type\":\"scatter\",\"textposition\":\"top center\"},{\"hovertemplate\":\"team_name=ARZ<br>Average passing grade=%{x}<br>Total preseason passing attempts=%{y}<br>player=%{text}<extra></extra>\",\"legendgroup\":\"ARZ\",\"marker\":{\"color\":\"#97233F\",\"symbol\":\"circle\"},\"mode\":\"markers+text\",\"name\":\"ARZ\",\"orientation\":\"v\",\"showlegend\":true,\"text\":[\"Kyler Murray\"],\"x\":[76.5],\"xaxis\":\"x\",\"y\":[4.0],\"yaxis\":\"y\",\"type\":\"scatter\",\"textposition\":\"top center\"},{\"hovertemplate\":\"team_name=BLT<br>Average passing grade=%{x}<br>Total preseason passing attempts=%{y}<br>player=%{text}<extra></extra>\",\"legendgroup\":\"BLT\",\"marker\":{\"color\":\"#241773\",\"symbol\":\"circle\"},\"mode\":\"markers+text\",\"name\":\"BLT\",\"orientation\":\"v\",\"showlegend\":true,\"text\":[\"Lamar Jackson\"],\"x\":[70.0],\"xaxis\":\"x\",\"y\":[4.0],\"yaxis\":\"y\",\"type\":\"scatter\",\"textposition\":\"top center\"},{\"hovertemplate\":\"team_name=NE<br>Average passing grade=%{x}<br>Total preseason passing attempts=%{y}<br>player=%{text}<extra></extra>\",\"legendgroup\":\"NE\",\"marker\":{\"color\":\"#002244\",\"symbol\":\"circle\"},\"mode\":\"markers+text\",\"name\":\"NE\",\"orientation\":\"v\",\"showlegend\":true,\"text\":[\"Mac Jones\"],\"x\":[66.53333333333333],\"xaxis\":\"x\",\"y\":[33.0],\"yaxis\":\"y\",\"type\":\"scatter\",\"textposition\":\"top center\"},{\"hovertemplate\":\"team_name=KC<br>Average passing grade=%{x}<br>Total preseason passing attempts=%{y}<br>player=%{text}<extra></extra>\",\"legendgroup\":\"KC\",\"marker\":{\"color\":\"#E31837\",\"symbol\":\"circle\"},\"mode\":\"markers+text\",\"name\":\"KC\",\"orientation\":\"v\",\"showlegend\":true,\"text\":[\"Patrick Mahomes\"],\"x\":[67.73333333333333],\"xaxis\":\"x\",\"y\":[29.0],\"yaxis\":\"y\",\"type\":\"scatter\",\"textposition\":\"top center\"},{\"hovertemplate\":\"team_name=CAR<br>Average passing grade=%{x}<br>Total preseason passing attempts=%{y}<br>player=%{text}<extra></extra>\",\"legendgroup\":\"CAR\",\"marker\":{\"color\":\"#0085CA\",\"symbol\":\"circle\"},\"mode\":\"markers+text\",\"name\":\"CAR\",\"orientation\":\"v\",\"showlegend\":true,\"text\":[\"Sam Darnold\"],\"x\":[74.13333333333333],\"xaxis\":\"x\",\"y\":[27.0],\"yaxis\":\"y\",\"type\":\"scatter\",\"textposition\":\"top center\"},{\"hovertemplate\":\"team_name=WAS<br>Average passing grade=%{x}<br>Total preseason passing attempts=%{y}<br>player=%{text}<extra></extra>\",\"legendgroup\":\"WAS\",\"marker\":{\"color\":\"#5A1414\",\"symbol\":\"circle\"},\"mode\":\"markers+text\",\"name\":\"WAS\",\"orientation\":\"v\",\"showlegend\":true,\"text\":[\"Taylor Heinicke\"],\"x\":[55.5],\"xaxis\":\"x\",\"y\":[28.0],\"yaxis\":\"y\",\"type\":\"scatter\",\"textposition\":\"top center\"},{\"hovertemplate\":\"team_name=DEN<br>Average passing grade=%{x}<br>Total preseason passing attempts=%{y}<br>player=%{text}<extra></extra>\",\"legendgroup\":\"DEN\",\"marker\":{\"color\":\"#FB4F14\",\"symbol\":\"circle\"},\"mode\":\"markers+text\",\"name\":\"DEN\",\"orientation\":\"v\",\"showlegend\":true,\"text\":[\"Teddy Bridgewater\"],\"x\":[76.43333333333334],\"xaxis\":\"x\",\"y\":[19.0],\"yaxis\":\"y\",\"type\":\"scatter\",\"textposition\":\"top center\"},{\"hovertemplate\":\"team_name=TB<br>Average passing grade=%{x}<br>Total preseason passing attempts=%{y}<br>player=%{text}<extra></extra>\",\"legendgroup\":\"TB\",\"marker\":{\"color\":\"#D50A0A\",\"symbol\":\"circle\"},\"mode\":\"markers+text\",\"name\":\"TB\",\"orientation\":\"v\",\"showlegend\":true,\"text\":[\"Tom Brady\"],\"x\":[84.23333333333333],\"xaxis\":\"x\",\"y\":[16.0],\"yaxis\":\"y\",\"type\":\"scatter\",\"textposition\":\"top center\"},{\"hovertemplate\":\"team_name=JAX<br>Average passing grade=%{x}<br>Total preseason passing attempts=%{y}<br>player=%{text}<extra></extra>\",\"legendgroup\":\"JAX\",\"marker\":{\"color\":\"#D7A22A\",\"symbol\":\"circle\"},\"mode\":\"markers+text\",\"name\":\"JAX\",\"orientation\":\"v\",\"showlegend\":true,\"text\":[\"Trevor Lawrence\"],\"x\":[48.36666666666667],\"xaxis\":\"x\",\"y\":[44.0],\"yaxis\":\"y\",\"type\":\"scatter\",\"textposition\":\"top center\"},{\"hovertemplate\":\"team_name=NYJ<br>Average passing grade=%{x}<br>Total preseason passing attempts=%{y}<br>player=%{text}<extra></extra>\",\"legendgroup\":\"NYJ\",\"marker\":{\"color\":\"#125740\",\"symbol\":\"circle\"},\"mode\":\"markers+text\",\"name\":\"NYJ\",\"orientation\":\"v\",\"showlegend\":true,\"text\":[\"Zach Wilson\"],\"x\":[55.0],\"xaxis\":\"x\",\"y\":[20.0],\"yaxis\":\"y\",\"type\":\"scatter\",\"textposition\":\"top center\"}],                        {\"template\":{\"data\":{\"bar\":[{\"error_x\":{\"color\":\"#2a3f5f\"},\"error_y\":{\"color\":\"#2a3f5f\"},\"marker\":{\"line\":{\"color\":\"#E5ECF6\",\"width\":0.5},\"pattern\":{\"fillmode\":\"overlay\",\"size\":10,\"solidity\":0.2}},\"type\":\"bar\"}],\"barpolar\":[{\"marker\":{\"line\":{\"color\":\"#E5ECF6\",\"width\":0.5},\"pattern\":{\"fillmode\":\"overlay\",\"size\":10,\"solidity\":0.2}},\"type\":\"barpolar\"}],\"carpet\":[{\"aaxis\":{\"endlinecolor\":\"#2a3f5f\",\"gridcolor\":\"white\",\"linecolor\":\"white\",\"minorgridcolor\":\"white\",\"startlinecolor\":\"#2a3f5f\"},\"baxis\":{\"endlinecolor\":\"#2a3f5f\",\"gridcolor\":\"white\",\"linecolor\":\"white\",\"minorgridcolor\":\"white\",\"startlinecolor\":\"#2a3f5f\"},\"type\":\"carpet\"}],\"choropleth\":[{\"colorbar\":{\"outlinewidth\":0,\"ticks\":\"\"},\"type\":\"choropleth\"}],\"contour\":[{\"colorbar\":{\"outlinewidth\":0,\"ticks\":\"\"},\"colorscale\":[[0.0,\"#0d0887\"],[0.1111111111111111,\"#46039f\"],[0.2222222222222222,\"#7201a8\"],[0.3333333333333333,\"#9c179e\"],[0.4444444444444444,\"#bd3786\"],[0.5555555555555556,\"#d8576b\"],[0.6666666666666666,\"#ed7953\"],[0.7777777777777778,\"#fb9f3a\"],[0.8888888888888888,\"#fdca26\"],[1.0,\"#f0f921\"]],\"type\":\"contour\"}],\"contourcarpet\":[{\"colorbar\":{\"outlinewidth\":0,\"ticks\":\"\"},\"type\":\"contourcarpet\"}],\"heatmap\":[{\"colorbar\":{\"outlinewidth\":0,\"ticks\":\"\"},\"colorscale\":[[0.0,\"#0d0887\"],[0.1111111111111111,\"#46039f\"],[0.2222222222222222,\"#7201a8\"],[0.3333333333333333,\"#9c179e\"],[0.4444444444444444,\"#bd3786\"],[0.5555555555555556,\"#d8576b\"],[0.6666666666666666,\"#ed7953\"],[0.7777777777777778,\"#fb9f3a\"],[0.8888888888888888,\"#fdca26\"],[1.0,\"#f0f921\"]],\"type\":\"heatmap\"}],\"heatmapgl\":[{\"colorbar\":{\"outlinewidth\":0,\"ticks\":\"\"},\"colorscale\":[[0.0,\"#0d0887\"],[0.1111111111111111,\"#46039f\"],[0.2222222222222222,\"#7201a8\"],[0.3333333333333333,\"#9c179e\"],[0.4444444444444444,\"#bd3786\"],[0.5555555555555556,\"#d8576b\"],[0.6666666666666666,\"#ed7953\"],[0.7777777777777778,\"#fb9f3a\"],[0.8888888888888888,\"#fdca26\"],[1.0,\"#f0f921\"]],\"type\":\"heatmapgl\"}],\"histogram\":[{\"marker\":{\"pattern\":{\"fillmode\":\"overlay\",\"size\":10,\"solidity\":0.2}},\"type\":\"histogram\"}],\"histogram2d\":[{\"colorbar\":{\"outlinewidth\":0,\"ticks\":\"\"},\"colorscale\":[[0.0,\"#0d0887\"],[0.1111111111111111,\"#46039f\"],[0.2222222222222222,\"#7201a8\"],[0.3333333333333333,\"#9c179e\"],[0.4444444444444444,\"#bd3786\"],[0.5555555555555556,\"#d8576b\"],[0.6666666666666666,\"#ed7953\"],[0.7777777777777778,\"#fb9f3a\"],[0.8888888888888888,\"#fdca26\"],[1.0,\"#f0f921\"]],\"type\":\"histogram2d\"}],\"histogram2dcontour\":[{\"colorbar\":{\"outlinewidth\":0,\"ticks\":\"\"},\"colorscale\":[[0.0,\"#0d0887\"],[0.1111111111111111,\"#46039f\"],[0.2222222222222222,\"#7201a8\"],[0.3333333333333333,\"#9c179e\"],[0.4444444444444444,\"#bd3786\"],[0.5555555555555556,\"#d8576b\"],[0.6666666666666666,\"#ed7953\"],[0.7777777777777778,\"#fb9f3a\"],[0.8888888888888888,\"#fdca26\"],[1.0,\"#f0f921\"]],\"type\":\"histogram2dcontour\"}],\"mesh3d\":[{\"colorbar\":{\"outlinewidth\":0,\"ticks\":\"\"},\"type\":\"mesh3d\"}],\"parcoords\":[{\"line\":{\"colorbar\":{\"outlinewidth\":0,\"ticks\":\"\"}},\"type\":\"parcoords\"}],\"pie\":[{\"automargin\":true,\"type\":\"pie\"}],\"scatter\":[{\"marker\":{\"colorbar\":{\"outlinewidth\":0,\"ticks\":\"\"}},\"type\":\"scatter\"}],\"scatter3d\":[{\"line\":{\"colorbar\":{\"outlinewidth\":0,\"ticks\":\"\"}},\"marker\":{\"colorbar\":{\"outlinewidth\":0,\"ticks\":\"\"}},\"type\":\"scatter3d\"}],\"scattercarpet\":[{\"marker\":{\"colorbar\":{\"outlinewidth\":0,\"ticks\":\"\"}},\"type\":\"scattercarpet\"}],\"scattergeo\":[{\"marker\":{\"colorbar\":{\"outlinewidth\":0,\"ticks\":\"\"}},\"type\":\"scattergeo\"}],\"scattergl\":[{\"marker\":{\"colorbar\":{\"outlinewidth\":0,\"ticks\":\"\"}},\"type\":\"scattergl\"}],\"scattermapbox\":[{\"marker\":{\"colorbar\":{\"outlinewidth\":0,\"ticks\":\"\"}},\"type\":\"scattermapbox\"}],\"scatterpolar\":[{\"marker\":{\"colorbar\":{\"outlinewidth\":0,\"ticks\":\"\"}},\"type\":\"scatterpolar\"}],\"scatterpolargl\":[{\"marker\":{\"colorbar\":{\"outlinewidth\":0,\"ticks\":\"\"}},\"type\":\"scatterpolargl\"}],\"scatterternary\":[{\"marker\":{\"colorbar\":{\"outlinewidth\":0,\"ticks\":\"\"}},\"type\":\"scatterternary\"}],\"surface\":[{\"colorbar\":{\"outlinewidth\":0,\"ticks\":\"\"},\"colorscale\":[[0.0,\"#0d0887\"],[0.1111111111111111,\"#46039f\"],[0.2222222222222222,\"#7201a8\"],[0.3333333333333333,\"#9c179e\"],[0.4444444444444444,\"#bd3786\"],[0.5555555555555556,\"#d8576b\"],[0.6666666666666666,\"#ed7953\"],[0.7777777777777778,\"#fb9f3a\"],[0.8888888888888888,\"#fdca26\"],[1.0,\"#f0f921\"]],\"type\":\"surface\"}],\"table\":[{\"cells\":{\"fill\":{\"color\":\"#EBF0F8\"},\"line\":{\"color\":\"white\"}},\"header\":{\"fill\":{\"color\":\"#C8D4E3\"},\"line\":{\"color\":\"white\"}},\"type\":\"table\"}]},\"layout\":{\"annotationdefaults\":{\"arrowcolor\":\"#2a3f5f\",\"arrowhead\":0,\"arrowwidth\":1},\"autotypenumbers\":\"strict\",\"coloraxis\":{\"colorbar\":{\"outlinewidth\":0,\"ticks\":\"\"}},\"colorscale\":{\"diverging\":[[0,\"#8e0152\"],[0.1,\"#c51b7d\"],[0.2,\"#de77ae\"],[0.3,\"#f1b6da\"],[0.4,\"#fde0ef\"],[0.5,\"#f7f7f7\"],[0.6,\"#e6f5d0\"],[0.7,\"#b8e186\"],[0.8,\"#7fbc41\"],[0.9,\"#4d9221\"],[1,\"#276419\"]],\"sequential\":[[0.0,\"#0d0887\"],[0.1111111111111111,\"#46039f\"],[0.2222222222222222,\"#7201a8\"],[0.3333333333333333,\"#9c179e\"],[0.4444444444444444,\"#bd3786\"],[0.5555555555555556,\"#d8576b\"],[0.6666666666666666,\"#ed7953\"],[0.7777777777777778,\"#fb9f3a\"],[0.8888888888888888,\"#fdca26\"],[1.0,\"#f0f921\"]],\"sequentialminus\":[[0.0,\"#0d0887\"],[0.1111111111111111,\"#46039f\"],[0.2222222222222222,\"#7201a8\"],[0.3333333333333333,\"#9c179e\"],[0.4444444444444444,\"#bd3786\"],[0.5555555555555556,\"#d8576b\"],[0.6666666666666666,\"#ed7953\"],[0.7777777777777778,\"#fb9f3a\"],[0.8888888888888888,\"#fdca26\"],[1.0,\"#f0f921\"]]},\"colorway\":[\"#636efa\",\"#EF553B\",\"#00cc96\",\"#ab63fa\",\"#FFA15A\",\"#19d3f3\",\"#FF6692\",\"#B6E880\",\"#FF97FF\",\"#FECB52\"],\"font\":{\"color\":\"#2a3f5f\"},\"geo\":{\"bgcolor\":\"white\",\"lakecolor\":\"white\",\"landcolor\":\"#E5ECF6\",\"showlakes\":true,\"showland\":true,\"subunitcolor\":\"white\"},\"hoverlabel\":{\"align\":\"left\"},\"hovermode\":\"closest\",\"mapbox\":{\"style\":\"light\"},\"paper_bgcolor\":\"white\",\"plot_bgcolor\":\"#E5ECF6\",\"polar\":{\"angularaxis\":{\"gridcolor\":\"white\",\"linecolor\":\"white\",\"ticks\":\"\"},\"bgcolor\":\"#E5ECF6\",\"radialaxis\":{\"gridcolor\":\"white\",\"linecolor\":\"white\",\"ticks\":\"\"}},\"scene\":{\"xaxis\":{\"backgroundcolor\":\"#E5ECF6\",\"gridcolor\":\"white\",\"gridwidth\":2,\"linecolor\":\"white\",\"showbackground\":true,\"ticks\":\"\",\"zerolinecolor\":\"white\"},\"yaxis\":{\"backgroundcolor\":\"#E5ECF6\",\"gridcolor\":\"white\",\"gridwidth\":2,\"linecolor\":\"white\",\"showbackground\":true,\"ticks\":\"\",\"zerolinecolor\":\"white\"},\"zaxis\":{\"backgroundcolor\":\"#E5ECF6\",\"gridcolor\":\"white\",\"gridwidth\":2,\"linecolor\":\"white\",\"showbackground\":true,\"ticks\":\"\",\"zerolinecolor\":\"white\"}},\"shapedefaults\":{\"line\":{\"color\":\"#2a3f5f\"}},\"ternary\":{\"aaxis\":{\"gridcolor\":\"white\",\"linecolor\":\"white\",\"ticks\":\"\"},\"baxis\":{\"gridcolor\":\"white\",\"linecolor\":\"white\",\"ticks\":\"\"},\"bgcolor\":\"#E5ECF6\",\"caxis\":{\"gridcolor\":\"white\",\"linecolor\":\"white\",\"ticks\":\"\"}},\"title\":{\"x\":0.05},\"xaxis\":{\"automargin\":true,\"gridcolor\":\"white\",\"linecolor\":\"white\",\"ticks\":\"\",\"title\":{\"standoff\":15},\"zerolinecolor\":\"white\",\"zerolinewidth\":2},\"yaxis\":{\"automargin\":true,\"gridcolor\":\"white\",\"linecolor\":\"white\",\"ticks\":\"\",\"title\":{\"standoff\":15},\"zerolinecolor\":\"white\",\"zerolinewidth\":2}}},\"xaxis\":{\"anchor\":\"y\",\"domain\":[0.0,1.0],\"title\":{\"text\":\"Average passing grade\"}},\"yaxis\":{\"anchor\":\"x\",\"domain\":[0.0,1.0],\"title\":{\"text\":\"Total preseason passing attempts\"}},\"legend\":{\"title\":{\"text\":\"team_name\"},\"tracegroupgap\":0},\"margin\":{\"t\":60},\"showlegend\":false,\"title\":{\"text\":\"AVG PFF passing grade through 3 weeks vs preseason attempts (2021) <br><sup>Minimum 30 attempts through week 3</sup>\",\"y\":0.95,\"x\":0.5,\"xanchor\":\"center\",\"yanchor\":\"top\"}},                        {\"responsive\": true}                    ).then(function(){\n",
       "                            \n",
       "var gd = document.getElementById('3b309eb1-d0ae-4735-905f-faa0b4d94194');\n",
       "var x = new MutationObserver(function (mutations, observer) {{\n",
       "        var display = window.getComputedStyle(gd).display;\n",
       "        if (!display || display === 'none') {{\n",
       "            console.log([gd, 'removed!']);\n",
       "            Plotly.purge(gd);\n",
       "            observer.disconnect();\n",
       "        }}\n",
       "}});\n",
       "\n",
       "// Listen for the removal of the full notebook cells\n",
       "var notebookContainer = gd.closest('#notebook-container');\n",
       "if (notebookContainer) {{\n",
       "    x.observe(notebookContainer, {childList: true});\n",
       "}}\n",
       "\n",
       "// Listen for the clearing of the current output cell\n",
       "var outputEl = gd.closest('.output');\n",
       "if (outputEl) {{\n",
       "    x.observe(outputEl, {childList: true});\n",
       "}}\n",
       "\n",
       "                        })                };                });            </script>        </div>"
      ]
     },
     "metadata": {},
     "output_type": "display_data"
    }
   ],
   "source": [
    "# lets see how preseason attempts effects average pff grade through 3 weeks\n",
    "preseason_to_week_one = px.scatter(qb_pre_to_one,\n",
    "                                   x='passing_grade',\n",
    "                                   y='preseason_attempts',\n",
    "                                   labels=dict(passing_grade=\"Average passing grade\", preseason_attempts=\"Total preseason passing attempts\"),\n",
    "                                   text='player',\n",
    "                                   color='team_name',\n",
    "                                   color_discrete_map=team_colors,).update_traces(textposition='top center')\n",
    "preseason_to_week_one.update_layout(showlegend=False)\n",
    "preseason_to_week_one.update_layout(\n",
    "    title={\n",
    "        'text': \"AVG PFF passing grade through 3 weeks vs preseason attempts (2021) <br><sup>Minimum 30 attempts through week 3</sup>\",\n",
    "        'y':0.95,\n",
    "        'x':0.5,\n",
    "        'xanchor': 'center',\n",
    "        'yanchor': 'top'})\n",
    "preseason_to_week_one.show()"
   ]
  },
  {
   "cell_type": "code",
   "execution_count": 41,
   "id": "50a548c0",
   "metadata": {},
   "outputs": [
    {
     "data": {
      "text/html": [
       "<div>\n",
       "<style scoped>\n",
       "    .dataframe tbody tr th:only-of-type {\n",
       "        vertical-align: middle;\n",
       "    }\n",
       "\n",
       "    .dataframe tbody tr th {\n",
       "        vertical-align: top;\n",
       "    }\n",
       "\n",
       "    .dataframe thead th {\n",
       "        text-align: right;\n",
       "    }\n",
       "</style>\n",
       "<table border=\"1\" class=\"dataframe\">\n",
       "  <thead>\n",
       "    <tr style=\"text-align: right;\">\n",
       "      <th></th>\n",
       "      <th>player</th>\n",
       "      <th>passing_grade</th>\n",
       "      <th>three_attempts</th>\n",
       "      <th>preseason_attempts</th>\n",
       "    </tr>\n",
       "  </thead>\n",
       "  <tbody>\n",
       "    <tr>\n",
       "      <th>0</th>\n",
       "      <td>Dak Prescott</td>\n",
       "      <td>73.433333</td>\n",
       "      <td>111.0</td>\n",
       "      <td>None</td>\n",
       "    </tr>\n",
       "    <tr>\n",
       "      <th>1</th>\n",
       "      <td>Derek Carr</td>\n",
       "      <td>80.366667</td>\n",
       "      <td>136.0</td>\n",
       "      <td>None</td>\n",
       "    </tr>\n",
       "    <tr>\n",
       "      <th>2</th>\n",
       "      <td>Justin Herbert</td>\n",
       "      <td>76.833333</td>\n",
       "      <td>126.0</td>\n",
       "      <td>None</td>\n",
       "    </tr>\n",
       "    <tr>\n",
       "      <th>3</th>\n",
       "      <td>Carson Wentz</td>\n",
       "      <td>65.900000</td>\n",
       "      <td>106.0</td>\n",
       "      <td>None</td>\n",
       "    </tr>\n",
       "    <tr>\n",
       "      <th>4</th>\n",
       "      <td>Matt Ryan</td>\n",
       "      <td>59.300000</td>\n",
       "      <td>117.0</td>\n",
       "      <td>None</td>\n",
       "    </tr>\n",
       "  </tbody>\n",
       "</table>\n",
       "</div>"
      ],
      "text/plain": [
       "           player  passing_grade  three_attempts preseason_attempts\n",
       "0    Dak Prescott      73.433333           111.0               None\n",
       "1      Derek Carr      80.366667           136.0               None\n",
       "2  Justin Herbert      76.833333           126.0               None\n",
       "3    Carson Wentz      65.900000           106.0               None\n",
       "4       Matt Ryan      59.300000           117.0               None"
      ]
     },
     "execution_count": 41,
     "metadata": {},
     "output_type": "execute_result"
    }
   ],
   "source": [
    "# qbs that didnt play in preseason\n",
    "qb_no_preseason = pd.read_sql_query('''\n",
    "\n",
    "\n",
    "SELECT\n",
    "    wo.player,\n",
    "    AVG(wo.grades_pass) as passing_grade,\n",
    "    sum(wo.attempts) as three_attempts,\n",
    "    ps.attempts as preseason_attempts\n",
    "FROM\n",
    "\t`qb_reg_season` wo\n",
    "    LEFT JOIN\n",
    "\t\t`preseasonw1`ps\n",
    "\tON\n",
    "\t\tps.player = wo.player\n",
    "GROUP BY \n",
    "    wo.player\n",
    "HAVING\n",
    "\tSUM(wo.attempts) > 10 and ps.attempts IS NULL\n",
    "    \n",
    "    ''', connection)\n",
    "\n",
    "qb_no_preseason.head()"
   ]
  },
  {
   "cell_type": "code",
   "execution_count": 42,
   "id": "5a30c7e7",
   "metadata": {},
   "outputs": [
    {
     "data": {
      "text/html": [
       "<div>\n",
       "<style scoped>\n",
       "    .dataframe tbody tr th:only-of-type {\n",
       "        vertical-align: middle;\n",
       "    }\n",
       "\n",
       "    .dataframe tbody tr th {\n",
       "        vertical-align: top;\n",
       "    }\n",
       "\n",
       "    .dataframe thead th {\n",
       "        text-align: right;\n",
       "    }\n",
       "</style>\n",
       "<table border=\"1\" class=\"dataframe\">\n",
       "  <thead>\n",
       "    <tr style=\"text-align: right;\">\n",
       "      <th></th>\n",
       "      <th>player</th>\n",
       "      <th>player_id</th>\n",
       "      <th>position</th>\n",
       "      <th>depth</th>\n",
       "      <th>team_name</th>\n",
       "      <th>player_game_count</th>\n",
       "      <th>avg_depth_of_target</th>\n",
       "      <th>avoided_tackles</th>\n",
       "      <th>caught_percent</th>\n",
       "      <th>contested_catch_rate</th>\n",
       "      <th>...</th>\n",
       "      <th>wide_snaps</th>\n",
       "      <th>yards</th>\n",
       "      <th>yards_after_catch</th>\n",
       "      <th>yards_after_catch_per_reception</th>\n",
       "      <th>yards_per_reception</th>\n",
       "      <th>yprr</th>\n",
       "      <th>dk_yards</th>\n",
       "      <th>dk_touchdowns</th>\n",
       "      <th>dk_bonus</th>\n",
       "      <th>dk_total</th>\n",
       "    </tr>\n",
       "  </thead>\n",
       "  <tbody>\n",
       "    <tr>\n",
       "      <th>0</th>\n",
       "      <td>Kristian Wilkerson</td>\n",
       "      <td>28729</td>\n",
       "      <td>WR</td>\n",
       "      <td>3</td>\n",
       "      <td>NE</td>\n",
       "      <td>1</td>\n",
       "      <td>11.7</td>\n",
       "      <td>3</td>\n",
       "      <td>66.7</td>\n",
       "      <td>50</td>\n",
       "      <td>...</td>\n",
       "      <td>32</td>\n",
       "      <td>99</td>\n",
       "      <td>23</td>\n",
       "      <td>2.9</td>\n",
       "      <td>12.4</td>\n",
       "      <td>3.09</td>\n",
       "      <td>9.9</td>\n",
       "      <td>0</td>\n",
       "      <td>0</td>\n",
       "      <td>9.9</td>\n",
       "    </tr>\n",
       "    <tr>\n",
       "      <th>1</th>\n",
       "      <td>Tom Kennedy</td>\n",
       "      <td>94379</td>\n",
       "      <td>WR</td>\n",
       "      <td>2</td>\n",
       "      <td>DET</td>\n",
       "      <td>1</td>\n",
       "      <td>16.1</td>\n",
       "      <td>0</td>\n",
       "      <td>72.7</td>\n",
       "      <td>100</td>\n",
       "      <td>...</td>\n",
       "      <td>22</td>\n",
       "      <td>104</td>\n",
       "      <td>21</td>\n",
       "      <td>2.6</td>\n",
       "      <td>13.0</td>\n",
       "      <td>3.25</td>\n",
       "      <td>10.4</td>\n",
       "      <td>0</td>\n",
       "      <td>3</td>\n",
       "      <td>13.4</td>\n",
       "    </tr>\n",
       "    <tr>\n",
       "      <th>2</th>\n",
       "      <td>Tim Jones</td>\n",
       "      <td>61669</td>\n",
       "      <td>WR</td>\n",
       "      <td>2</td>\n",
       "      <td>JAX</td>\n",
       "      <td>2</td>\n",
       "      <td>11.0</td>\n",
       "      <td>0</td>\n",
       "      <td>66.7</td>\n",
       "      <td>100</td>\n",
       "      <td>...</td>\n",
       "      <td>3</td>\n",
       "      <td>46</td>\n",
       "      <td>9</td>\n",
       "      <td>1.5</td>\n",
       "      <td>7.7</td>\n",
       "      <td>0.85</td>\n",
       "      <td>4.6</td>\n",
       "      <td>0</td>\n",
       "      <td>0</td>\n",
       "      <td>4.6</td>\n",
       "    </tr>\n",
       "  </tbody>\n",
       "</table>\n",
       "<p>3 rows × 50 columns</p>\n",
       "</div>"
      ],
      "text/plain": [
       "               player  player_id position  depth team_name  player_game_count  \\\n",
       "0  Kristian Wilkerson      28729       WR      3        NE                  1   \n",
       "1         Tom Kennedy      94379       WR      2       DET                  1   \n",
       "2           Tim Jones      61669       WR      2       JAX                  2   \n",
       "\n",
       "   avg_depth_of_target  avoided_tackles  caught_percent  contested_catch_rate  \\\n",
       "0                 11.7                3            66.7                    50   \n",
       "1                 16.1                0            72.7                   100   \n",
       "2                 11.0                0            66.7                   100   \n",
       "\n",
       "   ...  wide_snaps  yards  yards_after_catch  yards_after_catch_per_reception  \\\n",
       "0  ...          32     99                 23                              2.9   \n",
       "1  ...          22    104                 21                              2.6   \n",
       "2  ...           3     46                  9                              1.5   \n",
       "\n",
       "   yards_per_reception  yprr  dk_yards  dk_touchdowns  dk_bonus  dk_total  \n",
       "0                 12.4  3.09       9.9              0         0       9.9  \n",
       "1                 13.0  3.25      10.4              0         3      13.4  \n",
       "2                  7.7  0.85       4.6              0         0       4.6  \n",
       "\n",
       "[3 rows x 50 columns]"
      ]
     },
     "execution_count": 42,
     "metadata": {},
     "output_type": "execute_result"
    }
   ],
   "source": [
    "# WRs preseason 2022\n",
    "presea_wr_2022 = pd.read_sql_query('''\n",
    "SELECT \n",
    "    * \n",
    "FROM\n",
    "    `wr_preseason_2022`\n",
    "WHERE\n",
    "    position = \"WR\"\n",
    "\n",
    "''', connection)\n",
    "presea_wr_2022.head(3)"
   ]
  },
  {
   "cell_type": "code",
   "execution_count": 43,
   "id": "a05fd076",
   "metadata": {},
   "outputs": [
    {
     "data": {
      "application/vnd.plotly.v1+json": {
       "config": {
        "plotlyServerURL": "https://plot.ly"
       },
       "data": [
        {
         "hovertemplate": "dk_total=%{x}<br>depth=%{y}<extra></extra>",
         "legendgroup": "",
         "marker": {
          "color": "#636efa",
          "symbol": "circle"
         },
         "mode": "markers",
         "name": "",
         "orientation": "v",
         "showlegend": false,
         "type": "scatter",
         "x": [
          9.9,
          13.4,
          4.6,
          4.3,
          12.2,
          8.1,
          8.2,
          5.7,
          5.3,
          14.9,
          10.5,
          3,
          3,
          3.9,
          1.5,
          0,
          0.6,
          2.5,
          3,
          3.1,
          12.3,
          7.4,
          4.1,
          1.4,
          7.9,
          4.2,
          5.2,
          12.2,
          15.9,
          10.4,
          1.2,
          2.6,
          1.6,
          0,
          4.7,
          0,
          0,
          4.1,
          1.3,
          2.7,
          0.6,
          2.4,
          3.2,
          3,
          0.6,
          2.5,
          0,
          0.9,
          1,
          2.5,
          1.4,
          0.8,
          1.7,
          2,
          3.4,
          0.5,
          1.7,
          0,
          4,
          0.6,
          1.9,
          1.7,
          1.5,
          0.8,
          0.7,
          0,
          3.1,
          0.8,
          8.2,
          0.3,
          10.5,
          0,
          6.9,
          2.9,
          6.8,
          1.6,
          6.5,
          0,
          4.8,
          0,
          0.2,
          1.4,
          0,
          0,
          -0.1,
          0.5,
          0,
          0,
          0.7,
          0.5,
          1.2,
          0,
          2,
          0.5,
          1.5,
          6.4,
          0.9,
          0,
          2,
          0,
          0.7,
          0,
          0,
          0.8,
          2.4,
          7.7,
          13.3,
          7.3,
          10.5,
          20.7,
          1,
          3.8,
          6.4,
          9.2,
          8.9,
          10.3,
          12.1,
          1.1,
          8.3,
          9,
          0,
          11.5,
          1,
          2.7,
          11.3,
          2.7,
          11.3,
          1.2,
          0.2,
          11.1,
          5.2,
          0.5,
          0,
          3,
          1.2,
          8.2,
          3.9,
          8.5,
          4.7,
          3.4,
          1.8,
          2.7,
          10.7,
          2.3,
          3.3,
          0,
          2.5,
          1.4,
          5.4,
          4.6,
          1.1,
          2.9,
          2.4,
          1.7,
          0,
          3.2,
          1.1,
          0.7,
          1,
          3,
          1.3,
          0.8,
          2.3,
          0.6,
          1.8,
          2.5,
          7.3,
          3.1,
          9.2,
          4.4,
          7.8,
          1.1,
          1,
          0.3,
          1.3,
          1.7,
          -1.2,
          1.8,
          0.9,
          0,
          1.4,
          1.5,
          1.6,
          0.2,
          1.4,
          0.6,
          0.8,
          0,
          0,
          0.2,
          0,
          1.8,
          0,
          0.6,
          1.5,
          1.1,
          0,
          1.9,
          0.9,
          0.4,
          0,
          0,
          0,
          1.1,
          0,
          3.3,
          2.5,
          2.6,
          1.8,
          1.3,
          4,
          0,
          8.3,
          0,
          1.2,
          0.2,
          0,
          0.4,
          0,
          3.1,
          2.6,
          0,
          14.2,
          2.2,
          3.7,
          2.2,
          1
         ],
         "xaxis": "x",
         "y": [
          3,
          2,
          2,
          3,
          4,
          3,
          4,
          3,
          2,
          3,
          2,
          2,
          4,
          3,
          3,
          3,
          4,
          2,
          3,
          3,
          2,
          2,
          2,
          3,
          3,
          3,
          2,
          4,
          3,
          2,
          3,
          2,
          4,
          4,
          1,
          4,
          2,
          4,
          3,
          2,
          3,
          3,
          1,
          2,
          1,
          2,
          4,
          3,
          4,
          4,
          3,
          3,
          3,
          2,
          3,
          3,
          2,
          3,
          5,
          3,
          3,
          3,
          3,
          3,
          3,
          5,
          2,
          4,
          2,
          2,
          3,
          4,
          3,
          1,
          3,
          4,
          4,
          3,
          3,
          3,
          4,
          3,
          5,
          4,
          2,
          4,
          2,
          4,
          3,
          3,
          2,
          1,
          2,
          4,
          4,
          3,
          1,
          5,
          2,
          3,
          2,
          5,
          2,
          4,
          1,
          2,
          4,
          2,
          3,
          3,
          1,
          4,
          3,
          3,
          3,
          1,
          4,
          3,
          4,
          3,
          2,
          3,
          4,
          4,
          3,
          4,
          2,
          4,
          3,
          4,
          4,
          2,
          6,
          1,
          3,
          2,
          4,
          4,
          2,
          3,
          5,
          1,
          3,
          2,
          4,
          4,
          6,
          2,
          3,
          5,
          4,
          2,
          3,
          2,
          3,
          3,
          5,
          5,
          4,
          2,
          2,
          2,
          2,
          1,
          2,
          2,
          4,
          4,
          4,
          4,
          3,
          4,
          5,
          3,
          4,
          3,
          5,
          2,
          4,
          1,
          4,
          2,
          1,
          3,
          1,
          2,
          4,
          2,
          1,
          4,
          3,
          4,
          4,
          4,
          4,
          4,
          3,
          2,
          2,
          4,
          4,
          2,
          2,
          1,
          3,
          3,
          3,
          1,
          2,
          4,
          3,
          5,
          3,
          6,
          4,
          4,
          4,
          3,
          2,
          2,
          4,
          3,
          5,
          4,
          3,
          4,
          2
         ],
         "yaxis": "y"
        }
       ],
       "layout": {
        "legend": {
         "tracegroupgap": 0
        },
        "margin": {
         "t": 60
        },
        "template": {
         "data": {
          "bar": [
           {
            "error_x": {
             "color": "#2a3f5f"
            },
            "error_y": {
             "color": "#2a3f5f"
            },
            "marker": {
             "line": {
              "color": "#E5ECF6",
              "width": 0.5
             },
             "pattern": {
              "fillmode": "overlay",
              "size": 10,
              "solidity": 0.2
             }
            },
            "type": "bar"
           }
          ],
          "barpolar": [
           {
            "marker": {
             "line": {
              "color": "#E5ECF6",
              "width": 0.5
             },
             "pattern": {
              "fillmode": "overlay",
              "size": 10,
              "solidity": 0.2
             }
            },
            "type": "barpolar"
           }
          ],
          "carpet": [
           {
            "aaxis": {
             "endlinecolor": "#2a3f5f",
             "gridcolor": "white",
             "linecolor": "white",
             "minorgridcolor": "white",
             "startlinecolor": "#2a3f5f"
            },
            "baxis": {
             "endlinecolor": "#2a3f5f",
             "gridcolor": "white",
             "linecolor": "white",
             "minorgridcolor": "white",
             "startlinecolor": "#2a3f5f"
            },
            "type": "carpet"
           }
          ],
          "choropleth": [
           {
            "colorbar": {
             "outlinewidth": 0,
             "ticks": ""
            },
            "type": "choropleth"
           }
          ],
          "contour": [
           {
            "colorbar": {
             "outlinewidth": 0,
             "ticks": ""
            },
            "colorscale": [
             [
              0,
              "#0d0887"
             ],
             [
              0.1111111111111111,
              "#46039f"
             ],
             [
              0.2222222222222222,
              "#7201a8"
             ],
             [
              0.3333333333333333,
              "#9c179e"
             ],
             [
              0.4444444444444444,
              "#bd3786"
             ],
             [
              0.5555555555555556,
              "#d8576b"
             ],
             [
              0.6666666666666666,
              "#ed7953"
             ],
             [
              0.7777777777777778,
              "#fb9f3a"
             ],
             [
              0.8888888888888888,
              "#fdca26"
             ],
             [
              1,
              "#f0f921"
             ]
            ],
            "type": "contour"
           }
          ],
          "contourcarpet": [
           {
            "colorbar": {
             "outlinewidth": 0,
             "ticks": ""
            },
            "type": "contourcarpet"
           }
          ],
          "heatmap": [
           {
            "colorbar": {
             "outlinewidth": 0,
             "ticks": ""
            },
            "colorscale": [
             [
              0,
              "#0d0887"
             ],
             [
              0.1111111111111111,
              "#46039f"
             ],
             [
              0.2222222222222222,
              "#7201a8"
             ],
             [
              0.3333333333333333,
              "#9c179e"
             ],
             [
              0.4444444444444444,
              "#bd3786"
             ],
             [
              0.5555555555555556,
              "#d8576b"
             ],
             [
              0.6666666666666666,
              "#ed7953"
             ],
             [
              0.7777777777777778,
              "#fb9f3a"
             ],
             [
              0.8888888888888888,
              "#fdca26"
             ],
             [
              1,
              "#f0f921"
             ]
            ],
            "type": "heatmap"
           }
          ],
          "heatmapgl": [
           {
            "colorbar": {
             "outlinewidth": 0,
             "ticks": ""
            },
            "colorscale": [
             [
              0,
              "#0d0887"
             ],
             [
              0.1111111111111111,
              "#46039f"
             ],
             [
              0.2222222222222222,
              "#7201a8"
             ],
             [
              0.3333333333333333,
              "#9c179e"
             ],
             [
              0.4444444444444444,
              "#bd3786"
             ],
             [
              0.5555555555555556,
              "#d8576b"
             ],
             [
              0.6666666666666666,
              "#ed7953"
             ],
             [
              0.7777777777777778,
              "#fb9f3a"
             ],
             [
              0.8888888888888888,
              "#fdca26"
             ],
             [
              1,
              "#f0f921"
             ]
            ],
            "type": "heatmapgl"
           }
          ],
          "histogram": [
           {
            "marker": {
             "pattern": {
              "fillmode": "overlay",
              "size": 10,
              "solidity": 0.2
             }
            },
            "type": "histogram"
           }
          ],
          "histogram2d": [
           {
            "colorbar": {
             "outlinewidth": 0,
             "ticks": ""
            },
            "colorscale": [
             [
              0,
              "#0d0887"
             ],
             [
              0.1111111111111111,
              "#46039f"
             ],
             [
              0.2222222222222222,
              "#7201a8"
             ],
             [
              0.3333333333333333,
              "#9c179e"
             ],
             [
              0.4444444444444444,
              "#bd3786"
             ],
             [
              0.5555555555555556,
              "#d8576b"
             ],
             [
              0.6666666666666666,
              "#ed7953"
             ],
             [
              0.7777777777777778,
              "#fb9f3a"
             ],
             [
              0.8888888888888888,
              "#fdca26"
             ],
             [
              1,
              "#f0f921"
             ]
            ],
            "type": "histogram2d"
           }
          ],
          "histogram2dcontour": [
           {
            "colorbar": {
             "outlinewidth": 0,
             "ticks": ""
            },
            "colorscale": [
             [
              0,
              "#0d0887"
             ],
             [
              0.1111111111111111,
              "#46039f"
             ],
             [
              0.2222222222222222,
              "#7201a8"
             ],
             [
              0.3333333333333333,
              "#9c179e"
             ],
             [
              0.4444444444444444,
              "#bd3786"
             ],
             [
              0.5555555555555556,
              "#d8576b"
             ],
             [
              0.6666666666666666,
              "#ed7953"
             ],
             [
              0.7777777777777778,
              "#fb9f3a"
             ],
             [
              0.8888888888888888,
              "#fdca26"
             ],
             [
              1,
              "#f0f921"
             ]
            ],
            "type": "histogram2dcontour"
           }
          ],
          "mesh3d": [
           {
            "colorbar": {
             "outlinewidth": 0,
             "ticks": ""
            },
            "type": "mesh3d"
           }
          ],
          "parcoords": [
           {
            "line": {
             "colorbar": {
              "outlinewidth": 0,
              "ticks": ""
             }
            },
            "type": "parcoords"
           }
          ],
          "pie": [
           {
            "automargin": true,
            "type": "pie"
           }
          ],
          "scatter": [
           {
            "marker": {
             "colorbar": {
              "outlinewidth": 0,
              "ticks": ""
             }
            },
            "type": "scatter"
           }
          ],
          "scatter3d": [
           {
            "line": {
             "colorbar": {
              "outlinewidth": 0,
              "ticks": ""
             }
            },
            "marker": {
             "colorbar": {
              "outlinewidth": 0,
              "ticks": ""
             }
            },
            "type": "scatter3d"
           }
          ],
          "scattercarpet": [
           {
            "marker": {
             "colorbar": {
              "outlinewidth": 0,
              "ticks": ""
             }
            },
            "type": "scattercarpet"
           }
          ],
          "scattergeo": [
           {
            "marker": {
             "colorbar": {
              "outlinewidth": 0,
              "ticks": ""
             }
            },
            "type": "scattergeo"
           }
          ],
          "scattergl": [
           {
            "marker": {
             "colorbar": {
              "outlinewidth": 0,
              "ticks": ""
             }
            },
            "type": "scattergl"
           }
          ],
          "scattermapbox": [
           {
            "marker": {
             "colorbar": {
              "outlinewidth": 0,
              "ticks": ""
             }
            },
            "type": "scattermapbox"
           }
          ],
          "scatterpolar": [
           {
            "marker": {
             "colorbar": {
              "outlinewidth": 0,
              "ticks": ""
             }
            },
            "type": "scatterpolar"
           }
          ],
          "scatterpolargl": [
           {
            "marker": {
             "colorbar": {
              "outlinewidth": 0,
              "ticks": ""
             }
            },
            "type": "scatterpolargl"
           }
          ],
          "scatterternary": [
           {
            "marker": {
             "colorbar": {
              "outlinewidth": 0,
              "ticks": ""
             }
            },
            "type": "scatterternary"
           }
          ],
          "surface": [
           {
            "colorbar": {
             "outlinewidth": 0,
             "ticks": ""
            },
            "colorscale": [
             [
              0,
              "#0d0887"
             ],
             [
              0.1111111111111111,
              "#46039f"
             ],
             [
              0.2222222222222222,
              "#7201a8"
             ],
             [
              0.3333333333333333,
              "#9c179e"
             ],
             [
              0.4444444444444444,
              "#bd3786"
             ],
             [
              0.5555555555555556,
              "#d8576b"
             ],
             [
              0.6666666666666666,
              "#ed7953"
             ],
             [
              0.7777777777777778,
              "#fb9f3a"
             ],
             [
              0.8888888888888888,
              "#fdca26"
             ],
             [
              1,
              "#f0f921"
             ]
            ],
            "type": "surface"
           }
          ],
          "table": [
           {
            "cells": {
             "fill": {
              "color": "#EBF0F8"
             },
             "line": {
              "color": "white"
             }
            },
            "header": {
             "fill": {
              "color": "#C8D4E3"
             },
             "line": {
              "color": "white"
             }
            },
            "type": "table"
           }
          ]
         },
         "layout": {
          "annotationdefaults": {
           "arrowcolor": "#2a3f5f",
           "arrowhead": 0,
           "arrowwidth": 1
          },
          "autotypenumbers": "strict",
          "coloraxis": {
           "colorbar": {
            "outlinewidth": 0,
            "ticks": ""
           }
          },
          "colorscale": {
           "diverging": [
            [
             0,
             "#8e0152"
            ],
            [
             0.1,
             "#c51b7d"
            ],
            [
             0.2,
             "#de77ae"
            ],
            [
             0.3,
             "#f1b6da"
            ],
            [
             0.4,
             "#fde0ef"
            ],
            [
             0.5,
             "#f7f7f7"
            ],
            [
             0.6,
             "#e6f5d0"
            ],
            [
             0.7,
             "#b8e186"
            ],
            [
             0.8,
             "#7fbc41"
            ],
            [
             0.9,
             "#4d9221"
            ],
            [
             1,
             "#276419"
            ]
           ],
           "sequential": [
            [
             0,
             "#0d0887"
            ],
            [
             0.1111111111111111,
             "#46039f"
            ],
            [
             0.2222222222222222,
             "#7201a8"
            ],
            [
             0.3333333333333333,
             "#9c179e"
            ],
            [
             0.4444444444444444,
             "#bd3786"
            ],
            [
             0.5555555555555556,
             "#d8576b"
            ],
            [
             0.6666666666666666,
             "#ed7953"
            ],
            [
             0.7777777777777778,
             "#fb9f3a"
            ],
            [
             0.8888888888888888,
             "#fdca26"
            ],
            [
             1,
             "#f0f921"
            ]
           ],
           "sequentialminus": [
            [
             0,
             "#0d0887"
            ],
            [
             0.1111111111111111,
             "#46039f"
            ],
            [
             0.2222222222222222,
             "#7201a8"
            ],
            [
             0.3333333333333333,
             "#9c179e"
            ],
            [
             0.4444444444444444,
             "#bd3786"
            ],
            [
             0.5555555555555556,
             "#d8576b"
            ],
            [
             0.6666666666666666,
             "#ed7953"
            ],
            [
             0.7777777777777778,
             "#fb9f3a"
            ],
            [
             0.8888888888888888,
             "#fdca26"
            ],
            [
             1,
             "#f0f921"
            ]
           ]
          },
          "colorway": [
           "#636efa",
           "#EF553B",
           "#00cc96",
           "#ab63fa",
           "#FFA15A",
           "#19d3f3",
           "#FF6692",
           "#B6E880",
           "#FF97FF",
           "#FECB52"
          ],
          "font": {
           "color": "#2a3f5f"
          },
          "geo": {
           "bgcolor": "white",
           "lakecolor": "white",
           "landcolor": "#E5ECF6",
           "showlakes": true,
           "showland": true,
           "subunitcolor": "white"
          },
          "hoverlabel": {
           "align": "left"
          },
          "hovermode": "closest",
          "mapbox": {
           "style": "light"
          },
          "paper_bgcolor": "white",
          "plot_bgcolor": "#E5ECF6",
          "polar": {
           "angularaxis": {
            "gridcolor": "white",
            "linecolor": "white",
            "ticks": ""
           },
           "bgcolor": "#E5ECF6",
           "radialaxis": {
            "gridcolor": "white",
            "linecolor": "white",
            "ticks": ""
           }
          },
          "scene": {
           "xaxis": {
            "backgroundcolor": "#E5ECF6",
            "gridcolor": "white",
            "gridwidth": 2,
            "linecolor": "white",
            "showbackground": true,
            "ticks": "",
            "zerolinecolor": "white"
           },
           "yaxis": {
            "backgroundcolor": "#E5ECF6",
            "gridcolor": "white",
            "gridwidth": 2,
            "linecolor": "white",
            "showbackground": true,
            "ticks": "",
            "zerolinecolor": "white"
           },
           "zaxis": {
            "backgroundcolor": "#E5ECF6",
            "gridcolor": "white",
            "gridwidth": 2,
            "linecolor": "white",
            "showbackground": true,
            "ticks": "",
            "zerolinecolor": "white"
           }
          },
          "shapedefaults": {
           "line": {
            "color": "#2a3f5f"
           }
          },
          "ternary": {
           "aaxis": {
            "gridcolor": "white",
            "linecolor": "white",
            "ticks": ""
           },
           "baxis": {
            "gridcolor": "white",
            "linecolor": "white",
            "ticks": ""
           },
           "bgcolor": "#E5ECF6",
           "caxis": {
            "gridcolor": "white",
            "linecolor": "white",
            "ticks": ""
           }
          },
          "title": {
           "x": 0.05
          },
          "xaxis": {
           "automargin": true,
           "gridcolor": "white",
           "linecolor": "white",
           "ticks": "",
           "title": {
            "standoff": 15
           },
           "zerolinecolor": "white",
           "zerolinewidth": 2
          },
          "yaxis": {
           "automargin": true,
           "gridcolor": "white",
           "linecolor": "white",
           "ticks": "",
           "title": {
            "standoff": 15
           },
           "zerolinecolor": "white",
           "zerolinewidth": 2
          }
         }
        },
        "xaxis": {
         "anchor": "y",
         "domain": [
          0,
          1
         ],
         "title": {
          "text": "dk_total"
         }
        },
        "yaxis": {
         "anchor": "x",
         "domain": [
          0,
          1
         ],
         "title": {
          "text": "depth"
         }
        }
       }
      },
      "text/html": [
       "<div>                            <div id=\"eed0ab94-a51e-4667-957f-fb309a273562\" class=\"plotly-graph-div\" style=\"height:525px; width:100%;\"></div>            <script type=\"text/javascript\">                require([\"plotly\"], function(Plotly) {                    window.PLOTLYENV=window.PLOTLYENV || {};                                    if (document.getElementById(\"eed0ab94-a51e-4667-957f-fb309a273562\")) {                    Plotly.newPlot(                        \"eed0ab94-a51e-4667-957f-fb309a273562\",                        [{\"hovertemplate\":\"dk_total=%{x}<br>depth=%{y}<extra></extra>\",\"legendgroup\":\"\",\"marker\":{\"color\":\"#636efa\",\"symbol\":\"circle\"},\"mode\":\"markers\",\"name\":\"\",\"orientation\":\"v\",\"showlegend\":false,\"x\":[9.9,13.4,4.6,4.3,12.2,8.1,8.2,5.7,5.3,14.9,10.5,3.0,3.0,3.9,1.5,0.0,0.6,2.5,3.0,3.1,12.3,7.4,4.1,1.4,7.9,4.2,5.2,12.2,15.9,10.4,1.2,2.6,1.6,0.0,4.7,0.0,0.0,4.1,1.3,2.7,0.6,2.4,3.2,3.0,0.6,2.5,0.0,0.9,1.0,2.5,1.4,0.8,1.7,2.0,3.4,0.5,1.7,0.0,4.0,0.6,1.9,1.7,1.5,0.8,0.7,0.0,3.1,0.8,8.2,0.3,10.5,0.0,6.9,2.9,6.8,1.6,6.5,0.0,4.8,0.0,0.2,1.4,0.0,0.0,-0.1,0.5,0.0,0.0,0.7,0.5,1.2,0.0,2.0,0.5,1.5,6.4,0.9,0.0,2.0,0.0,0.7,0.0,0.0,0.8,2.4,7.7,13.3,7.3,10.5,20.7,1.0,3.8,6.4,9.2,8.9,10.3,12.1,1.1,8.3,9.0,0.0,11.5,1.0,2.7,11.3,2.7,11.3,1.2,0.2,11.1,5.2,0.5,0.0,3.0,1.2,8.2,3.9,8.5,4.7,3.4,1.8,2.7,10.7,2.3,3.3,0.0,2.5,1.4,5.4,4.6,1.1,2.9,2.4,1.7,0.0,3.2,1.1,0.7,1.0,3.0,1.3,0.8,2.3,0.6,1.8,2.5,7.3,3.1,9.2,4.4,7.8,1.1,1.0,0.3,1.3,1.7,-1.2,1.8,0.9,0.0,1.4,1.5,1.6,0.2,1.4,0.6,0.8,0.0,0.0,0.2,0.0,1.8,0.0,0.6,1.5,1.1,0.0,1.9,0.9,0.4,0.0,0.0,0.0,1.1,0.0,3.3,2.5,2.6,1.8,1.3,4.0,0.0,8.3,0.0,1.2,0.2,0.0,0.4,0.0,3.1,2.6,0.0,14.2,2.2,3.7,2.2,1.0],\"xaxis\":\"x\",\"y\":[3,2,2,3,4,3,4,3,2,3,2,2,4,3,3,3,4,2,3,3,2,2,2,3,3,3,2,4,3,2,3,2,4,4,1,4,2,4,3,2,3,3,1,2,1,2,4,3,4,4,3,3,3,2,3,3,2,3,5,3,3,3,3,3,3,5,2,4,2,2,3,4,3,1,3,4,4,3,3,3,4,3,5,4,2,4,2,4,3,3,2,1,2,4,4,3,1,5,2,3,2,5,2,4,1,2,4,2,3,3,1,4,3,3,3,1,4,3,4,3,2,3,4,4,3,4,2,4,3,4,4,2,6,1,3,2,4,4,2,3,5,1,3,2,4,4,6,2,3,5,4,2,3,2,3,3,5,5,4,2,2,2,2,1,2,2,4,4,4,4,3,4,5,3,4,3,5,2,4,1,4,2,1,3,1,2,4,2,1,4,3,4,4,4,4,4,3,2,2,4,4,2,2,1,3,3,3,1,2,4,3,5,3,6,4,4,4,3,2,2,4,3,5,4,3,4,2],\"yaxis\":\"y\",\"type\":\"scatter\"}],                        {\"template\":{\"data\":{\"bar\":[{\"error_x\":{\"color\":\"#2a3f5f\"},\"error_y\":{\"color\":\"#2a3f5f\"},\"marker\":{\"line\":{\"color\":\"#E5ECF6\",\"width\":0.5},\"pattern\":{\"fillmode\":\"overlay\",\"size\":10,\"solidity\":0.2}},\"type\":\"bar\"}],\"barpolar\":[{\"marker\":{\"line\":{\"color\":\"#E5ECF6\",\"width\":0.5},\"pattern\":{\"fillmode\":\"overlay\",\"size\":10,\"solidity\":0.2}},\"type\":\"barpolar\"}],\"carpet\":[{\"aaxis\":{\"endlinecolor\":\"#2a3f5f\",\"gridcolor\":\"white\",\"linecolor\":\"white\",\"minorgridcolor\":\"white\",\"startlinecolor\":\"#2a3f5f\"},\"baxis\":{\"endlinecolor\":\"#2a3f5f\",\"gridcolor\":\"white\",\"linecolor\":\"white\",\"minorgridcolor\":\"white\",\"startlinecolor\":\"#2a3f5f\"},\"type\":\"carpet\"}],\"choropleth\":[{\"colorbar\":{\"outlinewidth\":0,\"ticks\":\"\"},\"type\":\"choropleth\"}],\"contour\":[{\"colorbar\":{\"outlinewidth\":0,\"ticks\":\"\"},\"colorscale\":[[0.0,\"#0d0887\"],[0.1111111111111111,\"#46039f\"],[0.2222222222222222,\"#7201a8\"],[0.3333333333333333,\"#9c179e\"],[0.4444444444444444,\"#bd3786\"],[0.5555555555555556,\"#d8576b\"],[0.6666666666666666,\"#ed7953\"],[0.7777777777777778,\"#fb9f3a\"],[0.8888888888888888,\"#fdca26\"],[1.0,\"#f0f921\"]],\"type\":\"contour\"}],\"contourcarpet\":[{\"colorbar\":{\"outlinewidth\":0,\"ticks\":\"\"},\"type\":\"contourcarpet\"}],\"heatmap\":[{\"colorbar\":{\"outlinewidth\":0,\"ticks\":\"\"},\"colorscale\":[[0.0,\"#0d0887\"],[0.1111111111111111,\"#46039f\"],[0.2222222222222222,\"#7201a8\"],[0.3333333333333333,\"#9c179e\"],[0.4444444444444444,\"#bd3786\"],[0.5555555555555556,\"#d8576b\"],[0.6666666666666666,\"#ed7953\"],[0.7777777777777778,\"#fb9f3a\"],[0.8888888888888888,\"#fdca26\"],[1.0,\"#f0f921\"]],\"type\":\"heatmap\"}],\"heatmapgl\":[{\"colorbar\":{\"outlinewidth\":0,\"ticks\":\"\"},\"colorscale\":[[0.0,\"#0d0887\"],[0.1111111111111111,\"#46039f\"],[0.2222222222222222,\"#7201a8\"],[0.3333333333333333,\"#9c179e\"],[0.4444444444444444,\"#bd3786\"],[0.5555555555555556,\"#d8576b\"],[0.6666666666666666,\"#ed7953\"],[0.7777777777777778,\"#fb9f3a\"],[0.8888888888888888,\"#fdca26\"],[1.0,\"#f0f921\"]],\"type\":\"heatmapgl\"}],\"histogram\":[{\"marker\":{\"pattern\":{\"fillmode\":\"overlay\",\"size\":10,\"solidity\":0.2}},\"type\":\"histogram\"}],\"histogram2d\":[{\"colorbar\":{\"outlinewidth\":0,\"ticks\":\"\"},\"colorscale\":[[0.0,\"#0d0887\"],[0.1111111111111111,\"#46039f\"],[0.2222222222222222,\"#7201a8\"],[0.3333333333333333,\"#9c179e\"],[0.4444444444444444,\"#bd3786\"],[0.5555555555555556,\"#d8576b\"],[0.6666666666666666,\"#ed7953\"],[0.7777777777777778,\"#fb9f3a\"],[0.8888888888888888,\"#fdca26\"],[1.0,\"#f0f921\"]],\"type\":\"histogram2d\"}],\"histogram2dcontour\":[{\"colorbar\":{\"outlinewidth\":0,\"ticks\":\"\"},\"colorscale\":[[0.0,\"#0d0887\"],[0.1111111111111111,\"#46039f\"],[0.2222222222222222,\"#7201a8\"],[0.3333333333333333,\"#9c179e\"],[0.4444444444444444,\"#bd3786\"],[0.5555555555555556,\"#d8576b\"],[0.6666666666666666,\"#ed7953\"],[0.7777777777777778,\"#fb9f3a\"],[0.8888888888888888,\"#fdca26\"],[1.0,\"#f0f921\"]],\"type\":\"histogram2dcontour\"}],\"mesh3d\":[{\"colorbar\":{\"outlinewidth\":0,\"ticks\":\"\"},\"type\":\"mesh3d\"}],\"parcoords\":[{\"line\":{\"colorbar\":{\"outlinewidth\":0,\"ticks\":\"\"}},\"type\":\"parcoords\"}],\"pie\":[{\"automargin\":true,\"type\":\"pie\"}],\"scatter\":[{\"marker\":{\"colorbar\":{\"outlinewidth\":0,\"ticks\":\"\"}},\"type\":\"scatter\"}],\"scatter3d\":[{\"line\":{\"colorbar\":{\"outlinewidth\":0,\"ticks\":\"\"}},\"marker\":{\"colorbar\":{\"outlinewidth\":0,\"ticks\":\"\"}},\"type\":\"scatter3d\"}],\"scattercarpet\":[{\"marker\":{\"colorbar\":{\"outlinewidth\":0,\"ticks\":\"\"}},\"type\":\"scattercarpet\"}],\"scattergeo\":[{\"marker\":{\"colorbar\":{\"outlinewidth\":0,\"ticks\":\"\"}},\"type\":\"scattergeo\"}],\"scattergl\":[{\"marker\":{\"colorbar\":{\"outlinewidth\":0,\"ticks\":\"\"}},\"type\":\"scattergl\"}],\"scattermapbox\":[{\"marker\":{\"colorbar\":{\"outlinewidth\":0,\"ticks\":\"\"}},\"type\":\"scattermapbox\"}],\"scatterpolar\":[{\"marker\":{\"colorbar\":{\"outlinewidth\":0,\"ticks\":\"\"}},\"type\":\"scatterpolar\"}],\"scatterpolargl\":[{\"marker\":{\"colorbar\":{\"outlinewidth\":0,\"ticks\":\"\"}},\"type\":\"scatterpolargl\"}],\"scatterternary\":[{\"marker\":{\"colorbar\":{\"outlinewidth\":0,\"ticks\":\"\"}},\"type\":\"scatterternary\"}],\"surface\":[{\"colorbar\":{\"outlinewidth\":0,\"ticks\":\"\"},\"colorscale\":[[0.0,\"#0d0887\"],[0.1111111111111111,\"#46039f\"],[0.2222222222222222,\"#7201a8\"],[0.3333333333333333,\"#9c179e\"],[0.4444444444444444,\"#bd3786\"],[0.5555555555555556,\"#d8576b\"],[0.6666666666666666,\"#ed7953\"],[0.7777777777777778,\"#fb9f3a\"],[0.8888888888888888,\"#fdca26\"],[1.0,\"#f0f921\"]],\"type\":\"surface\"}],\"table\":[{\"cells\":{\"fill\":{\"color\":\"#EBF0F8\"},\"line\":{\"color\":\"white\"}},\"header\":{\"fill\":{\"color\":\"#C8D4E3\"},\"line\":{\"color\":\"white\"}},\"type\":\"table\"}]},\"layout\":{\"annotationdefaults\":{\"arrowcolor\":\"#2a3f5f\",\"arrowhead\":0,\"arrowwidth\":1},\"autotypenumbers\":\"strict\",\"coloraxis\":{\"colorbar\":{\"outlinewidth\":0,\"ticks\":\"\"}},\"colorscale\":{\"diverging\":[[0,\"#8e0152\"],[0.1,\"#c51b7d\"],[0.2,\"#de77ae\"],[0.3,\"#f1b6da\"],[0.4,\"#fde0ef\"],[0.5,\"#f7f7f7\"],[0.6,\"#e6f5d0\"],[0.7,\"#b8e186\"],[0.8,\"#7fbc41\"],[0.9,\"#4d9221\"],[1,\"#276419\"]],\"sequential\":[[0.0,\"#0d0887\"],[0.1111111111111111,\"#46039f\"],[0.2222222222222222,\"#7201a8\"],[0.3333333333333333,\"#9c179e\"],[0.4444444444444444,\"#bd3786\"],[0.5555555555555556,\"#d8576b\"],[0.6666666666666666,\"#ed7953\"],[0.7777777777777778,\"#fb9f3a\"],[0.8888888888888888,\"#fdca26\"],[1.0,\"#f0f921\"]],\"sequentialminus\":[[0.0,\"#0d0887\"],[0.1111111111111111,\"#46039f\"],[0.2222222222222222,\"#7201a8\"],[0.3333333333333333,\"#9c179e\"],[0.4444444444444444,\"#bd3786\"],[0.5555555555555556,\"#d8576b\"],[0.6666666666666666,\"#ed7953\"],[0.7777777777777778,\"#fb9f3a\"],[0.8888888888888888,\"#fdca26\"],[1.0,\"#f0f921\"]]},\"colorway\":[\"#636efa\",\"#EF553B\",\"#00cc96\",\"#ab63fa\",\"#FFA15A\",\"#19d3f3\",\"#FF6692\",\"#B6E880\",\"#FF97FF\",\"#FECB52\"],\"font\":{\"color\":\"#2a3f5f\"},\"geo\":{\"bgcolor\":\"white\",\"lakecolor\":\"white\",\"landcolor\":\"#E5ECF6\",\"showlakes\":true,\"showland\":true,\"subunitcolor\":\"white\"},\"hoverlabel\":{\"align\":\"left\"},\"hovermode\":\"closest\",\"mapbox\":{\"style\":\"light\"},\"paper_bgcolor\":\"white\",\"plot_bgcolor\":\"#E5ECF6\",\"polar\":{\"angularaxis\":{\"gridcolor\":\"white\",\"linecolor\":\"white\",\"ticks\":\"\"},\"bgcolor\":\"#E5ECF6\",\"radialaxis\":{\"gridcolor\":\"white\",\"linecolor\":\"white\",\"ticks\":\"\"}},\"scene\":{\"xaxis\":{\"backgroundcolor\":\"#E5ECF6\",\"gridcolor\":\"white\",\"gridwidth\":2,\"linecolor\":\"white\",\"showbackground\":true,\"ticks\":\"\",\"zerolinecolor\":\"white\"},\"yaxis\":{\"backgroundcolor\":\"#E5ECF6\",\"gridcolor\":\"white\",\"gridwidth\":2,\"linecolor\":\"white\",\"showbackground\":true,\"ticks\":\"\",\"zerolinecolor\":\"white\"},\"zaxis\":{\"backgroundcolor\":\"#E5ECF6\",\"gridcolor\":\"white\",\"gridwidth\":2,\"linecolor\":\"white\",\"showbackground\":true,\"ticks\":\"\",\"zerolinecolor\":\"white\"}},\"shapedefaults\":{\"line\":{\"color\":\"#2a3f5f\"}},\"ternary\":{\"aaxis\":{\"gridcolor\":\"white\",\"linecolor\":\"white\",\"ticks\":\"\"},\"baxis\":{\"gridcolor\":\"white\",\"linecolor\":\"white\",\"ticks\":\"\"},\"bgcolor\":\"#E5ECF6\",\"caxis\":{\"gridcolor\":\"white\",\"linecolor\":\"white\",\"ticks\":\"\"}},\"title\":{\"x\":0.05},\"xaxis\":{\"automargin\":true,\"gridcolor\":\"white\",\"linecolor\":\"white\",\"ticks\":\"\",\"title\":{\"standoff\":15},\"zerolinecolor\":\"white\",\"zerolinewidth\":2},\"yaxis\":{\"automargin\":true,\"gridcolor\":\"white\",\"linecolor\":\"white\",\"ticks\":\"\",\"title\":{\"standoff\":15},\"zerolinecolor\":\"white\",\"zerolinewidth\":2}}},\"xaxis\":{\"anchor\":\"y\",\"domain\":[0.0,1.0],\"title\":{\"text\":\"dk_total\"}},\"yaxis\":{\"anchor\":\"x\",\"domain\":[0.0,1.0],\"title\":{\"text\":\"depth\"}},\"legend\":{\"tracegroupgap\":0},\"margin\":{\"t\":60}},                        {\"responsive\": true}                    ).then(function(){\n",
       "                            \n",
       "var gd = document.getElementById('eed0ab94-a51e-4667-957f-fb309a273562');\n",
       "var x = new MutationObserver(function (mutations, observer) {{\n",
       "        var display = window.getComputedStyle(gd).display;\n",
       "        if (!display || display === 'none') {{\n",
       "            console.log([gd, 'removed!']);\n",
       "            Plotly.purge(gd);\n",
       "            observer.disconnect();\n",
       "        }}\n",
       "}});\n",
       "\n",
       "// Listen for the removal of the full notebook cells\n",
       "var notebookContainer = gd.closest('#notebook-container');\n",
       "if (notebookContainer) {{\n",
       "    x.observe(notebookContainer, {childList: true});\n",
       "}}\n",
       "\n",
       "// Listen for the clearing of the current output cell\n",
       "var outputEl = gd.closest('.output');\n",
       "if (outputEl) {{\n",
       "    x.observe(outputEl, {childList: true});\n",
       "}}\n",
       "\n",
       "                        })                };                });            </script>        </div>"
      ]
     },
     "metadata": {},
     "output_type": "display_data"
    }
   ],
   "source": [
    "# Lets see if there is any correlation between roster position and total draft kings points\n",
    "px.scatter(presea_wr_2022,\n",
    "          x='dk_total',\n",
    "          y='depth')"
   ]
  },
  {
   "cell_type": "code",
   "execution_count": 44,
   "id": "5c3d0e79",
   "metadata": {},
   "outputs": [
    {
     "data": {
      "text/html": [
       "<div>\n",
       "<style scoped>\n",
       "    .dataframe tbody tr th:only-of-type {\n",
       "        vertical-align: middle;\n",
       "    }\n",
       "\n",
       "    .dataframe tbody tr th {\n",
       "        vertical-align: top;\n",
       "    }\n",
       "\n",
       "    .dataframe thead th {\n",
       "        text-align: right;\n",
       "    }\n",
       "</style>\n",
       "<table border=\"1\" class=\"dataframe\">\n",
       "  <thead>\n",
       "    <tr style=\"text-align: right;\">\n",
       "      <th></th>\n",
       "      <th>player</th>\n",
       "      <th>depth</th>\n",
       "      <th>team_name</th>\n",
       "      <th>dk_total</th>\n",
       "    </tr>\n",
       "  </thead>\n",
       "  <tbody>\n",
       "    <tr>\n",
       "      <th>0</th>\n",
       "      <td>Kristian Wilkerson</td>\n",
       "      <td>3</td>\n",
       "      <td>NE</td>\n",
       "      <td>9.9</td>\n",
       "    </tr>\n",
       "    <tr>\n",
       "      <th>1</th>\n",
       "      <td>Tom Kennedy</td>\n",
       "      <td>2</td>\n",
       "      <td>DET</td>\n",
       "      <td>13.4</td>\n",
       "    </tr>\n",
       "    <tr>\n",
       "      <th>2</th>\n",
       "      <td>Tim Jones</td>\n",
       "      <td>2</td>\n",
       "      <td>JAX</td>\n",
       "      <td>4.6</td>\n",
       "    </tr>\n",
       "    <tr>\n",
       "      <th>3</th>\n",
       "      <td>Makai Polk</td>\n",
       "      <td>3</td>\n",
       "      <td>BLT</td>\n",
       "      <td>4.3</td>\n",
       "    </tr>\n",
       "    <tr>\n",
       "      <th>4</th>\n",
       "      <td>Lil'Jordan Humphrey</td>\n",
       "      <td>4</td>\n",
       "      <td>NE</td>\n",
       "      <td>12.2</td>\n",
       "    </tr>\n",
       "  </tbody>\n",
       "</table>\n",
       "</div>"
      ],
      "text/plain": [
       "                player  depth team_name  dk_total\n",
       "0   Kristian Wilkerson      3        NE       9.9\n",
       "1          Tom Kennedy      2       DET      13.4\n",
       "2            Tim Jones      2       JAX       4.6\n",
       "3           Makai Polk      3       BLT       4.3\n",
       "4  Lil'Jordan Humphrey      4        NE      12.2"
      ]
     },
     "execution_count": 44,
     "metadata": {},
     "output_type": "execute_result"
    }
   ],
   "source": [
    "preWRTotal = presea_wr_2022[['player', 'depth', 'team_name', 'dk_total']]\n",
    "preWRTotal.head()"
   ]
  },
  {
   "cell_type": "code",
   "execution_count": 45,
   "id": "3efc4ca3",
   "metadata": {
    "scrolled": true
   },
   "outputs": [
    {
     "name": "stdout",
     "output_type": "stream",
     "text": [
      "team_name  depth\n",
      "ARZ        2         5.3\n",
      "           3        12.9\n",
      "           4         8.0\n",
      "           5         0.0\n",
      "ATL        1         2.4\n",
      "           2         5.2\n",
      "           3         2.7\n",
      "           4         0.0\n",
      "BLT        2         0.3\n",
      "           3        12.2\n",
      "           4        13.0\n",
      "BUF        2        10.0\n",
      "           3        10.3\n",
      "           4         1.0\n",
      "CAR        1         0.0\n",
      "           2         8.2\n",
      "           3         6.6\n",
      "           4         3.8\n",
      "           5         4.6\n",
      "           6         0.0\n",
      "CHI        1         2.6\n",
      "           3         2.5\n",
      "           4        16.1\n",
      "CIN        2         7.4\n",
      "           3        19.2\n",
      "CLV        2         0.7\n",
      "           3         0.5\n",
      "           4         2.5\n",
      "           5         0.0\n",
      "DAL        1         1.0\n",
      "           2         1.8\n",
      "           3        13.0\n",
      "           4         2.4\n",
      "DEN        2        12.1\n",
      "           3        15.5\n",
      "           4         9.4\n",
      "           5         1.1\n",
      "DET        1         2.9\n",
      "           2        18.6\n",
      "           3        13.0\n",
      "GB         2        21.4\n",
      "           3        15.4\n",
      "HST        1         0.6\n",
      "           2         4.8\n",
      "           3        11.3\n",
      "           4         8.5\n",
      "IND        1         5.7\n",
      "           2         1.8\n",
      "           4         1.9\n",
      "JAX        1         4.7\n",
      "           2         7.6\n",
      "           3         0.0\n",
      "           4         7.9\n",
      "KC         1         1.1\n",
      "           2         3.2\n",
      "           3        12.9\n",
      "           4         1.0\n",
      "LA         3        20.7\n",
      "           4         2.7\n",
      "LAC        2         0.6\n",
      "           4        26.0\n",
      "LV         2         3.0\n",
      "           3         5.6\n",
      "           4         2.1\n",
      "MIA        2         2.9\n",
      "           3        14.8\n",
      "           4         3.9\n",
      "           5         1.8\n",
      "           6         2.5\n",
      "MIN        2         4.1\n",
      "           3         3.7\n",
      "           4         7.0\n",
      "           5        14.2\n",
      "NE         3        24.9\n",
      "           4        12.2\n",
      "NO         2         3.4\n",
      "           3         0.4\n",
      "           4         8.4\n",
      "NYG        1         0.6\n",
      "           2        12.1\n",
      "           3         1.7\n",
      "           4         8.8\n",
      "           5         0.0\n",
      "NYJ        1         0.9\n",
      "           2         7.0\n",
      "           3         8.2\n",
      "           4         0.0\n",
      "           5         4.0\n",
      "PHI        1         3.2\n",
      "           2         6.7\n",
      "           3         1.4\n",
      "           4         0.5\n",
      "PIT        1        10.3\n",
      "           2         3.0\n",
      "           3        10.9\n",
      "           4         9.2\n",
      "           5         1.7\n",
      "SEA        2         4.7\n",
      "           3         9.3\n",
      "           4         2.4\n",
      "           5        -1.2\n",
      "SF         2        12.3\n",
      "           3        17.6\n",
      "           4         0.2\n",
      "TB         2         7.3\n",
      "           3         8.3\n",
      "           4        17.6\n",
      "TEN        2         3.0\n",
      "           3         7.9\n",
      "           4         2.6\n",
      "WAS        1         3.0\n",
      "           2         4.4\n",
      "           3         7.1\n",
      "           4         2.7\n",
      "Name: dk_total, dtype: float64\n"
     ]
    }
   ],
   "source": [
    "# lets get the total dk points by depth position for each team\n",
    "pd.set_option('display.max_rows', None)\n",
    "print(preWRTotal.groupby(['team_name', 'depth'])['dk_total'].sum())"
   ]
  },
  {
   "cell_type": "code",
   "execution_count": 46,
   "id": "31762d86",
   "metadata": {},
   "outputs": [
    {
     "data": {
      "text/html": [
       "<div>\n",
       "<style scoped>\n",
       "    .dataframe tbody tr th:only-of-type {\n",
       "        vertical-align: middle;\n",
       "    }\n",
       "\n",
       "    .dataframe tbody tr th {\n",
       "        vertical-align: top;\n",
       "    }\n",
       "\n",
       "    .dataframe thead th {\n",
       "        text-align: right;\n",
       "    }\n",
       "</style>\n",
       "<table border=\"1\" class=\"dataframe\">\n",
       "  <thead>\n",
       "    <tr style=\"text-align: right;\">\n",
       "      <th></th>\n",
       "      <th>player</th>\n",
       "      <th>player_id</th>\n",
       "      <th>position</th>\n",
       "      <th>team_name</th>\n",
       "      <th>player_game_count</th>\n",
       "      <th>draft_round</th>\n",
       "      <th>draft_pick</th>\n",
       "      <th>block_percent</th>\n",
       "      <th>declined_penalties</th>\n",
       "      <th>franchise_id</th>\n",
       "      <th>...</th>\n",
       "      <th>snap_counts_ce</th>\n",
       "      <th>snap_counts_lg</th>\n",
       "      <th>snap_counts_lt</th>\n",
       "      <th>snap_counts_offense</th>\n",
       "      <th>snap_counts_pass_block</th>\n",
       "      <th>snap_counts_pass_play</th>\n",
       "      <th>snap_counts_rg</th>\n",
       "      <th>snap_counts_rt</th>\n",
       "      <th>snap_counts_run_block</th>\n",
       "      <th>snap_counts_te</th>\n",
       "    </tr>\n",
       "  </thead>\n",
       "  <tbody>\n",
       "    <tr>\n",
       "      <th>0</th>\n",
       "      <td>Luke Wattenberg</td>\n",
       "      <td>41024</td>\n",
       "      <td>C</td>\n",
       "      <td>DEN</td>\n",
       "      <td>1</td>\n",
       "      <td>5</td>\n",
       "      <td>171</td>\n",
       "      <td>100</td>\n",
       "      <td>0</td>\n",
       "      <td>10</td>\n",
       "      <td>...</td>\n",
       "      <td>14</td>\n",
       "      <td>0</td>\n",
       "      <td>0</td>\n",
       "      <td>51</td>\n",
       "      <td>38</td>\n",
       "      <td>38</td>\n",
       "      <td>37</td>\n",
       "      <td>0</td>\n",
       "      <td>13</td>\n",
       "      <td>0</td>\n",
       "    </tr>\n",
       "    <tr>\n",
       "      <th>1</th>\n",
       "      <td>Doug Kramer</td>\n",
       "      <td>41458</td>\n",
       "      <td>C</td>\n",
       "      <td>CHI</td>\n",
       "      <td>1</td>\n",
       "      <td>6</td>\n",
       "      <td>207</td>\n",
       "      <td>100</td>\n",
       "      <td>0</td>\n",
       "      <td>6</td>\n",
       "      <td>...</td>\n",
       "      <td>48</td>\n",
       "      <td>0</td>\n",
       "      <td>0</td>\n",
       "      <td>48</td>\n",
       "      <td>25</td>\n",
       "      <td>25</td>\n",
       "      <td>0</td>\n",
       "      <td>0</td>\n",
       "      <td>23</td>\n",
       "      <td>0</td>\n",
       "    </tr>\n",
       "  </tbody>\n",
       "</table>\n",
       "<p>2 rows × 33 columns</p>\n",
       "</div>"
      ],
      "text/plain": [
       "            player  player_id position team_name  player_game_count  \\\n",
       "0  Luke Wattenberg      41024        C       DEN                  1   \n",
       "1      Doug Kramer      41458        C       CHI                  1   \n",
       "\n",
       "   draft_round  draft_pick  block_percent  declined_penalties  franchise_id  \\\n",
       "0            5         171            100                   0            10   \n",
       "1            6         207            100                   0             6   \n",
       "\n",
       "   ...  snap_counts_ce  snap_counts_lg  snap_counts_lt  snap_counts_offense  \\\n",
       "0  ...              14               0               0                   51   \n",
       "1  ...              48               0               0                   48   \n",
       "\n",
       "   snap_counts_pass_block  snap_counts_pass_play  snap_counts_rg  \\\n",
       "0                      38                     38              37   \n",
       "1                      25                     25               0   \n",
       "\n",
       "   snap_counts_rt  snap_counts_run_block  snap_counts_te  \n",
       "0               0                     13               0  \n",
       "1               0                     23               0  \n",
       "\n",
       "[2 rows x 33 columns]"
      ]
     },
     "execution_count": 46,
     "metadata": {},
     "output_type": "execute_result"
    }
   ],
   "source": [
    "# Lets take a look to see how rookies performed in week one\n",
    "# also interested in seeing how draft position is effecting pff grade\n",
    "rushing_rookie_one = pd.read_sql_query('''\n",
    "\n",
    "SELECT \n",
    "    *\n",
    "FROM\n",
    "    `preseason_rushing_rookies_1`\n",
    "\n",
    "''', connection)\n",
    "\n",
    "tackle_rookie_one = pd.read_sql_query('''\n",
    "\n",
    "SELECT \n",
    "    *\n",
    "FROM\n",
    "    `preseason_blocking_rookies_1`\n",
    "WHERE \n",
    "    position = \"T\"\n",
    "\n",
    "''', connection)\n",
    "\n",
    "guard_rookie_one = pd.read_sql_query('''\n",
    "\n",
    "SELECT \n",
    "    *\n",
    "FROM\n",
    "    `preseason_blocking_rookies_1`\n",
    "WHERE \n",
    "    position = \"G\"\n",
    "\n",
    "''', connection)\n",
    "\n",
    "center_rookie_one = pd.read_sql_query('''\n",
    "\n",
    "SELECT \n",
    "    *\n",
    "FROM\n",
    "    `preseason_blocking_rookies_1`\n",
    "WHERE \n",
    "    position = \"C\"\n",
    "\n",
    "''', connection)\n",
    "\n",
    "\n",
    "center_rookie_one.head(2)"
   ]
  },
  {
   "cell_type": "code",
   "execution_count": 53,
   "id": "d61d381d",
   "metadata": {},
   "outputs": [
    {
     "data": {
      "application/vnd.plotly.v1+json": {
       "config": {
        "plotlyServerURL": "https://plot.ly"
       },
       "data": [
        {
         "hovertemplate": "team_name=LAC<br>PFF offense grade=%{x}<br>Draft position=%{y}<br>player=%{text}<extra></extra>",
         "legendgroup": "LAC",
         "marker": {
          "color": "#0080C6",
          "symbol": "circle"
         },
         "mode": "markers+text",
         "name": "LAC",
         "orientation": "v",
         "showlegend": true,
         "text": [
          "Isaiah Spiller"
         ],
         "textposition": "top center",
         "type": "scatter",
         "x": [
          79.2
         ],
         "xaxis": "x",
         "y": [
          123
         ],
         "yaxis": "y"
        },
        {
         "hovertemplate": "team_name=CLV<br>PFF offense grade=%{x}<br>Draft position=%{y}<br>player=%{text}<extra></extra>",
         "legendgroup": "CLV",
         "marker": {
          "color": "#311D00",
          "symbol": "circle"
         },
         "mode": "markers+text",
         "name": "CLV",
         "orientation": "v",
         "showlegend": true,
         "text": [
          "Jerome Ford"
         ],
         "textposition": "top center",
         "type": "scatter",
         "x": [
          73.5
         ],
         "xaxis": "x",
         "y": [
          156
         ],
         "yaxis": "y"
        },
        {
         "hovertemplate": "team_name=SF<br>PFF offense grade=%{x}<br>Draft position=%{y}<br>player=%{text}<extra></extra>",
         "legendgroup": "SF",
         "marker": {
          "color": "#AA0000",
          "symbol": "circle"
         },
         "mode": "markers+text",
         "name": "SF",
         "orientation": "v",
         "showlegend": true,
         "text": [
          "Tyrion Davis-Price"
         ],
         "textposition": "top center",
         "type": "scatter",
         "x": [
          52.8
         ],
         "xaxis": "x",
         "y": [
          93
         ],
         "yaxis": "y"
        },
        {
         "hovertemplate": "team_name=ARZ<br>PFF offense grade=%{x}<br>Draft position=%{y}<br>player=%{text}<extra></extra>",
         "legendgroup": "ARZ",
         "marker": {
          "color": "#97233F",
          "symbol": "circle"
         },
         "mode": "markers+text",
         "name": "ARZ",
         "orientation": "v",
         "showlegend": true,
         "text": [
          "Keaontay Ingram"
         ],
         "textposition": "top center",
         "type": "scatter",
         "x": [
          54.9
         ],
         "xaxis": "x",
         "y": [
          201
         ],
         "yaxis": "y"
        },
        {
         "hovertemplate": "team_name=TB<br>PFF offense grade=%{x}<br>Draft position=%{y}<br>player=%{text}<extra></extra>",
         "legendgroup": "TB",
         "marker": {
          "color": "#D50A0A",
          "symbol": "circle"
         },
         "mode": "markers+text",
         "name": "TB",
         "orientation": "v",
         "showlegend": true,
         "text": [
          "Rachaad White"
         ],
         "textposition": "top center",
         "type": "scatter",
         "x": [
          67.3
         ],
         "xaxis": "x",
         "y": [
          91
         ],
         "yaxis": "y"
        },
        {
         "hovertemplate": "team_name=JAX<br>PFF offense grade=%{x}<br>Draft position=%{y}<br>player=%{text}<extra></extra>",
         "legendgroup": "JAX",
         "marker": {
          "color": "#D7A22A",
          "symbol": "circle"
         },
         "mode": "markers+text",
         "name": "JAX",
         "orientation": "v",
         "showlegend": true,
         "text": [
          "Snoop Conner"
         ],
         "textposition": "top center",
         "type": "scatter",
         "x": [
          52.9
         ],
         "xaxis": "x",
         "y": [
          154
         ],
         "yaxis": "y"
        },
        {
         "hovertemplate": "team_name=CHI<br>PFF offense grade=%{x}<br>Draft position=%{y}<br>player=%{text}<extra></extra>",
         "legendgroup": "CHI",
         "marker": {
          "color": "#C83803",
          "symbol": "circle"
         },
         "mode": "markers+text",
         "name": "CHI",
         "orientation": "v",
         "showlegend": true,
         "text": [
          "Trestan Ebner"
         ],
         "textposition": "top center",
         "type": "scatter",
         "x": [
          57
         ],
         "xaxis": "x",
         "y": [
          203
         ],
         "yaxis": "y"
        },
        {
         "hovertemplate": "team_name=WAS<br>PFF offense grade=%{x}<br>Draft position=%{y}<br>player=%{text}<extra></extra>",
         "legendgroup": "WAS",
         "marker": {
          "color": "#5A1414",
          "symbol": "circle"
         },
         "mode": "markers+text",
         "name": "WAS",
         "orientation": "v",
         "showlegend": true,
         "text": [
          "Brian Robinson Jr."
         ],
         "textposition": "top center",
         "type": "scatter",
         "x": [
          66.3
         ],
         "xaxis": "x",
         "y": [
          98
         ],
         "yaxis": "y"
        },
        {
         "hovertemplate": "team_name=TEN<br>PFF offense grade=%{x}<br>Draft position=%{y}<br>player=%{text}<extra></extra>",
         "legendgroup": "TEN",
         "marker": {
          "color": "#4B92DB",
          "symbol": "circle"
         },
         "mode": "markers+text",
         "name": "TEN",
         "orientation": "v",
         "showlegend": true,
         "text": [
          "Hassan Haskins"
         ],
         "textposition": "top center",
         "type": "scatter",
         "x": [
          63.7
         ],
         "xaxis": "x",
         "y": [
          131
         ],
         "yaxis": "y"
        },
        {
         "hovertemplate": "team_name=NE<br>PFF offense grade=%{x}<br>Draft position=%{y}<br>player=%{text}<extra></extra>",
         "legendgroup": "NE",
         "marker": {
          "color": "#002244",
          "symbol": "circle"
         },
         "mode": "markers+text",
         "name": "NE",
         "orientation": "v",
         "showlegend": true,
         "text": [
          "Pierre Strong Jr.",
          "Kevin Harris"
         ],
         "textposition": "top center",
         "type": "scatter",
         "x": [
          65.2,
          47.9
         ],
         "xaxis": "x",
         "y": [
          127,
          183
         ],
         "yaxis": "y"
        },
        {
         "hovertemplate": "team_name=SEA<br>PFF offense grade=%{x}<br>Draft position=%{y}<br>player=%{text}<extra></extra>",
         "legendgroup": "SEA",
         "marker": {
          "color": "#69BE28",
          "symbol": "circle"
         },
         "mode": "markers+text",
         "name": "SEA",
         "orientation": "v",
         "showlegend": true,
         "text": [
          "Kenneth Walker III"
         ],
         "textposition": "top center",
         "type": "scatter",
         "x": [
          60
         ],
         "xaxis": "x",
         "y": [
          41
         ],
         "yaxis": "y"
        },
        {
         "hovertemplate": "team_name=NYJ<br>PFF offense grade=%{x}<br>Draft position=%{y}<br>player=%{text}<extra></extra>",
         "legendgroup": "NYJ",
         "marker": {
          "color": "#125740",
          "symbol": "circle"
         },
         "mode": "markers+text",
         "name": "NYJ",
         "orientation": "v",
         "showlegend": true,
         "text": [
          "Breece Hall"
         ],
         "textposition": "top center",
         "type": "scatter",
         "x": [
          69.3
         ],
         "xaxis": "x",
         "y": [
          36
         ],
         "yaxis": "y"
        },
        {
         "hovertemplate": "team_name=HST<br>PFF offense grade=%{x}<br>Draft position=%{y}<br>player=%{text}<extra></extra>",
         "legendgroup": "HST",
         "marker": {
          "color": "#A71930",
          "symbol": "circle"
         },
         "mode": "markers+text",
         "name": "HST",
         "orientation": "v",
         "showlegend": true,
         "text": [
          "Dameon Pierce"
         ],
         "textposition": "top center",
         "type": "scatter",
         "x": [
          90.6
         ],
         "xaxis": "x",
         "y": [
          107
         ],
         "yaxis": "y"
        },
        {
         "hovertemplate": "team_name=ATL<br>PFF offense grade=%{x}<br>Draft position=%{y}<br>player=%{text}<extra></extra>",
         "legendgroup": "ATL",
         "marker": {
          "color": "#A71930",
          "symbol": "circle"
         },
         "mode": "markers+text",
         "name": "ATL",
         "orientation": "v",
         "showlegend": true,
         "text": [
          "Tyler Allgeier"
         ],
         "textposition": "top center",
         "type": "scatter",
         "x": [
          73.5
         ],
         "xaxis": "x",
         "y": [
          151
         ],
         "yaxis": "y"
        },
        {
         "hovertemplate": "team_name=BUF<br>PFF offense grade=%{x}<br>Draft position=%{y}<br>player=%{text}<extra></extra>",
         "legendgroup": "BUF",
         "marker": {
          "color": "#00338D",
          "symbol": "circle"
         },
         "mode": "markers+text",
         "name": "BUF",
         "orientation": "v",
         "showlegend": true,
         "text": [
          "James Cook"
         ],
         "textposition": "top center",
         "type": "scatter",
         "x": [
          59
         ],
         "xaxis": "x",
         "y": [
          63
         ],
         "yaxis": "y"
        },
        {
         "hovertemplate": "team_name=KC<br>PFF offense grade=%{x}<br>Draft position=%{y}<br>player=%{text}<extra></extra>",
         "legendgroup": "KC",
         "marker": {
          "color": "#E31837",
          "symbol": "circle"
         },
         "mode": "markers+text",
         "name": "KC",
         "orientation": "v",
         "showlegend": true,
         "text": [
          "Isiah Pacheco"
         ],
         "textposition": "top center",
         "type": "scatter",
         "x": [
          54.1
         ],
         "xaxis": "x",
         "y": [
          251
         ],
         "yaxis": "y"
        },
        {
         "hovertemplate": "team_name=MIN<br>PFF offense grade=%{x}<br>Draft position=%{y}<br>player=%{text}<extra></extra>",
         "legendgroup": "MIN",
         "marker": {
          "color": "#4F2683",
          "symbol": "circle"
         },
         "mode": "markers+text",
         "name": "MIN",
         "orientation": "v",
         "showlegend": true,
         "text": [
          "Ty Chandler"
         ],
         "textposition": "top center",
         "type": "scatter",
         "x": [
          88.5
         ],
         "xaxis": "x",
         "y": [
          169
         ],
         "yaxis": "y"
        },
        {
         "hovertemplate": "team_name=LV<br>PFF offense grade=%{x}<br>Draft position=%{y}<br>player=%{text}<extra></extra>",
         "legendgroup": "LV",
         "marker": {
          "color": "#000000",
          "symbol": "circle"
         },
         "mode": "markers+text",
         "name": "LV",
         "orientation": "v",
         "showlegend": true,
         "text": [
          "Zamir White",
          "Brittain Brown"
         ],
         "textposition": "top center",
         "type": "scatter",
         "x": [
          58.7,
          57.5
         ],
         "xaxis": "x",
         "y": [
          122,
          250
         ],
         "yaxis": "y"
        }
       ],
       "layout": {
        "legend": {
         "title": {
          "text": "team_name"
         },
         "tracegroupgap": 0
        },
        "showlegend": false,
        "template": {
         "data": {
          "bar": [
           {
            "error_x": {
             "color": "#2a3f5f"
            },
            "error_y": {
             "color": "#2a3f5f"
            },
            "marker": {
             "line": {
              "color": "#E5ECF6",
              "width": 0.5
             },
             "pattern": {
              "fillmode": "overlay",
              "size": 10,
              "solidity": 0.2
             }
            },
            "type": "bar"
           }
          ],
          "barpolar": [
           {
            "marker": {
             "line": {
              "color": "#E5ECF6",
              "width": 0.5
             },
             "pattern": {
              "fillmode": "overlay",
              "size": 10,
              "solidity": 0.2
             }
            },
            "type": "barpolar"
           }
          ],
          "carpet": [
           {
            "aaxis": {
             "endlinecolor": "#2a3f5f",
             "gridcolor": "white",
             "linecolor": "white",
             "minorgridcolor": "white",
             "startlinecolor": "#2a3f5f"
            },
            "baxis": {
             "endlinecolor": "#2a3f5f",
             "gridcolor": "white",
             "linecolor": "white",
             "minorgridcolor": "white",
             "startlinecolor": "#2a3f5f"
            },
            "type": "carpet"
           }
          ],
          "choropleth": [
           {
            "colorbar": {
             "outlinewidth": 0,
             "ticks": ""
            },
            "type": "choropleth"
           }
          ],
          "contour": [
           {
            "colorbar": {
             "outlinewidth": 0,
             "ticks": ""
            },
            "colorscale": [
             [
              0,
              "#0d0887"
             ],
             [
              0.1111111111111111,
              "#46039f"
             ],
             [
              0.2222222222222222,
              "#7201a8"
             ],
             [
              0.3333333333333333,
              "#9c179e"
             ],
             [
              0.4444444444444444,
              "#bd3786"
             ],
             [
              0.5555555555555556,
              "#d8576b"
             ],
             [
              0.6666666666666666,
              "#ed7953"
             ],
             [
              0.7777777777777778,
              "#fb9f3a"
             ],
             [
              0.8888888888888888,
              "#fdca26"
             ],
             [
              1,
              "#f0f921"
             ]
            ],
            "type": "contour"
           }
          ],
          "contourcarpet": [
           {
            "colorbar": {
             "outlinewidth": 0,
             "ticks": ""
            },
            "type": "contourcarpet"
           }
          ],
          "heatmap": [
           {
            "colorbar": {
             "outlinewidth": 0,
             "ticks": ""
            },
            "colorscale": [
             [
              0,
              "#0d0887"
             ],
             [
              0.1111111111111111,
              "#46039f"
             ],
             [
              0.2222222222222222,
              "#7201a8"
             ],
             [
              0.3333333333333333,
              "#9c179e"
             ],
             [
              0.4444444444444444,
              "#bd3786"
             ],
             [
              0.5555555555555556,
              "#d8576b"
             ],
             [
              0.6666666666666666,
              "#ed7953"
             ],
             [
              0.7777777777777778,
              "#fb9f3a"
             ],
             [
              0.8888888888888888,
              "#fdca26"
             ],
             [
              1,
              "#f0f921"
             ]
            ],
            "type": "heatmap"
           }
          ],
          "heatmapgl": [
           {
            "colorbar": {
             "outlinewidth": 0,
             "ticks": ""
            },
            "colorscale": [
             [
              0,
              "#0d0887"
             ],
             [
              0.1111111111111111,
              "#46039f"
             ],
             [
              0.2222222222222222,
              "#7201a8"
             ],
             [
              0.3333333333333333,
              "#9c179e"
             ],
             [
              0.4444444444444444,
              "#bd3786"
             ],
             [
              0.5555555555555556,
              "#d8576b"
             ],
             [
              0.6666666666666666,
              "#ed7953"
             ],
             [
              0.7777777777777778,
              "#fb9f3a"
             ],
             [
              0.8888888888888888,
              "#fdca26"
             ],
             [
              1,
              "#f0f921"
             ]
            ],
            "type": "heatmapgl"
           }
          ],
          "histogram": [
           {
            "marker": {
             "pattern": {
              "fillmode": "overlay",
              "size": 10,
              "solidity": 0.2
             }
            },
            "type": "histogram"
           }
          ],
          "histogram2d": [
           {
            "colorbar": {
             "outlinewidth": 0,
             "ticks": ""
            },
            "colorscale": [
             [
              0,
              "#0d0887"
             ],
             [
              0.1111111111111111,
              "#46039f"
             ],
             [
              0.2222222222222222,
              "#7201a8"
             ],
             [
              0.3333333333333333,
              "#9c179e"
             ],
             [
              0.4444444444444444,
              "#bd3786"
             ],
             [
              0.5555555555555556,
              "#d8576b"
             ],
             [
              0.6666666666666666,
              "#ed7953"
             ],
             [
              0.7777777777777778,
              "#fb9f3a"
             ],
             [
              0.8888888888888888,
              "#fdca26"
             ],
             [
              1,
              "#f0f921"
             ]
            ],
            "type": "histogram2d"
           }
          ],
          "histogram2dcontour": [
           {
            "colorbar": {
             "outlinewidth": 0,
             "ticks": ""
            },
            "colorscale": [
             [
              0,
              "#0d0887"
             ],
             [
              0.1111111111111111,
              "#46039f"
             ],
             [
              0.2222222222222222,
              "#7201a8"
             ],
             [
              0.3333333333333333,
              "#9c179e"
             ],
             [
              0.4444444444444444,
              "#bd3786"
             ],
             [
              0.5555555555555556,
              "#d8576b"
             ],
             [
              0.6666666666666666,
              "#ed7953"
             ],
             [
              0.7777777777777778,
              "#fb9f3a"
             ],
             [
              0.8888888888888888,
              "#fdca26"
             ],
             [
              1,
              "#f0f921"
             ]
            ],
            "type": "histogram2dcontour"
           }
          ],
          "mesh3d": [
           {
            "colorbar": {
             "outlinewidth": 0,
             "ticks": ""
            },
            "type": "mesh3d"
           }
          ],
          "parcoords": [
           {
            "line": {
             "colorbar": {
              "outlinewidth": 0,
              "ticks": ""
             }
            },
            "type": "parcoords"
           }
          ],
          "pie": [
           {
            "automargin": true,
            "type": "pie"
           }
          ],
          "scatter": [
           {
            "marker": {
             "colorbar": {
              "outlinewidth": 0,
              "ticks": ""
             }
            },
            "type": "scatter"
           }
          ],
          "scatter3d": [
           {
            "line": {
             "colorbar": {
              "outlinewidth": 0,
              "ticks": ""
             }
            },
            "marker": {
             "colorbar": {
              "outlinewidth": 0,
              "ticks": ""
             }
            },
            "type": "scatter3d"
           }
          ],
          "scattercarpet": [
           {
            "marker": {
             "colorbar": {
              "outlinewidth": 0,
              "ticks": ""
             }
            },
            "type": "scattercarpet"
           }
          ],
          "scattergeo": [
           {
            "marker": {
             "colorbar": {
              "outlinewidth": 0,
              "ticks": ""
             }
            },
            "type": "scattergeo"
           }
          ],
          "scattergl": [
           {
            "marker": {
             "colorbar": {
              "outlinewidth": 0,
              "ticks": ""
             }
            },
            "type": "scattergl"
           }
          ],
          "scattermapbox": [
           {
            "marker": {
             "colorbar": {
              "outlinewidth": 0,
              "ticks": ""
             }
            },
            "type": "scattermapbox"
           }
          ],
          "scatterpolar": [
           {
            "marker": {
             "colorbar": {
              "outlinewidth": 0,
              "ticks": ""
             }
            },
            "type": "scatterpolar"
           }
          ],
          "scatterpolargl": [
           {
            "marker": {
             "colorbar": {
              "outlinewidth": 0,
              "ticks": ""
             }
            },
            "type": "scatterpolargl"
           }
          ],
          "scatterternary": [
           {
            "marker": {
             "colorbar": {
              "outlinewidth": 0,
              "ticks": ""
             }
            },
            "type": "scatterternary"
           }
          ],
          "surface": [
           {
            "colorbar": {
             "outlinewidth": 0,
             "ticks": ""
            },
            "colorscale": [
             [
              0,
              "#0d0887"
             ],
             [
              0.1111111111111111,
              "#46039f"
             ],
             [
              0.2222222222222222,
              "#7201a8"
             ],
             [
              0.3333333333333333,
              "#9c179e"
             ],
             [
              0.4444444444444444,
              "#bd3786"
             ],
             [
              0.5555555555555556,
              "#d8576b"
             ],
             [
              0.6666666666666666,
              "#ed7953"
             ],
             [
              0.7777777777777778,
              "#fb9f3a"
             ],
             [
              0.8888888888888888,
              "#fdca26"
             ],
             [
              1,
              "#f0f921"
             ]
            ],
            "type": "surface"
           }
          ],
          "table": [
           {
            "cells": {
             "fill": {
              "color": "#EBF0F8"
             },
             "line": {
              "color": "white"
             }
            },
            "header": {
             "fill": {
              "color": "#C8D4E3"
             },
             "line": {
              "color": "white"
             }
            },
            "type": "table"
           }
          ]
         },
         "layout": {
          "annotationdefaults": {
           "arrowcolor": "#2a3f5f",
           "arrowhead": 0,
           "arrowwidth": 1
          },
          "autotypenumbers": "strict",
          "coloraxis": {
           "colorbar": {
            "outlinewidth": 0,
            "ticks": ""
           }
          },
          "colorscale": {
           "diverging": [
            [
             0,
             "#8e0152"
            ],
            [
             0.1,
             "#c51b7d"
            ],
            [
             0.2,
             "#de77ae"
            ],
            [
             0.3,
             "#f1b6da"
            ],
            [
             0.4,
             "#fde0ef"
            ],
            [
             0.5,
             "#f7f7f7"
            ],
            [
             0.6,
             "#e6f5d0"
            ],
            [
             0.7,
             "#b8e186"
            ],
            [
             0.8,
             "#7fbc41"
            ],
            [
             0.9,
             "#4d9221"
            ],
            [
             1,
             "#276419"
            ]
           ],
           "sequential": [
            [
             0,
             "#0d0887"
            ],
            [
             0.1111111111111111,
             "#46039f"
            ],
            [
             0.2222222222222222,
             "#7201a8"
            ],
            [
             0.3333333333333333,
             "#9c179e"
            ],
            [
             0.4444444444444444,
             "#bd3786"
            ],
            [
             0.5555555555555556,
             "#d8576b"
            ],
            [
             0.6666666666666666,
             "#ed7953"
            ],
            [
             0.7777777777777778,
             "#fb9f3a"
            ],
            [
             0.8888888888888888,
             "#fdca26"
            ],
            [
             1,
             "#f0f921"
            ]
           ],
           "sequentialminus": [
            [
             0,
             "#0d0887"
            ],
            [
             0.1111111111111111,
             "#46039f"
            ],
            [
             0.2222222222222222,
             "#7201a8"
            ],
            [
             0.3333333333333333,
             "#9c179e"
            ],
            [
             0.4444444444444444,
             "#bd3786"
            ],
            [
             0.5555555555555556,
             "#d8576b"
            ],
            [
             0.6666666666666666,
             "#ed7953"
            ],
            [
             0.7777777777777778,
             "#fb9f3a"
            ],
            [
             0.8888888888888888,
             "#fdca26"
            ],
            [
             1,
             "#f0f921"
            ]
           ]
          },
          "colorway": [
           "#636efa",
           "#EF553B",
           "#00cc96",
           "#ab63fa",
           "#FFA15A",
           "#19d3f3",
           "#FF6692",
           "#B6E880",
           "#FF97FF",
           "#FECB52"
          ],
          "font": {
           "color": "#2a3f5f"
          },
          "geo": {
           "bgcolor": "white",
           "lakecolor": "white",
           "landcolor": "#E5ECF6",
           "showlakes": true,
           "showland": true,
           "subunitcolor": "white"
          },
          "hoverlabel": {
           "align": "left"
          },
          "hovermode": "closest",
          "mapbox": {
           "style": "light"
          },
          "paper_bgcolor": "white",
          "plot_bgcolor": "#E5ECF6",
          "polar": {
           "angularaxis": {
            "gridcolor": "white",
            "linecolor": "white",
            "ticks": ""
           },
           "bgcolor": "#E5ECF6",
           "radialaxis": {
            "gridcolor": "white",
            "linecolor": "white",
            "ticks": ""
           }
          },
          "scene": {
           "xaxis": {
            "backgroundcolor": "#E5ECF6",
            "gridcolor": "white",
            "gridwidth": 2,
            "linecolor": "white",
            "showbackground": true,
            "ticks": "",
            "zerolinecolor": "white"
           },
           "yaxis": {
            "backgroundcolor": "#E5ECF6",
            "gridcolor": "white",
            "gridwidth": 2,
            "linecolor": "white",
            "showbackground": true,
            "ticks": "",
            "zerolinecolor": "white"
           },
           "zaxis": {
            "backgroundcolor": "#E5ECF6",
            "gridcolor": "white",
            "gridwidth": 2,
            "linecolor": "white",
            "showbackground": true,
            "ticks": "",
            "zerolinecolor": "white"
           }
          },
          "shapedefaults": {
           "line": {
            "color": "#2a3f5f"
           }
          },
          "ternary": {
           "aaxis": {
            "gridcolor": "white",
            "linecolor": "white",
            "ticks": ""
           },
           "baxis": {
            "gridcolor": "white",
            "linecolor": "white",
            "ticks": ""
           },
           "bgcolor": "#E5ECF6",
           "caxis": {
            "gridcolor": "white",
            "linecolor": "white",
            "ticks": ""
           }
          },
          "title": {
           "x": 0.05
          },
          "xaxis": {
           "automargin": true,
           "gridcolor": "white",
           "linecolor": "white",
           "ticks": "",
           "title": {
            "standoff": 15
           },
           "zerolinecolor": "white",
           "zerolinewidth": 2
          },
          "yaxis": {
           "automargin": true,
           "gridcolor": "white",
           "linecolor": "white",
           "ticks": "",
           "title": {
            "standoff": 15
           },
           "zerolinecolor": "white",
           "zerolinewidth": 2
          }
         }
        },
        "title": {
         "text": "Preseason Game 1 (2022) PFF offensive grade vs draft position for rookie RBs"
        },
        "xaxis": {
         "anchor": "y",
         "domain": [
          0,
          1
         ],
         "title": {
          "text": "PFF offense grade"
         }
        },
        "yaxis": {
         "anchor": "x",
         "domain": [
          0,
          1
         ],
         "title": {
          "text": "Draft position"
         }
        }
       }
      },
      "text/html": [
       "<div>                            <div id=\"792bda68-d742-43b4-a81a-2221e87446fc\" class=\"plotly-graph-div\" style=\"height:525px; width:100%;\"></div>            <script type=\"text/javascript\">                require([\"plotly\"], function(Plotly) {                    window.PLOTLYENV=window.PLOTLYENV || {};                                    if (document.getElementById(\"792bda68-d742-43b4-a81a-2221e87446fc\")) {                    Plotly.newPlot(                        \"792bda68-d742-43b4-a81a-2221e87446fc\",                        [{\"hovertemplate\":\"team_name=LAC<br>PFF offense grade=%{x}<br>Draft position=%{y}<br>player=%{text}<extra></extra>\",\"legendgroup\":\"LAC\",\"marker\":{\"color\":\"#0080C6\",\"symbol\":\"circle\"},\"mode\":\"markers+text\",\"name\":\"LAC\",\"orientation\":\"v\",\"showlegend\":true,\"text\":[\"Isaiah Spiller\"],\"x\":[79.2],\"xaxis\":\"x\",\"y\":[123],\"yaxis\":\"y\",\"type\":\"scatter\",\"textposition\":\"top center\"},{\"hovertemplate\":\"team_name=CLV<br>PFF offense grade=%{x}<br>Draft position=%{y}<br>player=%{text}<extra></extra>\",\"legendgroup\":\"CLV\",\"marker\":{\"color\":\"#311D00\",\"symbol\":\"circle\"},\"mode\":\"markers+text\",\"name\":\"CLV\",\"orientation\":\"v\",\"showlegend\":true,\"text\":[\"Jerome Ford\"],\"x\":[73.5],\"xaxis\":\"x\",\"y\":[156],\"yaxis\":\"y\",\"type\":\"scatter\",\"textposition\":\"top center\"},{\"hovertemplate\":\"team_name=SF<br>PFF offense grade=%{x}<br>Draft position=%{y}<br>player=%{text}<extra></extra>\",\"legendgroup\":\"SF\",\"marker\":{\"color\":\"#AA0000\",\"symbol\":\"circle\"},\"mode\":\"markers+text\",\"name\":\"SF\",\"orientation\":\"v\",\"showlegend\":true,\"text\":[\"Tyrion Davis-Price\"],\"x\":[52.8],\"xaxis\":\"x\",\"y\":[93],\"yaxis\":\"y\",\"type\":\"scatter\",\"textposition\":\"top center\"},{\"hovertemplate\":\"team_name=ARZ<br>PFF offense grade=%{x}<br>Draft position=%{y}<br>player=%{text}<extra></extra>\",\"legendgroup\":\"ARZ\",\"marker\":{\"color\":\"#97233F\",\"symbol\":\"circle\"},\"mode\":\"markers+text\",\"name\":\"ARZ\",\"orientation\":\"v\",\"showlegend\":true,\"text\":[\"Keaontay Ingram\"],\"x\":[54.9],\"xaxis\":\"x\",\"y\":[201],\"yaxis\":\"y\",\"type\":\"scatter\",\"textposition\":\"top center\"},{\"hovertemplate\":\"team_name=TB<br>PFF offense grade=%{x}<br>Draft position=%{y}<br>player=%{text}<extra></extra>\",\"legendgroup\":\"TB\",\"marker\":{\"color\":\"#D50A0A\",\"symbol\":\"circle\"},\"mode\":\"markers+text\",\"name\":\"TB\",\"orientation\":\"v\",\"showlegend\":true,\"text\":[\"Rachaad White\"],\"x\":[67.3],\"xaxis\":\"x\",\"y\":[91],\"yaxis\":\"y\",\"type\":\"scatter\",\"textposition\":\"top center\"},{\"hovertemplate\":\"team_name=JAX<br>PFF offense grade=%{x}<br>Draft position=%{y}<br>player=%{text}<extra></extra>\",\"legendgroup\":\"JAX\",\"marker\":{\"color\":\"#D7A22A\",\"symbol\":\"circle\"},\"mode\":\"markers+text\",\"name\":\"JAX\",\"orientation\":\"v\",\"showlegend\":true,\"text\":[\"Snoop Conner\"],\"x\":[52.9],\"xaxis\":\"x\",\"y\":[154],\"yaxis\":\"y\",\"type\":\"scatter\",\"textposition\":\"top center\"},{\"hovertemplate\":\"team_name=CHI<br>PFF offense grade=%{x}<br>Draft position=%{y}<br>player=%{text}<extra></extra>\",\"legendgroup\":\"CHI\",\"marker\":{\"color\":\"#C83803\",\"symbol\":\"circle\"},\"mode\":\"markers+text\",\"name\":\"CHI\",\"orientation\":\"v\",\"showlegend\":true,\"text\":[\"Trestan Ebner\"],\"x\":[57.0],\"xaxis\":\"x\",\"y\":[203],\"yaxis\":\"y\",\"type\":\"scatter\",\"textposition\":\"top center\"},{\"hovertemplate\":\"team_name=WAS<br>PFF offense grade=%{x}<br>Draft position=%{y}<br>player=%{text}<extra></extra>\",\"legendgroup\":\"WAS\",\"marker\":{\"color\":\"#5A1414\",\"symbol\":\"circle\"},\"mode\":\"markers+text\",\"name\":\"WAS\",\"orientation\":\"v\",\"showlegend\":true,\"text\":[\"Brian Robinson Jr.\"],\"x\":[66.3],\"xaxis\":\"x\",\"y\":[98],\"yaxis\":\"y\",\"type\":\"scatter\",\"textposition\":\"top center\"},{\"hovertemplate\":\"team_name=TEN<br>PFF offense grade=%{x}<br>Draft position=%{y}<br>player=%{text}<extra></extra>\",\"legendgroup\":\"TEN\",\"marker\":{\"color\":\"#4B92DB\",\"symbol\":\"circle\"},\"mode\":\"markers+text\",\"name\":\"TEN\",\"orientation\":\"v\",\"showlegend\":true,\"text\":[\"Hassan Haskins\"],\"x\":[63.7],\"xaxis\":\"x\",\"y\":[131],\"yaxis\":\"y\",\"type\":\"scatter\",\"textposition\":\"top center\"},{\"hovertemplate\":\"team_name=NE<br>PFF offense grade=%{x}<br>Draft position=%{y}<br>player=%{text}<extra></extra>\",\"legendgroup\":\"NE\",\"marker\":{\"color\":\"#002244\",\"symbol\":\"circle\"},\"mode\":\"markers+text\",\"name\":\"NE\",\"orientation\":\"v\",\"showlegend\":true,\"text\":[\"Pierre Strong Jr.\",\"Kevin Harris\"],\"x\":[65.2,47.9],\"xaxis\":\"x\",\"y\":[127,183],\"yaxis\":\"y\",\"type\":\"scatter\",\"textposition\":\"top center\"},{\"hovertemplate\":\"team_name=SEA<br>PFF offense grade=%{x}<br>Draft position=%{y}<br>player=%{text}<extra></extra>\",\"legendgroup\":\"SEA\",\"marker\":{\"color\":\"#69BE28\",\"symbol\":\"circle\"},\"mode\":\"markers+text\",\"name\":\"SEA\",\"orientation\":\"v\",\"showlegend\":true,\"text\":[\"Kenneth Walker III\"],\"x\":[60.0],\"xaxis\":\"x\",\"y\":[41],\"yaxis\":\"y\",\"type\":\"scatter\",\"textposition\":\"top center\"},{\"hovertemplate\":\"team_name=NYJ<br>PFF offense grade=%{x}<br>Draft position=%{y}<br>player=%{text}<extra></extra>\",\"legendgroup\":\"NYJ\",\"marker\":{\"color\":\"#125740\",\"symbol\":\"circle\"},\"mode\":\"markers+text\",\"name\":\"NYJ\",\"orientation\":\"v\",\"showlegend\":true,\"text\":[\"Breece Hall\"],\"x\":[69.3],\"xaxis\":\"x\",\"y\":[36],\"yaxis\":\"y\",\"type\":\"scatter\",\"textposition\":\"top center\"},{\"hovertemplate\":\"team_name=HST<br>PFF offense grade=%{x}<br>Draft position=%{y}<br>player=%{text}<extra></extra>\",\"legendgroup\":\"HST\",\"marker\":{\"color\":\"#A71930\",\"symbol\":\"circle\"},\"mode\":\"markers+text\",\"name\":\"HST\",\"orientation\":\"v\",\"showlegend\":true,\"text\":[\"Dameon Pierce\"],\"x\":[90.6],\"xaxis\":\"x\",\"y\":[107],\"yaxis\":\"y\",\"type\":\"scatter\",\"textposition\":\"top center\"},{\"hovertemplate\":\"team_name=ATL<br>PFF offense grade=%{x}<br>Draft position=%{y}<br>player=%{text}<extra></extra>\",\"legendgroup\":\"ATL\",\"marker\":{\"color\":\"#A71930\",\"symbol\":\"circle\"},\"mode\":\"markers+text\",\"name\":\"ATL\",\"orientation\":\"v\",\"showlegend\":true,\"text\":[\"Tyler Allgeier\"],\"x\":[73.5],\"xaxis\":\"x\",\"y\":[151],\"yaxis\":\"y\",\"type\":\"scatter\",\"textposition\":\"top center\"},{\"hovertemplate\":\"team_name=BUF<br>PFF offense grade=%{x}<br>Draft position=%{y}<br>player=%{text}<extra></extra>\",\"legendgroup\":\"BUF\",\"marker\":{\"color\":\"#00338D\",\"symbol\":\"circle\"},\"mode\":\"markers+text\",\"name\":\"BUF\",\"orientation\":\"v\",\"showlegend\":true,\"text\":[\"James Cook\"],\"x\":[59.0],\"xaxis\":\"x\",\"y\":[63],\"yaxis\":\"y\",\"type\":\"scatter\",\"textposition\":\"top center\"},{\"hovertemplate\":\"team_name=KC<br>PFF offense grade=%{x}<br>Draft position=%{y}<br>player=%{text}<extra></extra>\",\"legendgroup\":\"KC\",\"marker\":{\"color\":\"#E31837\",\"symbol\":\"circle\"},\"mode\":\"markers+text\",\"name\":\"KC\",\"orientation\":\"v\",\"showlegend\":true,\"text\":[\"Isiah Pacheco\"],\"x\":[54.1],\"xaxis\":\"x\",\"y\":[251],\"yaxis\":\"y\",\"type\":\"scatter\",\"textposition\":\"top center\"},{\"hovertemplate\":\"team_name=MIN<br>PFF offense grade=%{x}<br>Draft position=%{y}<br>player=%{text}<extra></extra>\",\"legendgroup\":\"MIN\",\"marker\":{\"color\":\"#4F2683\",\"symbol\":\"circle\"},\"mode\":\"markers+text\",\"name\":\"MIN\",\"orientation\":\"v\",\"showlegend\":true,\"text\":[\"Ty Chandler\"],\"x\":[88.5],\"xaxis\":\"x\",\"y\":[169],\"yaxis\":\"y\",\"type\":\"scatter\",\"textposition\":\"top center\"},{\"hovertemplate\":\"team_name=LV<br>PFF offense grade=%{x}<br>Draft position=%{y}<br>player=%{text}<extra></extra>\",\"legendgroup\":\"LV\",\"marker\":{\"color\":\"#000000\",\"symbol\":\"circle\"},\"mode\":\"markers+text\",\"name\":\"LV\",\"orientation\":\"v\",\"showlegend\":true,\"text\":[\"Zamir White\",\"Brittain Brown\"],\"x\":[58.7,57.5],\"xaxis\":\"x\",\"y\":[122,250],\"yaxis\":\"y\",\"type\":\"scatter\",\"textposition\":\"top center\"}],                        {\"template\":{\"data\":{\"bar\":[{\"error_x\":{\"color\":\"#2a3f5f\"},\"error_y\":{\"color\":\"#2a3f5f\"},\"marker\":{\"line\":{\"color\":\"#E5ECF6\",\"width\":0.5},\"pattern\":{\"fillmode\":\"overlay\",\"size\":10,\"solidity\":0.2}},\"type\":\"bar\"}],\"barpolar\":[{\"marker\":{\"line\":{\"color\":\"#E5ECF6\",\"width\":0.5},\"pattern\":{\"fillmode\":\"overlay\",\"size\":10,\"solidity\":0.2}},\"type\":\"barpolar\"}],\"carpet\":[{\"aaxis\":{\"endlinecolor\":\"#2a3f5f\",\"gridcolor\":\"white\",\"linecolor\":\"white\",\"minorgridcolor\":\"white\",\"startlinecolor\":\"#2a3f5f\"},\"baxis\":{\"endlinecolor\":\"#2a3f5f\",\"gridcolor\":\"white\",\"linecolor\":\"white\",\"minorgridcolor\":\"white\",\"startlinecolor\":\"#2a3f5f\"},\"type\":\"carpet\"}],\"choropleth\":[{\"colorbar\":{\"outlinewidth\":0,\"ticks\":\"\"},\"type\":\"choropleth\"}],\"contour\":[{\"colorbar\":{\"outlinewidth\":0,\"ticks\":\"\"},\"colorscale\":[[0.0,\"#0d0887\"],[0.1111111111111111,\"#46039f\"],[0.2222222222222222,\"#7201a8\"],[0.3333333333333333,\"#9c179e\"],[0.4444444444444444,\"#bd3786\"],[0.5555555555555556,\"#d8576b\"],[0.6666666666666666,\"#ed7953\"],[0.7777777777777778,\"#fb9f3a\"],[0.8888888888888888,\"#fdca26\"],[1.0,\"#f0f921\"]],\"type\":\"contour\"}],\"contourcarpet\":[{\"colorbar\":{\"outlinewidth\":0,\"ticks\":\"\"},\"type\":\"contourcarpet\"}],\"heatmap\":[{\"colorbar\":{\"outlinewidth\":0,\"ticks\":\"\"},\"colorscale\":[[0.0,\"#0d0887\"],[0.1111111111111111,\"#46039f\"],[0.2222222222222222,\"#7201a8\"],[0.3333333333333333,\"#9c179e\"],[0.4444444444444444,\"#bd3786\"],[0.5555555555555556,\"#d8576b\"],[0.6666666666666666,\"#ed7953\"],[0.7777777777777778,\"#fb9f3a\"],[0.8888888888888888,\"#fdca26\"],[1.0,\"#f0f921\"]],\"type\":\"heatmap\"}],\"heatmapgl\":[{\"colorbar\":{\"outlinewidth\":0,\"ticks\":\"\"},\"colorscale\":[[0.0,\"#0d0887\"],[0.1111111111111111,\"#46039f\"],[0.2222222222222222,\"#7201a8\"],[0.3333333333333333,\"#9c179e\"],[0.4444444444444444,\"#bd3786\"],[0.5555555555555556,\"#d8576b\"],[0.6666666666666666,\"#ed7953\"],[0.7777777777777778,\"#fb9f3a\"],[0.8888888888888888,\"#fdca26\"],[1.0,\"#f0f921\"]],\"type\":\"heatmapgl\"}],\"histogram\":[{\"marker\":{\"pattern\":{\"fillmode\":\"overlay\",\"size\":10,\"solidity\":0.2}},\"type\":\"histogram\"}],\"histogram2d\":[{\"colorbar\":{\"outlinewidth\":0,\"ticks\":\"\"},\"colorscale\":[[0.0,\"#0d0887\"],[0.1111111111111111,\"#46039f\"],[0.2222222222222222,\"#7201a8\"],[0.3333333333333333,\"#9c179e\"],[0.4444444444444444,\"#bd3786\"],[0.5555555555555556,\"#d8576b\"],[0.6666666666666666,\"#ed7953\"],[0.7777777777777778,\"#fb9f3a\"],[0.8888888888888888,\"#fdca26\"],[1.0,\"#f0f921\"]],\"type\":\"histogram2d\"}],\"histogram2dcontour\":[{\"colorbar\":{\"outlinewidth\":0,\"ticks\":\"\"},\"colorscale\":[[0.0,\"#0d0887\"],[0.1111111111111111,\"#46039f\"],[0.2222222222222222,\"#7201a8\"],[0.3333333333333333,\"#9c179e\"],[0.4444444444444444,\"#bd3786\"],[0.5555555555555556,\"#d8576b\"],[0.6666666666666666,\"#ed7953\"],[0.7777777777777778,\"#fb9f3a\"],[0.8888888888888888,\"#fdca26\"],[1.0,\"#f0f921\"]],\"type\":\"histogram2dcontour\"}],\"mesh3d\":[{\"colorbar\":{\"outlinewidth\":0,\"ticks\":\"\"},\"type\":\"mesh3d\"}],\"parcoords\":[{\"line\":{\"colorbar\":{\"outlinewidth\":0,\"ticks\":\"\"}},\"type\":\"parcoords\"}],\"pie\":[{\"automargin\":true,\"type\":\"pie\"}],\"scatter\":[{\"marker\":{\"colorbar\":{\"outlinewidth\":0,\"ticks\":\"\"}},\"type\":\"scatter\"}],\"scatter3d\":[{\"line\":{\"colorbar\":{\"outlinewidth\":0,\"ticks\":\"\"}},\"marker\":{\"colorbar\":{\"outlinewidth\":0,\"ticks\":\"\"}},\"type\":\"scatter3d\"}],\"scattercarpet\":[{\"marker\":{\"colorbar\":{\"outlinewidth\":0,\"ticks\":\"\"}},\"type\":\"scattercarpet\"}],\"scattergeo\":[{\"marker\":{\"colorbar\":{\"outlinewidth\":0,\"ticks\":\"\"}},\"type\":\"scattergeo\"}],\"scattergl\":[{\"marker\":{\"colorbar\":{\"outlinewidth\":0,\"ticks\":\"\"}},\"type\":\"scattergl\"}],\"scattermapbox\":[{\"marker\":{\"colorbar\":{\"outlinewidth\":0,\"ticks\":\"\"}},\"type\":\"scattermapbox\"}],\"scatterpolar\":[{\"marker\":{\"colorbar\":{\"outlinewidth\":0,\"ticks\":\"\"}},\"type\":\"scatterpolar\"}],\"scatterpolargl\":[{\"marker\":{\"colorbar\":{\"outlinewidth\":0,\"ticks\":\"\"}},\"type\":\"scatterpolargl\"}],\"scatterternary\":[{\"marker\":{\"colorbar\":{\"outlinewidth\":0,\"ticks\":\"\"}},\"type\":\"scatterternary\"}],\"surface\":[{\"colorbar\":{\"outlinewidth\":0,\"ticks\":\"\"},\"colorscale\":[[0.0,\"#0d0887\"],[0.1111111111111111,\"#46039f\"],[0.2222222222222222,\"#7201a8\"],[0.3333333333333333,\"#9c179e\"],[0.4444444444444444,\"#bd3786\"],[0.5555555555555556,\"#d8576b\"],[0.6666666666666666,\"#ed7953\"],[0.7777777777777778,\"#fb9f3a\"],[0.8888888888888888,\"#fdca26\"],[1.0,\"#f0f921\"]],\"type\":\"surface\"}],\"table\":[{\"cells\":{\"fill\":{\"color\":\"#EBF0F8\"},\"line\":{\"color\":\"white\"}},\"header\":{\"fill\":{\"color\":\"#C8D4E3\"},\"line\":{\"color\":\"white\"}},\"type\":\"table\"}]},\"layout\":{\"annotationdefaults\":{\"arrowcolor\":\"#2a3f5f\",\"arrowhead\":0,\"arrowwidth\":1},\"autotypenumbers\":\"strict\",\"coloraxis\":{\"colorbar\":{\"outlinewidth\":0,\"ticks\":\"\"}},\"colorscale\":{\"diverging\":[[0,\"#8e0152\"],[0.1,\"#c51b7d\"],[0.2,\"#de77ae\"],[0.3,\"#f1b6da\"],[0.4,\"#fde0ef\"],[0.5,\"#f7f7f7\"],[0.6,\"#e6f5d0\"],[0.7,\"#b8e186\"],[0.8,\"#7fbc41\"],[0.9,\"#4d9221\"],[1,\"#276419\"]],\"sequential\":[[0.0,\"#0d0887\"],[0.1111111111111111,\"#46039f\"],[0.2222222222222222,\"#7201a8\"],[0.3333333333333333,\"#9c179e\"],[0.4444444444444444,\"#bd3786\"],[0.5555555555555556,\"#d8576b\"],[0.6666666666666666,\"#ed7953\"],[0.7777777777777778,\"#fb9f3a\"],[0.8888888888888888,\"#fdca26\"],[1.0,\"#f0f921\"]],\"sequentialminus\":[[0.0,\"#0d0887\"],[0.1111111111111111,\"#46039f\"],[0.2222222222222222,\"#7201a8\"],[0.3333333333333333,\"#9c179e\"],[0.4444444444444444,\"#bd3786\"],[0.5555555555555556,\"#d8576b\"],[0.6666666666666666,\"#ed7953\"],[0.7777777777777778,\"#fb9f3a\"],[0.8888888888888888,\"#fdca26\"],[1.0,\"#f0f921\"]]},\"colorway\":[\"#636efa\",\"#EF553B\",\"#00cc96\",\"#ab63fa\",\"#FFA15A\",\"#19d3f3\",\"#FF6692\",\"#B6E880\",\"#FF97FF\",\"#FECB52\"],\"font\":{\"color\":\"#2a3f5f\"},\"geo\":{\"bgcolor\":\"white\",\"lakecolor\":\"white\",\"landcolor\":\"#E5ECF6\",\"showlakes\":true,\"showland\":true,\"subunitcolor\":\"white\"},\"hoverlabel\":{\"align\":\"left\"},\"hovermode\":\"closest\",\"mapbox\":{\"style\":\"light\"},\"paper_bgcolor\":\"white\",\"plot_bgcolor\":\"#E5ECF6\",\"polar\":{\"angularaxis\":{\"gridcolor\":\"white\",\"linecolor\":\"white\",\"ticks\":\"\"},\"bgcolor\":\"#E5ECF6\",\"radialaxis\":{\"gridcolor\":\"white\",\"linecolor\":\"white\",\"ticks\":\"\"}},\"scene\":{\"xaxis\":{\"backgroundcolor\":\"#E5ECF6\",\"gridcolor\":\"white\",\"gridwidth\":2,\"linecolor\":\"white\",\"showbackground\":true,\"ticks\":\"\",\"zerolinecolor\":\"white\"},\"yaxis\":{\"backgroundcolor\":\"#E5ECF6\",\"gridcolor\":\"white\",\"gridwidth\":2,\"linecolor\":\"white\",\"showbackground\":true,\"ticks\":\"\",\"zerolinecolor\":\"white\"},\"zaxis\":{\"backgroundcolor\":\"#E5ECF6\",\"gridcolor\":\"white\",\"gridwidth\":2,\"linecolor\":\"white\",\"showbackground\":true,\"ticks\":\"\",\"zerolinecolor\":\"white\"}},\"shapedefaults\":{\"line\":{\"color\":\"#2a3f5f\"}},\"ternary\":{\"aaxis\":{\"gridcolor\":\"white\",\"linecolor\":\"white\",\"ticks\":\"\"},\"baxis\":{\"gridcolor\":\"white\",\"linecolor\":\"white\",\"ticks\":\"\"},\"bgcolor\":\"#E5ECF6\",\"caxis\":{\"gridcolor\":\"white\",\"linecolor\":\"white\",\"ticks\":\"\"}},\"title\":{\"x\":0.05},\"xaxis\":{\"automargin\":true,\"gridcolor\":\"white\",\"linecolor\":\"white\",\"ticks\":\"\",\"title\":{\"standoff\":15},\"zerolinecolor\":\"white\",\"zerolinewidth\":2},\"yaxis\":{\"automargin\":true,\"gridcolor\":\"white\",\"linecolor\":\"white\",\"ticks\":\"\",\"title\":{\"standoff\":15},\"zerolinecolor\":\"white\",\"zerolinewidth\":2}}},\"xaxis\":{\"anchor\":\"y\",\"domain\":[0.0,1.0],\"title\":{\"text\":\"PFF offense grade\"}},\"yaxis\":{\"anchor\":\"x\",\"domain\":[0.0,1.0],\"title\":{\"text\":\"Draft position\"}},\"legend\":{\"title\":{\"text\":\"team_name\"},\"tracegroupgap\":0},\"title\":{\"text\":\"Preseason Game 1 (2022) PFF offensive grade vs draft position for rookie RBs\"},\"showlegend\":false},                        {\"responsive\": true}                    ).then(function(){\n",
       "                            \n",
       "var gd = document.getElementById('792bda68-d742-43b4-a81a-2221e87446fc');\n",
       "var x = new MutationObserver(function (mutations, observer) {{\n",
       "        var display = window.getComputedStyle(gd).display;\n",
       "        if (!display || display === 'none') {{\n",
       "            console.log([gd, 'removed!']);\n",
       "            Plotly.purge(gd);\n",
       "            observer.disconnect();\n",
       "        }}\n",
       "}});\n",
       "\n",
       "// Listen for the removal of the full notebook cells\n",
       "var notebookContainer = gd.closest('#notebook-container');\n",
       "if (notebookContainer) {{\n",
       "    x.observe(notebookContainer, {childList: true});\n",
       "}}\n",
       "\n",
       "// Listen for the clearing of the current output cell\n",
       "var outputEl = gd.closest('.output');\n",
       "if (outputEl) {{\n",
       "    x.observe(outputEl, {childList: true});\n",
       "}}\n",
       "\n",
       "                        })                };                });            </script>        </div>"
      ]
     },
     "metadata": {},
     "output_type": "display_data"
    }
   ],
   "source": [
    "# chart of draft pick by pff grade\n",
    "pre_week_one_rushing_rookies = px.scatter(rushing_rookie_one,\n",
    "          x='grades_offense',\n",
    "          y='draft_pick',\n",
    "          text='player',\n",
    "          labels=dict(grades_offense=\"PFF offense grade\", draft_pick=\"Draft position\"),                                \n",
    "          color='team_name',\n",
    "          color_discrete_map=team_colors,\n",
    "          title=\"Preseason Game 1 (2022) PFF offensive grade vs draft position for rookie RBs\").update_traces(textposition='top center')\n",
    "def improve_text_position(x):\n",
    "    \"\"\" it is more efficient if the x values are sorted \"\"\"\n",
    "    positions = ['top center', 'bottom center']  # you can add more: left center ...\n",
    "    return [positions[i % len(positions)] for i in range(len(x))]\n",
    "pre_week_one_rushing_rookies.update_traces(textposition=improve_text_position(rushing_rookie_one['grades_offense']))\n",
    "pre_week_one_rushing_rookies.update_traces(textposition='top center')\n",
    "pre_week_one_rushing_rookies.update_layout(showlegend=False)\n",
    "pre_week_one_rushing_rookies.show()"
   ]
  },
  {
   "cell_type": "code",
   "execution_count": 48,
   "id": "300abc35",
   "metadata": {},
   "outputs": [
    {
     "data": {
      "application/vnd.plotly.v1+json": {
       "config": {
        "plotlyServerURL": "https://plot.ly"
       },
       "data": [
        {
         "hovertemplate": "team_name=BUF<br>PFF offense grade=%{x}<br>Draft position=%{y}<br>player=%{text}<extra></extra>",
         "legendgroup": "BUF",
         "marker": {
          "color": "#00338D",
          "symbol": "circle"
         },
         "mode": "markers+text",
         "name": "BUF",
         "orientation": "v",
         "showlegend": true,
         "text": [
          "Luke Tenuta"
         ],
         "textposition": "top center",
         "type": "scatter",
         "x": [
          51.2
         ],
         "xaxis": "x",
         "y": [
          209
         ],
         "yaxis": "y"
        },
        {
         "hovertemplate": "team_name=BLT<br>PFF offense grade=%{x}<br>Draft position=%{y}<br>player=%{text}<extra></extra>",
         "legendgroup": "BLT",
         "marker": {
          "color": "#241773",
          "symbol": "circle"
         },
         "mode": "markers+text",
         "name": "BLT",
         "orientation": "v",
         "showlegend": true,
         "text": [
          "Daniel Faalele"
         ],
         "textposition": "top center",
         "type": "scatter",
         "x": [
          54.3
         ],
         "xaxis": "x",
         "y": [
          110
         ],
         "yaxis": "y"
        },
        {
         "hovertemplate": "team_name=NO<br>PFF offense grade=%{x}<br>Draft position=%{y}<br>player=%{text}<extra></extra>",
         "legendgroup": "NO",
         "marker": {
          "color": "#D3BC8D",
          "symbol": "circle"
         },
         "mode": "markers+text",
         "name": "NO",
         "orientation": "v",
         "showlegend": true,
         "text": [
          "Trevor Penning"
         ],
         "textposition": "top center",
         "type": "scatter",
         "x": [
          86.2
         ],
         "xaxis": "x",
         "y": [
          19
         ],
         "yaxis": "y"
        },
        {
         "hovertemplate": "team_name=SEA<br>PFF offense grade=%{x}<br>Draft position=%{y}<br>player=%{text}<extra></extra>",
         "legendgroup": "SEA",
         "marker": {
          "color": "#69BE28",
          "symbol": "circle"
         },
         "mode": "markers+text",
         "name": "SEA",
         "orientation": "v",
         "showlegend": true,
         "text": [
          "Abraham Lucas",
          "Charles Cross"
         ],
         "textposition": "top center",
         "type": "scatter",
         "x": [
          82.4,
          72.1
         ],
         "xaxis": "x",
         "y": [
          72,
          9
         ],
         "yaxis": "y"
        },
        {
         "hovertemplate": "team_name=HST<br>PFF offense grade=%{x}<br>Draft position=%{y}<br>player=%{text}<extra></extra>",
         "legendgroup": "HST",
         "marker": {
          "color": "#A71930",
          "symbol": "circle"
         },
         "mode": "markers+text",
         "name": "HST",
         "orientation": "v",
         "showlegend": true,
         "text": [
          "Austin Deculus"
         ],
         "textposition": "top center",
         "type": "scatter",
         "x": [
          55.7
         ],
         "xaxis": "x",
         "y": [
          205
         ],
         "yaxis": "y"
        },
        {
         "hovertemplate": "team_name=IND<br>PFF offense grade=%{x}<br>Draft position=%{y}<br>player=%{text}<extra></extra>",
         "legendgroup": "IND",
         "marker": {
          "color": "#002C5F",
          "symbol": "circle"
         },
         "mode": "markers+text",
         "name": "IND",
         "orientation": "v",
         "showlegend": true,
         "text": [
          "Bernhard Raimann"
         ],
         "textposition": "top center",
         "type": "scatter",
         "x": [
          48.5
         ],
         "xaxis": "x",
         "y": [
          77
         ],
         "yaxis": "y"
        },
        {
         "hovertemplate": "team_name=LAC<br>PFF offense grade=%{x}<br>Draft position=%{y}<br>player=%{text}<extra></extra>",
         "legendgroup": "LAC",
         "marker": {
          "color": "#0080C6",
          "symbol": "circle"
         },
         "mode": "markers+text",
         "name": "LAC",
         "orientation": "v",
         "showlegend": true,
         "text": [
          "Jamaree Salyer"
         ],
         "textposition": "top center",
         "type": "scatter",
         "x": [
          74.5
         ],
         "xaxis": "x",
         "y": [
          195
         ],
         "yaxis": "y"
        },
        {
         "hovertemplate": "team_name=NYJ<br>PFF offense grade=%{x}<br>Draft position=%{y}<br>player=%{text}<extra></extra>",
         "legendgroup": "NYJ",
         "marker": {
          "color": "#125740",
          "symbol": "circle"
         },
         "mode": "markers+text",
         "name": "NYJ",
         "orientation": "v",
         "showlegend": true,
         "text": [
          "Max Mitchell"
         ],
         "textposition": "top center",
         "type": "scatter",
         "x": [
          58.9
         ],
         "xaxis": "x",
         "y": [
          111
         ],
         "yaxis": "y"
        },
        {
         "hovertemplate": "team_name=WAS<br>PFF offense grade=%{x}<br>Draft position=%{y}<br>player=%{text}<extra></extra>",
         "legendgroup": "WAS",
         "marker": {
          "color": "#5A1414",
          "symbol": "circle"
         },
         "mode": "markers+text",
         "name": "WAS",
         "orientation": "v",
         "showlegend": true,
         "text": [
          "Chris Paul"
         ],
         "textposition": "top center",
         "type": "scatter",
         "x": [
          59.4
         ],
         "xaxis": "x",
         "y": [
          230
         ],
         "yaxis": "y"
        },
        {
         "hovertemplate": "team_name=LA<br>PFF offense grade=%{x}<br>Draft position=%{y}<br>player=%{text}<extra></extra>",
         "legendgroup": "LA",
         "marker": {
          "color": "#003594",
          "symbol": "circle"
         },
         "mode": "markers+text",
         "name": "LA",
         "orientation": "v",
         "showlegend": true,
         "text": [
          "Logan Bruss",
          "AJ Arcuri"
         ],
         "textposition": "top center",
         "type": "scatter",
         "x": [
          54.4,
          37.7
         ],
         "xaxis": "x",
         "y": [
          104,
          161
         ],
         "yaxis": "y"
        },
        {
         "hovertemplate": "team_name=TB<br>PFF offense grade=%{x}<br>Draft position=%{y}<br>player=%{text}<extra></extra>",
         "legendgroup": "TB",
         "marker": {
          "color": "#D50A0A",
          "symbol": "circle"
         },
         "mode": "markers+text",
         "name": "TB",
         "orientation": "v",
         "showlegend": true,
         "text": [
          "Luke Goedeke"
         ],
         "textposition": "top center",
         "type": "scatter",
         "x": [
          56.3
         ],
         "xaxis": "x",
         "y": [
          57
         ],
         "yaxis": "y"
        },
        {
         "hovertemplate": "team_name=CAR<br>PFF offense grade=%{x}<br>Draft position=%{y}<br>player=%{text}<extra></extra>",
         "legendgroup": "CAR",
         "marker": {
          "color": "#0085CA",
          "symbol": "circle"
         },
         "mode": "markers+text",
         "name": "CAR",
         "orientation": "v",
         "showlegend": true,
         "text": [
          "Cade Mays",
          "Ikem Ekwonu"
         ],
         "textposition": "top center",
         "type": "scatter",
         "x": [
          79.1,
          56.4
         ],
         "xaxis": "x",
         "y": [
          199,
          6
         ],
         "yaxis": "y"
        },
        {
         "hovertemplate": "team_name=DAL<br>PFF offense grade=%{x}<br>Draft position=%{y}<br>player=%{text}<extra></extra>",
         "legendgroup": "DAL",
         "marker": {
          "color": "#041E42",
          "symbol": "circle"
         },
         "mode": "markers+text",
         "name": "DAL",
         "orientation": "v",
         "showlegend": true,
         "text": [
          "Tyler Smith"
         ],
         "textposition": "top center",
         "type": "scatter",
         "x": [
          62.4
         ],
         "xaxis": "x",
         "y": [
          24
         ],
         "yaxis": "y"
        },
        {
         "hovertemplate": "team_name=GB<br>PFF offense grade=%{x}<br>Draft position=%{y}<br>player=%{text}<extra></extra>",
         "legendgroup": "GB",
         "marker": {
          "color": "#203731",
          "symbol": "circle"
         },
         "mode": "markers+text",
         "name": "GB",
         "orientation": "v",
         "showlegend": true,
         "text": [
          "Zach Tom",
          "Sean Rhyan"
         ],
         "textposition": "top center",
         "type": "scatter",
         "x": [
          80.1,
          72.2
         ],
         "xaxis": "x",
         "y": [
          140,
          92
         ],
         "yaxis": "y"
        },
        {
         "hovertemplate": "team_name=SF<br>PFF offense grade=%{x}<br>Draft position=%{y}<br>player=%{text}<extra></extra>",
         "legendgroup": "SF",
         "marker": {
          "color": "#AA0000",
          "symbol": "circle"
         },
         "mode": "markers+text",
         "name": "SF",
         "orientation": "v",
         "showlegend": true,
         "text": [
          "Nick Zakelj",
          "Spencer Burford"
         ],
         "textposition": "top center",
         "type": "scatter",
         "x": [
          44.5,
          55.2
         ],
         "xaxis": "x",
         "y": [
          187,
          134
         ],
         "yaxis": "y"
        },
        {
         "hovertemplate": "team_name=CIN<br>PFF offense grade=%{x}<br>Draft position=%{y}<br>player=%{text}<extra></extra>",
         "legendgroup": "CIN",
         "marker": {
          "color": "#FB4F14",
          "symbol": "circle"
         },
         "mode": "markers+text",
         "name": "CIN",
         "orientation": "v",
         "showlegend": true,
         "text": [
          "Cordell Volson"
         ],
         "textposition": "top center",
         "type": "scatter",
         "x": [
          74.8
         ],
         "xaxis": "x",
         "y": [
          136
         ],
         "yaxis": "y"
        },
        {
         "hovertemplate": "team_name=CHI<br>PFF offense grade=%{x}<br>Draft position=%{y}<br>player=%{text}<extra></extra>",
         "legendgroup": "CHI",
         "marker": {
          "color": "#C83803",
          "symbol": "circle"
         },
         "mode": "markers+text",
         "name": "CHI",
         "orientation": "v",
         "showlegend": true,
         "text": [
          "Ja'Tyre Carter",
          "Zachary Thomas",
          "Braxton Jones"
         ],
         "textposition": "top center",
         "type": "scatter",
         "x": [
          50.4,
          48.7,
          64.9
         ],
         "xaxis": "x",
         "y": [
          226,
          186,
          168
         ],
         "yaxis": "y"
        },
        {
         "hovertemplate": "team_name=TEN<br>PFF offense grade=%{x}<br>Draft position=%{y}<br>player=%{text}<extra></extra>",
         "legendgroup": "TEN",
         "marker": {
          "color": "#4B92DB",
          "symbol": "circle"
         },
         "mode": "markers+text",
         "name": "TEN",
         "orientation": "v",
         "showlegend": true,
         "text": [
          "Nicholas Petit-Frere"
         ],
         "textposition": "top center",
         "type": "scatter",
         "x": [
          51.6
         ],
         "xaxis": "x",
         "y": [
          69
         ],
         "yaxis": "y"
        },
        {
         "hovertemplate": "team_name=KC<br>PFF offense grade=%{x}<br>Draft position=%{y}<br>player=%{text}<extra></extra>",
         "legendgroup": "KC",
         "marker": {
          "color": "#E31837",
          "symbol": "circle"
         },
         "mode": "markers+text",
         "name": "KC",
         "orientation": "v",
         "showlegend": true,
         "text": [
          "Darian Kinnard"
         ],
         "textposition": "top center",
         "type": "scatter",
         "x": [
          44.8
         ],
         "xaxis": "x",
         "y": [
          145
         ],
         "yaxis": "y"
        },
        {
         "hovertemplate": "team_name=NYG<br>PFF offense grade=%{x}<br>Draft position=%{y}<br>player=%{text}<extra></extra>",
         "legendgroup": "NYG",
         "marker": {
          "color": "#EF553B",
          "symbol": "circle"
         },
         "mode": "markers+text",
         "name": "NYG",
         "orientation": "v",
         "showlegend": true,
         "text": [
          "Evan Neal"
         ],
         "textposition": "top center",
         "type": "scatter",
         "x": [
          54.2
         ],
         "xaxis": "x",
         "y": [
          7
         ],
         "yaxis": "y"
        },
        {
         "hovertemplate": "team_name=MIN<br>PFF offense grade=%{x}<br>Draft position=%{y}<br>player=%{text}<extra></extra>",
         "legendgroup": "MIN",
         "marker": {
          "color": "#4F2683",
          "symbol": "circle"
         },
         "mode": "markers+text",
         "name": "MIN",
         "orientation": "v",
         "showlegend": true,
         "text": [
          "Vederian Lowe"
         ],
         "textposition": "top center",
         "type": "scatter",
         "x": [
          59.8
         ],
         "xaxis": "x",
         "y": [
          184
         ],
         "yaxis": "y"
        },
        {
         "hovertemplate": "team_name=LV<br>PFF offense grade=%{x}<br>Draft position=%{y}<br>player=%{text}<extra></extra>",
         "legendgroup": "LV",
         "marker": {
          "color": "#000000",
          "symbol": "circle"
         },
         "mode": "markers+text",
         "name": "LV",
         "orientation": "v",
         "showlegend": true,
         "text": [
          "Thayer Munford"
         ],
         "textposition": "top center",
         "type": "scatter",
         "x": [
          61.8
         ],
         "xaxis": "x",
         "y": [
          238
         ],
         "yaxis": "y"
        }
       ],
       "layout": {
        "legend": {
         "title": {
          "text": "team_name"
         },
         "tracegroupgap": 0
        },
        "showlegend": false,
        "template": {
         "data": {
          "bar": [
           {
            "error_x": {
             "color": "#2a3f5f"
            },
            "error_y": {
             "color": "#2a3f5f"
            },
            "marker": {
             "line": {
              "color": "#E5ECF6",
              "width": 0.5
             },
             "pattern": {
              "fillmode": "overlay",
              "size": 10,
              "solidity": 0.2
             }
            },
            "type": "bar"
           }
          ],
          "barpolar": [
           {
            "marker": {
             "line": {
              "color": "#E5ECF6",
              "width": 0.5
             },
             "pattern": {
              "fillmode": "overlay",
              "size": 10,
              "solidity": 0.2
             }
            },
            "type": "barpolar"
           }
          ],
          "carpet": [
           {
            "aaxis": {
             "endlinecolor": "#2a3f5f",
             "gridcolor": "white",
             "linecolor": "white",
             "minorgridcolor": "white",
             "startlinecolor": "#2a3f5f"
            },
            "baxis": {
             "endlinecolor": "#2a3f5f",
             "gridcolor": "white",
             "linecolor": "white",
             "minorgridcolor": "white",
             "startlinecolor": "#2a3f5f"
            },
            "type": "carpet"
           }
          ],
          "choropleth": [
           {
            "colorbar": {
             "outlinewidth": 0,
             "ticks": ""
            },
            "type": "choropleth"
           }
          ],
          "contour": [
           {
            "colorbar": {
             "outlinewidth": 0,
             "ticks": ""
            },
            "colorscale": [
             [
              0,
              "#0d0887"
             ],
             [
              0.1111111111111111,
              "#46039f"
             ],
             [
              0.2222222222222222,
              "#7201a8"
             ],
             [
              0.3333333333333333,
              "#9c179e"
             ],
             [
              0.4444444444444444,
              "#bd3786"
             ],
             [
              0.5555555555555556,
              "#d8576b"
             ],
             [
              0.6666666666666666,
              "#ed7953"
             ],
             [
              0.7777777777777778,
              "#fb9f3a"
             ],
             [
              0.8888888888888888,
              "#fdca26"
             ],
             [
              1,
              "#f0f921"
             ]
            ],
            "type": "contour"
           }
          ],
          "contourcarpet": [
           {
            "colorbar": {
             "outlinewidth": 0,
             "ticks": ""
            },
            "type": "contourcarpet"
           }
          ],
          "heatmap": [
           {
            "colorbar": {
             "outlinewidth": 0,
             "ticks": ""
            },
            "colorscale": [
             [
              0,
              "#0d0887"
             ],
             [
              0.1111111111111111,
              "#46039f"
             ],
             [
              0.2222222222222222,
              "#7201a8"
             ],
             [
              0.3333333333333333,
              "#9c179e"
             ],
             [
              0.4444444444444444,
              "#bd3786"
             ],
             [
              0.5555555555555556,
              "#d8576b"
             ],
             [
              0.6666666666666666,
              "#ed7953"
             ],
             [
              0.7777777777777778,
              "#fb9f3a"
             ],
             [
              0.8888888888888888,
              "#fdca26"
             ],
             [
              1,
              "#f0f921"
             ]
            ],
            "type": "heatmap"
           }
          ],
          "heatmapgl": [
           {
            "colorbar": {
             "outlinewidth": 0,
             "ticks": ""
            },
            "colorscale": [
             [
              0,
              "#0d0887"
             ],
             [
              0.1111111111111111,
              "#46039f"
             ],
             [
              0.2222222222222222,
              "#7201a8"
             ],
             [
              0.3333333333333333,
              "#9c179e"
             ],
             [
              0.4444444444444444,
              "#bd3786"
             ],
             [
              0.5555555555555556,
              "#d8576b"
             ],
             [
              0.6666666666666666,
              "#ed7953"
             ],
             [
              0.7777777777777778,
              "#fb9f3a"
             ],
             [
              0.8888888888888888,
              "#fdca26"
             ],
             [
              1,
              "#f0f921"
             ]
            ],
            "type": "heatmapgl"
           }
          ],
          "histogram": [
           {
            "marker": {
             "pattern": {
              "fillmode": "overlay",
              "size": 10,
              "solidity": 0.2
             }
            },
            "type": "histogram"
           }
          ],
          "histogram2d": [
           {
            "colorbar": {
             "outlinewidth": 0,
             "ticks": ""
            },
            "colorscale": [
             [
              0,
              "#0d0887"
             ],
             [
              0.1111111111111111,
              "#46039f"
             ],
             [
              0.2222222222222222,
              "#7201a8"
             ],
             [
              0.3333333333333333,
              "#9c179e"
             ],
             [
              0.4444444444444444,
              "#bd3786"
             ],
             [
              0.5555555555555556,
              "#d8576b"
             ],
             [
              0.6666666666666666,
              "#ed7953"
             ],
             [
              0.7777777777777778,
              "#fb9f3a"
             ],
             [
              0.8888888888888888,
              "#fdca26"
             ],
             [
              1,
              "#f0f921"
             ]
            ],
            "type": "histogram2d"
           }
          ],
          "histogram2dcontour": [
           {
            "colorbar": {
             "outlinewidth": 0,
             "ticks": ""
            },
            "colorscale": [
             [
              0,
              "#0d0887"
             ],
             [
              0.1111111111111111,
              "#46039f"
             ],
             [
              0.2222222222222222,
              "#7201a8"
             ],
             [
              0.3333333333333333,
              "#9c179e"
             ],
             [
              0.4444444444444444,
              "#bd3786"
             ],
             [
              0.5555555555555556,
              "#d8576b"
             ],
             [
              0.6666666666666666,
              "#ed7953"
             ],
             [
              0.7777777777777778,
              "#fb9f3a"
             ],
             [
              0.8888888888888888,
              "#fdca26"
             ],
             [
              1,
              "#f0f921"
             ]
            ],
            "type": "histogram2dcontour"
           }
          ],
          "mesh3d": [
           {
            "colorbar": {
             "outlinewidth": 0,
             "ticks": ""
            },
            "type": "mesh3d"
           }
          ],
          "parcoords": [
           {
            "line": {
             "colorbar": {
              "outlinewidth": 0,
              "ticks": ""
             }
            },
            "type": "parcoords"
           }
          ],
          "pie": [
           {
            "automargin": true,
            "type": "pie"
           }
          ],
          "scatter": [
           {
            "marker": {
             "colorbar": {
              "outlinewidth": 0,
              "ticks": ""
             }
            },
            "type": "scatter"
           }
          ],
          "scatter3d": [
           {
            "line": {
             "colorbar": {
              "outlinewidth": 0,
              "ticks": ""
             }
            },
            "marker": {
             "colorbar": {
              "outlinewidth": 0,
              "ticks": ""
             }
            },
            "type": "scatter3d"
           }
          ],
          "scattercarpet": [
           {
            "marker": {
             "colorbar": {
              "outlinewidth": 0,
              "ticks": ""
             }
            },
            "type": "scattercarpet"
           }
          ],
          "scattergeo": [
           {
            "marker": {
             "colorbar": {
              "outlinewidth": 0,
              "ticks": ""
             }
            },
            "type": "scattergeo"
           }
          ],
          "scattergl": [
           {
            "marker": {
             "colorbar": {
              "outlinewidth": 0,
              "ticks": ""
             }
            },
            "type": "scattergl"
           }
          ],
          "scattermapbox": [
           {
            "marker": {
             "colorbar": {
              "outlinewidth": 0,
              "ticks": ""
             }
            },
            "type": "scattermapbox"
           }
          ],
          "scatterpolar": [
           {
            "marker": {
             "colorbar": {
              "outlinewidth": 0,
              "ticks": ""
             }
            },
            "type": "scatterpolar"
           }
          ],
          "scatterpolargl": [
           {
            "marker": {
             "colorbar": {
              "outlinewidth": 0,
              "ticks": ""
             }
            },
            "type": "scatterpolargl"
           }
          ],
          "scatterternary": [
           {
            "marker": {
             "colorbar": {
              "outlinewidth": 0,
              "ticks": ""
             }
            },
            "type": "scatterternary"
           }
          ],
          "surface": [
           {
            "colorbar": {
             "outlinewidth": 0,
             "ticks": ""
            },
            "colorscale": [
             [
              0,
              "#0d0887"
             ],
             [
              0.1111111111111111,
              "#46039f"
             ],
             [
              0.2222222222222222,
              "#7201a8"
             ],
             [
              0.3333333333333333,
              "#9c179e"
             ],
             [
              0.4444444444444444,
              "#bd3786"
             ],
             [
              0.5555555555555556,
              "#d8576b"
             ],
             [
              0.6666666666666666,
              "#ed7953"
             ],
             [
              0.7777777777777778,
              "#fb9f3a"
             ],
             [
              0.8888888888888888,
              "#fdca26"
             ],
             [
              1,
              "#f0f921"
             ]
            ],
            "type": "surface"
           }
          ],
          "table": [
           {
            "cells": {
             "fill": {
              "color": "#EBF0F8"
             },
             "line": {
              "color": "white"
             }
            },
            "header": {
             "fill": {
              "color": "#C8D4E3"
             },
             "line": {
              "color": "white"
             }
            },
            "type": "table"
           }
          ]
         },
         "layout": {
          "annotationdefaults": {
           "arrowcolor": "#2a3f5f",
           "arrowhead": 0,
           "arrowwidth": 1
          },
          "autotypenumbers": "strict",
          "coloraxis": {
           "colorbar": {
            "outlinewidth": 0,
            "ticks": ""
           }
          },
          "colorscale": {
           "diverging": [
            [
             0,
             "#8e0152"
            ],
            [
             0.1,
             "#c51b7d"
            ],
            [
             0.2,
             "#de77ae"
            ],
            [
             0.3,
             "#f1b6da"
            ],
            [
             0.4,
             "#fde0ef"
            ],
            [
             0.5,
             "#f7f7f7"
            ],
            [
             0.6,
             "#e6f5d0"
            ],
            [
             0.7,
             "#b8e186"
            ],
            [
             0.8,
             "#7fbc41"
            ],
            [
             0.9,
             "#4d9221"
            ],
            [
             1,
             "#276419"
            ]
           ],
           "sequential": [
            [
             0,
             "#0d0887"
            ],
            [
             0.1111111111111111,
             "#46039f"
            ],
            [
             0.2222222222222222,
             "#7201a8"
            ],
            [
             0.3333333333333333,
             "#9c179e"
            ],
            [
             0.4444444444444444,
             "#bd3786"
            ],
            [
             0.5555555555555556,
             "#d8576b"
            ],
            [
             0.6666666666666666,
             "#ed7953"
            ],
            [
             0.7777777777777778,
             "#fb9f3a"
            ],
            [
             0.8888888888888888,
             "#fdca26"
            ],
            [
             1,
             "#f0f921"
            ]
           ],
           "sequentialminus": [
            [
             0,
             "#0d0887"
            ],
            [
             0.1111111111111111,
             "#46039f"
            ],
            [
             0.2222222222222222,
             "#7201a8"
            ],
            [
             0.3333333333333333,
             "#9c179e"
            ],
            [
             0.4444444444444444,
             "#bd3786"
            ],
            [
             0.5555555555555556,
             "#d8576b"
            ],
            [
             0.6666666666666666,
             "#ed7953"
            ],
            [
             0.7777777777777778,
             "#fb9f3a"
            ],
            [
             0.8888888888888888,
             "#fdca26"
            ],
            [
             1,
             "#f0f921"
            ]
           ]
          },
          "colorway": [
           "#636efa",
           "#EF553B",
           "#00cc96",
           "#ab63fa",
           "#FFA15A",
           "#19d3f3",
           "#FF6692",
           "#B6E880",
           "#FF97FF",
           "#FECB52"
          ],
          "font": {
           "color": "#2a3f5f"
          },
          "geo": {
           "bgcolor": "white",
           "lakecolor": "white",
           "landcolor": "#E5ECF6",
           "showlakes": true,
           "showland": true,
           "subunitcolor": "white"
          },
          "hoverlabel": {
           "align": "left"
          },
          "hovermode": "closest",
          "mapbox": {
           "style": "light"
          },
          "paper_bgcolor": "white",
          "plot_bgcolor": "#E5ECF6",
          "polar": {
           "angularaxis": {
            "gridcolor": "white",
            "linecolor": "white",
            "ticks": ""
           },
           "bgcolor": "#E5ECF6",
           "radialaxis": {
            "gridcolor": "white",
            "linecolor": "white",
            "ticks": ""
           }
          },
          "scene": {
           "xaxis": {
            "backgroundcolor": "#E5ECF6",
            "gridcolor": "white",
            "gridwidth": 2,
            "linecolor": "white",
            "showbackground": true,
            "ticks": "",
            "zerolinecolor": "white"
           },
           "yaxis": {
            "backgroundcolor": "#E5ECF6",
            "gridcolor": "white",
            "gridwidth": 2,
            "linecolor": "white",
            "showbackground": true,
            "ticks": "",
            "zerolinecolor": "white"
           },
           "zaxis": {
            "backgroundcolor": "#E5ECF6",
            "gridcolor": "white",
            "gridwidth": 2,
            "linecolor": "white",
            "showbackground": true,
            "ticks": "",
            "zerolinecolor": "white"
           }
          },
          "shapedefaults": {
           "line": {
            "color": "#2a3f5f"
           }
          },
          "ternary": {
           "aaxis": {
            "gridcolor": "white",
            "linecolor": "white",
            "ticks": ""
           },
           "baxis": {
            "gridcolor": "white",
            "linecolor": "white",
            "ticks": ""
           },
           "bgcolor": "#E5ECF6",
           "caxis": {
            "gridcolor": "white",
            "linecolor": "white",
            "ticks": ""
           }
          },
          "title": {
           "x": 0.05
          },
          "xaxis": {
           "automargin": true,
           "gridcolor": "white",
           "linecolor": "white",
           "ticks": "",
           "title": {
            "standoff": 15
           },
           "zerolinecolor": "white",
           "zerolinewidth": 2
          },
          "yaxis": {
           "automargin": true,
           "gridcolor": "white",
           "linecolor": "white",
           "ticks": "",
           "title": {
            "standoff": 15
           },
           "zerolinecolor": "white",
           "zerolinewidth": 2
          }
         }
        },
        "title": {
         "text": "Preseason Game 1 (2022) PFF offensive grade vs draft position for rookie offensive tackles"
        },
        "xaxis": {
         "anchor": "y",
         "domain": [
          0,
          1
         ],
         "title": {
          "text": "PFF offense grade"
         }
        },
        "yaxis": {
         "anchor": "x",
         "domain": [
          0,
          1
         ],
         "title": {
          "text": "Draft position"
         }
        }
       }
      },
      "text/html": [
       "<div>                            <div id=\"0b3a49c6-b4ec-480d-b455-40db30dd02d9\" class=\"plotly-graph-div\" style=\"height:525px; width:100%;\"></div>            <script type=\"text/javascript\">                require([\"plotly\"], function(Plotly) {                    window.PLOTLYENV=window.PLOTLYENV || {};                                    if (document.getElementById(\"0b3a49c6-b4ec-480d-b455-40db30dd02d9\")) {                    Plotly.newPlot(                        \"0b3a49c6-b4ec-480d-b455-40db30dd02d9\",                        [{\"hovertemplate\":\"team_name=BUF<br>PFF offense grade=%{x}<br>Draft position=%{y}<br>player=%{text}<extra></extra>\",\"legendgroup\":\"BUF\",\"marker\":{\"color\":\"#00338D\",\"symbol\":\"circle\"},\"mode\":\"markers+text\",\"name\":\"BUF\",\"orientation\":\"v\",\"showlegend\":true,\"text\":[\"Luke Tenuta\"],\"x\":[51.2],\"xaxis\":\"x\",\"y\":[209],\"yaxis\":\"y\",\"type\":\"scatter\",\"textposition\":\"top center\"},{\"hovertemplate\":\"team_name=BLT<br>PFF offense grade=%{x}<br>Draft position=%{y}<br>player=%{text}<extra></extra>\",\"legendgroup\":\"BLT\",\"marker\":{\"color\":\"#241773\",\"symbol\":\"circle\"},\"mode\":\"markers+text\",\"name\":\"BLT\",\"orientation\":\"v\",\"showlegend\":true,\"text\":[\"Daniel Faalele\"],\"x\":[54.3],\"xaxis\":\"x\",\"y\":[110],\"yaxis\":\"y\",\"type\":\"scatter\",\"textposition\":\"top center\"},{\"hovertemplate\":\"team_name=NO<br>PFF offense grade=%{x}<br>Draft position=%{y}<br>player=%{text}<extra></extra>\",\"legendgroup\":\"NO\",\"marker\":{\"color\":\"#D3BC8D\",\"symbol\":\"circle\"},\"mode\":\"markers+text\",\"name\":\"NO\",\"orientation\":\"v\",\"showlegend\":true,\"text\":[\"Trevor Penning\"],\"x\":[86.2],\"xaxis\":\"x\",\"y\":[19],\"yaxis\":\"y\",\"type\":\"scatter\",\"textposition\":\"top center\"},{\"hovertemplate\":\"team_name=SEA<br>PFF offense grade=%{x}<br>Draft position=%{y}<br>player=%{text}<extra></extra>\",\"legendgroup\":\"SEA\",\"marker\":{\"color\":\"#69BE28\",\"symbol\":\"circle\"},\"mode\":\"markers+text\",\"name\":\"SEA\",\"orientation\":\"v\",\"showlegend\":true,\"text\":[\"Abraham Lucas\",\"Charles Cross\"],\"x\":[82.4,72.1],\"xaxis\":\"x\",\"y\":[72,9],\"yaxis\":\"y\",\"type\":\"scatter\",\"textposition\":\"top center\"},{\"hovertemplate\":\"team_name=HST<br>PFF offense grade=%{x}<br>Draft position=%{y}<br>player=%{text}<extra></extra>\",\"legendgroup\":\"HST\",\"marker\":{\"color\":\"#A71930\",\"symbol\":\"circle\"},\"mode\":\"markers+text\",\"name\":\"HST\",\"orientation\":\"v\",\"showlegend\":true,\"text\":[\"Austin Deculus\"],\"x\":[55.7],\"xaxis\":\"x\",\"y\":[205],\"yaxis\":\"y\",\"type\":\"scatter\",\"textposition\":\"top center\"},{\"hovertemplate\":\"team_name=IND<br>PFF offense grade=%{x}<br>Draft position=%{y}<br>player=%{text}<extra></extra>\",\"legendgroup\":\"IND\",\"marker\":{\"color\":\"#002C5F\",\"symbol\":\"circle\"},\"mode\":\"markers+text\",\"name\":\"IND\",\"orientation\":\"v\",\"showlegend\":true,\"text\":[\"Bernhard Raimann\"],\"x\":[48.5],\"xaxis\":\"x\",\"y\":[77],\"yaxis\":\"y\",\"type\":\"scatter\",\"textposition\":\"top center\"},{\"hovertemplate\":\"team_name=LAC<br>PFF offense grade=%{x}<br>Draft position=%{y}<br>player=%{text}<extra></extra>\",\"legendgroup\":\"LAC\",\"marker\":{\"color\":\"#0080C6\",\"symbol\":\"circle\"},\"mode\":\"markers+text\",\"name\":\"LAC\",\"orientation\":\"v\",\"showlegend\":true,\"text\":[\"Jamaree Salyer\"],\"x\":[74.5],\"xaxis\":\"x\",\"y\":[195],\"yaxis\":\"y\",\"type\":\"scatter\",\"textposition\":\"top center\"},{\"hovertemplate\":\"team_name=NYJ<br>PFF offense grade=%{x}<br>Draft position=%{y}<br>player=%{text}<extra></extra>\",\"legendgroup\":\"NYJ\",\"marker\":{\"color\":\"#125740\",\"symbol\":\"circle\"},\"mode\":\"markers+text\",\"name\":\"NYJ\",\"orientation\":\"v\",\"showlegend\":true,\"text\":[\"Max Mitchell\"],\"x\":[58.9],\"xaxis\":\"x\",\"y\":[111],\"yaxis\":\"y\",\"type\":\"scatter\",\"textposition\":\"top center\"},{\"hovertemplate\":\"team_name=WAS<br>PFF offense grade=%{x}<br>Draft position=%{y}<br>player=%{text}<extra></extra>\",\"legendgroup\":\"WAS\",\"marker\":{\"color\":\"#5A1414\",\"symbol\":\"circle\"},\"mode\":\"markers+text\",\"name\":\"WAS\",\"orientation\":\"v\",\"showlegend\":true,\"text\":[\"Chris Paul\"],\"x\":[59.4],\"xaxis\":\"x\",\"y\":[230],\"yaxis\":\"y\",\"type\":\"scatter\",\"textposition\":\"top center\"},{\"hovertemplate\":\"team_name=LA<br>PFF offense grade=%{x}<br>Draft position=%{y}<br>player=%{text}<extra></extra>\",\"legendgroup\":\"LA\",\"marker\":{\"color\":\"#003594\",\"symbol\":\"circle\"},\"mode\":\"markers+text\",\"name\":\"LA\",\"orientation\":\"v\",\"showlegend\":true,\"text\":[\"Logan Bruss\",\"AJ Arcuri\"],\"x\":[54.4,37.7],\"xaxis\":\"x\",\"y\":[104,161],\"yaxis\":\"y\",\"type\":\"scatter\",\"textposition\":\"top center\"},{\"hovertemplate\":\"team_name=TB<br>PFF offense grade=%{x}<br>Draft position=%{y}<br>player=%{text}<extra></extra>\",\"legendgroup\":\"TB\",\"marker\":{\"color\":\"#D50A0A\",\"symbol\":\"circle\"},\"mode\":\"markers+text\",\"name\":\"TB\",\"orientation\":\"v\",\"showlegend\":true,\"text\":[\"Luke Goedeke\"],\"x\":[56.3],\"xaxis\":\"x\",\"y\":[57],\"yaxis\":\"y\",\"type\":\"scatter\",\"textposition\":\"top center\"},{\"hovertemplate\":\"team_name=CAR<br>PFF offense grade=%{x}<br>Draft position=%{y}<br>player=%{text}<extra></extra>\",\"legendgroup\":\"CAR\",\"marker\":{\"color\":\"#0085CA\",\"symbol\":\"circle\"},\"mode\":\"markers+text\",\"name\":\"CAR\",\"orientation\":\"v\",\"showlegend\":true,\"text\":[\"Cade Mays\",\"Ikem Ekwonu\"],\"x\":[79.1,56.4],\"xaxis\":\"x\",\"y\":[199,6],\"yaxis\":\"y\",\"type\":\"scatter\",\"textposition\":\"top center\"},{\"hovertemplate\":\"team_name=DAL<br>PFF offense grade=%{x}<br>Draft position=%{y}<br>player=%{text}<extra></extra>\",\"legendgroup\":\"DAL\",\"marker\":{\"color\":\"#041E42\",\"symbol\":\"circle\"},\"mode\":\"markers+text\",\"name\":\"DAL\",\"orientation\":\"v\",\"showlegend\":true,\"text\":[\"Tyler Smith\"],\"x\":[62.4],\"xaxis\":\"x\",\"y\":[24],\"yaxis\":\"y\",\"type\":\"scatter\",\"textposition\":\"top center\"},{\"hovertemplate\":\"team_name=GB<br>PFF offense grade=%{x}<br>Draft position=%{y}<br>player=%{text}<extra></extra>\",\"legendgroup\":\"GB\",\"marker\":{\"color\":\"#203731\",\"symbol\":\"circle\"},\"mode\":\"markers+text\",\"name\":\"GB\",\"orientation\":\"v\",\"showlegend\":true,\"text\":[\"Zach Tom\",\"Sean Rhyan\"],\"x\":[80.1,72.2],\"xaxis\":\"x\",\"y\":[140,92],\"yaxis\":\"y\",\"type\":\"scatter\",\"textposition\":\"top center\"},{\"hovertemplate\":\"team_name=SF<br>PFF offense grade=%{x}<br>Draft position=%{y}<br>player=%{text}<extra></extra>\",\"legendgroup\":\"SF\",\"marker\":{\"color\":\"#AA0000\",\"symbol\":\"circle\"},\"mode\":\"markers+text\",\"name\":\"SF\",\"orientation\":\"v\",\"showlegend\":true,\"text\":[\"Nick Zakelj\",\"Spencer Burford\"],\"x\":[44.5,55.2],\"xaxis\":\"x\",\"y\":[187,134],\"yaxis\":\"y\",\"type\":\"scatter\",\"textposition\":\"top center\"},{\"hovertemplate\":\"team_name=CIN<br>PFF offense grade=%{x}<br>Draft position=%{y}<br>player=%{text}<extra></extra>\",\"legendgroup\":\"CIN\",\"marker\":{\"color\":\"#FB4F14\",\"symbol\":\"circle\"},\"mode\":\"markers+text\",\"name\":\"CIN\",\"orientation\":\"v\",\"showlegend\":true,\"text\":[\"Cordell Volson\"],\"x\":[74.8],\"xaxis\":\"x\",\"y\":[136],\"yaxis\":\"y\",\"type\":\"scatter\",\"textposition\":\"top center\"},{\"hovertemplate\":\"team_name=CHI<br>PFF offense grade=%{x}<br>Draft position=%{y}<br>player=%{text}<extra></extra>\",\"legendgroup\":\"CHI\",\"marker\":{\"color\":\"#C83803\",\"symbol\":\"circle\"},\"mode\":\"markers+text\",\"name\":\"CHI\",\"orientation\":\"v\",\"showlegend\":true,\"text\":[\"Ja'Tyre Carter\",\"Zachary Thomas\",\"Braxton Jones\"],\"x\":[50.4,48.7,64.9],\"xaxis\":\"x\",\"y\":[226,186,168],\"yaxis\":\"y\",\"type\":\"scatter\",\"textposition\":\"top center\"},{\"hovertemplate\":\"team_name=TEN<br>PFF offense grade=%{x}<br>Draft position=%{y}<br>player=%{text}<extra></extra>\",\"legendgroup\":\"TEN\",\"marker\":{\"color\":\"#4B92DB\",\"symbol\":\"circle\"},\"mode\":\"markers+text\",\"name\":\"TEN\",\"orientation\":\"v\",\"showlegend\":true,\"text\":[\"Nicholas Petit-Frere\"],\"x\":[51.6],\"xaxis\":\"x\",\"y\":[69],\"yaxis\":\"y\",\"type\":\"scatter\",\"textposition\":\"top center\"},{\"hovertemplate\":\"team_name=KC<br>PFF offense grade=%{x}<br>Draft position=%{y}<br>player=%{text}<extra></extra>\",\"legendgroup\":\"KC\",\"marker\":{\"color\":\"#E31837\",\"symbol\":\"circle\"},\"mode\":\"markers+text\",\"name\":\"KC\",\"orientation\":\"v\",\"showlegend\":true,\"text\":[\"Darian Kinnard\"],\"x\":[44.8],\"xaxis\":\"x\",\"y\":[145],\"yaxis\":\"y\",\"type\":\"scatter\",\"textposition\":\"top center\"},{\"hovertemplate\":\"team_name=NYG<br>PFF offense grade=%{x}<br>Draft position=%{y}<br>player=%{text}<extra></extra>\",\"legendgroup\":\"NYG\",\"marker\":{\"color\":\"#EF553B\",\"symbol\":\"circle\"},\"mode\":\"markers+text\",\"name\":\"NYG\",\"orientation\":\"v\",\"showlegend\":true,\"text\":[\"Evan Neal\"],\"x\":[54.2],\"xaxis\":\"x\",\"y\":[7],\"yaxis\":\"y\",\"type\":\"scatter\",\"textposition\":\"top center\"},{\"hovertemplate\":\"team_name=MIN<br>PFF offense grade=%{x}<br>Draft position=%{y}<br>player=%{text}<extra></extra>\",\"legendgroup\":\"MIN\",\"marker\":{\"color\":\"#4F2683\",\"symbol\":\"circle\"},\"mode\":\"markers+text\",\"name\":\"MIN\",\"orientation\":\"v\",\"showlegend\":true,\"text\":[\"Vederian Lowe\"],\"x\":[59.8],\"xaxis\":\"x\",\"y\":[184],\"yaxis\":\"y\",\"type\":\"scatter\",\"textposition\":\"top center\"},{\"hovertemplate\":\"team_name=LV<br>PFF offense grade=%{x}<br>Draft position=%{y}<br>player=%{text}<extra></extra>\",\"legendgroup\":\"LV\",\"marker\":{\"color\":\"#000000\",\"symbol\":\"circle\"},\"mode\":\"markers+text\",\"name\":\"LV\",\"orientation\":\"v\",\"showlegend\":true,\"text\":[\"Thayer Munford\"],\"x\":[61.8],\"xaxis\":\"x\",\"y\":[238],\"yaxis\":\"y\",\"type\":\"scatter\",\"textposition\":\"top center\"}],                        {\"template\":{\"data\":{\"bar\":[{\"error_x\":{\"color\":\"#2a3f5f\"},\"error_y\":{\"color\":\"#2a3f5f\"},\"marker\":{\"line\":{\"color\":\"#E5ECF6\",\"width\":0.5},\"pattern\":{\"fillmode\":\"overlay\",\"size\":10,\"solidity\":0.2}},\"type\":\"bar\"}],\"barpolar\":[{\"marker\":{\"line\":{\"color\":\"#E5ECF6\",\"width\":0.5},\"pattern\":{\"fillmode\":\"overlay\",\"size\":10,\"solidity\":0.2}},\"type\":\"barpolar\"}],\"carpet\":[{\"aaxis\":{\"endlinecolor\":\"#2a3f5f\",\"gridcolor\":\"white\",\"linecolor\":\"white\",\"minorgridcolor\":\"white\",\"startlinecolor\":\"#2a3f5f\"},\"baxis\":{\"endlinecolor\":\"#2a3f5f\",\"gridcolor\":\"white\",\"linecolor\":\"white\",\"minorgridcolor\":\"white\",\"startlinecolor\":\"#2a3f5f\"},\"type\":\"carpet\"}],\"choropleth\":[{\"colorbar\":{\"outlinewidth\":0,\"ticks\":\"\"},\"type\":\"choropleth\"}],\"contour\":[{\"colorbar\":{\"outlinewidth\":0,\"ticks\":\"\"},\"colorscale\":[[0.0,\"#0d0887\"],[0.1111111111111111,\"#46039f\"],[0.2222222222222222,\"#7201a8\"],[0.3333333333333333,\"#9c179e\"],[0.4444444444444444,\"#bd3786\"],[0.5555555555555556,\"#d8576b\"],[0.6666666666666666,\"#ed7953\"],[0.7777777777777778,\"#fb9f3a\"],[0.8888888888888888,\"#fdca26\"],[1.0,\"#f0f921\"]],\"type\":\"contour\"}],\"contourcarpet\":[{\"colorbar\":{\"outlinewidth\":0,\"ticks\":\"\"},\"type\":\"contourcarpet\"}],\"heatmap\":[{\"colorbar\":{\"outlinewidth\":0,\"ticks\":\"\"},\"colorscale\":[[0.0,\"#0d0887\"],[0.1111111111111111,\"#46039f\"],[0.2222222222222222,\"#7201a8\"],[0.3333333333333333,\"#9c179e\"],[0.4444444444444444,\"#bd3786\"],[0.5555555555555556,\"#d8576b\"],[0.6666666666666666,\"#ed7953\"],[0.7777777777777778,\"#fb9f3a\"],[0.8888888888888888,\"#fdca26\"],[1.0,\"#f0f921\"]],\"type\":\"heatmap\"}],\"heatmapgl\":[{\"colorbar\":{\"outlinewidth\":0,\"ticks\":\"\"},\"colorscale\":[[0.0,\"#0d0887\"],[0.1111111111111111,\"#46039f\"],[0.2222222222222222,\"#7201a8\"],[0.3333333333333333,\"#9c179e\"],[0.4444444444444444,\"#bd3786\"],[0.5555555555555556,\"#d8576b\"],[0.6666666666666666,\"#ed7953\"],[0.7777777777777778,\"#fb9f3a\"],[0.8888888888888888,\"#fdca26\"],[1.0,\"#f0f921\"]],\"type\":\"heatmapgl\"}],\"histogram\":[{\"marker\":{\"pattern\":{\"fillmode\":\"overlay\",\"size\":10,\"solidity\":0.2}},\"type\":\"histogram\"}],\"histogram2d\":[{\"colorbar\":{\"outlinewidth\":0,\"ticks\":\"\"},\"colorscale\":[[0.0,\"#0d0887\"],[0.1111111111111111,\"#46039f\"],[0.2222222222222222,\"#7201a8\"],[0.3333333333333333,\"#9c179e\"],[0.4444444444444444,\"#bd3786\"],[0.5555555555555556,\"#d8576b\"],[0.6666666666666666,\"#ed7953\"],[0.7777777777777778,\"#fb9f3a\"],[0.8888888888888888,\"#fdca26\"],[1.0,\"#f0f921\"]],\"type\":\"histogram2d\"}],\"histogram2dcontour\":[{\"colorbar\":{\"outlinewidth\":0,\"ticks\":\"\"},\"colorscale\":[[0.0,\"#0d0887\"],[0.1111111111111111,\"#46039f\"],[0.2222222222222222,\"#7201a8\"],[0.3333333333333333,\"#9c179e\"],[0.4444444444444444,\"#bd3786\"],[0.5555555555555556,\"#d8576b\"],[0.6666666666666666,\"#ed7953\"],[0.7777777777777778,\"#fb9f3a\"],[0.8888888888888888,\"#fdca26\"],[1.0,\"#f0f921\"]],\"type\":\"histogram2dcontour\"}],\"mesh3d\":[{\"colorbar\":{\"outlinewidth\":0,\"ticks\":\"\"},\"type\":\"mesh3d\"}],\"parcoords\":[{\"line\":{\"colorbar\":{\"outlinewidth\":0,\"ticks\":\"\"}},\"type\":\"parcoords\"}],\"pie\":[{\"automargin\":true,\"type\":\"pie\"}],\"scatter\":[{\"marker\":{\"colorbar\":{\"outlinewidth\":0,\"ticks\":\"\"}},\"type\":\"scatter\"}],\"scatter3d\":[{\"line\":{\"colorbar\":{\"outlinewidth\":0,\"ticks\":\"\"}},\"marker\":{\"colorbar\":{\"outlinewidth\":0,\"ticks\":\"\"}},\"type\":\"scatter3d\"}],\"scattercarpet\":[{\"marker\":{\"colorbar\":{\"outlinewidth\":0,\"ticks\":\"\"}},\"type\":\"scattercarpet\"}],\"scattergeo\":[{\"marker\":{\"colorbar\":{\"outlinewidth\":0,\"ticks\":\"\"}},\"type\":\"scattergeo\"}],\"scattergl\":[{\"marker\":{\"colorbar\":{\"outlinewidth\":0,\"ticks\":\"\"}},\"type\":\"scattergl\"}],\"scattermapbox\":[{\"marker\":{\"colorbar\":{\"outlinewidth\":0,\"ticks\":\"\"}},\"type\":\"scattermapbox\"}],\"scatterpolar\":[{\"marker\":{\"colorbar\":{\"outlinewidth\":0,\"ticks\":\"\"}},\"type\":\"scatterpolar\"}],\"scatterpolargl\":[{\"marker\":{\"colorbar\":{\"outlinewidth\":0,\"ticks\":\"\"}},\"type\":\"scatterpolargl\"}],\"scatterternary\":[{\"marker\":{\"colorbar\":{\"outlinewidth\":0,\"ticks\":\"\"}},\"type\":\"scatterternary\"}],\"surface\":[{\"colorbar\":{\"outlinewidth\":0,\"ticks\":\"\"},\"colorscale\":[[0.0,\"#0d0887\"],[0.1111111111111111,\"#46039f\"],[0.2222222222222222,\"#7201a8\"],[0.3333333333333333,\"#9c179e\"],[0.4444444444444444,\"#bd3786\"],[0.5555555555555556,\"#d8576b\"],[0.6666666666666666,\"#ed7953\"],[0.7777777777777778,\"#fb9f3a\"],[0.8888888888888888,\"#fdca26\"],[1.0,\"#f0f921\"]],\"type\":\"surface\"}],\"table\":[{\"cells\":{\"fill\":{\"color\":\"#EBF0F8\"},\"line\":{\"color\":\"white\"}},\"header\":{\"fill\":{\"color\":\"#C8D4E3\"},\"line\":{\"color\":\"white\"}},\"type\":\"table\"}]},\"layout\":{\"annotationdefaults\":{\"arrowcolor\":\"#2a3f5f\",\"arrowhead\":0,\"arrowwidth\":1},\"autotypenumbers\":\"strict\",\"coloraxis\":{\"colorbar\":{\"outlinewidth\":0,\"ticks\":\"\"}},\"colorscale\":{\"diverging\":[[0,\"#8e0152\"],[0.1,\"#c51b7d\"],[0.2,\"#de77ae\"],[0.3,\"#f1b6da\"],[0.4,\"#fde0ef\"],[0.5,\"#f7f7f7\"],[0.6,\"#e6f5d0\"],[0.7,\"#b8e186\"],[0.8,\"#7fbc41\"],[0.9,\"#4d9221\"],[1,\"#276419\"]],\"sequential\":[[0.0,\"#0d0887\"],[0.1111111111111111,\"#46039f\"],[0.2222222222222222,\"#7201a8\"],[0.3333333333333333,\"#9c179e\"],[0.4444444444444444,\"#bd3786\"],[0.5555555555555556,\"#d8576b\"],[0.6666666666666666,\"#ed7953\"],[0.7777777777777778,\"#fb9f3a\"],[0.8888888888888888,\"#fdca26\"],[1.0,\"#f0f921\"]],\"sequentialminus\":[[0.0,\"#0d0887\"],[0.1111111111111111,\"#46039f\"],[0.2222222222222222,\"#7201a8\"],[0.3333333333333333,\"#9c179e\"],[0.4444444444444444,\"#bd3786\"],[0.5555555555555556,\"#d8576b\"],[0.6666666666666666,\"#ed7953\"],[0.7777777777777778,\"#fb9f3a\"],[0.8888888888888888,\"#fdca26\"],[1.0,\"#f0f921\"]]},\"colorway\":[\"#636efa\",\"#EF553B\",\"#00cc96\",\"#ab63fa\",\"#FFA15A\",\"#19d3f3\",\"#FF6692\",\"#B6E880\",\"#FF97FF\",\"#FECB52\"],\"font\":{\"color\":\"#2a3f5f\"},\"geo\":{\"bgcolor\":\"white\",\"lakecolor\":\"white\",\"landcolor\":\"#E5ECF6\",\"showlakes\":true,\"showland\":true,\"subunitcolor\":\"white\"},\"hoverlabel\":{\"align\":\"left\"},\"hovermode\":\"closest\",\"mapbox\":{\"style\":\"light\"},\"paper_bgcolor\":\"white\",\"plot_bgcolor\":\"#E5ECF6\",\"polar\":{\"angularaxis\":{\"gridcolor\":\"white\",\"linecolor\":\"white\",\"ticks\":\"\"},\"bgcolor\":\"#E5ECF6\",\"radialaxis\":{\"gridcolor\":\"white\",\"linecolor\":\"white\",\"ticks\":\"\"}},\"scene\":{\"xaxis\":{\"backgroundcolor\":\"#E5ECF6\",\"gridcolor\":\"white\",\"gridwidth\":2,\"linecolor\":\"white\",\"showbackground\":true,\"ticks\":\"\",\"zerolinecolor\":\"white\"},\"yaxis\":{\"backgroundcolor\":\"#E5ECF6\",\"gridcolor\":\"white\",\"gridwidth\":2,\"linecolor\":\"white\",\"showbackground\":true,\"ticks\":\"\",\"zerolinecolor\":\"white\"},\"zaxis\":{\"backgroundcolor\":\"#E5ECF6\",\"gridcolor\":\"white\",\"gridwidth\":2,\"linecolor\":\"white\",\"showbackground\":true,\"ticks\":\"\",\"zerolinecolor\":\"white\"}},\"shapedefaults\":{\"line\":{\"color\":\"#2a3f5f\"}},\"ternary\":{\"aaxis\":{\"gridcolor\":\"white\",\"linecolor\":\"white\",\"ticks\":\"\"},\"baxis\":{\"gridcolor\":\"white\",\"linecolor\":\"white\",\"ticks\":\"\"},\"bgcolor\":\"#E5ECF6\",\"caxis\":{\"gridcolor\":\"white\",\"linecolor\":\"white\",\"ticks\":\"\"}},\"title\":{\"x\":0.05},\"xaxis\":{\"automargin\":true,\"gridcolor\":\"white\",\"linecolor\":\"white\",\"ticks\":\"\",\"title\":{\"standoff\":15},\"zerolinecolor\":\"white\",\"zerolinewidth\":2},\"yaxis\":{\"automargin\":true,\"gridcolor\":\"white\",\"linecolor\":\"white\",\"ticks\":\"\",\"title\":{\"standoff\":15},\"zerolinecolor\":\"white\",\"zerolinewidth\":2}}},\"xaxis\":{\"anchor\":\"y\",\"domain\":[0.0,1.0],\"title\":{\"text\":\"PFF offense grade\"}},\"yaxis\":{\"anchor\":\"x\",\"domain\":[0.0,1.0],\"title\":{\"text\":\"Draft position\"}},\"legend\":{\"title\":{\"text\":\"team_name\"},\"tracegroupgap\":0},\"title\":{\"text\":\"Preseason Game 1 (2022) PFF offensive grade vs draft position for rookie offensive tackles\"},\"showlegend\":false},                        {\"responsive\": true}                    ).then(function(){\n",
       "                            \n",
       "var gd = document.getElementById('0b3a49c6-b4ec-480d-b455-40db30dd02d9');\n",
       "var x = new MutationObserver(function (mutations, observer) {{\n",
       "        var display = window.getComputedStyle(gd).display;\n",
       "        if (!display || display === 'none') {{\n",
       "            console.log([gd, 'removed!']);\n",
       "            Plotly.purge(gd);\n",
       "            observer.disconnect();\n",
       "        }}\n",
       "}});\n",
       "\n",
       "// Listen for the removal of the full notebook cells\n",
       "var notebookContainer = gd.closest('#notebook-container');\n",
       "if (notebookContainer) {{\n",
       "    x.observe(notebookContainer, {childList: true});\n",
       "}}\n",
       "\n",
       "// Listen for the clearing of the current output cell\n",
       "var outputEl = gd.closest('.output');\n",
       "if (outputEl) {{\n",
       "    x.observe(outputEl, {childList: true});\n",
       "}}\n",
       "\n",
       "                        })                };                });            </script>        </div>"
      ]
     },
     "metadata": {},
     "output_type": "display_data"
    }
   ],
   "source": [
    "pre_week_one_tackle_rookies = px.scatter(tackle_rookie_one,\n",
    "          x='grades_offense',\n",
    "          y='draft_pick',\n",
    "          text='player',\n",
    "          labels=dict(grades_offense=\"PFF offense grade\", draft_pick=\"Draft position\"),                                \n",
    "          color='team_name',\n",
    "          color_discrete_map=team_colors,\n",
    "          title=\"Preseason Game 1 (2022) PFF offensive grade vs draft position for rookie offensive tackles\").update_traces(textposition='top center')\n",
    "pre_week_one_tackle_rookies.update_traces(textposition='top center')\n",
    "pre_week_one_tackle_rookies.update_layout(showlegend=False)\n",
    "pre_week_one_tackle_rookies.show()"
   ]
  },
  {
   "cell_type": "code",
   "execution_count": 49,
   "id": "69e7830e",
   "metadata": {},
   "outputs": [
    {
     "data": {
      "application/vnd.plotly.v1+json": {
       "config": {
        "plotlyServerURL": "https://plot.ly"
       },
       "data": [
        {
         "hovertemplate": "team_name=NYG<br>PFF offense grade=%{x}<br>Draft position=%{y}<br>player=%{text}<extra></extra>",
         "legendgroup": "NYG",
         "marker": {
          "color": "#EF553B",
          "symbol": "circle"
         },
         "mode": "markers+text",
         "name": "NYG",
         "orientation": "v",
         "showlegend": true,
         "text": [
          "Joshua Ezeudu"
         ],
         "textposition": "top center",
         "type": "scatter",
         "x": [
          55.8
         ],
         "xaxis": "x",
         "y": [
          67
         ],
         "yaxis": "y"
        },
        {
         "hovertemplate": "team_name=ARZ<br>PFF offense grade=%{x}<br>Draft position=%{y}<br>player=%{text}<extra></extra>",
         "legendgroup": "ARZ",
         "marker": {
          "color": "#97233F",
          "symbol": "circle"
         },
         "mode": "markers+text",
         "name": "ARZ",
         "orientation": "v",
         "showlegend": true,
         "text": [
          "Marquis Hayes",
          "Lecitus Smith"
         ],
         "textposition": "top center",
         "type": "scatter",
         "x": [
          80.1,
          78.3
         ],
         "xaxis": "x",
         "y": [
          257,
          215
         ],
         "yaxis": "y"
        },
        {
         "hovertemplate": "team_name=LAC<br>PFF offense grade=%{x}<br>Draft position=%{y}<br>player=%{text}<extra></extra>",
         "legendgroup": "LAC",
         "marker": {
          "color": "#0080C6",
          "symbol": "circle"
         },
         "mode": "markers+text",
         "name": "LAC",
         "orientation": "v",
         "showlegend": true,
         "text": [
          "Zion Johnson"
         ],
         "textposition": "top center",
         "type": "scatter",
         "x": [
          37.6
         ],
         "xaxis": "x",
         "y": [
          17
         ],
         "yaxis": "y"
        },
        {
         "hovertemplate": "team_name=NE<br>PFF offense grade=%{x}<br>Draft position=%{y}<br>player=%{text}<extra></extra>",
         "legendgroup": "NE",
         "marker": {
          "color": "#002244",
          "symbol": "circle"
         },
         "mode": "markers+text",
         "name": "NE",
         "orientation": "v",
         "showlegend": true,
         "text": [
          "Cole Strange"
         ],
         "textposition": "top center",
         "type": "scatter",
         "x": [
          60.9
         ],
         "xaxis": "x",
         "y": [
          29
         ],
         "yaxis": "y"
        },
        {
         "hovertemplate": "team_name=ATL<br>PFF offense grade=%{x}<br>Draft position=%{y}<br>player=%{text}<extra></extra>",
         "legendgroup": "ATL",
         "marker": {
          "color": "#A71930",
          "symbol": "circle"
         },
         "mode": "markers+text",
         "name": "ATL",
         "orientation": "v",
         "showlegend": true,
         "text": [
          "Justin Shaffer"
         ],
         "textposition": "top center",
         "type": "scatter",
         "x": [
          30.1
         ],
         "xaxis": "x",
         "y": [
          190
         ],
         "yaxis": "y"
        },
        {
         "hovertemplate": "team_name=MIN<br>PFF offense grade=%{x}<br>Draft position=%{y}<br>player=%{text}<extra></extra>",
         "legendgroup": "MIN",
         "marker": {
          "color": "#4F2683",
          "symbol": "circle"
         },
         "mode": "markers+text",
         "name": "MIN",
         "orientation": "v",
         "showlegend": true,
         "text": [
          "Ed Ingram"
         ],
         "textposition": "top center",
         "type": "scatter",
         "x": [
          87.3
         ],
         "xaxis": "x",
         "y": [
          59
         ],
         "yaxis": "y"
        }
       ],
       "layout": {
        "legend": {
         "title": {
          "text": "team_name"
         },
         "tracegroupgap": 0
        },
        "showlegend": false,
        "template": {
         "data": {
          "bar": [
           {
            "error_x": {
             "color": "#2a3f5f"
            },
            "error_y": {
             "color": "#2a3f5f"
            },
            "marker": {
             "line": {
              "color": "#E5ECF6",
              "width": 0.5
             },
             "pattern": {
              "fillmode": "overlay",
              "size": 10,
              "solidity": 0.2
             }
            },
            "type": "bar"
           }
          ],
          "barpolar": [
           {
            "marker": {
             "line": {
              "color": "#E5ECF6",
              "width": 0.5
             },
             "pattern": {
              "fillmode": "overlay",
              "size": 10,
              "solidity": 0.2
             }
            },
            "type": "barpolar"
           }
          ],
          "carpet": [
           {
            "aaxis": {
             "endlinecolor": "#2a3f5f",
             "gridcolor": "white",
             "linecolor": "white",
             "minorgridcolor": "white",
             "startlinecolor": "#2a3f5f"
            },
            "baxis": {
             "endlinecolor": "#2a3f5f",
             "gridcolor": "white",
             "linecolor": "white",
             "minorgridcolor": "white",
             "startlinecolor": "#2a3f5f"
            },
            "type": "carpet"
           }
          ],
          "choropleth": [
           {
            "colorbar": {
             "outlinewidth": 0,
             "ticks": ""
            },
            "type": "choropleth"
           }
          ],
          "contour": [
           {
            "colorbar": {
             "outlinewidth": 0,
             "ticks": ""
            },
            "colorscale": [
             [
              0,
              "#0d0887"
             ],
             [
              0.1111111111111111,
              "#46039f"
             ],
             [
              0.2222222222222222,
              "#7201a8"
             ],
             [
              0.3333333333333333,
              "#9c179e"
             ],
             [
              0.4444444444444444,
              "#bd3786"
             ],
             [
              0.5555555555555556,
              "#d8576b"
             ],
             [
              0.6666666666666666,
              "#ed7953"
             ],
             [
              0.7777777777777778,
              "#fb9f3a"
             ],
             [
              0.8888888888888888,
              "#fdca26"
             ],
             [
              1,
              "#f0f921"
             ]
            ],
            "type": "contour"
           }
          ],
          "contourcarpet": [
           {
            "colorbar": {
             "outlinewidth": 0,
             "ticks": ""
            },
            "type": "contourcarpet"
           }
          ],
          "heatmap": [
           {
            "colorbar": {
             "outlinewidth": 0,
             "ticks": ""
            },
            "colorscale": [
             [
              0,
              "#0d0887"
             ],
             [
              0.1111111111111111,
              "#46039f"
             ],
             [
              0.2222222222222222,
              "#7201a8"
             ],
             [
              0.3333333333333333,
              "#9c179e"
             ],
             [
              0.4444444444444444,
              "#bd3786"
             ],
             [
              0.5555555555555556,
              "#d8576b"
             ],
             [
              0.6666666666666666,
              "#ed7953"
             ],
             [
              0.7777777777777778,
              "#fb9f3a"
             ],
             [
              0.8888888888888888,
              "#fdca26"
             ],
             [
              1,
              "#f0f921"
             ]
            ],
            "type": "heatmap"
           }
          ],
          "heatmapgl": [
           {
            "colorbar": {
             "outlinewidth": 0,
             "ticks": ""
            },
            "colorscale": [
             [
              0,
              "#0d0887"
             ],
             [
              0.1111111111111111,
              "#46039f"
             ],
             [
              0.2222222222222222,
              "#7201a8"
             ],
             [
              0.3333333333333333,
              "#9c179e"
             ],
             [
              0.4444444444444444,
              "#bd3786"
             ],
             [
              0.5555555555555556,
              "#d8576b"
             ],
             [
              0.6666666666666666,
              "#ed7953"
             ],
             [
              0.7777777777777778,
              "#fb9f3a"
             ],
             [
              0.8888888888888888,
              "#fdca26"
             ],
             [
              1,
              "#f0f921"
             ]
            ],
            "type": "heatmapgl"
           }
          ],
          "histogram": [
           {
            "marker": {
             "pattern": {
              "fillmode": "overlay",
              "size": 10,
              "solidity": 0.2
             }
            },
            "type": "histogram"
           }
          ],
          "histogram2d": [
           {
            "colorbar": {
             "outlinewidth": 0,
             "ticks": ""
            },
            "colorscale": [
             [
              0,
              "#0d0887"
             ],
             [
              0.1111111111111111,
              "#46039f"
             ],
             [
              0.2222222222222222,
              "#7201a8"
             ],
             [
              0.3333333333333333,
              "#9c179e"
             ],
             [
              0.4444444444444444,
              "#bd3786"
             ],
             [
              0.5555555555555556,
              "#d8576b"
             ],
             [
              0.6666666666666666,
              "#ed7953"
             ],
             [
              0.7777777777777778,
              "#fb9f3a"
             ],
             [
              0.8888888888888888,
              "#fdca26"
             ],
             [
              1,
              "#f0f921"
             ]
            ],
            "type": "histogram2d"
           }
          ],
          "histogram2dcontour": [
           {
            "colorbar": {
             "outlinewidth": 0,
             "ticks": ""
            },
            "colorscale": [
             [
              0,
              "#0d0887"
             ],
             [
              0.1111111111111111,
              "#46039f"
             ],
             [
              0.2222222222222222,
              "#7201a8"
             ],
             [
              0.3333333333333333,
              "#9c179e"
             ],
             [
              0.4444444444444444,
              "#bd3786"
             ],
             [
              0.5555555555555556,
              "#d8576b"
             ],
             [
              0.6666666666666666,
              "#ed7953"
             ],
             [
              0.7777777777777778,
              "#fb9f3a"
             ],
             [
              0.8888888888888888,
              "#fdca26"
             ],
             [
              1,
              "#f0f921"
             ]
            ],
            "type": "histogram2dcontour"
           }
          ],
          "mesh3d": [
           {
            "colorbar": {
             "outlinewidth": 0,
             "ticks": ""
            },
            "type": "mesh3d"
           }
          ],
          "parcoords": [
           {
            "line": {
             "colorbar": {
              "outlinewidth": 0,
              "ticks": ""
             }
            },
            "type": "parcoords"
           }
          ],
          "pie": [
           {
            "automargin": true,
            "type": "pie"
           }
          ],
          "scatter": [
           {
            "marker": {
             "colorbar": {
              "outlinewidth": 0,
              "ticks": ""
             }
            },
            "type": "scatter"
           }
          ],
          "scatter3d": [
           {
            "line": {
             "colorbar": {
              "outlinewidth": 0,
              "ticks": ""
             }
            },
            "marker": {
             "colorbar": {
              "outlinewidth": 0,
              "ticks": ""
             }
            },
            "type": "scatter3d"
           }
          ],
          "scattercarpet": [
           {
            "marker": {
             "colorbar": {
              "outlinewidth": 0,
              "ticks": ""
             }
            },
            "type": "scattercarpet"
           }
          ],
          "scattergeo": [
           {
            "marker": {
             "colorbar": {
              "outlinewidth": 0,
              "ticks": ""
             }
            },
            "type": "scattergeo"
           }
          ],
          "scattergl": [
           {
            "marker": {
             "colorbar": {
              "outlinewidth": 0,
              "ticks": ""
             }
            },
            "type": "scattergl"
           }
          ],
          "scattermapbox": [
           {
            "marker": {
             "colorbar": {
              "outlinewidth": 0,
              "ticks": ""
             }
            },
            "type": "scattermapbox"
           }
          ],
          "scatterpolar": [
           {
            "marker": {
             "colorbar": {
              "outlinewidth": 0,
              "ticks": ""
             }
            },
            "type": "scatterpolar"
           }
          ],
          "scatterpolargl": [
           {
            "marker": {
             "colorbar": {
              "outlinewidth": 0,
              "ticks": ""
             }
            },
            "type": "scatterpolargl"
           }
          ],
          "scatterternary": [
           {
            "marker": {
             "colorbar": {
              "outlinewidth": 0,
              "ticks": ""
             }
            },
            "type": "scatterternary"
           }
          ],
          "surface": [
           {
            "colorbar": {
             "outlinewidth": 0,
             "ticks": ""
            },
            "colorscale": [
             [
              0,
              "#0d0887"
             ],
             [
              0.1111111111111111,
              "#46039f"
             ],
             [
              0.2222222222222222,
              "#7201a8"
             ],
             [
              0.3333333333333333,
              "#9c179e"
             ],
             [
              0.4444444444444444,
              "#bd3786"
             ],
             [
              0.5555555555555556,
              "#d8576b"
             ],
             [
              0.6666666666666666,
              "#ed7953"
             ],
             [
              0.7777777777777778,
              "#fb9f3a"
             ],
             [
              0.8888888888888888,
              "#fdca26"
             ],
             [
              1,
              "#f0f921"
             ]
            ],
            "type": "surface"
           }
          ],
          "table": [
           {
            "cells": {
             "fill": {
              "color": "#EBF0F8"
             },
             "line": {
              "color": "white"
             }
            },
            "header": {
             "fill": {
              "color": "#C8D4E3"
             },
             "line": {
              "color": "white"
             }
            },
            "type": "table"
           }
          ]
         },
         "layout": {
          "annotationdefaults": {
           "arrowcolor": "#2a3f5f",
           "arrowhead": 0,
           "arrowwidth": 1
          },
          "autotypenumbers": "strict",
          "coloraxis": {
           "colorbar": {
            "outlinewidth": 0,
            "ticks": ""
           }
          },
          "colorscale": {
           "diverging": [
            [
             0,
             "#8e0152"
            ],
            [
             0.1,
             "#c51b7d"
            ],
            [
             0.2,
             "#de77ae"
            ],
            [
             0.3,
             "#f1b6da"
            ],
            [
             0.4,
             "#fde0ef"
            ],
            [
             0.5,
             "#f7f7f7"
            ],
            [
             0.6,
             "#e6f5d0"
            ],
            [
             0.7,
             "#b8e186"
            ],
            [
             0.8,
             "#7fbc41"
            ],
            [
             0.9,
             "#4d9221"
            ],
            [
             1,
             "#276419"
            ]
           ],
           "sequential": [
            [
             0,
             "#0d0887"
            ],
            [
             0.1111111111111111,
             "#46039f"
            ],
            [
             0.2222222222222222,
             "#7201a8"
            ],
            [
             0.3333333333333333,
             "#9c179e"
            ],
            [
             0.4444444444444444,
             "#bd3786"
            ],
            [
             0.5555555555555556,
             "#d8576b"
            ],
            [
             0.6666666666666666,
             "#ed7953"
            ],
            [
             0.7777777777777778,
             "#fb9f3a"
            ],
            [
             0.8888888888888888,
             "#fdca26"
            ],
            [
             1,
             "#f0f921"
            ]
           ],
           "sequentialminus": [
            [
             0,
             "#0d0887"
            ],
            [
             0.1111111111111111,
             "#46039f"
            ],
            [
             0.2222222222222222,
             "#7201a8"
            ],
            [
             0.3333333333333333,
             "#9c179e"
            ],
            [
             0.4444444444444444,
             "#bd3786"
            ],
            [
             0.5555555555555556,
             "#d8576b"
            ],
            [
             0.6666666666666666,
             "#ed7953"
            ],
            [
             0.7777777777777778,
             "#fb9f3a"
            ],
            [
             0.8888888888888888,
             "#fdca26"
            ],
            [
             1,
             "#f0f921"
            ]
           ]
          },
          "colorway": [
           "#636efa",
           "#EF553B",
           "#00cc96",
           "#ab63fa",
           "#FFA15A",
           "#19d3f3",
           "#FF6692",
           "#B6E880",
           "#FF97FF",
           "#FECB52"
          ],
          "font": {
           "color": "#2a3f5f"
          },
          "geo": {
           "bgcolor": "white",
           "lakecolor": "white",
           "landcolor": "#E5ECF6",
           "showlakes": true,
           "showland": true,
           "subunitcolor": "white"
          },
          "hoverlabel": {
           "align": "left"
          },
          "hovermode": "closest",
          "mapbox": {
           "style": "light"
          },
          "paper_bgcolor": "white",
          "plot_bgcolor": "#E5ECF6",
          "polar": {
           "angularaxis": {
            "gridcolor": "white",
            "linecolor": "white",
            "ticks": ""
           },
           "bgcolor": "#E5ECF6",
           "radialaxis": {
            "gridcolor": "white",
            "linecolor": "white",
            "ticks": ""
           }
          },
          "scene": {
           "xaxis": {
            "backgroundcolor": "#E5ECF6",
            "gridcolor": "white",
            "gridwidth": 2,
            "linecolor": "white",
            "showbackground": true,
            "ticks": "",
            "zerolinecolor": "white"
           },
           "yaxis": {
            "backgroundcolor": "#E5ECF6",
            "gridcolor": "white",
            "gridwidth": 2,
            "linecolor": "white",
            "showbackground": true,
            "ticks": "",
            "zerolinecolor": "white"
           },
           "zaxis": {
            "backgroundcolor": "#E5ECF6",
            "gridcolor": "white",
            "gridwidth": 2,
            "linecolor": "white",
            "showbackground": true,
            "ticks": "",
            "zerolinecolor": "white"
           }
          },
          "shapedefaults": {
           "line": {
            "color": "#2a3f5f"
           }
          },
          "ternary": {
           "aaxis": {
            "gridcolor": "white",
            "linecolor": "white",
            "ticks": ""
           },
           "baxis": {
            "gridcolor": "white",
            "linecolor": "white",
            "ticks": ""
           },
           "bgcolor": "#E5ECF6",
           "caxis": {
            "gridcolor": "white",
            "linecolor": "white",
            "ticks": ""
           }
          },
          "title": {
           "x": 0.05
          },
          "xaxis": {
           "automargin": true,
           "gridcolor": "white",
           "linecolor": "white",
           "ticks": "",
           "title": {
            "standoff": 15
           },
           "zerolinecolor": "white",
           "zerolinewidth": 2
          },
          "yaxis": {
           "automargin": true,
           "gridcolor": "white",
           "linecolor": "white",
           "ticks": "",
           "title": {
            "standoff": 15
           },
           "zerolinecolor": "white",
           "zerolinewidth": 2
          }
         }
        },
        "title": {
         "text": "Preseason Game 1 (2022) PFF offensive grade vs draft position for rookie offensive guards"
        },
        "xaxis": {
         "anchor": "y",
         "domain": [
          0,
          1
         ],
         "title": {
          "text": "PFF offense grade"
         }
        },
        "yaxis": {
         "anchor": "x",
         "domain": [
          0,
          1
         ],
         "title": {
          "text": "Draft position"
         }
        }
       }
      },
      "text/html": [
       "<div>                            <div id=\"af0ad7f1-ec3c-45b2-be50-e390c00e6859\" class=\"plotly-graph-div\" style=\"height:525px; width:100%;\"></div>            <script type=\"text/javascript\">                require([\"plotly\"], function(Plotly) {                    window.PLOTLYENV=window.PLOTLYENV || {};                                    if (document.getElementById(\"af0ad7f1-ec3c-45b2-be50-e390c00e6859\")) {                    Plotly.newPlot(                        \"af0ad7f1-ec3c-45b2-be50-e390c00e6859\",                        [{\"hovertemplate\":\"team_name=NYG<br>PFF offense grade=%{x}<br>Draft position=%{y}<br>player=%{text}<extra></extra>\",\"legendgroup\":\"NYG\",\"marker\":{\"color\":\"#EF553B\",\"symbol\":\"circle\"},\"mode\":\"markers+text\",\"name\":\"NYG\",\"orientation\":\"v\",\"showlegend\":true,\"text\":[\"Joshua Ezeudu\"],\"x\":[55.8],\"xaxis\":\"x\",\"y\":[67],\"yaxis\":\"y\",\"type\":\"scatter\",\"textposition\":\"top center\"},{\"hovertemplate\":\"team_name=ARZ<br>PFF offense grade=%{x}<br>Draft position=%{y}<br>player=%{text}<extra></extra>\",\"legendgroup\":\"ARZ\",\"marker\":{\"color\":\"#97233F\",\"symbol\":\"circle\"},\"mode\":\"markers+text\",\"name\":\"ARZ\",\"orientation\":\"v\",\"showlegend\":true,\"text\":[\"Marquis Hayes\",\"Lecitus Smith\"],\"x\":[80.1,78.3],\"xaxis\":\"x\",\"y\":[257,215],\"yaxis\":\"y\",\"type\":\"scatter\",\"textposition\":\"top center\"},{\"hovertemplate\":\"team_name=LAC<br>PFF offense grade=%{x}<br>Draft position=%{y}<br>player=%{text}<extra></extra>\",\"legendgroup\":\"LAC\",\"marker\":{\"color\":\"#0080C6\",\"symbol\":\"circle\"},\"mode\":\"markers+text\",\"name\":\"LAC\",\"orientation\":\"v\",\"showlegend\":true,\"text\":[\"Zion Johnson\"],\"x\":[37.6],\"xaxis\":\"x\",\"y\":[17],\"yaxis\":\"y\",\"type\":\"scatter\",\"textposition\":\"top center\"},{\"hovertemplate\":\"team_name=NE<br>PFF offense grade=%{x}<br>Draft position=%{y}<br>player=%{text}<extra></extra>\",\"legendgroup\":\"NE\",\"marker\":{\"color\":\"#002244\",\"symbol\":\"circle\"},\"mode\":\"markers+text\",\"name\":\"NE\",\"orientation\":\"v\",\"showlegend\":true,\"text\":[\"Cole Strange\"],\"x\":[60.9],\"xaxis\":\"x\",\"y\":[29],\"yaxis\":\"y\",\"type\":\"scatter\",\"textposition\":\"top center\"},{\"hovertemplate\":\"team_name=ATL<br>PFF offense grade=%{x}<br>Draft position=%{y}<br>player=%{text}<extra></extra>\",\"legendgroup\":\"ATL\",\"marker\":{\"color\":\"#A71930\",\"symbol\":\"circle\"},\"mode\":\"markers+text\",\"name\":\"ATL\",\"orientation\":\"v\",\"showlegend\":true,\"text\":[\"Justin Shaffer\"],\"x\":[30.1],\"xaxis\":\"x\",\"y\":[190],\"yaxis\":\"y\",\"type\":\"scatter\",\"textposition\":\"top center\"},{\"hovertemplate\":\"team_name=MIN<br>PFF offense grade=%{x}<br>Draft position=%{y}<br>player=%{text}<extra></extra>\",\"legendgroup\":\"MIN\",\"marker\":{\"color\":\"#4F2683\",\"symbol\":\"circle\"},\"mode\":\"markers+text\",\"name\":\"MIN\",\"orientation\":\"v\",\"showlegend\":true,\"text\":[\"Ed Ingram\"],\"x\":[87.3],\"xaxis\":\"x\",\"y\":[59],\"yaxis\":\"y\",\"type\":\"scatter\",\"textposition\":\"top center\"}],                        {\"template\":{\"data\":{\"bar\":[{\"error_x\":{\"color\":\"#2a3f5f\"},\"error_y\":{\"color\":\"#2a3f5f\"},\"marker\":{\"line\":{\"color\":\"#E5ECF6\",\"width\":0.5},\"pattern\":{\"fillmode\":\"overlay\",\"size\":10,\"solidity\":0.2}},\"type\":\"bar\"}],\"barpolar\":[{\"marker\":{\"line\":{\"color\":\"#E5ECF6\",\"width\":0.5},\"pattern\":{\"fillmode\":\"overlay\",\"size\":10,\"solidity\":0.2}},\"type\":\"barpolar\"}],\"carpet\":[{\"aaxis\":{\"endlinecolor\":\"#2a3f5f\",\"gridcolor\":\"white\",\"linecolor\":\"white\",\"minorgridcolor\":\"white\",\"startlinecolor\":\"#2a3f5f\"},\"baxis\":{\"endlinecolor\":\"#2a3f5f\",\"gridcolor\":\"white\",\"linecolor\":\"white\",\"minorgridcolor\":\"white\",\"startlinecolor\":\"#2a3f5f\"},\"type\":\"carpet\"}],\"choropleth\":[{\"colorbar\":{\"outlinewidth\":0,\"ticks\":\"\"},\"type\":\"choropleth\"}],\"contour\":[{\"colorbar\":{\"outlinewidth\":0,\"ticks\":\"\"},\"colorscale\":[[0.0,\"#0d0887\"],[0.1111111111111111,\"#46039f\"],[0.2222222222222222,\"#7201a8\"],[0.3333333333333333,\"#9c179e\"],[0.4444444444444444,\"#bd3786\"],[0.5555555555555556,\"#d8576b\"],[0.6666666666666666,\"#ed7953\"],[0.7777777777777778,\"#fb9f3a\"],[0.8888888888888888,\"#fdca26\"],[1.0,\"#f0f921\"]],\"type\":\"contour\"}],\"contourcarpet\":[{\"colorbar\":{\"outlinewidth\":0,\"ticks\":\"\"},\"type\":\"contourcarpet\"}],\"heatmap\":[{\"colorbar\":{\"outlinewidth\":0,\"ticks\":\"\"},\"colorscale\":[[0.0,\"#0d0887\"],[0.1111111111111111,\"#46039f\"],[0.2222222222222222,\"#7201a8\"],[0.3333333333333333,\"#9c179e\"],[0.4444444444444444,\"#bd3786\"],[0.5555555555555556,\"#d8576b\"],[0.6666666666666666,\"#ed7953\"],[0.7777777777777778,\"#fb9f3a\"],[0.8888888888888888,\"#fdca26\"],[1.0,\"#f0f921\"]],\"type\":\"heatmap\"}],\"heatmapgl\":[{\"colorbar\":{\"outlinewidth\":0,\"ticks\":\"\"},\"colorscale\":[[0.0,\"#0d0887\"],[0.1111111111111111,\"#46039f\"],[0.2222222222222222,\"#7201a8\"],[0.3333333333333333,\"#9c179e\"],[0.4444444444444444,\"#bd3786\"],[0.5555555555555556,\"#d8576b\"],[0.6666666666666666,\"#ed7953\"],[0.7777777777777778,\"#fb9f3a\"],[0.8888888888888888,\"#fdca26\"],[1.0,\"#f0f921\"]],\"type\":\"heatmapgl\"}],\"histogram\":[{\"marker\":{\"pattern\":{\"fillmode\":\"overlay\",\"size\":10,\"solidity\":0.2}},\"type\":\"histogram\"}],\"histogram2d\":[{\"colorbar\":{\"outlinewidth\":0,\"ticks\":\"\"},\"colorscale\":[[0.0,\"#0d0887\"],[0.1111111111111111,\"#46039f\"],[0.2222222222222222,\"#7201a8\"],[0.3333333333333333,\"#9c179e\"],[0.4444444444444444,\"#bd3786\"],[0.5555555555555556,\"#d8576b\"],[0.6666666666666666,\"#ed7953\"],[0.7777777777777778,\"#fb9f3a\"],[0.8888888888888888,\"#fdca26\"],[1.0,\"#f0f921\"]],\"type\":\"histogram2d\"}],\"histogram2dcontour\":[{\"colorbar\":{\"outlinewidth\":0,\"ticks\":\"\"},\"colorscale\":[[0.0,\"#0d0887\"],[0.1111111111111111,\"#46039f\"],[0.2222222222222222,\"#7201a8\"],[0.3333333333333333,\"#9c179e\"],[0.4444444444444444,\"#bd3786\"],[0.5555555555555556,\"#d8576b\"],[0.6666666666666666,\"#ed7953\"],[0.7777777777777778,\"#fb9f3a\"],[0.8888888888888888,\"#fdca26\"],[1.0,\"#f0f921\"]],\"type\":\"histogram2dcontour\"}],\"mesh3d\":[{\"colorbar\":{\"outlinewidth\":0,\"ticks\":\"\"},\"type\":\"mesh3d\"}],\"parcoords\":[{\"line\":{\"colorbar\":{\"outlinewidth\":0,\"ticks\":\"\"}},\"type\":\"parcoords\"}],\"pie\":[{\"automargin\":true,\"type\":\"pie\"}],\"scatter\":[{\"marker\":{\"colorbar\":{\"outlinewidth\":0,\"ticks\":\"\"}},\"type\":\"scatter\"}],\"scatter3d\":[{\"line\":{\"colorbar\":{\"outlinewidth\":0,\"ticks\":\"\"}},\"marker\":{\"colorbar\":{\"outlinewidth\":0,\"ticks\":\"\"}},\"type\":\"scatter3d\"}],\"scattercarpet\":[{\"marker\":{\"colorbar\":{\"outlinewidth\":0,\"ticks\":\"\"}},\"type\":\"scattercarpet\"}],\"scattergeo\":[{\"marker\":{\"colorbar\":{\"outlinewidth\":0,\"ticks\":\"\"}},\"type\":\"scattergeo\"}],\"scattergl\":[{\"marker\":{\"colorbar\":{\"outlinewidth\":0,\"ticks\":\"\"}},\"type\":\"scattergl\"}],\"scattermapbox\":[{\"marker\":{\"colorbar\":{\"outlinewidth\":0,\"ticks\":\"\"}},\"type\":\"scattermapbox\"}],\"scatterpolar\":[{\"marker\":{\"colorbar\":{\"outlinewidth\":0,\"ticks\":\"\"}},\"type\":\"scatterpolar\"}],\"scatterpolargl\":[{\"marker\":{\"colorbar\":{\"outlinewidth\":0,\"ticks\":\"\"}},\"type\":\"scatterpolargl\"}],\"scatterternary\":[{\"marker\":{\"colorbar\":{\"outlinewidth\":0,\"ticks\":\"\"}},\"type\":\"scatterternary\"}],\"surface\":[{\"colorbar\":{\"outlinewidth\":0,\"ticks\":\"\"},\"colorscale\":[[0.0,\"#0d0887\"],[0.1111111111111111,\"#46039f\"],[0.2222222222222222,\"#7201a8\"],[0.3333333333333333,\"#9c179e\"],[0.4444444444444444,\"#bd3786\"],[0.5555555555555556,\"#d8576b\"],[0.6666666666666666,\"#ed7953\"],[0.7777777777777778,\"#fb9f3a\"],[0.8888888888888888,\"#fdca26\"],[1.0,\"#f0f921\"]],\"type\":\"surface\"}],\"table\":[{\"cells\":{\"fill\":{\"color\":\"#EBF0F8\"},\"line\":{\"color\":\"white\"}},\"header\":{\"fill\":{\"color\":\"#C8D4E3\"},\"line\":{\"color\":\"white\"}},\"type\":\"table\"}]},\"layout\":{\"annotationdefaults\":{\"arrowcolor\":\"#2a3f5f\",\"arrowhead\":0,\"arrowwidth\":1},\"autotypenumbers\":\"strict\",\"coloraxis\":{\"colorbar\":{\"outlinewidth\":0,\"ticks\":\"\"}},\"colorscale\":{\"diverging\":[[0,\"#8e0152\"],[0.1,\"#c51b7d\"],[0.2,\"#de77ae\"],[0.3,\"#f1b6da\"],[0.4,\"#fde0ef\"],[0.5,\"#f7f7f7\"],[0.6,\"#e6f5d0\"],[0.7,\"#b8e186\"],[0.8,\"#7fbc41\"],[0.9,\"#4d9221\"],[1,\"#276419\"]],\"sequential\":[[0.0,\"#0d0887\"],[0.1111111111111111,\"#46039f\"],[0.2222222222222222,\"#7201a8\"],[0.3333333333333333,\"#9c179e\"],[0.4444444444444444,\"#bd3786\"],[0.5555555555555556,\"#d8576b\"],[0.6666666666666666,\"#ed7953\"],[0.7777777777777778,\"#fb9f3a\"],[0.8888888888888888,\"#fdca26\"],[1.0,\"#f0f921\"]],\"sequentialminus\":[[0.0,\"#0d0887\"],[0.1111111111111111,\"#46039f\"],[0.2222222222222222,\"#7201a8\"],[0.3333333333333333,\"#9c179e\"],[0.4444444444444444,\"#bd3786\"],[0.5555555555555556,\"#d8576b\"],[0.6666666666666666,\"#ed7953\"],[0.7777777777777778,\"#fb9f3a\"],[0.8888888888888888,\"#fdca26\"],[1.0,\"#f0f921\"]]},\"colorway\":[\"#636efa\",\"#EF553B\",\"#00cc96\",\"#ab63fa\",\"#FFA15A\",\"#19d3f3\",\"#FF6692\",\"#B6E880\",\"#FF97FF\",\"#FECB52\"],\"font\":{\"color\":\"#2a3f5f\"},\"geo\":{\"bgcolor\":\"white\",\"lakecolor\":\"white\",\"landcolor\":\"#E5ECF6\",\"showlakes\":true,\"showland\":true,\"subunitcolor\":\"white\"},\"hoverlabel\":{\"align\":\"left\"},\"hovermode\":\"closest\",\"mapbox\":{\"style\":\"light\"},\"paper_bgcolor\":\"white\",\"plot_bgcolor\":\"#E5ECF6\",\"polar\":{\"angularaxis\":{\"gridcolor\":\"white\",\"linecolor\":\"white\",\"ticks\":\"\"},\"bgcolor\":\"#E5ECF6\",\"radialaxis\":{\"gridcolor\":\"white\",\"linecolor\":\"white\",\"ticks\":\"\"}},\"scene\":{\"xaxis\":{\"backgroundcolor\":\"#E5ECF6\",\"gridcolor\":\"white\",\"gridwidth\":2,\"linecolor\":\"white\",\"showbackground\":true,\"ticks\":\"\",\"zerolinecolor\":\"white\"},\"yaxis\":{\"backgroundcolor\":\"#E5ECF6\",\"gridcolor\":\"white\",\"gridwidth\":2,\"linecolor\":\"white\",\"showbackground\":true,\"ticks\":\"\",\"zerolinecolor\":\"white\"},\"zaxis\":{\"backgroundcolor\":\"#E5ECF6\",\"gridcolor\":\"white\",\"gridwidth\":2,\"linecolor\":\"white\",\"showbackground\":true,\"ticks\":\"\",\"zerolinecolor\":\"white\"}},\"shapedefaults\":{\"line\":{\"color\":\"#2a3f5f\"}},\"ternary\":{\"aaxis\":{\"gridcolor\":\"white\",\"linecolor\":\"white\",\"ticks\":\"\"},\"baxis\":{\"gridcolor\":\"white\",\"linecolor\":\"white\",\"ticks\":\"\"},\"bgcolor\":\"#E5ECF6\",\"caxis\":{\"gridcolor\":\"white\",\"linecolor\":\"white\",\"ticks\":\"\"}},\"title\":{\"x\":0.05},\"xaxis\":{\"automargin\":true,\"gridcolor\":\"white\",\"linecolor\":\"white\",\"ticks\":\"\",\"title\":{\"standoff\":15},\"zerolinecolor\":\"white\",\"zerolinewidth\":2},\"yaxis\":{\"automargin\":true,\"gridcolor\":\"white\",\"linecolor\":\"white\",\"ticks\":\"\",\"title\":{\"standoff\":15},\"zerolinecolor\":\"white\",\"zerolinewidth\":2}}},\"xaxis\":{\"anchor\":\"y\",\"domain\":[0.0,1.0],\"title\":{\"text\":\"PFF offense grade\"}},\"yaxis\":{\"anchor\":\"x\",\"domain\":[0.0,1.0],\"title\":{\"text\":\"Draft position\"}},\"legend\":{\"title\":{\"text\":\"team_name\"},\"tracegroupgap\":0},\"title\":{\"text\":\"Preseason Game 1 (2022) PFF offensive grade vs draft position for rookie offensive guards\"},\"showlegend\":false},                        {\"responsive\": true}                    ).then(function(){\n",
       "                            \n",
       "var gd = document.getElementById('af0ad7f1-ec3c-45b2-be50-e390c00e6859');\n",
       "var x = new MutationObserver(function (mutations, observer) {{\n",
       "        var display = window.getComputedStyle(gd).display;\n",
       "        if (!display || display === 'none') {{\n",
       "            console.log([gd, 'removed!']);\n",
       "            Plotly.purge(gd);\n",
       "            observer.disconnect();\n",
       "        }}\n",
       "}});\n",
       "\n",
       "// Listen for the removal of the full notebook cells\n",
       "var notebookContainer = gd.closest('#notebook-container');\n",
       "if (notebookContainer) {{\n",
       "    x.observe(notebookContainer, {childList: true});\n",
       "}}\n",
       "\n",
       "// Listen for the clearing of the current output cell\n",
       "var outputEl = gd.closest('.output');\n",
       "if (outputEl) {{\n",
       "    x.observe(outputEl, {childList: true});\n",
       "}}\n",
       "\n",
       "                        })                };                });            </script>        </div>"
      ]
     },
     "metadata": {},
     "output_type": "display_data"
    }
   ],
   "source": [
    "pre_week_one_guard_rookies = px.scatter(guard_rookie_one,\n",
    "          x='grades_offense',\n",
    "          y='draft_pick',\n",
    "          text='player',\n",
    "          labels=dict(grades_offense=\"PFF offense grade\", draft_pick=\"Draft position\"),                                \n",
    "          color='team_name',\n",
    "          color_discrete_map=team_colors,\n",
    "          title=\"Preseason Game 1 (2022) PFF offensive grade vs draft position for rookie offensive guards\").update_traces(textposition='top center')\n",
    "pre_week_one_guard_rookies.update_traces(textposition='top center')\n",
    "pre_week_one_guard_rookies.update_layout(showlegend=False)\n",
    "pre_week_one_guard_rookies.show()"
   ]
  },
  {
   "cell_type": "code",
   "execution_count": 50,
   "id": "018cea7f",
   "metadata": {},
   "outputs": [
    {
     "data": {
      "application/vnd.plotly.v1+json": {
       "config": {
        "plotlyServerURL": "https://plot.ly"
       },
       "data": [
        {
         "hovertemplate": "team_name=DEN<br>PFF offense grade=%{x}<br>Draft position=%{y}<br>player=%{text}<extra></extra>",
         "legendgroup": "DEN",
         "marker": {
          "color": "#FB4F14",
          "symbol": "circle"
         },
         "mode": "markers+text",
         "name": "DEN",
         "orientation": "v",
         "showlegend": true,
         "text": [
          "Luke Wattenberg"
         ],
         "textposition": "top center",
         "type": "scatter",
         "x": [
          59
         ],
         "xaxis": "x",
         "y": [
          171
         ],
         "yaxis": "y"
        },
        {
         "hovertemplate": "team_name=CHI<br>PFF offense grade=%{x}<br>Draft position=%{y}<br>player=%{text}<extra></extra>",
         "legendgroup": "CHI",
         "marker": {
          "color": "#C83803",
          "symbol": "circle"
         },
         "mode": "markers+text",
         "name": "CHI",
         "orientation": "v",
         "showlegend": true,
         "text": [
          "Doug Kramer"
         ],
         "textposition": "top center",
         "type": "scatter",
         "x": [
          36.3
         ],
         "xaxis": "x",
         "y": [
          207
         ],
         "yaxis": "y"
        },
        {
         "hovertemplate": "team_name=JAX<br>PFF offense grade=%{x}<br>Draft position=%{y}<br>player=%{text}<extra></extra>",
         "legendgroup": "JAX",
         "marker": {
          "color": "#D7A22A",
          "symbol": "circle"
         },
         "mode": "markers+text",
         "name": "JAX",
         "orientation": "v",
         "showlegend": true,
         "text": [
          "Luke Fortner"
         ],
         "textposition": "top center",
         "type": "scatter",
         "x": [
          65.4
         ],
         "xaxis": "x",
         "y": [
          65
         ],
         "yaxis": "y"
        },
        {
         "hovertemplate": "team_name=LV<br>PFF offense grade=%{x}<br>Draft position=%{y}<br>player=%{text}<extra></extra>",
         "legendgroup": "LV",
         "marker": {
          "color": "#000000",
          "symbol": "circle"
         },
         "mode": "markers+text",
         "name": "LV",
         "orientation": "v",
         "showlegend": true,
         "text": [
          "Dylan Parham"
         ],
         "textposition": "top center",
         "type": "scatter",
         "x": [
          69.1
         ],
         "xaxis": "x",
         "y": [
          90
         ],
         "yaxis": "y"
        },
        {
         "hovertemplate": "team_name=PHI<br>PFF offense grade=%{x}<br>Draft position=%{y}<br>player=%{text}<extra></extra>",
         "legendgroup": "PHI",
         "marker": {
          "color": "#004C54",
          "symbol": "circle"
         },
         "mode": "markers+text",
         "name": "PHI",
         "orientation": "v",
         "showlegend": true,
         "text": [
          "Cam Jurgens"
         ],
         "textposition": "top center",
         "type": "scatter",
         "x": [
          75.3
         ],
         "xaxis": "x",
         "y": [
          51
         ],
         "yaxis": "y"
        },
        {
         "hovertemplate": "team_name=CLV<br>PFF offense grade=%{x}<br>Draft position=%{y}<br>player=%{text}<extra></extra>",
         "legendgroup": "CLV",
         "marker": {
          "color": "#311D00",
          "symbol": "circle"
         },
         "mode": "markers+text",
         "name": "CLV",
         "orientation": "v",
         "showlegend": true,
         "text": [
          "Dawson Deaton"
         ],
         "textposition": "top center",
         "type": "scatter",
         "x": [
          60
         ],
         "xaxis": "x",
         "y": [
          246
         ],
         "yaxis": "y"
        }
       ],
       "layout": {
        "legend": {
         "title": {
          "text": "team_name"
         },
         "tracegroupgap": 0
        },
        "showlegend": false,
        "template": {
         "data": {
          "bar": [
           {
            "error_x": {
             "color": "#2a3f5f"
            },
            "error_y": {
             "color": "#2a3f5f"
            },
            "marker": {
             "line": {
              "color": "#E5ECF6",
              "width": 0.5
             },
             "pattern": {
              "fillmode": "overlay",
              "size": 10,
              "solidity": 0.2
             }
            },
            "type": "bar"
           }
          ],
          "barpolar": [
           {
            "marker": {
             "line": {
              "color": "#E5ECF6",
              "width": 0.5
             },
             "pattern": {
              "fillmode": "overlay",
              "size": 10,
              "solidity": 0.2
             }
            },
            "type": "barpolar"
           }
          ],
          "carpet": [
           {
            "aaxis": {
             "endlinecolor": "#2a3f5f",
             "gridcolor": "white",
             "linecolor": "white",
             "minorgridcolor": "white",
             "startlinecolor": "#2a3f5f"
            },
            "baxis": {
             "endlinecolor": "#2a3f5f",
             "gridcolor": "white",
             "linecolor": "white",
             "minorgridcolor": "white",
             "startlinecolor": "#2a3f5f"
            },
            "type": "carpet"
           }
          ],
          "choropleth": [
           {
            "colorbar": {
             "outlinewidth": 0,
             "ticks": ""
            },
            "type": "choropleth"
           }
          ],
          "contour": [
           {
            "colorbar": {
             "outlinewidth": 0,
             "ticks": ""
            },
            "colorscale": [
             [
              0,
              "#0d0887"
             ],
             [
              0.1111111111111111,
              "#46039f"
             ],
             [
              0.2222222222222222,
              "#7201a8"
             ],
             [
              0.3333333333333333,
              "#9c179e"
             ],
             [
              0.4444444444444444,
              "#bd3786"
             ],
             [
              0.5555555555555556,
              "#d8576b"
             ],
             [
              0.6666666666666666,
              "#ed7953"
             ],
             [
              0.7777777777777778,
              "#fb9f3a"
             ],
             [
              0.8888888888888888,
              "#fdca26"
             ],
             [
              1,
              "#f0f921"
             ]
            ],
            "type": "contour"
           }
          ],
          "contourcarpet": [
           {
            "colorbar": {
             "outlinewidth": 0,
             "ticks": ""
            },
            "type": "contourcarpet"
           }
          ],
          "heatmap": [
           {
            "colorbar": {
             "outlinewidth": 0,
             "ticks": ""
            },
            "colorscale": [
             [
              0,
              "#0d0887"
             ],
             [
              0.1111111111111111,
              "#46039f"
             ],
             [
              0.2222222222222222,
              "#7201a8"
             ],
             [
              0.3333333333333333,
              "#9c179e"
             ],
             [
              0.4444444444444444,
              "#bd3786"
             ],
             [
              0.5555555555555556,
              "#d8576b"
             ],
             [
              0.6666666666666666,
              "#ed7953"
             ],
             [
              0.7777777777777778,
              "#fb9f3a"
             ],
             [
              0.8888888888888888,
              "#fdca26"
             ],
             [
              1,
              "#f0f921"
             ]
            ],
            "type": "heatmap"
           }
          ],
          "heatmapgl": [
           {
            "colorbar": {
             "outlinewidth": 0,
             "ticks": ""
            },
            "colorscale": [
             [
              0,
              "#0d0887"
             ],
             [
              0.1111111111111111,
              "#46039f"
             ],
             [
              0.2222222222222222,
              "#7201a8"
             ],
             [
              0.3333333333333333,
              "#9c179e"
             ],
             [
              0.4444444444444444,
              "#bd3786"
             ],
             [
              0.5555555555555556,
              "#d8576b"
             ],
             [
              0.6666666666666666,
              "#ed7953"
             ],
             [
              0.7777777777777778,
              "#fb9f3a"
             ],
             [
              0.8888888888888888,
              "#fdca26"
             ],
             [
              1,
              "#f0f921"
             ]
            ],
            "type": "heatmapgl"
           }
          ],
          "histogram": [
           {
            "marker": {
             "pattern": {
              "fillmode": "overlay",
              "size": 10,
              "solidity": 0.2
             }
            },
            "type": "histogram"
           }
          ],
          "histogram2d": [
           {
            "colorbar": {
             "outlinewidth": 0,
             "ticks": ""
            },
            "colorscale": [
             [
              0,
              "#0d0887"
             ],
             [
              0.1111111111111111,
              "#46039f"
             ],
             [
              0.2222222222222222,
              "#7201a8"
             ],
             [
              0.3333333333333333,
              "#9c179e"
             ],
             [
              0.4444444444444444,
              "#bd3786"
             ],
             [
              0.5555555555555556,
              "#d8576b"
             ],
             [
              0.6666666666666666,
              "#ed7953"
             ],
             [
              0.7777777777777778,
              "#fb9f3a"
             ],
             [
              0.8888888888888888,
              "#fdca26"
             ],
             [
              1,
              "#f0f921"
             ]
            ],
            "type": "histogram2d"
           }
          ],
          "histogram2dcontour": [
           {
            "colorbar": {
             "outlinewidth": 0,
             "ticks": ""
            },
            "colorscale": [
             [
              0,
              "#0d0887"
             ],
             [
              0.1111111111111111,
              "#46039f"
             ],
             [
              0.2222222222222222,
              "#7201a8"
             ],
             [
              0.3333333333333333,
              "#9c179e"
             ],
             [
              0.4444444444444444,
              "#bd3786"
             ],
             [
              0.5555555555555556,
              "#d8576b"
             ],
             [
              0.6666666666666666,
              "#ed7953"
             ],
             [
              0.7777777777777778,
              "#fb9f3a"
             ],
             [
              0.8888888888888888,
              "#fdca26"
             ],
             [
              1,
              "#f0f921"
             ]
            ],
            "type": "histogram2dcontour"
           }
          ],
          "mesh3d": [
           {
            "colorbar": {
             "outlinewidth": 0,
             "ticks": ""
            },
            "type": "mesh3d"
           }
          ],
          "parcoords": [
           {
            "line": {
             "colorbar": {
              "outlinewidth": 0,
              "ticks": ""
             }
            },
            "type": "parcoords"
           }
          ],
          "pie": [
           {
            "automargin": true,
            "type": "pie"
           }
          ],
          "scatter": [
           {
            "marker": {
             "colorbar": {
              "outlinewidth": 0,
              "ticks": ""
             }
            },
            "type": "scatter"
           }
          ],
          "scatter3d": [
           {
            "line": {
             "colorbar": {
              "outlinewidth": 0,
              "ticks": ""
             }
            },
            "marker": {
             "colorbar": {
              "outlinewidth": 0,
              "ticks": ""
             }
            },
            "type": "scatter3d"
           }
          ],
          "scattercarpet": [
           {
            "marker": {
             "colorbar": {
              "outlinewidth": 0,
              "ticks": ""
             }
            },
            "type": "scattercarpet"
           }
          ],
          "scattergeo": [
           {
            "marker": {
             "colorbar": {
              "outlinewidth": 0,
              "ticks": ""
             }
            },
            "type": "scattergeo"
           }
          ],
          "scattergl": [
           {
            "marker": {
             "colorbar": {
              "outlinewidth": 0,
              "ticks": ""
             }
            },
            "type": "scattergl"
           }
          ],
          "scattermapbox": [
           {
            "marker": {
             "colorbar": {
              "outlinewidth": 0,
              "ticks": ""
             }
            },
            "type": "scattermapbox"
           }
          ],
          "scatterpolar": [
           {
            "marker": {
             "colorbar": {
              "outlinewidth": 0,
              "ticks": ""
             }
            },
            "type": "scatterpolar"
           }
          ],
          "scatterpolargl": [
           {
            "marker": {
             "colorbar": {
              "outlinewidth": 0,
              "ticks": ""
             }
            },
            "type": "scatterpolargl"
           }
          ],
          "scatterternary": [
           {
            "marker": {
             "colorbar": {
              "outlinewidth": 0,
              "ticks": ""
             }
            },
            "type": "scatterternary"
           }
          ],
          "surface": [
           {
            "colorbar": {
             "outlinewidth": 0,
             "ticks": ""
            },
            "colorscale": [
             [
              0,
              "#0d0887"
             ],
             [
              0.1111111111111111,
              "#46039f"
             ],
             [
              0.2222222222222222,
              "#7201a8"
             ],
             [
              0.3333333333333333,
              "#9c179e"
             ],
             [
              0.4444444444444444,
              "#bd3786"
             ],
             [
              0.5555555555555556,
              "#d8576b"
             ],
             [
              0.6666666666666666,
              "#ed7953"
             ],
             [
              0.7777777777777778,
              "#fb9f3a"
             ],
             [
              0.8888888888888888,
              "#fdca26"
             ],
             [
              1,
              "#f0f921"
             ]
            ],
            "type": "surface"
           }
          ],
          "table": [
           {
            "cells": {
             "fill": {
              "color": "#EBF0F8"
             },
             "line": {
              "color": "white"
             }
            },
            "header": {
             "fill": {
              "color": "#C8D4E3"
             },
             "line": {
              "color": "white"
             }
            },
            "type": "table"
           }
          ]
         },
         "layout": {
          "annotationdefaults": {
           "arrowcolor": "#2a3f5f",
           "arrowhead": 0,
           "arrowwidth": 1
          },
          "autotypenumbers": "strict",
          "coloraxis": {
           "colorbar": {
            "outlinewidth": 0,
            "ticks": ""
           }
          },
          "colorscale": {
           "diverging": [
            [
             0,
             "#8e0152"
            ],
            [
             0.1,
             "#c51b7d"
            ],
            [
             0.2,
             "#de77ae"
            ],
            [
             0.3,
             "#f1b6da"
            ],
            [
             0.4,
             "#fde0ef"
            ],
            [
             0.5,
             "#f7f7f7"
            ],
            [
             0.6,
             "#e6f5d0"
            ],
            [
             0.7,
             "#b8e186"
            ],
            [
             0.8,
             "#7fbc41"
            ],
            [
             0.9,
             "#4d9221"
            ],
            [
             1,
             "#276419"
            ]
           ],
           "sequential": [
            [
             0,
             "#0d0887"
            ],
            [
             0.1111111111111111,
             "#46039f"
            ],
            [
             0.2222222222222222,
             "#7201a8"
            ],
            [
             0.3333333333333333,
             "#9c179e"
            ],
            [
             0.4444444444444444,
             "#bd3786"
            ],
            [
             0.5555555555555556,
             "#d8576b"
            ],
            [
             0.6666666666666666,
             "#ed7953"
            ],
            [
             0.7777777777777778,
             "#fb9f3a"
            ],
            [
             0.8888888888888888,
             "#fdca26"
            ],
            [
             1,
             "#f0f921"
            ]
           ],
           "sequentialminus": [
            [
             0,
             "#0d0887"
            ],
            [
             0.1111111111111111,
             "#46039f"
            ],
            [
             0.2222222222222222,
             "#7201a8"
            ],
            [
             0.3333333333333333,
             "#9c179e"
            ],
            [
             0.4444444444444444,
             "#bd3786"
            ],
            [
             0.5555555555555556,
             "#d8576b"
            ],
            [
             0.6666666666666666,
             "#ed7953"
            ],
            [
             0.7777777777777778,
             "#fb9f3a"
            ],
            [
             0.8888888888888888,
             "#fdca26"
            ],
            [
             1,
             "#f0f921"
            ]
           ]
          },
          "colorway": [
           "#636efa",
           "#EF553B",
           "#00cc96",
           "#ab63fa",
           "#FFA15A",
           "#19d3f3",
           "#FF6692",
           "#B6E880",
           "#FF97FF",
           "#FECB52"
          ],
          "font": {
           "color": "#2a3f5f"
          },
          "geo": {
           "bgcolor": "white",
           "lakecolor": "white",
           "landcolor": "#E5ECF6",
           "showlakes": true,
           "showland": true,
           "subunitcolor": "white"
          },
          "hoverlabel": {
           "align": "left"
          },
          "hovermode": "closest",
          "mapbox": {
           "style": "light"
          },
          "paper_bgcolor": "white",
          "plot_bgcolor": "#E5ECF6",
          "polar": {
           "angularaxis": {
            "gridcolor": "white",
            "linecolor": "white",
            "ticks": ""
           },
           "bgcolor": "#E5ECF6",
           "radialaxis": {
            "gridcolor": "white",
            "linecolor": "white",
            "ticks": ""
           }
          },
          "scene": {
           "xaxis": {
            "backgroundcolor": "#E5ECF6",
            "gridcolor": "white",
            "gridwidth": 2,
            "linecolor": "white",
            "showbackground": true,
            "ticks": "",
            "zerolinecolor": "white"
           },
           "yaxis": {
            "backgroundcolor": "#E5ECF6",
            "gridcolor": "white",
            "gridwidth": 2,
            "linecolor": "white",
            "showbackground": true,
            "ticks": "",
            "zerolinecolor": "white"
           },
           "zaxis": {
            "backgroundcolor": "#E5ECF6",
            "gridcolor": "white",
            "gridwidth": 2,
            "linecolor": "white",
            "showbackground": true,
            "ticks": "",
            "zerolinecolor": "white"
           }
          },
          "shapedefaults": {
           "line": {
            "color": "#2a3f5f"
           }
          },
          "ternary": {
           "aaxis": {
            "gridcolor": "white",
            "linecolor": "white",
            "ticks": ""
           },
           "baxis": {
            "gridcolor": "white",
            "linecolor": "white",
            "ticks": ""
           },
           "bgcolor": "#E5ECF6",
           "caxis": {
            "gridcolor": "white",
            "linecolor": "white",
            "ticks": ""
           }
          },
          "title": {
           "x": 0.05
          },
          "xaxis": {
           "automargin": true,
           "gridcolor": "white",
           "linecolor": "white",
           "ticks": "",
           "title": {
            "standoff": 15
           },
           "zerolinecolor": "white",
           "zerolinewidth": 2
          },
          "yaxis": {
           "automargin": true,
           "gridcolor": "white",
           "linecolor": "white",
           "ticks": "",
           "title": {
            "standoff": 15
           },
           "zerolinecolor": "white",
           "zerolinewidth": 2
          }
         }
        },
        "title": {
         "text": "Preseason Game 1 (2022) PFF offensive grade vs draft position for rookie centers"
        },
        "xaxis": {
         "anchor": "y",
         "domain": [
          0,
          1
         ],
         "title": {
          "text": "PFF offense grade"
         }
        },
        "yaxis": {
         "anchor": "x",
         "domain": [
          0,
          1
         ],
         "title": {
          "text": "Draft position"
         }
        }
       }
      },
      "text/html": [
       "<div>                            <div id=\"9d289941-f70d-416f-803e-10d651c8eb98\" class=\"plotly-graph-div\" style=\"height:525px; width:100%;\"></div>            <script type=\"text/javascript\">                require([\"plotly\"], function(Plotly) {                    window.PLOTLYENV=window.PLOTLYENV || {};                                    if (document.getElementById(\"9d289941-f70d-416f-803e-10d651c8eb98\")) {                    Plotly.newPlot(                        \"9d289941-f70d-416f-803e-10d651c8eb98\",                        [{\"hovertemplate\":\"team_name=DEN<br>PFF offense grade=%{x}<br>Draft position=%{y}<br>player=%{text}<extra></extra>\",\"legendgroup\":\"DEN\",\"marker\":{\"color\":\"#FB4F14\",\"symbol\":\"circle\"},\"mode\":\"markers+text\",\"name\":\"DEN\",\"orientation\":\"v\",\"showlegend\":true,\"text\":[\"Luke Wattenberg\"],\"x\":[59.0],\"xaxis\":\"x\",\"y\":[171],\"yaxis\":\"y\",\"type\":\"scatter\",\"textposition\":\"top center\"},{\"hovertemplate\":\"team_name=CHI<br>PFF offense grade=%{x}<br>Draft position=%{y}<br>player=%{text}<extra></extra>\",\"legendgroup\":\"CHI\",\"marker\":{\"color\":\"#C83803\",\"symbol\":\"circle\"},\"mode\":\"markers+text\",\"name\":\"CHI\",\"orientation\":\"v\",\"showlegend\":true,\"text\":[\"Doug Kramer\"],\"x\":[36.3],\"xaxis\":\"x\",\"y\":[207],\"yaxis\":\"y\",\"type\":\"scatter\",\"textposition\":\"top center\"},{\"hovertemplate\":\"team_name=JAX<br>PFF offense grade=%{x}<br>Draft position=%{y}<br>player=%{text}<extra></extra>\",\"legendgroup\":\"JAX\",\"marker\":{\"color\":\"#D7A22A\",\"symbol\":\"circle\"},\"mode\":\"markers+text\",\"name\":\"JAX\",\"orientation\":\"v\",\"showlegend\":true,\"text\":[\"Luke Fortner\"],\"x\":[65.4],\"xaxis\":\"x\",\"y\":[65],\"yaxis\":\"y\",\"type\":\"scatter\",\"textposition\":\"top center\"},{\"hovertemplate\":\"team_name=LV<br>PFF offense grade=%{x}<br>Draft position=%{y}<br>player=%{text}<extra></extra>\",\"legendgroup\":\"LV\",\"marker\":{\"color\":\"#000000\",\"symbol\":\"circle\"},\"mode\":\"markers+text\",\"name\":\"LV\",\"orientation\":\"v\",\"showlegend\":true,\"text\":[\"Dylan Parham\"],\"x\":[69.1],\"xaxis\":\"x\",\"y\":[90],\"yaxis\":\"y\",\"type\":\"scatter\",\"textposition\":\"top center\"},{\"hovertemplate\":\"team_name=PHI<br>PFF offense grade=%{x}<br>Draft position=%{y}<br>player=%{text}<extra></extra>\",\"legendgroup\":\"PHI\",\"marker\":{\"color\":\"#004C54\",\"symbol\":\"circle\"},\"mode\":\"markers+text\",\"name\":\"PHI\",\"orientation\":\"v\",\"showlegend\":true,\"text\":[\"Cam Jurgens\"],\"x\":[75.3],\"xaxis\":\"x\",\"y\":[51],\"yaxis\":\"y\",\"type\":\"scatter\",\"textposition\":\"top center\"},{\"hovertemplate\":\"team_name=CLV<br>PFF offense grade=%{x}<br>Draft position=%{y}<br>player=%{text}<extra></extra>\",\"legendgroup\":\"CLV\",\"marker\":{\"color\":\"#311D00\",\"symbol\":\"circle\"},\"mode\":\"markers+text\",\"name\":\"CLV\",\"orientation\":\"v\",\"showlegend\":true,\"text\":[\"Dawson Deaton\"],\"x\":[60.0],\"xaxis\":\"x\",\"y\":[246],\"yaxis\":\"y\",\"type\":\"scatter\",\"textposition\":\"top center\"}],                        {\"template\":{\"data\":{\"bar\":[{\"error_x\":{\"color\":\"#2a3f5f\"},\"error_y\":{\"color\":\"#2a3f5f\"},\"marker\":{\"line\":{\"color\":\"#E5ECF6\",\"width\":0.5},\"pattern\":{\"fillmode\":\"overlay\",\"size\":10,\"solidity\":0.2}},\"type\":\"bar\"}],\"barpolar\":[{\"marker\":{\"line\":{\"color\":\"#E5ECF6\",\"width\":0.5},\"pattern\":{\"fillmode\":\"overlay\",\"size\":10,\"solidity\":0.2}},\"type\":\"barpolar\"}],\"carpet\":[{\"aaxis\":{\"endlinecolor\":\"#2a3f5f\",\"gridcolor\":\"white\",\"linecolor\":\"white\",\"minorgridcolor\":\"white\",\"startlinecolor\":\"#2a3f5f\"},\"baxis\":{\"endlinecolor\":\"#2a3f5f\",\"gridcolor\":\"white\",\"linecolor\":\"white\",\"minorgridcolor\":\"white\",\"startlinecolor\":\"#2a3f5f\"},\"type\":\"carpet\"}],\"choropleth\":[{\"colorbar\":{\"outlinewidth\":0,\"ticks\":\"\"},\"type\":\"choropleth\"}],\"contour\":[{\"colorbar\":{\"outlinewidth\":0,\"ticks\":\"\"},\"colorscale\":[[0.0,\"#0d0887\"],[0.1111111111111111,\"#46039f\"],[0.2222222222222222,\"#7201a8\"],[0.3333333333333333,\"#9c179e\"],[0.4444444444444444,\"#bd3786\"],[0.5555555555555556,\"#d8576b\"],[0.6666666666666666,\"#ed7953\"],[0.7777777777777778,\"#fb9f3a\"],[0.8888888888888888,\"#fdca26\"],[1.0,\"#f0f921\"]],\"type\":\"contour\"}],\"contourcarpet\":[{\"colorbar\":{\"outlinewidth\":0,\"ticks\":\"\"},\"type\":\"contourcarpet\"}],\"heatmap\":[{\"colorbar\":{\"outlinewidth\":0,\"ticks\":\"\"},\"colorscale\":[[0.0,\"#0d0887\"],[0.1111111111111111,\"#46039f\"],[0.2222222222222222,\"#7201a8\"],[0.3333333333333333,\"#9c179e\"],[0.4444444444444444,\"#bd3786\"],[0.5555555555555556,\"#d8576b\"],[0.6666666666666666,\"#ed7953\"],[0.7777777777777778,\"#fb9f3a\"],[0.8888888888888888,\"#fdca26\"],[1.0,\"#f0f921\"]],\"type\":\"heatmap\"}],\"heatmapgl\":[{\"colorbar\":{\"outlinewidth\":0,\"ticks\":\"\"},\"colorscale\":[[0.0,\"#0d0887\"],[0.1111111111111111,\"#46039f\"],[0.2222222222222222,\"#7201a8\"],[0.3333333333333333,\"#9c179e\"],[0.4444444444444444,\"#bd3786\"],[0.5555555555555556,\"#d8576b\"],[0.6666666666666666,\"#ed7953\"],[0.7777777777777778,\"#fb9f3a\"],[0.8888888888888888,\"#fdca26\"],[1.0,\"#f0f921\"]],\"type\":\"heatmapgl\"}],\"histogram\":[{\"marker\":{\"pattern\":{\"fillmode\":\"overlay\",\"size\":10,\"solidity\":0.2}},\"type\":\"histogram\"}],\"histogram2d\":[{\"colorbar\":{\"outlinewidth\":0,\"ticks\":\"\"},\"colorscale\":[[0.0,\"#0d0887\"],[0.1111111111111111,\"#46039f\"],[0.2222222222222222,\"#7201a8\"],[0.3333333333333333,\"#9c179e\"],[0.4444444444444444,\"#bd3786\"],[0.5555555555555556,\"#d8576b\"],[0.6666666666666666,\"#ed7953\"],[0.7777777777777778,\"#fb9f3a\"],[0.8888888888888888,\"#fdca26\"],[1.0,\"#f0f921\"]],\"type\":\"histogram2d\"}],\"histogram2dcontour\":[{\"colorbar\":{\"outlinewidth\":0,\"ticks\":\"\"},\"colorscale\":[[0.0,\"#0d0887\"],[0.1111111111111111,\"#46039f\"],[0.2222222222222222,\"#7201a8\"],[0.3333333333333333,\"#9c179e\"],[0.4444444444444444,\"#bd3786\"],[0.5555555555555556,\"#d8576b\"],[0.6666666666666666,\"#ed7953\"],[0.7777777777777778,\"#fb9f3a\"],[0.8888888888888888,\"#fdca26\"],[1.0,\"#f0f921\"]],\"type\":\"histogram2dcontour\"}],\"mesh3d\":[{\"colorbar\":{\"outlinewidth\":0,\"ticks\":\"\"},\"type\":\"mesh3d\"}],\"parcoords\":[{\"line\":{\"colorbar\":{\"outlinewidth\":0,\"ticks\":\"\"}},\"type\":\"parcoords\"}],\"pie\":[{\"automargin\":true,\"type\":\"pie\"}],\"scatter\":[{\"marker\":{\"colorbar\":{\"outlinewidth\":0,\"ticks\":\"\"}},\"type\":\"scatter\"}],\"scatter3d\":[{\"line\":{\"colorbar\":{\"outlinewidth\":0,\"ticks\":\"\"}},\"marker\":{\"colorbar\":{\"outlinewidth\":0,\"ticks\":\"\"}},\"type\":\"scatter3d\"}],\"scattercarpet\":[{\"marker\":{\"colorbar\":{\"outlinewidth\":0,\"ticks\":\"\"}},\"type\":\"scattercarpet\"}],\"scattergeo\":[{\"marker\":{\"colorbar\":{\"outlinewidth\":0,\"ticks\":\"\"}},\"type\":\"scattergeo\"}],\"scattergl\":[{\"marker\":{\"colorbar\":{\"outlinewidth\":0,\"ticks\":\"\"}},\"type\":\"scattergl\"}],\"scattermapbox\":[{\"marker\":{\"colorbar\":{\"outlinewidth\":0,\"ticks\":\"\"}},\"type\":\"scattermapbox\"}],\"scatterpolar\":[{\"marker\":{\"colorbar\":{\"outlinewidth\":0,\"ticks\":\"\"}},\"type\":\"scatterpolar\"}],\"scatterpolargl\":[{\"marker\":{\"colorbar\":{\"outlinewidth\":0,\"ticks\":\"\"}},\"type\":\"scatterpolargl\"}],\"scatterternary\":[{\"marker\":{\"colorbar\":{\"outlinewidth\":0,\"ticks\":\"\"}},\"type\":\"scatterternary\"}],\"surface\":[{\"colorbar\":{\"outlinewidth\":0,\"ticks\":\"\"},\"colorscale\":[[0.0,\"#0d0887\"],[0.1111111111111111,\"#46039f\"],[0.2222222222222222,\"#7201a8\"],[0.3333333333333333,\"#9c179e\"],[0.4444444444444444,\"#bd3786\"],[0.5555555555555556,\"#d8576b\"],[0.6666666666666666,\"#ed7953\"],[0.7777777777777778,\"#fb9f3a\"],[0.8888888888888888,\"#fdca26\"],[1.0,\"#f0f921\"]],\"type\":\"surface\"}],\"table\":[{\"cells\":{\"fill\":{\"color\":\"#EBF0F8\"},\"line\":{\"color\":\"white\"}},\"header\":{\"fill\":{\"color\":\"#C8D4E3\"},\"line\":{\"color\":\"white\"}},\"type\":\"table\"}]},\"layout\":{\"annotationdefaults\":{\"arrowcolor\":\"#2a3f5f\",\"arrowhead\":0,\"arrowwidth\":1},\"autotypenumbers\":\"strict\",\"coloraxis\":{\"colorbar\":{\"outlinewidth\":0,\"ticks\":\"\"}},\"colorscale\":{\"diverging\":[[0,\"#8e0152\"],[0.1,\"#c51b7d\"],[0.2,\"#de77ae\"],[0.3,\"#f1b6da\"],[0.4,\"#fde0ef\"],[0.5,\"#f7f7f7\"],[0.6,\"#e6f5d0\"],[0.7,\"#b8e186\"],[0.8,\"#7fbc41\"],[0.9,\"#4d9221\"],[1,\"#276419\"]],\"sequential\":[[0.0,\"#0d0887\"],[0.1111111111111111,\"#46039f\"],[0.2222222222222222,\"#7201a8\"],[0.3333333333333333,\"#9c179e\"],[0.4444444444444444,\"#bd3786\"],[0.5555555555555556,\"#d8576b\"],[0.6666666666666666,\"#ed7953\"],[0.7777777777777778,\"#fb9f3a\"],[0.8888888888888888,\"#fdca26\"],[1.0,\"#f0f921\"]],\"sequentialminus\":[[0.0,\"#0d0887\"],[0.1111111111111111,\"#46039f\"],[0.2222222222222222,\"#7201a8\"],[0.3333333333333333,\"#9c179e\"],[0.4444444444444444,\"#bd3786\"],[0.5555555555555556,\"#d8576b\"],[0.6666666666666666,\"#ed7953\"],[0.7777777777777778,\"#fb9f3a\"],[0.8888888888888888,\"#fdca26\"],[1.0,\"#f0f921\"]]},\"colorway\":[\"#636efa\",\"#EF553B\",\"#00cc96\",\"#ab63fa\",\"#FFA15A\",\"#19d3f3\",\"#FF6692\",\"#B6E880\",\"#FF97FF\",\"#FECB52\"],\"font\":{\"color\":\"#2a3f5f\"},\"geo\":{\"bgcolor\":\"white\",\"lakecolor\":\"white\",\"landcolor\":\"#E5ECF6\",\"showlakes\":true,\"showland\":true,\"subunitcolor\":\"white\"},\"hoverlabel\":{\"align\":\"left\"},\"hovermode\":\"closest\",\"mapbox\":{\"style\":\"light\"},\"paper_bgcolor\":\"white\",\"plot_bgcolor\":\"#E5ECF6\",\"polar\":{\"angularaxis\":{\"gridcolor\":\"white\",\"linecolor\":\"white\",\"ticks\":\"\"},\"bgcolor\":\"#E5ECF6\",\"radialaxis\":{\"gridcolor\":\"white\",\"linecolor\":\"white\",\"ticks\":\"\"}},\"scene\":{\"xaxis\":{\"backgroundcolor\":\"#E5ECF6\",\"gridcolor\":\"white\",\"gridwidth\":2,\"linecolor\":\"white\",\"showbackground\":true,\"ticks\":\"\",\"zerolinecolor\":\"white\"},\"yaxis\":{\"backgroundcolor\":\"#E5ECF6\",\"gridcolor\":\"white\",\"gridwidth\":2,\"linecolor\":\"white\",\"showbackground\":true,\"ticks\":\"\",\"zerolinecolor\":\"white\"},\"zaxis\":{\"backgroundcolor\":\"#E5ECF6\",\"gridcolor\":\"white\",\"gridwidth\":2,\"linecolor\":\"white\",\"showbackground\":true,\"ticks\":\"\",\"zerolinecolor\":\"white\"}},\"shapedefaults\":{\"line\":{\"color\":\"#2a3f5f\"}},\"ternary\":{\"aaxis\":{\"gridcolor\":\"white\",\"linecolor\":\"white\",\"ticks\":\"\"},\"baxis\":{\"gridcolor\":\"white\",\"linecolor\":\"white\",\"ticks\":\"\"},\"bgcolor\":\"#E5ECF6\",\"caxis\":{\"gridcolor\":\"white\",\"linecolor\":\"white\",\"ticks\":\"\"}},\"title\":{\"x\":0.05},\"xaxis\":{\"automargin\":true,\"gridcolor\":\"white\",\"linecolor\":\"white\",\"ticks\":\"\",\"title\":{\"standoff\":15},\"zerolinecolor\":\"white\",\"zerolinewidth\":2},\"yaxis\":{\"automargin\":true,\"gridcolor\":\"white\",\"linecolor\":\"white\",\"ticks\":\"\",\"title\":{\"standoff\":15},\"zerolinecolor\":\"white\",\"zerolinewidth\":2}}},\"xaxis\":{\"anchor\":\"y\",\"domain\":[0.0,1.0],\"title\":{\"text\":\"PFF offense grade\"}},\"yaxis\":{\"anchor\":\"x\",\"domain\":[0.0,1.0],\"title\":{\"text\":\"Draft position\"}},\"legend\":{\"title\":{\"text\":\"team_name\"},\"tracegroupgap\":0},\"title\":{\"text\":\"Preseason Game 1 (2022) PFF offensive grade vs draft position for rookie centers\"},\"showlegend\":false},                        {\"responsive\": true}                    ).then(function(){\n",
       "                            \n",
       "var gd = document.getElementById('9d289941-f70d-416f-803e-10d651c8eb98');\n",
       "var x = new MutationObserver(function (mutations, observer) {{\n",
       "        var display = window.getComputedStyle(gd).display;\n",
       "        if (!display || display === 'none') {{\n",
       "            console.log([gd, 'removed!']);\n",
       "            Plotly.purge(gd);\n",
       "            observer.disconnect();\n",
       "        }}\n",
       "}});\n",
       "\n",
       "// Listen for the removal of the full notebook cells\n",
       "var notebookContainer = gd.closest('#notebook-container');\n",
       "if (notebookContainer) {{\n",
       "    x.observe(notebookContainer, {childList: true});\n",
       "}}\n",
       "\n",
       "// Listen for the clearing of the current output cell\n",
       "var outputEl = gd.closest('.output');\n",
       "if (outputEl) {{\n",
       "    x.observe(outputEl, {childList: true});\n",
       "}}\n",
       "\n",
       "                        })                };                });            </script>        </div>"
      ]
     },
     "metadata": {},
     "output_type": "display_data"
    }
   ],
   "source": [
    "pre_week_one_center_rookies = px.scatter(center_rookie_one,\n",
    "          x='grades_offense',\n",
    "          y='draft_pick',\n",
    "          text='player',\n",
    "          labels=dict(grades_offense=\"PFF offense grade\", draft_pick=\"Draft position\"),                                \n",
    "          color='team_name',\n",
    "          color_discrete_map=team_colors,\n",
    "          title=\"Preseason Game 1 (2022) PFF offensive grade vs draft position for rookie centers\").update_traces(textposition='top center')\n",
    "pre_week_one_center_rookies.update_traces(textposition='top center')\n",
    "pre_week_one_center_rookies.update_layout(showlegend=False)\n",
    "pre_week_one_center_rookies.show()"
   ]
  },
  {
   "cell_type": "code",
   "execution_count": null,
   "id": "0d200e28",
   "metadata": {},
   "outputs": [],
   "source": []
  }
 ],
 "metadata": {
  "kernelspec": {
   "display_name": "Python 3",
   "language": "python",
   "name": "python3"
  },
  "language_info": {
   "codemirror_mode": {
    "name": "ipython",
    "version": 3
   },
   "file_extension": ".py",
   "mimetype": "text/x-python",
   "name": "python",
   "nbconvert_exporter": "python",
   "pygments_lexer": "ipython3",
   "version": "3.8.8"
  }
 },
 "nbformat": 4,
 "nbformat_minor": 5
}
